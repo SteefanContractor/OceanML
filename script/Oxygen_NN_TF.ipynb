{
 "cells": [
  {
   "cell_type": "code",
   "execution_count": 1,
   "metadata": {},
   "outputs": [],
   "source": [
    "import pandas as pd\n",
    "import numpy as np\n",
    "import matplotlib.pyplot as plt\n",
    "import pickle\n",
    "%matplotlib inline"
   ]
  },
  {
   "cell_type": "code",
   "execution_count": 2,
   "metadata": {},
   "outputs": [
    {
     "data": {
      "text/html": [
       "<div>\n",
       "<style scoped>\n",
       "    .dataframe tbody tr th:only-of-type {\n",
       "        vertical-align: middle;\n",
       "    }\n",
       "\n",
       "    .dataframe tbody tr th {\n",
       "        vertical-align: top;\n",
       "    }\n",
       "\n",
       "    .dataframe thead th {\n",
       "        text-align: right;\n",
       "    }\n",
       "</style>\n",
       "<table border=\"1\" class=\"dataframe\">\n",
       "  <thead>\n",
       "    <tr style=\"text-align: right;\">\n",
       "      <th></th>\n",
       "      <th>Year</th>\n",
       "      <th>Yday</th>\n",
       "      <th>Hour</th>\n",
       "      <th>PRESSURE</th>\n",
       "      <th>TEMPERATURE_VALUE</th>\n",
       "      <th>SALINITY_VALUE</th>\n",
       "      <th>OXYGEN_VALUE</th>\n",
       "    </tr>\n",
       "  </thead>\n",
       "  <tbody>\n",
       "    <tr>\n",
       "      <th>count</th>\n",
       "      <td>1.297000e+04</td>\n",
       "      <td>1.297000e+04</td>\n",
       "      <td>12970.000000</td>\n",
       "      <td>1.297000e+04</td>\n",
       "      <td>1.297000e+04</td>\n",
       "      <td>1.297000e+04</td>\n",
       "      <td>12970.000000</td>\n",
       "    </tr>\n",
       "    <tr>\n",
       "      <th>mean</th>\n",
       "      <td>-8.204386e-15</td>\n",
       "      <td>1.314805e-16</td>\n",
       "      <td>0.000000</td>\n",
       "      <td>8.765369e-18</td>\n",
       "      <td>4.908607e-16</td>\n",
       "      <td>4.382685e-15</td>\n",
       "      <td>218.042145</td>\n",
       "    </tr>\n",
       "    <tr>\n",
       "      <th>std</th>\n",
       "      <td>1.000000e+00</td>\n",
       "      <td>1.000000e+00</td>\n",
       "      <td>1.000000</td>\n",
       "      <td>1.000000e+00</td>\n",
       "      <td>1.000000e+00</td>\n",
       "      <td>1.000000e+00</td>\n",
       "      <td>23.011995</td>\n",
       "    </tr>\n",
       "    <tr>\n",
       "      <th>min</th>\n",
       "      <td>-2.068154e+00</td>\n",
       "      <td>-1.740584e+00</td>\n",
       "      <td>-0.035143</td>\n",
       "      <td>-1.160867e+00</td>\n",
       "      <td>-3.063763e+00</td>\n",
       "      <td>-2.152486e+01</td>\n",
       "      <td>109.900000</td>\n",
       "    </tr>\n",
       "    <tr>\n",
       "      <th>25%</th>\n",
       "      <td>-7.616786e-01</td>\n",
       "      <td>-8.740841e-01</td>\n",
       "      <td>-0.035143</td>\n",
       "      <td>-6.733490e-01</td>\n",
       "      <td>-7.213280e-01</td>\n",
       "      <td>-4.605411e-01</td>\n",
       "      <td>199.690000</td>\n",
       "    </tr>\n",
       "    <tr>\n",
       "      <th>50%</th>\n",
       "      <td>6.971469e-02</td>\n",
       "      <td>3.050335e-02</td>\n",
       "      <td>-0.035143</td>\n",
       "      <td>-1.858306e-01</td>\n",
       "      <td>-1.073420e-01</td>\n",
       "      <td>1.113958e-01</td>\n",
       "      <td>222.920000</td>\n",
       "    </tr>\n",
       "    <tr>\n",
       "      <th>75%</th>\n",
       "      <td>7.823375e-01</td>\n",
       "      <td>8.684370e-01</td>\n",
       "      <td>-0.035143</td>\n",
       "      <td>5.454471e-01</td>\n",
       "      <td>6.431659e-01</td>\n",
       "      <td>5.981507e-01</td>\n",
       "      <td>234.980000</td>\n",
       "    </tr>\n",
       "    <tr>\n",
       "      <th>max</th>\n",
       "      <td>1.732501e+00</td>\n",
       "      <td>1.725415e+00</td>\n",
       "      <td>28.452813</td>\n",
       "      <td>6.151909e+00</td>\n",
       "      <td>3.317628e+00</td>\n",
       "      <td>3.074516e+00</td>\n",
       "      <td>324.320000</td>\n",
       "    </tr>\n",
       "  </tbody>\n",
       "</table>\n",
       "</div>"
      ],
      "text/plain": [
       "               Year          Yday          Hour      PRESSURE  \\\n",
       "count  1.297000e+04  1.297000e+04  12970.000000  1.297000e+04   \n",
       "mean  -8.204386e-15  1.314805e-16      0.000000  8.765369e-18   \n",
       "std    1.000000e+00  1.000000e+00      1.000000  1.000000e+00   \n",
       "min   -2.068154e+00 -1.740584e+00     -0.035143 -1.160867e+00   \n",
       "25%   -7.616786e-01 -8.740841e-01     -0.035143 -6.733490e-01   \n",
       "50%    6.971469e-02  3.050335e-02     -0.035143 -1.858306e-01   \n",
       "75%    7.823375e-01  8.684370e-01     -0.035143  5.454471e-01   \n",
       "max    1.732501e+00  1.725415e+00     28.452813  6.151909e+00   \n",
       "\n",
       "       TEMPERATURE_VALUE  SALINITY_VALUE  OXYGEN_VALUE  \n",
       "count       1.297000e+04    1.297000e+04  12970.000000  \n",
       "mean        4.908607e-16    4.382685e-15    218.042145  \n",
       "std         1.000000e+00    1.000000e+00     23.011995  \n",
       "min        -3.063763e+00   -2.152486e+01    109.900000  \n",
       "25%        -7.213280e-01   -4.605411e-01    199.690000  \n",
       "50%        -1.073420e-01    1.113958e-01    222.920000  \n",
       "75%         6.431659e-01    5.981507e-01    234.980000  \n",
       "max         3.317628e+00    3.074516e+00    324.320000  "
      ]
     },
     "execution_count": 2,
     "metadata": {},
     "output_type": "execute_result"
    }
   ],
   "source": [
    "pickle_in = open(\"../data/oxygen.pickle\", \"rb\")\n",
    "oxygen = pickle.load(pickle_in)\n",
    "oxygen.describe()"
   ]
  },
  {
   "cell_type": "code",
   "execution_count": 3,
   "metadata": {},
   "outputs": [],
   "source": [
    "import tensorflow as tf\n",
    "from tensorflow import keras\n",
    "from tensorflow.keras import layers"
   ]
  },
  {
   "cell_type": "code",
   "execution_count": 4,
   "metadata": {},
   "outputs": [
    {
     "data": {
      "text/plain": [
       "'2.2.0'"
      ]
     },
     "execution_count": 4,
     "metadata": {},
     "output_type": "execute_result"
    }
   ],
   "source": [
    "tf.__version__"
   ]
  },
  {
   "cell_type": "code",
   "execution_count": 5,
   "metadata": {},
   "outputs": [],
   "source": [
    "## Train test split\n",
    "train_dataset = oxygen.sample(frac=0.8, random_state=0)\n",
    "test_dataset  = oxygen.drop(train_dataset.index)"
   ]
  },
  {
   "cell_type": "code",
   "execution_count": 6,
   "metadata": {},
   "outputs": [
    {
     "data": {
      "text/html": [
       "<div>\n",
       "<style scoped>\n",
       "    .dataframe tbody tr th:only-of-type {\n",
       "        vertical-align: middle;\n",
       "    }\n",
       "\n",
       "    .dataframe tbody tr th {\n",
       "        vertical-align: top;\n",
       "    }\n",
       "\n",
       "    .dataframe thead th {\n",
       "        text-align: right;\n",
       "    }\n",
       "</style>\n",
       "<table border=\"1\" class=\"dataframe\">\n",
       "  <thead>\n",
       "    <tr style=\"text-align: right;\">\n",
       "      <th></th>\n",
       "      <th>Year</th>\n",
       "      <th>Yday</th>\n",
       "      <th>Hour</th>\n",
       "      <th>PRESSURE</th>\n",
       "      <th>TEMPERATURE_VALUE</th>\n",
       "      <th>SALINITY_VALUE</th>\n",
       "      <th>OXYGEN_VALUE</th>\n",
       "    </tr>\n",
       "  </thead>\n",
       "  <tbody>\n",
       "    <tr>\n",
       "      <th>1859</th>\n",
       "      <td>-1.355531</td>\n",
       "      <td>0.563734</td>\n",
       "      <td>-0.035143</td>\n",
       "      <td>0.667327</td>\n",
       "      <td>-0.870289</td>\n",
       "      <td>-0.661327</td>\n",
       "      <td>213.98</td>\n",
       "    </tr>\n",
       "    <tr>\n",
       "      <th>6820</th>\n",
       "      <td>0.069715</td>\n",
       "      <td>1.154096</td>\n",
       "      <td>-0.035143</td>\n",
       "      <td>-0.673349</td>\n",
       "      <td>-0.650527</td>\n",
       "      <td>-0.131982</td>\n",
       "      <td>265.80</td>\n",
       "    </tr>\n",
       "    <tr>\n",
       "      <th>9274</th>\n",
       "      <td>0.544797</td>\n",
       "      <td>1.239794</td>\n",
       "      <td>-0.035143</td>\n",
       "      <td>0.301688</td>\n",
       "      <td>-0.949072</td>\n",
       "      <td>-0.636990</td>\n",
       "      <td>182.71</td>\n",
       "    </tr>\n",
       "    <tr>\n",
       "      <th>11109</th>\n",
       "      <td>0.901108</td>\n",
       "      <td>-0.102804</td>\n",
       "      <td>-0.035143</td>\n",
       "      <td>-0.917108</td>\n",
       "      <td>0.564383</td>\n",
       "      <td>0.214831</td>\n",
       "      <td>227.83</td>\n",
       "    </tr>\n",
       "    <tr>\n",
       "      <th>10251</th>\n",
       "      <td>0.782337</td>\n",
       "      <td>-0.569381</td>\n",
       "      <td>-0.035143</td>\n",
       "      <td>6.151909</td>\n",
       "      <td>-2.267644</td>\n",
       "      <td>-2.352801</td>\n",
       "      <td>202.81</td>\n",
       "    </tr>\n",
       "  </tbody>\n",
       "</table>\n",
       "</div>"
      ],
      "text/plain": [
       "           Year      Yday      Hour  PRESSURE  TEMPERATURE_VALUE  \\\n",
       "1859  -1.355531  0.563734 -0.035143  0.667327          -0.870289   \n",
       "6820   0.069715  1.154096 -0.035143 -0.673349          -0.650527   \n",
       "9274   0.544797  1.239794 -0.035143  0.301688          -0.949072   \n",
       "11109  0.901108 -0.102804 -0.035143 -0.917108           0.564383   \n",
       "10251  0.782337 -0.569381 -0.035143  6.151909          -2.267644   \n",
       "\n",
       "       SALINITY_VALUE  OXYGEN_VALUE  \n",
       "1859        -0.661327        213.98  \n",
       "6820        -0.131982        265.80  \n",
       "9274        -0.636990        182.71  \n",
       "11109        0.214831        227.83  \n",
       "10251       -2.352801        202.81  "
      ]
     },
     "execution_count": 6,
     "metadata": {},
     "output_type": "execute_result"
    }
   ],
   "source": [
    "train_dataset.head()"
   ]
  },
  {
   "cell_type": "code",
   "execution_count": 7,
   "metadata": {},
   "outputs": [],
   "source": [
    "train_labels = train_dataset.pop('OXYGEN_VALUE')\n",
    "test_labels = test_dataset.pop('OXYGEN_VALUE')"
   ]
  },
  {
   "cell_type": "markdown",
   "metadata": {},
   "source": [
    "### The Model"
   ]
  },
  {
   "cell_type": "code",
   "execution_count": 8,
   "metadata": {},
   "outputs": [],
   "source": [
    "def build_model():\n",
    "    model = keras.Sequential([\n",
    "      layers.Dense(64, activation='relu', input_shape=[len(train_dataset.keys())]),\n",
    "      layers.Dense(64, activation='relu'),\n",
    "      layers.Dense(8, activation='relu'),\n",
    "      layers.Dense(1)\n",
    "    ])\n",
    "    \n",
    "    optimizer = keras.optimizers.Adam()\n",
    "    \n",
    "    model.compile(loss='mse',\n",
    "                 optimizer=optimizer,\n",
    "                 metrics=['mae', 'mse', keras.metrics.MeanAbsolutePercentageError()])\n",
    "    \n",
    "    return model"
   ]
  },
  {
   "cell_type": "code",
   "execution_count": 9,
   "metadata": {},
   "outputs": [],
   "source": [
    "model = build_model()"
   ]
  },
  {
   "cell_type": "code",
   "execution_count": 10,
   "metadata": {},
   "outputs": [
    {
     "name": "stdout",
     "output_type": "stream",
     "text": [
      "Model: \"sequential\"\n",
      "_________________________________________________________________\n",
      "Layer (type)                 Output Shape              Param #   \n",
      "=================================================================\n",
      "dense (Dense)                (None, 64)                448       \n",
      "_________________________________________________________________\n",
      "dense_1 (Dense)              (None, 64)                4160      \n",
      "_________________________________________________________________\n",
      "dense_2 (Dense)              (None, 8)                 520       \n",
      "_________________________________________________________________\n",
      "dense_3 (Dense)              (None, 1)                 9         \n",
      "=================================================================\n",
      "Total params: 5,137\n",
      "Trainable params: 5,137\n",
      "Non-trainable params: 0\n",
      "_________________________________________________________________\n"
     ]
    }
   ],
   "source": [
    "model.summary()"
   ]
  },
  {
   "cell_type": "code",
   "execution_count": 11,
   "metadata": {},
   "outputs": [
    {
     "name": "stdout",
     "output_type": "stream",
     "text": [
      "\n",
      "....................................................................................................\n",
      "....................................................................................................\n",
      "........................."
     ]
    },
    {
     "ename": "KeyboardInterrupt",
     "evalue": "",
     "output_type": "error",
     "traceback": [
      "\u001b[0;31m---------------------------------------------------------------------------\u001b[0m",
      "\u001b[0;31mKeyboardInterrupt\u001b[0m                         Traceback (most recent call last)",
      "\u001b[0;32m<ipython-input-11-9fc0a6f2e155>\u001b[0m in \u001b[0;36m<module>\u001b[0;34m\u001b[0m\n\u001b[1;32m     11\u001b[0m   \u001b[0mtrain_dataset\u001b[0m\u001b[0;34m,\u001b[0m \u001b[0mtrain_labels\u001b[0m\u001b[0;34m,\u001b[0m\u001b[0;34m\u001b[0m\u001b[0;34m\u001b[0m\u001b[0m\n\u001b[1;32m     12\u001b[0m   \u001b[0mepochs\u001b[0m\u001b[0;34m=\u001b[0m\u001b[0mEPOCHS\u001b[0m\u001b[0;34m,\u001b[0m \u001b[0mvalidation_split\u001b[0m \u001b[0;34m=\u001b[0m \u001b[0;36m0.2\u001b[0m\u001b[0;34m,\u001b[0m \u001b[0mverbose\u001b[0m\u001b[0;34m=\u001b[0m\u001b[0;36m0\u001b[0m\u001b[0;34m,\u001b[0m\u001b[0;34m\u001b[0m\u001b[0;34m\u001b[0m\u001b[0m\n\u001b[0;32m---> 13\u001b[0;31m   callbacks=[PrintDot()])\n\u001b[0m",
      "\u001b[0;32m/srv/scratch/z3289452/miniconda3/envs/OceanDataScience/lib/python3.7/site-packages/tensorflow/python/keras/engine/training.py\u001b[0m in \u001b[0;36m_method_wrapper\u001b[0;34m(self, *args, **kwargs)\u001b[0m\n\u001b[1;32m     64\u001b[0m   \u001b[0;32mdef\u001b[0m \u001b[0m_method_wrapper\u001b[0m\u001b[0;34m(\u001b[0m\u001b[0mself\u001b[0m\u001b[0;34m,\u001b[0m \u001b[0;34m*\u001b[0m\u001b[0margs\u001b[0m\u001b[0;34m,\u001b[0m \u001b[0;34m**\u001b[0m\u001b[0mkwargs\u001b[0m\u001b[0;34m)\u001b[0m\u001b[0;34m:\u001b[0m\u001b[0;34m\u001b[0m\u001b[0;34m\u001b[0m\u001b[0m\n\u001b[1;32m     65\u001b[0m     \u001b[0;32mif\u001b[0m \u001b[0;32mnot\u001b[0m \u001b[0mself\u001b[0m\u001b[0;34m.\u001b[0m\u001b[0m_in_multi_worker_mode\u001b[0m\u001b[0;34m(\u001b[0m\u001b[0;34m)\u001b[0m\u001b[0;34m:\u001b[0m  \u001b[0;31m# pylint: disable=protected-access\u001b[0m\u001b[0;34m\u001b[0m\u001b[0;34m\u001b[0m\u001b[0m\n\u001b[0;32m---> 66\u001b[0;31m       \u001b[0;32mreturn\u001b[0m \u001b[0mmethod\u001b[0m\u001b[0;34m(\u001b[0m\u001b[0mself\u001b[0m\u001b[0;34m,\u001b[0m \u001b[0;34m*\u001b[0m\u001b[0margs\u001b[0m\u001b[0;34m,\u001b[0m \u001b[0;34m**\u001b[0m\u001b[0mkwargs\u001b[0m\u001b[0;34m)\u001b[0m\u001b[0;34m\u001b[0m\u001b[0;34m\u001b[0m\u001b[0m\n\u001b[0m\u001b[1;32m     67\u001b[0m \u001b[0;34m\u001b[0m\u001b[0m\n\u001b[1;32m     68\u001b[0m     \u001b[0;31m# Running inside `run_distribute_coordinator` already.\u001b[0m\u001b[0;34m\u001b[0m\u001b[0;34m\u001b[0m\u001b[0;34m\u001b[0m\u001b[0m\n",
      "\u001b[0;32m/srv/scratch/z3289452/miniconda3/envs/OceanDataScience/lib/python3.7/site-packages/tensorflow/python/keras/engine/training.py\u001b[0m in \u001b[0;36mfit\u001b[0;34m(self, x, y, batch_size, epochs, verbose, callbacks, validation_split, validation_data, shuffle, class_weight, sample_weight, initial_epoch, steps_per_epoch, validation_steps, validation_batch_size, validation_freq, max_queue_size, workers, use_multiprocessing)\u001b[0m\n\u001b[1;32m    846\u001b[0m                 batch_size=batch_size):\n\u001b[1;32m    847\u001b[0m               \u001b[0mcallbacks\u001b[0m\u001b[0;34m.\u001b[0m\u001b[0mon_train_batch_begin\u001b[0m\u001b[0;34m(\u001b[0m\u001b[0mstep\u001b[0m\u001b[0;34m)\u001b[0m\u001b[0;34m\u001b[0m\u001b[0;34m\u001b[0m\u001b[0m\n\u001b[0;32m--> 848\u001b[0;31m               \u001b[0mtmp_logs\u001b[0m \u001b[0;34m=\u001b[0m \u001b[0mtrain_function\u001b[0m\u001b[0;34m(\u001b[0m\u001b[0miterator\u001b[0m\u001b[0;34m)\u001b[0m\u001b[0;34m\u001b[0m\u001b[0;34m\u001b[0m\u001b[0m\n\u001b[0m\u001b[1;32m    849\u001b[0m               \u001b[0;31m# Catch OutOfRangeError for Datasets of unknown size.\u001b[0m\u001b[0;34m\u001b[0m\u001b[0;34m\u001b[0m\u001b[0;34m\u001b[0m\u001b[0m\n\u001b[1;32m    850\u001b[0m               \u001b[0;31m# This blocks until the batch has finished executing.\u001b[0m\u001b[0;34m\u001b[0m\u001b[0;34m\u001b[0m\u001b[0;34m\u001b[0m\u001b[0m\n",
      "\u001b[0;32m/srv/scratch/z3289452/miniconda3/envs/OceanDataScience/lib/python3.7/site-packages/tensorflow/python/eager/def_function.py\u001b[0m in \u001b[0;36m__call__\u001b[0;34m(self, *args, **kwds)\u001b[0m\n\u001b[1;32m    578\u001b[0m         \u001b[0mxla_context\u001b[0m\u001b[0;34m.\u001b[0m\u001b[0mExit\u001b[0m\u001b[0;34m(\u001b[0m\u001b[0;34m)\u001b[0m\u001b[0;34m\u001b[0m\u001b[0;34m\u001b[0m\u001b[0m\n\u001b[1;32m    579\u001b[0m     \u001b[0;32melse\u001b[0m\u001b[0;34m:\u001b[0m\u001b[0;34m\u001b[0m\u001b[0;34m\u001b[0m\u001b[0m\n\u001b[0;32m--> 580\u001b[0;31m       \u001b[0mresult\u001b[0m \u001b[0;34m=\u001b[0m \u001b[0mself\u001b[0m\u001b[0;34m.\u001b[0m\u001b[0m_call\u001b[0m\u001b[0;34m(\u001b[0m\u001b[0;34m*\u001b[0m\u001b[0margs\u001b[0m\u001b[0;34m,\u001b[0m \u001b[0;34m**\u001b[0m\u001b[0mkwds\u001b[0m\u001b[0;34m)\u001b[0m\u001b[0;34m\u001b[0m\u001b[0;34m\u001b[0m\u001b[0m\n\u001b[0m\u001b[1;32m    581\u001b[0m \u001b[0;34m\u001b[0m\u001b[0m\n\u001b[1;32m    582\u001b[0m     \u001b[0;32mif\u001b[0m \u001b[0mtracing_count\u001b[0m \u001b[0;34m==\u001b[0m \u001b[0mself\u001b[0m\u001b[0;34m.\u001b[0m\u001b[0m_get_tracing_count\u001b[0m\u001b[0;34m(\u001b[0m\u001b[0;34m)\u001b[0m\u001b[0;34m:\u001b[0m\u001b[0;34m\u001b[0m\u001b[0;34m\u001b[0m\u001b[0m\n",
      "\u001b[0;32m/srv/scratch/z3289452/miniconda3/envs/OceanDataScience/lib/python3.7/site-packages/tensorflow/python/eager/def_function.py\u001b[0m in \u001b[0;36m_call\u001b[0;34m(self, *args, **kwds)\u001b[0m\n\u001b[1;32m    609\u001b[0m       \u001b[0;31m# In this case we have created variables on the first call, so we run the\u001b[0m\u001b[0;34m\u001b[0m\u001b[0;34m\u001b[0m\u001b[0;34m\u001b[0m\u001b[0m\n\u001b[1;32m    610\u001b[0m       \u001b[0;31m# defunned version which is guaranteed to never create variables.\u001b[0m\u001b[0;34m\u001b[0m\u001b[0;34m\u001b[0m\u001b[0;34m\u001b[0m\u001b[0m\n\u001b[0;32m--> 611\u001b[0;31m       \u001b[0;32mreturn\u001b[0m \u001b[0mself\u001b[0m\u001b[0;34m.\u001b[0m\u001b[0m_stateless_fn\u001b[0m\u001b[0;34m(\u001b[0m\u001b[0;34m*\u001b[0m\u001b[0margs\u001b[0m\u001b[0;34m,\u001b[0m \u001b[0;34m**\u001b[0m\u001b[0mkwds\u001b[0m\u001b[0;34m)\u001b[0m  \u001b[0;31m# pylint: disable=not-callable\u001b[0m\u001b[0;34m\u001b[0m\u001b[0;34m\u001b[0m\u001b[0m\n\u001b[0m\u001b[1;32m    612\u001b[0m     \u001b[0;32melif\u001b[0m \u001b[0mself\u001b[0m\u001b[0;34m.\u001b[0m\u001b[0m_stateful_fn\u001b[0m \u001b[0;32mis\u001b[0m \u001b[0;32mnot\u001b[0m \u001b[0;32mNone\u001b[0m\u001b[0;34m:\u001b[0m\u001b[0;34m\u001b[0m\u001b[0;34m\u001b[0m\u001b[0m\n\u001b[1;32m    613\u001b[0m       \u001b[0;31m# Release the lock early so that multiple threads can perform the call\u001b[0m\u001b[0;34m\u001b[0m\u001b[0;34m\u001b[0m\u001b[0;34m\u001b[0m\u001b[0m\n",
      "\u001b[0;32m/srv/scratch/z3289452/miniconda3/envs/OceanDataScience/lib/python3.7/site-packages/tensorflow/python/eager/function.py\u001b[0m in \u001b[0;36m__call__\u001b[0;34m(self, *args, **kwargs)\u001b[0m\n\u001b[1;32m   2418\u001b[0m     \u001b[0;32mwith\u001b[0m \u001b[0mself\u001b[0m\u001b[0;34m.\u001b[0m\u001b[0m_lock\u001b[0m\u001b[0;34m:\u001b[0m\u001b[0;34m\u001b[0m\u001b[0;34m\u001b[0m\u001b[0m\n\u001b[1;32m   2419\u001b[0m       \u001b[0mgraph_function\u001b[0m\u001b[0;34m,\u001b[0m \u001b[0margs\u001b[0m\u001b[0;34m,\u001b[0m \u001b[0mkwargs\u001b[0m \u001b[0;34m=\u001b[0m \u001b[0mself\u001b[0m\u001b[0;34m.\u001b[0m\u001b[0m_maybe_define_function\u001b[0m\u001b[0;34m(\u001b[0m\u001b[0margs\u001b[0m\u001b[0;34m,\u001b[0m \u001b[0mkwargs\u001b[0m\u001b[0;34m)\u001b[0m\u001b[0;34m\u001b[0m\u001b[0;34m\u001b[0m\u001b[0m\n\u001b[0;32m-> 2420\u001b[0;31m     \u001b[0;32mreturn\u001b[0m \u001b[0mgraph_function\u001b[0m\u001b[0;34m.\u001b[0m\u001b[0m_filtered_call\u001b[0m\u001b[0;34m(\u001b[0m\u001b[0margs\u001b[0m\u001b[0;34m,\u001b[0m \u001b[0mkwargs\u001b[0m\u001b[0;34m)\u001b[0m  \u001b[0;31m# pylint: disable=protected-access\u001b[0m\u001b[0;34m\u001b[0m\u001b[0;34m\u001b[0m\u001b[0m\n\u001b[0m\u001b[1;32m   2421\u001b[0m \u001b[0;34m\u001b[0m\u001b[0m\n\u001b[1;32m   2422\u001b[0m   \u001b[0;34m@\u001b[0m\u001b[0mproperty\u001b[0m\u001b[0;34m\u001b[0m\u001b[0;34m\u001b[0m\u001b[0m\n",
      "\u001b[0;32m/srv/scratch/z3289452/miniconda3/envs/OceanDataScience/lib/python3.7/site-packages/tensorflow/python/eager/function.py\u001b[0m in \u001b[0;36m_filtered_call\u001b[0;34m(self, args, kwargs)\u001b[0m\n\u001b[1;32m   1663\u001b[0m          if isinstance(t, (ops.Tensor,\n\u001b[1;32m   1664\u001b[0m                            resource_variable_ops.BaseResourceVariable))),\n\u001b[0;32m-> 1665\u001b[0;31m         self.captured_inputs)\n\u001b[0m\u001b[1;32m   1666\u001b[0m \u001b[0;34m\u001b[0m\u001b[0m\n\u001b[1;32m   1667\u001b[0m   \u001b[0;32mdef\u001b[0m \u001b[0m_call_flat\u001b[0m\u001b[0;34m(\u001b[0m\u001b[0mself\u001b[0m\u001b[0;34m,\u001b[0m \u001b[0margs\u001b[0m\u001b[0;34m,\u001b[0m \u001b[0mcaptured_inputs\u001b[0m\u001b[0;34m,\u001b[0m \u001b[0mcancellation_manager\u001b[0m\u001b[0;34m=\u001b[0m\u001b[0;32mNone\u001b[0m\u001b[0;34m)\u001b[0m\u001b[0;34m:\u001b[0m\u001b[0;34m\u001b[0m\u001b[0;34m\u001b[0m\u001b[0m\n",
      "\u001b[0;32m/srv/scratch/z3289452/miniconda3/envs/OceanDataScience/lib/python3.7/site-packages/tensorflow/python/eager/function.py\u001b[0m in \u001b[0;36m_call_flat\u001b[0;34m(self, args, captured_inputs, cancellation_manager)\u001b[0m\n\u001b[1;32m   1744\u001b[0m       \u001b[0;31m# No tape is watching; skip to running the function.\u001b[0m\u001b[0;34m\u001b[0m\u001b[0;34m\u001b[0m\u001b[0;34m\u001b[0m\u001b[0m\n\u001b[1;32m   1745\u001b[0m       return self._build_call_outputs(self._inference_function.call(\n\u001b[0;32m-> 1746\u001b[0;31m           ctx, args, cancellation_manager=cancellation_manager))\n\u001b[0m\u001b[1;32m   1747\u001b[0m     forward_backward = self._select_forward_and_backward_functions(\n\u001b[1;32m   1748\u001b[0m         \u001b[0margs\u001b[0m\u001b[0;34m,\u001b[0m\u001b[0;34m\u001b[0m\u001b[0;34m\u001b[0m\u001b[0m\n",
      "\u001b[0;32m/srv/scratch/z3289452/miniconda3/envs/OceanDataScience/lib/python3.7/site-packages/tensorflow/python/eager/function.py\u001b[0m in \u001b[0;36mcall\u001b[0;34m(self, ctx, args, cancellation_manager)\u001b[0m\n\u001b[1;32m    596\u001b[0m               \u001b[0minputs\u001b[0m\u001b[0;34m=\u001b[0m\u001b[0margs\u001b[0m\u001b[0;34m,\u001b[0m\u001b[0;34m\u001b[0m\u001b[0;34m\u001b[0m\u001b[0m\n\u001b[1;32m    597\u001b[0m               \u001b[0mattrs\u001b[0m\u001b[0;34m=\u001b[0m\u001b[0mattrs\u001b[0m\u001b[0;34m,\u001b[0m\u001b[0;34m\u001b[0m\u001b[0;34m\u001b[0m\u001b[0m\n\u001b[0;32m--> 598\u001b[0;31m               ctx=ctx)\n\u001b[0m\u001b[1;32m    599\u001b[0m         \u001b[0;32melse\u001b[0m\u001b[0;34m:\u001b[0m\u001b[0;34m\u001b[0m\u001b[0;34m\u001b[0m\u001b[0m\n\u001b[1;32m    600\u001b[0m           outputs = execute.execute_with_cancellation(\n",
      "\u001b[0;32m/srv/scratch/z3289452/miniconda3/envs/OceanDataScience/lib/python3.7/site-packages/tensorflow/python/eager/execute.py\u001b[0m in \u001b[0;36mquick_execute\u001b[0;34m(op_name, num_outputs, inputs, attrs, ctx, name)\u001b[0m\n\u001b[1;32m     58\u001b[0m     \u001b[0mctx\u001b[0m\u001b[0;34m.\u001b[0m\u001b[0mensure_initialized\u001b[0m\u001b[0;34m(\u001b[0m\u001b[0;34m)\u001b[0m\u001b[0;34m\u001b[0m\u001b[0;34m\u001b[0m\u001b[0m\n\u001b[1;32m     59\u001b[0m     tensors = pywrap_tfe.TFE_Py_Execute(ctx._handle, device_name, op_name,\n\u001b[0;32m---> 60\u001b[0;31m                                         inputs, attrs, num_outputs)\n\u001b[0m\u001b[1;32m     61\u001b[0m   \u001b[0;32mexcept\u001b[0m \u001b[0mcore\u001b[0m\u001b[0;34m.\u001b[0m\u001b[0m_NotOkStatusException\u001b[0m \u001b[0;32mas\u001b[0m \u001b[0me\u001b[0m\u001b[0;34m:\u001b[0m\u001b[0;34m\u001b[0m\u001b[0;34m\u001b[0m\u001b[0m\n\u001b[1;32m     62\u001b[0m     \u001b[0;32mif\u001b[0m \u001b[0mname\u001b[0m \u001b[0;32mis\u001b[0m \u001b[0;32mnot\u001b[0m \u001b[0;32mNone\u001b[0m\u001b[0;34m:\u001b[0m\u001b[0;34m\u001b[0m\u001b[0;34m\u001b[0m\u001b[0m\n",
      "\u001b[0;31mKeyboardInterrupt\u001b[0m: "
     ]
    }
   ],
   "source": [
    "## Train the model\n",
    "# Display training progress by printing a single dot for each completed epoch\n",
    "class PrintDot(keras.callbacks.Callback):\n",
    "  def on_epoch_end(self, epoch, logs):\n",
    "    if epoch % 100 == 0: print('')\n",
    "    print('.', end='')\n",
    "\n",
    "EPOCHS = 500\n",
    "\n",
    "history = model.fit(\n",
    "  train_dataset, train_labels,\n",
    "  epochs=EPOCHS, validation_split = 0.2, verbose=0,\n",
    "  callbacks=[PrintDot()])"
   ]
  },
  {
   "cell_type": "code",
   "execution_count": 26,
   "metadata": {},
   "outputs": [
    {
     "data": {
      "text/html": [
       "<div>\n",
       "<style scoped>\n",
       "    .dataframe tbody tr th:only-of-type {\n",
       "        vertical-align: middle;\n",
       "    }\n",
       "\n",
       "    .dataframe tbody tr th {\n",
       "        vertical-align: top;\n",
       "    }\n",
       "\n",
       "    .dataframe thead th {\n",
       "        text-align: right;\n",
       "    }\n",
       "</style>\n",
       "<table border=\"1\" class=\"dataframe\">\n",
       "  <thead>\n",
       "    <tr style=\"text-align: right;\">\n",
       "      <th></th>\n",
       "      <th>loss</th>\n",
       "      <th>mae</th>\n",
       "      <th>mse</th>\n",
       "      <th>mean_absolute_percentage_error</th>\n",
       "      <th>val_loss</th>\n",
       "      <th>val_mae</th>\n",
       "      <th>val_mse</th>\n",
       "      <th>val_mean_absolute_percentage_error</th>\n",
       "    </tr>\n",
       "  </thead>\n",
       "  <tbody>\n",
       "    <tr>\n",
       "      <th>count</th>\n",
       "      <td>500.000000</td>\n",
       "      <td>500.000000</td>\n",
       "      <td>500.000000</td>\n",
       "      <td>500.000000</td>\n",
       "      <td>500.000000</td>\n",
       "      <td>500.000000</td>\n",
       "      <td>500.000000</td>\n",
       "      <td>500.000000</td>\n",
       "    </tr>\n",
       "    <tr>\n",
       "      <th>mean</th>\n",
       "      <td>124.105141</td>\n",
       "      <td>8.044875</td>\n",
       "      <td>124.105143</td>\n",
       "      <td>3.772340</td>\n",
       "      <td>133.628096</td>\n",
       "      <td>8.503744</td>\n",
       "      <td>133.628095</td>\n",
       "      <td>3.946359</td>\n",
       "    </tr>\n",
       "    <tr>\n",
       "      <th>std</th>\n",
       "      <td>5.019757</td>\n",
       "      <td>0.177361</td>\n",
       "      <td>5.019758</td>\n",
       "      <td>0.083227</td>\n",
       "      <td>4.749098</td>\n",
       "      <td>0.212164</td>\n",
       "      <td>4.749098</td>\n",
       "      <td>0.099593</td>\n",
       "    </tr>\n",
       "    <tr>\n",
       "      <th>min</th>\n",
       "      <td>115.998774</td>\n",
       "      <td>7.751125</td>\n",
       "      <td>115.998795</td>\n",
       "      <td>3.634219</td>\n",
       "      <td>125.249854</td>\n",
       "      <td>8.130034</td>\n",
       "      <td>125.249855</td>\n",
       "      <td>3.764160</td>\n",
       "    </tr>\n",
       "    <tr>\n",
       "      <th>25%</th>\n",
       "      <td>120.222926</td>\n",
       "      <td>7.905116</td>\n",
       "      <td>120.222910</td>\n",
       "      <td>3.706797</td>\n",
       "      <td>130.151139</td>\n",
       "      <td>8.348971</td>\n",
       "      <td>130.151138</td>\n",
       "      <td>3.875533</td>\n",
       "    </tr>\n",
       "    <tr>\n",
       "      <th>50%</th>\n",
       "      <td>122.832589</td>\n",
       "      <td>7.999689</td>\n",
       "      <td>122.832600</td>\n",
       "      <td>3.750814</td>\n",
       "      <td>133.008074</td>\n",
       "      <td>8.473672</td>\n",
       "      <td>133.008087</td>\n",
       "      <td>3.930791</td>\n",
       "    </tr>\n",
       "    <tr>\n",
       "      <th>75%</th>\n",
       "      <td>127.342597</td>\n",
       "      <td>8.157766</td>\n",
       "      <td>127.342588</td>\n",
       "      <td>3.824708</td>\n",
       "      <td>136.167953</td>\n",
       "      <td>8.608869</td>\n",
       "      <td>136.167953</td>\n",
       "      <td>4.002208</td>\n",
       "    </tr>\n",
       "    <tr>\n",
       "      <th>max</th>\n",
       "      <td>138.215576</td>\n",
       "      <td>8.559223</td>\n",
       "      <td>138.215591</td>\n",
       "      <td>4.012484</td>\n",
       "      <td>165.588207</td>\n",
       "      <td>9.861861</td>\n",
       "      <td>165.588226</td>\n",
       "      <td>4.612249</td>\n",
       "    </tr>\n",
       "  </tbody>\n",
       "</table>\n",
       "</div>"
      ],
      "text/plain": [
       "             loss         mae         mse  mean_absolute_percentage_error  \\\n",
       "count  500.000000  500.000000  500.000000                      500.000000   \n",
       "mean   124.105141    8.044875  124.105143                        3.772340   \n",
       "std      5.019757    0.177361    5.019758                        0.083227   \n",
       "min    115.998774    7.751125  115.998795                        3.634219   \n",
       "25%    120.222926    7.905116  120.222910                        3.706797   \n",
       "50%    122.832589    7.999689  122.832600                        3.750814   \n",
       "75%    127.342597    8.157766  127.342588                        3.824708   \n",
       "max    138.215576    8.559223  138.215591                        4.012484   \n",
       "\n",
       "         val_loss     val_mae     val_mse  val_mean_absolute_percentage_error  \n",
       "count  500.000000  500.000000  500.000000                          500.000000  \n",
       "mean   133.628096    8.503744  133.628095                            3.946359  \n",
       "std      4.749098    0.212164    4.749098                            0.099593  \n",
       "min    125.249854    8.130034  125.249855                            3.764160  \n",
       "25%    130.151139    8.348971  130.151138                            3.875533  \n",
       "50%    133.008074    8.473672  133.008087                            3.930791  \n",
       "75%    136.167953    8.608869  136.167953                            4.002208  \n",
       "max    165.588207    9.861861  165.588226                            4.612249  "
      ]
     },
     "execution_count": 26,
     "metadata": {},
     "output_type": "execute_result"
    }
   ],
   "source": [
    "pd.DataFrame(history.history).describe()"
   ]
  },
  {
   "cell_type": "code",
   "execution_count": 39,
   "metadata": {},
   "outputs": [
    {
     "data": {
      "image/png": "[encoded data removed]",
      "text/plain": [
       "<Figure size 432x288 with 1 Axes>"
      ]
     },
     "metadata": {
      "needs_background": "light"
     },
     "output_type": "display_data"
    },
    {
     "data": {
      "image/png": "[encoded data removed]",
      "text/plain": [
       "<Figure size 432x288 with 1 Axes>"
      ]
     },
     "metadata": {
      "needs_background": "light"
     },
     "output_type": "display_data"
    },
    {
     "data": {
      "image/png": "[encoded data removed]",
      "text/plain": [
       "<Figure size 432x288 with 1 Axes>"
      ]
     },
     "metadata": {
      "needs_background": "light"
     },
     "output_type": "display_data"
    }
   ],
   "source": [
    "def plot_history(history):\n",
    "  hist = pd.DataFrame(history.history)\n",
    "  hist['epoch'] = history.epoch\n",
    "\n",
    "  plt.figure()\n",
    "  plt.xlabel('Epoch')\n",
    "  plt.ylabel('Mean Abs Error')\n",
    "  plt.plot(hist['epoch'], hist['mae'],\n",
    "           label='Train Error')\n",
    "  plt.plot(hist['epoch'], hist['val_mae'],\n",
    "           label = 'Val Error')\n",
    "  plt.ylim([5,10])\n",
    "  plt.legend()\n",
    "\n",
    "  plt.figure()\n",
    "  plt.xlabel('Epoch')\n",
    "  plt.ylabel('Mean Square Error')\n",
    "  plt.plot(hist['epoch'], hist['mse'],\n",
    "           label='Train Error')\n",
    "  plt.plot(hist['epoch'], hist['val_mse'],\n",
    "           label = 'Val Error')\n",
    "  plt.ylim([100,200])\n",
    "  plt.legend()\n",
    "\n",
    "  plt.figure()\n",
    "  plt.xlabel('Epoch')\n",
    "  plt.ylabel('Mean Absolute Percentage Error')\n",
    "  plt.plot(hist['epoch'], hist['mean_absolute_percentage_error'],\n",
    "           label='Train Error')\n",
    "  plt.plot(hist['epoch'], hist['val_mean_absolute_percentage_error'],\n",
    "           label = 'Val Error')\n",
    "  plt.ylim([3,6])\n",
    "  plt.legend()\n",
    "  plt.show()\n",
    "\n",
    "\n",
    "plot_history(history)"
   ]
  },
  {
   "cell_type": "code",
   "execution_count": 33,
   "metadata": {},
   "outputs": [
    {
     "name": "stdout",
     "output_type": "stream",
     "text": [
      "WARNING:tensorflow:Falling back from v2 loop because of error: Failed to find data adapter that can handle input: <class 'pandas.core.frame.DataFrame'>, <class 'NoneType'>\n",
      "2594/2594 - 0s - loss: 138.2379 - mae: 8.3196 - mse: 138.2379 - mean_absolute_percentage_error: 3.9170\n",
      "Testing set Mean Abs Percentage Error:  3.92\n"
     ]
    }
   ],
   "source": [
    "loss, mae, mse, mape = model.evaluate(test_dataset, test_labels, verbose=2)\n",
    "\n",
    "print(\"Testing set Mean Abs Percentage Error: {:5.2f}\".format(mape))"
   ]
  },
  {
   "cell_type": "code",
   "execution_count": 32,
   "metadata": {},
   "outputs": [
    {
     "name": "stdout",
     "output_type": "stream",
     "text": [
      "WARNING:tensorflow:Falling back from v2 loop because of error: Failed to find data adapter that can handle input: <class 'pandas.core.frame.DataFrame'>, <class 'NoneType'>\n"
     ]
    },
    {
     "data": {
      "image/png": "[encoded data removed]",
      "text/plain": [
       "<Figure size 432x288 with 1 Axes>"
      ]
     },
     "metadata": {
      "needs_background": "light"
     },
     "output_type": "display_data"
    }
   ],
   "source": [
    "## Make predictions\n",
    "test_predictions = model.predict(test_dataset).flatten()\n",
    "\n",
    "plt.scatter(test_labels, test_predictions)\n",
    "plt.xlabel('True Values [Oxygen]')\n",
    "plt.ylabel('Predictions [Oxygen]')\n",
    "plt.axis('equal')\n",
    "plt.axis('square')\n",
    "_ = plt.plot([-300, 500], [-300, 500])"
   ]
  },
  {
   "cell_type": "code",
   "execution_count": 20,
   "metadata": {},
   "outputs": [
    {
     "data": {
      "image/png": "[encoded data removed]",
      "text/plain": [
       "<Figure size 432x288 with 1 Axes>"
      ]
     },
     "metadata": {
      "needs_background": "light"
     },
     "output_type": "display_data"
    }
   ],
   "source": [
    "from matplotlib.ticker import PercentFormatter\n",
    "error = test_predictions - test_labels\n",
    "plt.hist(error, bins = 25, weights=np.ones(len(error)) / len(error))\n",
    "plt.gca().yaxis.set_major_formatter(PercentFormatter(1))\n",
    "plt.xlabel(\"Prediction Error [Oxygen]\")\n",
    "_ = plt.ylabel(\"Count\")"
   ]
  },
  {
   "cell_type": "code",
   "execution_count": 129,
   "metadata": {},
   "outputs": [
    {
     "data": {
      "image/png": "[encoded data removed]",
      "text/plain": [
       "<Figure size 432x288 with 1 Axes>"
      ]
     },
     "metadata": {
      "needs_background": "light"
     },
     "output_type": "display_data"
    }
   ],
   "source": [
    "error = (test_labels - test_predictions)/test_labels*100\n",
    "plt.hist(error, bins = 25)\n",
    "plt.xlabel(\"Percentage Error [Oxygen]\")\n",
    "_ = plt.ylabel(\"Count\")"
   ]
  },
  {
   "cell_type": "code",
   "execution_count": 36,
   "metadata": {},
   "outputs": [],
   "source": [
    "## Save model\n",
    "model.save('../data/saved_models/oxygen_model.h5')"
   ]
  },
  {
   "cell_type": "markdown",
   "metadata": {},
   "source": [
    "## Load Model"
   ]
  },
  {
   "cell_type": "code",
   "execution_count": 11,
   "metadata": {},
   "outputs": [],
   "source": [
    "model = keras.models.load_model('../data/saved_models/oxygen_model.h5')"
   ]
  },
  {
   "cell_type": "code",
   "execution_count": 12,
   "metadata": {},
   "outputs": [
    {
     "name": "stdout",
     "output_type": "stream",
     "text": [
      "Model: \"sequential_1\"\n",
      "_________________________________________________________________\n",
      "Layer (type)                 Output Shape              Param #   \n",
      "=================================================================\n",
      "dense_4 (Dense)              (None, 64)                448       \n",
      "_________________________________________________________________\n",
      "dense_5 (Dense)              (None, 64)                4160      \n",
      "_________________________________________________________________\n",
      "dense_6 (Dense)              (None, 8)                 520       \n",
      "_________________________________________________________________\n",
      "dense_7 (Dense)              (None, 1)                 9         \n",
      "=================================================================\n",
      "Total params: 5,137\n",
      "Trainable params: 5,137\n",
      "Non-trainable params: 0\n",
      "_________________________________________________________________\n"
     ]
    }
   ],
   "source": [
    "model.summary()"
   ]
  },
  {
   "cell_type": "code",
   "execution_count": 13,
   "metadata": {},
   "outputs": [],
   "source": [
    "test_predictions = model.predict(test_dataset).flatten()\n",
    "error = test_predictions - test_labels"
   ]
  },
  {
   "cell_type": "code",
   "execution_count": 14,
   "metadata": {},
   "outputs": [
    {
     "data": {
      "text/plain": [
       "array([-22.19529938, -16.60290347,  18.65565204,  23.59064091])"
      ]
     },
     "execution_count": 14,
     "metadata": {},
     "output_type": "execute_result"
    }
   ],
   "source": [
    "np.percentile(error, [2.5, 5, 95, 97.5])"
   ]
  },
  {
   "cell_type": "code",
   "execution_count": 15,
   "metadata": {},
   "outputs": [
    {
     "data": {
      "text/html": [
       "<div>\n",
       "<style scoped>\n",
       "    .dataframe tbody tr th:only-of-type {\n",
       "        vertical-align: middle;\n",
       "    }\n",
       "\n",
       "    .dataframe tbody tr th {\n",
       "        vertical-align: top;\n",
       "    }\n",
       "\n",
       "    .dataframe thead th {\n",
       "        text-align: right;\n",
       "    }\n",
       "</style>\n",
       "<table border=\"1\" class=\"dataframe\">\n",
       "  <thead>\n",
       "    <tr style=\"text-align: right;\">\n",
       "      <th></th>\n",
       "      <th>Year</th>\n",
       "      <th>Yday</th>\n",
       "      <th>Hour</th>\n",
       "      <th>PRESSURE</th>\n",
       "      <th>TEMPERATURE_VALUE</th>\n",
       "      <th>SALINITY_VALUE</th>\n",
       "    </tr>\n",
       "  </thead>\n",
       "  <tbody>\n",
       "    <tr>\n",
       "      <th>0</th>\n",
       "      <td>-2.068154</td>\n",
       "      <td>-0.312288</td>\n",
       "      <td>-0.035143</td>\n",
       "      <td>-1.160867</td>\n",
       "      <td>0.456576</td>\n",
       "      <td>-0.107644</td>\n",
       "    </tr>\n",
       "    <tr>\n",
       "      <th>13</th>\n",
       "      <td>-2.068154</td>\n",
       "      <td>-0.226590</td>\n",
       "      <td>-0.035143</td>\n",
       "      <td>0.057929</td>\n",
       "      <td>0.124859</td>\n",
       "      <td>-0.107644</td>\n",
       "    </tr>\n",
       "    <tr>\n",
       "      <th>29</th>\n",
       "      <td>-2.068154</td>\n",
       "      <td>-0.036150</td>\n",
       "      <td>-0.035143</td>\n",
       "      <td>0.057929</td>\n",
       "      <td>0.041930</td>\n",
       "      <td>0.111396</td>\n",
       "    </tr>\n",
       "    <tr>\n",
       "      <th>33</th>\n",
       "      <td>-2.068154</td>\n",
       "      <td>0.020981</td>\n",
       "      <td>-0.035143</td>\n",
       "      <td>-0.917108</td>\n",
       "      <td>-0.123928</td>\n",
       "      <td>0.001876</td>\n",
       "    </tr>\n",
       "    <tr>\n",
       "      <th>34</th>\n",
       "      <td>-2.068154</td>\n",
       "      <td>0.020981</td>\n",
       "      <td>-0.035143</td>\n",
       "      <td>-0.673349</td>\n",
       "      <td>-0.123928</td>\n",
       "      <td>-0.332768</td>\n",
       "    </tr>\n",
       "    <tr>\n",
       "      <th>...</th>\n",
       "      <td>...</td>\n",
       "      <td>...</td>\n",
       "      <td>...</td>\n",
       "      <td>...</td>\n",
       "      <td>...</td>\n",
       "      <td>...</td>\n",
       "    </tr>\n",
       "    <tr>\n",
       "      <th>13830</th>\n",
       "      <td>1.613731</td>\n",
       "      <td>1.468321</td>\n",
       "      <td>-0.035143</td>\n",
       "      <td>1.288913</td>\n",
       "      <td>-1.072222</td>\n",
       "      <td>-0.710003</td>\n",
       "    </tr>\n",
       "    <tr>\n",
       "      <th>13831</th>\n",
       "      <td>1.613731</td>\n",
       "      <td>1.525453</td>\n",
       "      <td>-0.035143</td>\n",
       "      <td>-1.160867</td>\n",
       "      <td>1.210401</td>\n",
       "      <td>0.628573</td>\n",
       "    </tr>\n",
       "    <tr>\n",
       "      <th>13842</th>\n",
       "      <td>1.613731</td>\n",
       "      <td>1.592107</td>\n",
       "      <td>-0.035143</td>\n",
       "      <td>-0.429590</td>\n",
       "      <td>0.516699</td>\n",
       "      <td>1.164003</td>\n",
       "    </tr>\n",
       "    <tr>\n",
       "      <th>13845</th>\n",
       "      <td>1.613731</td>\n",
       "      <td>1.592107</td>\n",
       "      <td>-0.035143</td>\n",
       "      <td>0.667327</td>\n",
       "      <td>-0.449010</td>\n",
       "      <td>0.014045</td>\n",
       "    </tr>\n",
       "    <tr>\n",
       "      <th>13860</th>\n",
       "      <td>1.732501</td>\n",
       "      <td>-1.740584</td>\n",
       "      <td>-0.035143</td>\n",
       "      <td>0.011614</td>\n",
       "      <td>0.989809</td>\n",
       "      <td>1.255270</td>\n",
       "    </tr>\n",
       "  </tbody>\n",
       "</table>\n",
       "<p>2594 rows × 6 columns</p>\n",
       "</div>"
      ],
      "text/plain": [
       "           Year      Yday      Hour  PRESSURE  TEMPERATURE_VALUE  \\\n",
       "0     -2.068154 -0.312288 -0.035143 -1.160867           0.456576   \n",
       "13    -2.068154 -0.226590 -0.035143  0.057929           0.124859   \n",
       "29    -2.068154 -0.036150 -0.035143  0.057929           0.041930   \n",
       "33    -2.068154  0.020981 -0.035143 -0.917108          -0.123928   \n",
       "34    -2.068154  0.020981 -0.035143 -0.673349          -0.123928   \n",
       "...         ...       ...       ...       ...                ...   \n",
       "13830  1.613731  1.468321 -0.035143  1.288913          -1.072222   \n",
       "13831  1.613731  1.525453 -0.035143 -1.160867           1.210401   \n",
       "13842  1.613731  1.592107 -0.035143 -0.429590           0.516699   \n",
       "13845  1.613731  1.592107 -0.035143  0.667327          -0.449010   \n",
       "13860  1.732501 -1.740584 -0.035143  0.011614           0.989809   \n",
       "\n",
       "       SALINITY_VALUE  \n",
       "0           -0.107644  \n",
       "13          -0.107644  \n",
       "29           0.111396  \n",
       "33           0.001876  \n",
       "34          -0.332768  \n",
       "...               ...  \n",
       "13830       -0.710003  \n",
       "13831        0.628573  \n",
       "13842        1.164003  \n",
       "13845        0.014045  \n",
       "13860        1.255270  \n",
       "\n",
       "[2594 rows x 6 columns]"
      ]
     },
     "execution_count": 15,
     "metadata": {},
     "output_type": "execute_result"
    }
   ],
   "source": [
    "test_dataset"
   ]
  },
  {
   "cell_type": "code",
   "execution_count": 16,
   "metadata": {},
   "outputs": [],
   "source": [
    "# test dataset rescaled\n",
    "pickle_in = open(\"../data/standardisation_oxygen.pickle\", \"rb\")\n",
    "oxygen_stats = pickle.load(pickle_in)"
   ]
  },
  {
   "cell_type": "code",
   "execution_count": 17,
   "metadata": {},
   "outputs": [],
   "source": [
    "rescaled_test_dataset = test_dataset * oxygen_stats['std'] + oxygen_stats['mean']"
   ]
  },
  {
   "cell_type": "code",
   "execution_count": 32,
   "metadata": {},
   "outputs": [],
   "source": [
    "from matplotlib import rcParams \n",
    "rcParams.update({'font.size': 18})"
   ]
  },
  {
   "cell_type": "code",
   "execution_count": 33,
   "metadata": {},
   "outputs": [
    {
     "data": {
      "text/plain": [
       "Text(0, 0.5, 'Salinity (g/m^3)')"
      ]
     },
     "execution_count": 33,
     "metadata": {},
     "output_type": "execute_result"
    },
    {
     "data": {
      "image/png": "[encoded data removed]",
      "text/plain": [
       "<Figure size 576x576 with 2 Axes>"
      ]
     },
     "metadata": {
      "needs_background": "light"
     },
     "output_type": "display_data"
    }
   ],
   "source": [
    "plt.figure(figsize=(8,8))\n",
    "plt.scatter(rescaled_test_dataset.TEMPERATURE_VALUE, rescaled_test_dataset.SALINITY_VALUE, c=test_labels-test_predictions, vmin=-30, vmax=30)\n",
    "plt.colorbar()\n",
    "plt.title(\"True - Predicted values\")\n",
    "plt.xlabel(\"Temperature (degree celsius)\")\n",
    "plt.ylabel(\"Salinity (g/m^3)\")"
   ]
  },
  {
   "cell_type": "code",
   "execution_count": 39,
   "metadata": {},
   "outputs": [
    {
     "data": {
      "text/plain": [
       "<matplotlib.colorbar.Colorbar at 0x2b0f29c5d198>"
      ]
     },
     "execution_count": 39,
     "metadata": {},
     "output_type": "execute_result"
    },
    {
     "data": {
      "image/png": "[encoded data removed]",
      "text/plain": [
       "<Figure size 864x432 with 3 Axes>"
      ]
     },
     "metadata": {
      "needs_background": "light"
     },
     "output_type": "display_data"
    }
   ],
   "source": [
    "fig, axes = plt.subplots(ncols=2, figsize=(12,6))\n",
    "\n",
    "sctr = axes[0].scatter(rescaled_test_dataset.TEMPERATURE_VALUE, rescaled_test_dataset.SALINITY_VALUE, c=test_labels, vmin=test_labels.min(), vmax=test_labels.max())\n",
    "axes[0].set_title(\"True values\")\n",
    "axes[0].set_xlabel(\"Temperature (degree celsius)\")\n",
    "axes[0].set_ylabel(\"Salinity\")\n",
    "axes[1].scatter(rescaled_test_dataset.TEMPERATURE_VALUE, rescaled_test_dataset.SALINITY_VALUE, c=test_predictions, vmin=test_labels.min(), vmax=test_labels.max())\n",
    "axes[1].set_title(\"Predicted values\")\n",
    "axes[1].set_xlabel(\"Temperature (degree celsius)\")\n",
    "fig.colorbar(sctr, ax=axes.ravel().tolist())\n"
   ]
  },
  {
   "cell_type": "code",
   "execution_count": 35,
   "metadata": {},
   "outputs": [],
   "source": [
    "import datetime"
   ]
  },
  {
   "cell_type": "code",
   "execution_count": 36,
   "metadata": {},
   "outputs": [],
   "source": [
    "yd = [datetime.timedelta(yd - 1) for yd in rescaled_test_dataset.Yday.astype(int)]\n",
    "y = [datetime.datetime(y, 1, 1) for y in rescaled_test_dataset.Year.astype(int)] "
   ]
  },
  {
   "cell_type": "code",
   "execution_count": 38,
   "metadata": {},
   "outputs": [],
   "source": [
    "time = [a + b for a,b in zip(y, yd)] "
   ]
  },
  {
   "cell_type": "code",
   "execution_count": 39,
   "metadata": {},
   "outputs": [
    {
     "data": {
      "text/plain": [
       "<matplotlib.legend.Legend at 0x2b36dcccd0f0>"
      ]
     },
     "execution_count": 39,
     "metadata": {},
     "output_type": "execute_result"
    },
    {
     "data": {
      "image/png": "[encoded data removed]",
      "text/plain": [
       "<Figure size 864x432 with 1 Axes>"
      ]
     },
     "metadata": {
      "needs_background": "light"
     },
     "output_type": "display_data"
    }
   ],
   "source": [
    "plt.figure(figsize=(12,6))\n",
    "plt.scatter(time, test_labels, label=\"True values\")\n",
    "plt.scatter(time, test_predictions, label=\"Predicted values\")\n",
    "plt.xlabel(\"Time (years)\")\n",
    "plt.ylabel(\"Dissolved oxygen\")\n",
    "plt.legend()"
   ]
  },
  {
   "cell_type": "markdown",
   "metadata": {},
   "source": [
    "## Application: Predict based on Moorning data"
   ]
  },
  {
   "cell_type": "code",
   "execution_count": 4,
   "metadata": {},
   "outputs": [
    {
     "name": "stderr",
     "output_type": "stream",
     "text": [
      "/srv/scratch/z3289452/miniconda3/envs/OceanDataScience/lib/python3.7/site-packages/xarray/core/merge.py:17: FutureWarning: The Panel class is removed from pandas. Accessing it from the top-level namespace will also be removed in the next version\n",
      "  PANDAS_TYPES = (pd.Series, pd.DataFrame, pd.Panel)\n"
     ]
    }
   ],
   "source": [
    "import xarray as xr\n",
    "import matplotlib.pyplot as plt"
   ]
  },
  {
   "cell_type": "code",
   "execution_count": 29,
   "metadata": {},
   "outputs": [],
   "source": [
    "# Load PH100 Mooring data\n",
    "wqm_ds = xr.open_dataset('/srv/scratch/z3289452/OceanDataScience/Mooring/PH100/IMOS_ANMN-NSW_OZ_20100504_PH100_FV01_DOX2-aggregated-timeseries_END-20170828_C-20190819.nc') "
   ]
  },
  {
   "cell_type": "code",
   "execution_count": 30,
   "metadata": {},
   "outputs": [
    {
     "data": {
      "text/plain": [
       "<xarray.Dataset>\n",
       "Dimensions:                   (INSTRUMENT: 33, OBSERVATION: 12073463)\n",
       "Coordinates:\n",
       "    TIME                      (OBSERVATION) datetime64[ns] ...\n",
       "    LONGITUDE                 (INSTRUMENT) float32 ...\n",
       "    LATITUDE                  (INSTRUMENT) float32 ...\n",
       "    NOMINAL_DEPTH             (INSTRUMENT) float32 ...\n",
       "Dimensions without coordinates: INSTRUMENT, OBSERVATION\n",
       "Data variables:\n",
       "    DOX2                      (OBSERVATION) float32 ...\n",
       "    DOX2_quality_control      (OBSERVATION) float32 ...\n",
       "    DEPTH                     (OBSERVATION) float32 ...\n",
       "    DEPTH_quality_control     (OBSERVATION) int8 ...\n",
       "    PRES                      (OBSERVATION) float32 ...\n",
       "    PRES_quality_control      (OBSERVATION) float32 ...\n",
       "    PRES_REL                  (OBSERVATION) float32 ...\n",
       "    PRES_REL_quality_control  (OBSERVATION) float32 ...\n",
       "    instrument_index          (OBSERVATION) int32 ...\n",
       "    instrument_id             (INSTRUMENT) |S256 ...\n",
       "    source_file               (INSTRUMENT) |S256 ...\n",
       "Attributes:\n",
       "    Conventions:                   CF-1.6,IMOS-1.4\n",
       "    abstract:                      Aggregated Time-series Product: This file ...\n",
       "    acknowledgement:               Any users of IMOS data are required to cle...\n",
       "    author:                        Klein, Eduardo\n",
       "    author_email:                  eduardo.kleinsalas@utas.edu.au\n",
       "    citation:                      The citation in a list of references is: \"...\n",
       "    data_centre:                   Australian Ocean Data Network (AODN)\n",
       "    data_centre_email:             info@aodn.org.au\n",
       "    date_created:                  2019-08-19T02:32:49Z\n",
       "    disclaimer:                    Data, products and services from IMOS are ...\n",
       "    featureType:                   timeSeries\n",
       "    file_version:                  Level 1 - Quality Controlled Data\n",
       "    file_version_quality_control:  Quality controlled data have been through ...\n",
       "    geospatial_lat_max:            -34.1192\n",
       "    geospatial_lat_min:            -34.12068\n",
       "    geospatial_lon_max:            151.2248\n",
       "    geospatial_lon_min:            151.22415\n",
       "    geospatial_vertical_max:       2357.52392578125\n",
       "    geospatial_vertical_min:       -0.5063575506210327\n",
       "    history:                       2019-08-19T02:32:49Z: Aggregated file crea...\n",
       "    institution_references:        http://imos.org.au/facilities/aodn/\n",
       "    keywords:                      DOX2, DOX2_quality_control, TIME, DEPTH, D...\n",
       "    keywords_vocabulary:           IMOS parameter names. See https://github.c...\n",
       "    license:                       http://creativecommons.org/licenses/by/4.0/\n",
       "    lineage:                       The variable of interest (VoI) is produced...\n",
       "    local_time_zone:               \n",
       "    naming_authority:              IMOS\n",
       "    project:                       Integrated Marine Observing System (IMOS)\n",
       "    references:                    http://www.imos.org.au\n",
       "    rejected_files:                \n",
       "    site_code:                     PH100\n",
       "    source:                        Mooring\n",
       "    standard_name_vocabulary:      NetCDF Climate and Forecast (CF) Metadata ...\n",
       "    time_coverage_end:             2017-08-28T19:45:29Z\n",
       "    time_coverage_start:           2010-05-04T02:00:00Z\n",
       "    title:                         Long Timeseries Aggregated product: DOX2 a..."
      ]
     },
     "execution_count": 30,
     "metadata": {},
     "output_type": "execute_result"
    }
   ],
   "source": [
    "wqm_ds"
   ]
  },
  {
   "cell_type": "code",
   "execution_count": 31,
   "metadata": {},
   "outputs": [
    {
     "data": {
      "text/plain": [
       "array([15. , 15.5, 24. ], dtype=float32)"
      ]
     },
     "execution_count": 31,
     "metadata": {},
     "output_type": "execute_result"
    }
   ],
   "source": [
    "# Nominal depth location of WQM sensors\n",
    "np.unique(wqm_ds.NOMINAL_DEPTH.values)"
   ]
  },
  {
   "cell_type": "code",
   "execution_count": 32,
   "metadata": {},
   "outputs": [],
   "source": [
    "# Drop unecessary variables and export to dataframe\n",
    "wqm_ds = wqm_ds.drop(['DEPTH','DEPTH_quality_control','PRES','PRES_quality_control','instrument_index','instrument_id','source_file'])"
   ]
  },
  {
   "cell_type": "code",
   "execution_count": 33,
   "metadata": {},
   "outputs": [],
   "source": [
    "# filter out bad quality data \n",
    "wqm_ds = wqm_ds.where(np.logical_and(wqm_ds.DOX2_quality_control > 0, wqm_ds.DOX2_quality_control < 3), drop = True)"
   ]
  },
  {
   "cell_type": "code",
   "execution_count": 34,
   "metadata": {},
   "outputs": [],
   "source": [
    "wqm_ds = wqm_ds.where(np.logical_and(wqm_ds.PRES_REL_quality_control > 0, wqm_ds.PRES_REL_quality_control < 3), drop = True)"
   ]
  },
  {
   "cell_type": "code",
   "execution_count": 35,
   "metadata": {},
   "outputs": [],
   "source": [
    "# create pd dataframe from scratch\n",
    "data  = {'TIME': wqm_ds.TIME.values,\n",
    "         'DOX2': wqm_ds.DOX2.values,\n",
    "         'PRES': wqm_ds.PRES_REL.values}\n",
    "\n",
    "wqm_df = pd.DataFrame(data, columns = ['TIME','DOX2','PRES'])\n",
    "# set TIME as the indexing variable\n",
    "wqm_df = wqm_df.set_index('TIME')"
   ]
  },
  {
   "cell_type": "code",
   "execution_count": 36,
   "metadata": {},
   "outputs": [
    {
     "data": {
      "text/html": [
       "<div>\n",
       "<style scoped>\n",
       "    .dataframe tbody tr th:only-of-type {\n",
       "        vertical-align: middle;\n",
       "    }\n",
       "\n",
       "    .dataframe tbody tr th {\n",
       "        vertical-align: top;\n",
       "    }\n",
       "\n",
       "    .dataframe thead th {\n",
       "        text-align: right;\n",
       "    }\n",
       "</style>\n",
       "<table border=\"1\" class=\"dataframe\">\n",
       "  <thead>\n",
       "    <tr style=\"text-align: right;\">\n",
       "      <th></th>\n",
       "      <th>DOX2</th>\n",
       "      <th>PRES</th>\n",
       "    </tr>\n",
       "    <tr>\n",
       "      <th>TIME</th>\n",
       "      <th></th>\n",
       "      <th></th>\n",
       "    </tr>\n",
       "  </thead>\n",
       "  <tbody>\n",
       "    <tr>\n",
       "      <th>2010-05-04 02:00:00.000003328</th>\n",
       "      <td>191.253952</td>\n",
       "      <td>28.760000</td>\n",
       "    </tr>\n",
       "    <tr>\n",
       "      <th>2010-05-04 02:00:01.000007936</th>\n",
       "      <td>191.167465</td>\n",
       "      <td>28.799999</td>\n",
       "    </tr>\n",
       "    <tr>\n",
       "      <th>2010-05-04 02:00:02.000002560</th>\n",
       "      <td>191.140900</td>\n",
       "      <td>28.840000</td>\n",
       "    </tr>\n",
       "    <tr>\n",
       "      <th>2010-05-04 02:00:03.000007168</th>\n",
       "      <td>191.029449</td>\n",
       "      <td>28.870001</td>\n",
       "    </tr>\n",
       "    <tr>\n",
       "      <th>2010-05-04 02:00:04.000001792</th>\n",
       "      <td>191.110626</td>\n",
       "      <td>28.870001</td>\n",
       "    </tr>\n",
       "    <tr>\n",
       "      <th>...</th>\n",
       "      <td>...</td>\n",
       "      <td>...</td>\n",
       "    </tr>\n",
       "    <tr>\n",
       "      <th>2017-08-27 18:30:19.000000768</th>\n",
       "      <td>212.614594</td>\n",
       "      <td>17.709999</td>\n",
       "    </tr>\n",
       "    <tr>\n",
       "      <th>2017-08-27 18:30:20.000005632</th>\n",
       "      <td>212.614273</td>\n",
       "      <td>17.830000</td>\n",
       "    </tr>\n",
       "    <tr>\n",
       "      <th>2017-08-27 18:30:21.000000000</th>\n",
       "      <td>212.701523</td>\n",
       "      <td>17.910000</td>\n",
       "    </tr>\n",
       "    <tr>\n",
       "      <th>2017-08-27 18:30:22.000004608</th>\n",
       "      <td>212.657791</td>\n",
       "      <td>17.930000</td>\n",
       "    </tr>\n",
       "    <tr>\n",
       "      <th>2017-08-27 18:30:22.999999232</th>\n",
       "      <td>212.614243</td>\n",
       "      <td>17.879999</td>\n",
       "    </tr>\n",
       "  </tbody>\n",
       "</table>\n",
       "<p>10088856 rows × 2 columns</p>\n",
       "</div>"
      ],
      "text/plain": [
       "                                     DOX2       PRES\n",
       "TIME                                                \n",
       "2010-05-04 02:00:00.000003328  191.253952  28.760000\n",
       "2010-05-04 02:00:01.000007936  191.167465  28.799999\n",
       "2010-05-04 02:00:02.000002560  191.140900  28.840000\n",
       "2010-05-04 02:00:03.000007168  191.029449  28.870001\n",
       "2010-05-04 02:00:04.000001792  191.110626  28.870001\n",
       "...                                   ...        ...\n",
       "2017-08-27 18:30:19.000000768  212.614594  17.709999\n",
       "2017-08-27 18:30:20.000005632  212.614273  17.830000\n",
       "2017-08-27 18:30:21.000000000  212.701523  17.910000\n",
       "2017-08-27 18:30:22.000004608  212.657791  17.930000\n",
       "2017-08-27 18:30:22.999999232  212.614243  17.879999\n",
       "\n",
       "[10088856 rows x 2 columns]"
      ]
     },
     "execution_count": 36,
     "metadata": {},
     "output_type": "execute_result"
    }
   ],
   "source": [
    "wqm_df"
   ]
  },
  {
   "cell_type": "code",
   "execution_count": 37,
   "metadata": {},
   "outputs": [
    {
     "data": {
      "text/plain": [
       "<matplotlib.axes._subplots.AxesSubplot at 0x2b6986092fd0>"
      ]
     },
     "execution_count": 37,
     "metadata": {},
     "output_type": "execute_result"
    },
    {
     "data": {
      "image/png": "[encoded data removed]",
      "text/plain": [
       "<Figure size 432x288 with 1 Axes>"
      ]
     },
     "metadata": {
      "needs_background": "light"
     },
     "output_type": "display_data"
    }
   ],
   "source": [
    "# Plot PRES over TIME\n",
    "wqm_df.PRES.plot()"
   ]
  },
  {
   "cell_type": "code",
   "execution_count": 38,
   "metadata": {},
   "outputs": [],
   "source": [
    "# save maximum pressure value for subsetting temperature later\n",
    "max_pres = wqm_df.PRES.max()"
   ]
  },
  {
   "cell_type": "code",
   "execution_count": 39,
   "metadata": {},
   "outputs": [],
   "source": [
    "# Bin data by pressure and hour:\n",
    "# define pressure bins and labels for each bin\n",
    "bins = np.linspace(0, 32, 17)\n",
    "labs = np.linspace(1,31,16)"
   ]
  },
  {
   "cell_type": "code",
   "execution_count": 40,
   "metadata": {},
   "outputs": [],
   "source": [
    "# create a column with pressure bin labels\n",
    "wqm_df['PRES_BIN'] = pd.cut(wqm_df.PRES, bins = bins, labels = labs)"
   ]
  },
  {
   "cell_type": "code",
   "execution_count": 41,
   "metadata": {},
   "outputs": [],
   "source": [
    "# First groupby PRES_BIN column, then resample each group on hourly intervals and mean each resulting bin\n",
    "# drop unncessary columns and nan rows after\n",
    "wqm_df = wqm_df.groupby('PRES_BIN').resample('1H').mean().drop(columns=['PRES','PRES_BIN']).dropna()"
   ]
  },
  {
   "cell_type": "code",
   "execution_count": 42,
   "metadata": {},
   "outputs": [
    {
     "data": {
      "text/html": [
       "<div>\n",
       "<style scoped>\n",
       "    .dataframe tbody tr th:only-of-type {\n",
       "        vertical-align: middle;\n",
       "    }\n",
       "\n",
       "    .dataframe tbody tr th {\n",
       "        vertical-align: top;\n",
       "    }\n",
       "\n",
       "    .dataframe thead th {\n",
       "        text-align: right;\n",
       "    }\n",
       "</style>\n",
       "<table border=\"1\" class=\"dataframe\">\n",
       "  <thead>\n",
       "    <tr style=\"text-align: right;\">\n",
       "      <th></th>\n",
       "      <th></th>\n",
       "      <th>DOX2</th>\n",
       "    </tr>\n",
       "    <tr>\n",
       "      <th>PRES_BIN</th>\n",
       "      <th>TIME</th>\n",
       "      <th></th>\n",
       "    </tr>\n",
       "  </thead>\n",
       "  <tbody>\n",
       "    <tr>\n",
       "      <th>1.0</th>\n",
       "      <th>2012-11-28 22:00:00</th>\n",
       "      <td>219.715591</td>\n",
       "    </tr>\n",
       "    <tr>\n",
       "      <th>3.0</th>\n",
       "      <th>2012-11-28 22:00:00</th>\n",
       "      <td>219.631363</td>\n",
       "    </tr>\n",
       "    <tr>\n",
       "      <th rowspan=\"3\" valign=\"top\">7.0</th>\n",
       "      <th>2013-06-15 07:00:00</th>\n",
       "      <td>205.350891</td>\n",
       "    </tr>\n",
       "    <tr>\n",
       "      <th>2013-06-15 08:00:00</th>\n",
       "      <td>205.339203</td>\n",
       "    </tr>\n",
       "    <tr>\n",
       "      <th>2013-06-15 21:00:00</th>\n",
       "      <td>208.561523</td>\n",
       "    </tr>\n",
       "    <tr>\n",
       "      <th>...</th>\n",
       "      <th>...</th>\n",
       "      <td>...</td>\n",
       "    </tr>\n",
       "    <tr>\n",
       "      <th rowspan=\"5\" valign=\"top\">31.0</th>\n",
       "      <th>2010-05-21 10:00:00</th>\n",
       "      <td>210.213242</td>\n",
       "    </tr>\n",
       "    <tr>\n",
       "      <th>2010-05-21 11:00:00</th>\n",
       "      <td>210.027222</td>\n",
       "    </tr>\n",
       "    <tr>\n",
       "      <th>2010-05-21 12:00:00</th>\n",
       "      <td>209.906219</td>\n",
       "    </tr>\n",
       "    <tr>\n",
       "      <th>2016-04-01 05:00:00</th>\n",
       "      <td>161.294037</td>\n",
       "    </tr>\n",
       "    <tr>\n",
       "      <th>2016-04-01 06:00:00</th>\n",
       "      <td>162.787338</td>\n",
       "    </tr>\n",
       "  </tbody>\n",
       "</table>\n",
       "<p>62732 rows × 1 columns</p>\n",
       "</div>"
      ],
      "text/plain": [
       "                                    DOX2\n",
       "PRES_BIN TIME                           \n",
       "1.0      2012-11-28 22:00:00  219.715591\n",
       "3.0      2012-11-28 22:00:00  219.631363\n",
       "7.0      2013-06-15 07:00:00  205.350891\n",
       "         2013-06-15 08:00:00  205.339203\n",
       "         2013-06-15 21:00:00  208.561523\n",
       "...                                  ...\n",
       "31.0     2010-05-21 10:00:00  210.213242\n",
       "         2010-05-21 11:00:00  210.027222\n",
       "         2010-05-21 12:00:00  209.906219\n",
       "         2016-04-01 05:00:00  161.294037\n",
       "         2016-04-01 06:00:00  162.787338\n",
       "\n",
       "[62732 rows x 1 columns]"
      ]
     },
     "execution_count": 42,
     "metadata": {},
     "output_type": "execute_result"
    }
   ],
   "source": [
    "wqm_df"
   ]
  },
  {
   "cell_type": "code",
   "execution_count": 43,
   "metadata": {},
   "outputs": [
    {
     "data": {
      "text/plain": [
       "Text(0.5, 1.0, 'DOX2 concentration as 15dbar depth')"
      ]
     },
     "execution_count": 43,
     "metadata": {},
     "output_type": "execute_result"
    },
    {
     "data": {
      "image/png": "[encoded data removed]",
      "text/plain": [
       "<Figure size 1440x720 with 1 Axes>"
      ]
     },
     "metadata": {
      "needs_background": "light"
     },
     "output_type": "display_data"
    }
   ],
   "source": [
    "wqm_df.xs(15).DOX2.plot(style=['.b'],figsize=(20,10))\n",
    "plt.title('DOX2 concentration as 15dbar depth')"
   ]
  },
  {
   "cell_type": "markdown",
   "metadata": {},
   "source": [
    "### Temperature data "
   ]
  },
  {
   "cell_type": "code",
   "execution_count": 44,
   "metadata": {},
   "outputs": [],
   "source": [
    "temp = xr.open_dataset('/srv/scratch/z3289452/OceanDataScience/Mooring/PH100/IMOS_ANMN-NSW_TZ_20091029_PH100_FV01_TEMP-aggregated-timeseries_END-20190612_C-20190819.nc')"
   ]
  },
  {
   "cell_type": "code",
   "execution_count": 45,
   "metadata": {},
   "outputs": [
    {
     "data": {
      "text/plain": [
       "<xarray.Dataset>\n",
       "Dimensions:                   (INSTRUMENT: 688, OBSERVATION: 25570235)\n",
       "Coordinates:\n",
       "    TIME                      (OBSERVATION) datetime64[ns] ...\n",
       "    LONGITUDE                 (INSTRUMENT) float32 ...\n",
       "    LATITUDE                  (INSTRUMENT) float32 ...\n",
       "    NOMINAL_DEPTH             (INSTRUMENT) float32 ...\n",
       "Dimensions without coordinates: INSTRUMENT, OBSERVATION\n",
       "Data variables:\n",
       "    TEMP                      (OBSERVATION) float32 ...\n",
       "    TEMP_quality_control      (OBSERVATION) float32 ...\n",
       "    DEPTH                     (OBSERVATION) float32 ...\n",
       "    DEPTH_quality_control     (OBSERVATION) int8 ...\n",
       "    PRES                      (OBSERVATION) float32 ...\n",
       "    PRES_quality_control      (OBSERVATION) float32 ...\n",
       "    PRES_REL                  (OBSERVATION) float32 ...\n",
       "    PRES_REL_quality_control  (OBSERVATION) float32 ...\n",
       "    instrument_index          (OBSERVATION) int32 ...\n",
       "    instrument_id             (INSTRUMENT) |S256 ...\n",
       "    source_file               (INSTRUMENT) |S256 ...\n",
       "Attributes:\n",
       "    Conventions:                   CF-1.6,IMOS-1.4\n",
       "    abstract:                      Aggregated Time-series Product: This file ...\n",
       "    acknowledgement:               Any users of IMOS data are required to cle...\n",
       "    author:                        Klein, Eduardo\n",
       "    author_email:                  eduardo.kleinsalas@utas.edu.au\n",
       "    citation:                      The citation in a list of references is: \"...\n",
       "    data_centre:                   Australian Ocean Data Network (AODN)\n",
       "    data_centre_email:             info@aodn.org.au\n",
       "    date_created:                  2019-08-19T04:20:41Z\n",
       "    disclaimer:                    Data, products and services from IMOS are ...\n",
       "    featureType:                   timeSeries\n",
       "    file_version:                  Level 1 - Quality Controlled Data\n",
       "    file_version_quality_control:  Quality controlled data have been through ...\n",
       "    geospatial_lat_max:            -34.1192\n",
       "    geospatial_lat_min:            -34.12068\n",
       "    geospatial_lon_max:            151.2248\n",
       "    geospatial_lon_min:            151.22404\n",
       "    geospatial_vertical_max:       999999.0\n",
       "    geospatial_vertical_min:       -139.6803741455078\n",
       "    history:                       2019-08-19T04:20:41Z: Aggregated file crea...\n",
       "    institution_references:        http://imos.org.au/facilities/aodn/\n",
       "    keywords:                      TEMP, TEMP_quality_control, TIME, DEPTH, D...\n",
       "    keywords_vocabulary:           IMOS parameter names. See https://github.c...\n",
       "    license:                       http://creativecommons.org/licenses/by/4.0/\n",
       "    lineage:                       The variable of interest (VoI) is produced...\n",
       "    local_time_zone:               \n",
       "    naming_authority:              IMOS\n",
       "    project:                       Integrated Marine Observing System (IMOS)\n",
       "    references:                    http://www.imos.org.au\n",
       "    rejected_files:                \n",
       "    site_code:                     PH100\n",
       "    source:                        Mooring\n",
       "    standard_name_vocabulary:      NetCDF Climate and Forecast (CF) Metadata ...\n",
       "    time_coverage_end:             2019-06-12T02:34:59Z\n",
       "    time_coverage_start:           2009-10-29T02:55:00Z\n",
       "    title:                         Long Timeseries Aggregated product: TEMP a..."
      ]
     },
     "execution_count": 45,
     "metadata": {},
     "output_type": "execute_result"
    }
   ],
   "source": [
    "temp"
   ]
  },
  {
   "cell_type": "code",
   "execution_count": 46,
   "metadata": {},
   "outputs": [
    {
     "data": {
      "text/plain": [
       "array([ 15. ,  15.5,  16. ,  24. ,  32. ,  40. ,  48. ,  56. ,  64. ,\n",
       "        72. ,  80. ,  88. ,  96. , 104. , 109.5, 110. ], dtype=float32)"
      ]
     },
     "execution_count": 46,
     "metadata": {},
     "output_type": "execute_result"
    }
   ],
   "source": [
    "# Nominal depth of temp instruments to compare with WQM instruments\n",
    "np.unique(temp.NOMINAL_DEPTH.values)"
   ]
  },
  {
   "cell_type": "code",
   "execution_count": 47,
   "metadata": {},
   "outputs": [],
   "source": [
    "temp = temp.drop(['DEPTH','DEPTH_quality_control','PRES','PRES_quality_control','instrument_index','instrument_id','source_file'])"
   ]
  },
  {
   "cell_type": "code",
   "execution_count": 48,
   "metadata": {},
   "outputs": [],
   "source": [
    "temp = temp.where(np.logical_and(temp.TEMP_quality_control > 0, temp.TEMP_quality_control < 3), drop = True)"
   ]
  },
  {
   "cell_type": "code",
   "execution_count": 49,
   "metadata": {},
   "outputs": [],
   "source": [
    "temp = temp.where(np.logical_and(temp.PRES_REL_quality_control > 0, temp.PRES_REL_quality_control < 3), drop = True) "
   ]
  },
  {
   "cell_type": "code",
   "execution_count": 50,
   "metadata": {},
   "outputs": [],
   "source": [
    "# create pd dataframe from scratch\n",
    "data  = {'TIME': temp.TIME.values,\n",
    "         'TEMP': temp.TEMP.values,\n",
    "         'PRES': temp.PRES_REL.values}\n",
    "\n",
    "temp_df= pd.DataFrame(data, columns = ['TIME','TEMP','PRES'])\n",
    "# set TIME as the indexing variable\n",
    "temp_df = temp_df.set_index('TIME')"
   ]
  },
  {
   "cell_type": "code",
   "execution_count": 51,
   "metadata": {},
   "outputs": [],
   "source": [
    "# subset to the same dates water quality measurements\n",
    "temp_df = temp_df.loc['2010-05-04 02':'2017-8-27 18']"
   ]
  },
  {
   "cell_type": "code",
   "execution_count": 52,
   "metadata": {},
   "outputs": [],
   "source": [
    "# subset to same pressure range as WQM\n",
    "temp_df = temp_df.where(temp_df.PRES <= max_pres).dropna()"
   ]
  },
  {
   "cell_type": "code",
   "execution_count": 53,
   "metadata": {},
   "outputs": [],
   "source": [
    "# temp_df = temp_df.loc[~temp_df.index.duplicated()]"
   ]
  },
  {
   "cell_type": "code",
   "execution_count": 54,
   "metadata": {},
   "outputs": [
    {
     "data": {
      "text/plain": [
       "<matplotlib.axes._subplots.AxesSubplot at 0x2b69de56ba58>"
      ]
     },
     "execution_count": 54,
     "metadata": {},
     "output_type": "execute_result"
    },
    {
     "data": {
      "image/png": "[encoded data removed]",
      "text/plain": [
       "<Figure size 432x288 with 1 Axes>"
      ]
     },
     "metadata": {
      "needs_background": "light"
     },
     "output_type": "display_data"
    }
   ],
   "source": [
    "# Plot PRES over TIME\n",
    "# Because of extra instruments (see NOMINAL_DEPTH vals), there are more pressure vals here compared to WQM\n",
    "temp_df.PRES.plot()"
   ]
  },
  {
   "cell_type": "code",
   "execution_count": 55,
   "metadata": {},
   "outputs": [],
   "source": [
    "# Bin data by pressure and hour:\n",
    "# define pressure bins and labels for each bin\n",
    "bins = np.linspace(0, 32, 17)\n",
    "labs = np.linspace(1,31,16)"
   ]
  },
  {
   "cell_type": "code",
   "execution_count": 56,
   "metadata": {},
   "outputs": [],
   "source": [
    "# create a column with pressure bin labels\n",
    "temp_df['PRES_BIN'] = pd.cut(temp_df.PRES, bins = bins, labels = labs)"
   ]
  },
  {
   "cell_type": "code",
   "execution_count": 57,
   "metadata": {},
   "outputs": [],
   "source": [
    "# First groupby PRES_BIN column, then resample each group on hourly intervals and mean each resulting bin\n",
    "# drop unncessary columns and nan rows after\n",
    "temp_df = temp_df.groupby('PRES_BIN').resample('1H').mean().drop(columns=['PRES','PRES_BIN']).dropna()"
   ]
  },
  {
   "cell_type": "code",
   "execution_count": 58,
   "metadata": {},
   "outputs": [
    {
     "data": {
      "text/html": [
       "<div>\n",
       "<style scoped>\n",
       "    .dataframe tbody tr th:only-of-type {\n",
       "        vertical-align: middle;\n",
       "    }\n",
       "\n",
       "    .dataframe tbody tr th {\n",
       "        vertical-align: top;\n",
       "    }\n",
       "\n",
       "    .dataframe thead th {\n",
       "        text-align: right;\n",
       "    }\n",
       "</style>\n",
       "<table border=\"1\" class=\"dataframe\">\n",
       "  <thead>\n",
       "    <tr style=\"text-align: right;\">\n",
       "      <th></th>\n",
       "      <th></th>\n",
       "      <th>TEMP</th>\n",
       "    </tr>\n",
       "    <tr>\n",
       "      <th>PRES_BIN</th>\n",
       "      <th>TIME</th>\n",
       "      <th></th>\n",
       "    </tr>\n",
       "  </thead>\n",
       "  <tbody>\n",
       "    <tr>\n",
       "      <th>1.0</th>\n",
       "      <th>2012-11-28 22:00:00</th>\n",
       "      <td>20.759911</td>\n",
       "    </tr>\n",
       "    <tr>\n",
       "      <th>3.0</th>\n",
       "      <th>2012-11-28 22:00:00</th>\n",
       "      <td>20.770100</td>\n",
       "    </tr>\n",
       "    <tr>\n",
       "      <th rowspan=\"3\" valign=\"top\">7.0</th>\n",
       "      <th>2013-06-15 07:00:00</th>\n",
       "      <td>19.003767</td>\n",
       "    </tr>\n",
       "    <tr>\n",
       "      <th>2013-06-15 08:00:00</th>\n",
       "      <td>18.982601</td>\n",
       "    </tr>\n",
       "    <tr>\n",
       "      <th>2013-06-15 21:00:00</th>\n",
       "      <td>18.965900</td>\n",
       "    </tr>\n",
       "    <tr>\n",
       "      <th>...</th>\n",
       "      <th>...</th>\n",
       "      <td>...</td>\n",
       "    </tr>\n",
       "    <tr>\n",
       "      <th rowspan=\"5\" valign=\"top\">31.0</th>\n",
       "      <th>2014-11-04 08:00:00</th>\n",
       "      <td>19.540016</td>\n",
       "    </tr>\n",
       "    <tr>\n",
       "      <th>2014-11-04 09:00:00</th>\n",
       "      <td>19.641979</td>\n",
       "    </tr>\n",
       "    <tr>\n",
       "      <th>2014-11-04 10:00:00</th>\n",
       "      <td>19.633989</td>\n",
       "    </tr>\n",
       "    <tr>\n",
       "      <th>2016-04-01 05:00:00</th>\n",
       "      <td>24.785011</td>\n",
       "    </tr>\n",
       "    <tr>\n",
       "      <th>2016-04-01 06:00:00</th>\n",
       "      <td>24.770300</td>\n",
       "    </tr>\n",
       "  </tbody>\n",
       "</table>\n",
       "<p>75665 rows × 1 columns</p>\n",
       "</div>"
      ],
      "text/plain": [
       "                                   TEMP\n",
       "PRES_BIN TIME                          \n",
       "1.0      2012-11-28 22:00:00  20.759911\n",
       "3.0      2012-11-28 22:00:00  20.770100\n",
       "7.0      2013-06-15 07:00:00  19.003767\n",
       "         2013-06-15 08:00:00  18.982601\n",
       "         2013-06-15 21:00:00  18.965900\n",
       "...                                 ...\n",
       "31.0     2014-11-04 08:00:00  19.540016\n",
       "         2014-11-04 09:00:00  19.641979\n",
       "         2014-11-04 10:00:00  19.633989\n",
       "         2016-04-01 05:00:00  24.785011\n",
       "         2016-04-01 06:00:00  24.770300\n",
       "\n",
       "[75665 rows x 1 columns]"
      ]
     },
     "execution_count": 58,
     "metadata": {},
     "output_type": "execute_result"
    }
   ],
   "source": [
    "temp_df"
   ]
  },
  {
   "cell_type": "code",
   "execution_count": 59,
   "metadata": {},
   "outputs": [
    {
     "data": {
      "text/html": [
       "<div>\n",
       "<style scoped>\n",
       "    .dataframe tbody tr th:only-of-type {\n",
       "        vertical-align: middle;\n",
       "    }\n",
       "\n",
       "    .dataframe tbody tr th {\n",
       "        vertical-align: top;\n",
       "    }\n",
       "\n",
       "    .dataframe thead th {\n",
       "        text-align: right;\n",
       "    }\n",
       "</style>\n",
       "<table border=\"1\" class=\"dataframe\">\n",
       "  <thead>\n",
       "    <tr style=\"text-align: right;\">\n",
       "      <th></th>\n",
       "      <th></th>\n",
       "      <th>DOX2</th>\n",
       "    </tr>\n",
       "    <tr>\n",
       "      <th>PRES_BIN</th>\n",
       "      <th>TIME</th>\n",
       "      <th></th>\n",
       "    </tr>\n",
       "  </thead>\n",
       "  <tbody>\n",
       "    <tr>\n",
       "      <th>1.0</th>\n",
       "      <th>2012-11-28 22:00:00</th>\n",
       "      <td>219.715591</td>\n",
       "    </tr>\n",
       "    <tr>\n",
       "      <th>3.0</th>\n",
       "      <th>2012-11-28 22:00:00</th>\n",
       "      <td>219.631363</td>\n",
       "    </tr>\n",
       "    <tr>\n",
       "      <th rowspan=\"3\" valign=\"top\">7.0</th>\n",
       "      <th>2013-06-15 07:00:00</th>\n",
       "      <td>205.350891</td>\n",
       "    </tr>\n",
       "    <tr>\n",
       "      <th>2013-06-15 08:00:00</th>\n",
       "      <td>205.339203</td>\n",
       "    </tr>\n",
       "    <tr>\n",
       "      <th>2013-06-15 21:00:00</th>\n",
       "      <td>208.561523</td>\n",
       "    </tr>\n",
       "    <tr>\n",
       "      <th>...</th>\n",
       "      <th>...</th>\n",
       "      <td>...</td>\n",
       "    </tr>\n",
       "    <tr>\n",
       "      <th rowspan=\"5\" valign=\"top\">31.0</th>\n",
       "      <th>2010-05-21 10:00:00</th>\n",
       "      <td>210.213242</td>\n",
       "    </tr>\n",
       "    <tr>\n",
       "      <th>2010-05-21 11:00:00</th>\n",
       "      <td>210.027222</td>\n",
       "    </tr>\n",
       "    <tr>\n",
       "      <th>2010-05-21 12:00:00</th>\n",
       "      <td>209.906219</td>\n",
       "    </tr>\n",
       "    <tr>\n",
       "      <th>2016-04-01 05:00:00</th>\n",
       "      <td>161.294037</td>\n",
       "    </tr>\n",
       "    <tr>\n",
       "      <th>2016-04-01 06:00:00</th>\n",
       "      <td>162.787338</td>\n",
       "    </tr>\n",
       "  </tbody>\n",
       "</table>\n",
       "<p>62732 rows × 1 columns</p>\n",
       "</div>"
      ],
      "text/plain": [
       "                                    DOX2\n",
       "PRES_BIN TIME                           \n",
       "1.0      2012-11-28 22:00:00  219.715591\n",
       "3.0      2012-11-28 22:00:00  219.631363\n",
       "7.0      2013-06-15 07:00:00  205.350891\n",
       "         2013-06-15 08:00:00  205.339203\n",
       "         2013-06-15 21:00:00  208.561523\n",
       "...                                  ...\n",
       "31.0     2010-05-21 10:00:00  210.213242\n",
       "         2010-05-21 11:00:00  210.027222\n",
       "         2010-05-21 12:00:00  209.906219\n",
       "         2016-04-01 05:00:00  161.294037\n",
       "         2016-04-01 06:00:00  162.787338\n",
       "\n",
       "[62732 rows x 1 columns]"
      ]
     },
     "execution_count": 59,
     "metadata": {},
     "output_type": "execute_result"
    }
   ],
   "source": [
    "wqm_df"
   ]
  },
  {
   "cell_type": "code",
   "execution_count": 60,
   "metadata": {},
   "outputs": [],
   "source": [
    "# Join wqm_df and temp_df\n",
    "mooring_df = wqm_df.join(temp_df, how='inner')"
   ]
  },
  {
   "cell_type": "code",
   "execution_count": 61,
   "metadata": {},
   "outputs": [
    {
     "data": {
      "text/html": [
       "<div>\n",
       "<style scoped>\n",
       "    .dataframe tbody tr th:only-of-type {\n",
       "        vertical-align: middle;\n",
       "    }\n",
       "\n",
       "    .dataframe tbody tr th {\n",
       "        vertical-align: top;\n",
       "    }\n",
       "\n",
       "    .dataframe thead th {\n",
       "        text-align: right;\n",
       "    }\n",
       "</style>\n",
       "<table border=\"1\" class=\"dataframe\">\n",
       "  <thead>\n",
       "    <tr style=\"text-align: right;\">\n",
       "      <th></th>\n",
       "      <th></th>\n",
       "      <th>DOX2</th>\n",
       "      <th>TEMP</th>\n",
       "    </tr>\n",
       "    <tr>\n",
       "      <th>PRES_BIN</th>\n",
       "      <th>TIME</th>\n",
       "      <th></th>\n",
       "      <th></th>\n",
       "    </tr>\n",
       "  </thead>\n",
       "  <tbody>\n",
       "    <tr>\n",
       "      <th>1.0</th>\n",
       "      <th>2012-11-28 22:00:00</th>\n",
       "      <td>219.715591</td>\n",
       "      <td>20.759911</td>\n",
       "    </tr>\n",
       "    <tr>\n",
       "      <th>3.0</th>\n",
       "      <th>2012-11-28 22:00:00</th>\n",
       "      <td>219.631363</td>\n",
       "      <td>20.770100</td>\n",
       "    </tr>\n",
       "    <tr>\n",
       "      <th rowspan=\"3\" valign=\"top\">7.0</th>\n",
       "      <th>2013-06-15 07:00:00</th>\n",
       "      <td>205.350891</td>\n",
       "      <td>19.003767</td>\n",
       "    </tr>\n",
       "    <tr>\n",
       "      <th>2013-06-15 08:00:00</th>\n",
       "      <td>205.339203</td>\n",
       "      <td>18.982601</td>\n",
       "    </tr>\n",
       "    <tr>\n",
       "      <th>2013-06-15 21:00:00</th>\n",
       "      <td>208.561523</td>\n",
       "      <td>18.965900</td>\n",
       "    </tr>\n",
       "    <tr>\n",
       "      <th>...</th>\n",
       "      <th>...</th>\n",
       "      <td>...</td>\n",
       "      <td>...</td>\n",
       "    </tr>\n",
       "    <tr>\n",
       "      <th rowspan=\"5\" valign=\"top\">31.0</th>\n",
       "      <th>2010-05-21 10:00:00</th>\n",
       "      <td>210.213242</td>\n",
       "      <td>22.698212</td>\n",
       "    </tr>\n",
       "    <tr>\n",
       "      <th>2010-05-21 11:00:00</th>\n",
       "      <td>210.027222</td>\n",
       "      <td>22.679289</td>\n",
       "    </tr>\n",
       "    <tr>\n",
       "      <th>2010-05-21 12:00:00</th>\n",
       "      <td>209.906219</td>\n",
       "      <td>22.679312</td>\n",
       "    </tr>\n",
       "    <tr>\n",
       "      <th>2016-04-01 05:00:00</th>\n",
       "      <td>161.294037</td>\n",
       "      <td>24.785011</td>\n",
       "    </tr>\n",
       "    <tr>\n",
       "      <th>2016-04-01 06:00:00</th>\n",
       "      <td>162.787338</td>\n",
       "      <td>24.770300</td>\n",
       "    </tr>\n",
       "  </tbody>\n",
       "</table>\n",
       "<p>62732 rows × 2 columns</p>\n",
       "</div>"
      ],
      "text/plain": [
       "                                    DOX2       TEMP\n",
       "PRES_BIN TIME                                      \n",
       "1.0      2012-11-28 22:00:00  219.715591  20.759911\n",
       "3.0      2012-11-28 22:00:00  219.631363  20.770100\n",
       "7.0      2013-06-15 07:00:00  205.350891  19.003767\n",
       "         2013-06-15 08:00:00  205.339203  18.982601\n",
       "         2013-06-15 21:00:00  208.561523  18.965900\n",
       "...                                  ...        ...\n",
       "31.0     2010-05-21 10:00:00  210.213242  22.698212\n",
       "         2010-05-21 11:00:00  210.027222  22.679289\n",
       "         2010-05-21 12:00:00  209.906219  22.679312\n",
       "         2016-04-01 05:00:00  161.294037  24.785011\n",
       "         2016-04-01 06:00:00  162.787338  24.770300\n",
       "\n",
       "[62732 rows x 2 columns]"
      ]
     },
     "execution_count": 61,
     "metadata": {},
     "output_type": "execute_result"
    }
   ],
   "source": [
    "mooring_df"
   ]
  },
  {
   "cell_type": "markdown",
   "metadata": {},
   "source": [
    "### Salinity data"
   ]
  },
  {
   "cell_type": "code",
   "execution_count": 62,
   "metadata": {},
   "outputs": [],
   "source": [
    "psal = xr.open_dataset('/srv/scratch/z3289452/OceanDataScience/Mooring/PH100/IMOS_ANMN-NSW_SZ_20100504_PH100_FV01_PSAL-aggregated-timeseries_END-20190612_C-20190822.nc')"
   ]
  },
  {
   "cell_type": "code",
   "execution_count": 63,
   "metadata": {},
   "outputs": [
    {
     "data": {
      "text/plain": [
       "<xarray.Dataset>\n",
       "Dimensions:                   (INSTRUMENT: 50, OBSERVATION: 12502147)\n",
       "Coordinates:\n",
       "    TIME                      (OBSERVATION) datetime64[ns] ...\n",
       "    LONGITUDE                 (INSTRUMENT) float32 ...\n",
       "    LATITUDE                  (INSTRUMENT) float32 ...\n",
       "    NOMINAL_DEPTH             (INSTRUMENT) float32 ...\n",
       "Dimensions without coordinates: INSTRUMENT, OBSERVATION\n",
       "Data variables:\n",
       "    PSAL                      (OBSERVATION) float32 ...\n",
       "    PSAL_quality_control      (OBSERVATION) float32 ...\n",
       "    DEPTH                     (OBSERVATION) float32 ...\n",
       "    DEPTH_quality_control     (OBSERVATION) int8 ...\n",
       "    PRES                      (OBSERVATION) float32 ...\n",
       "    PRES_quality_control      (OBSERVATION) float32 ...\n",
       "    PRES_REL                  (OBSERVATION) float32 ...\n",
       "    PRES_REL_quality_control  (OBSERVATION) float32 ...\n",
       "    instrument_index          (OBSERVATION) int32 ...\n",
       "    instrument_id             (INSTRUMENT) |S256 ...\n",
       "    source_file               (INSTRUMENT) |S256 ...\n",
       "Attributes:\n",
       "    Conventions:                   CF-1.6,IMOS-1.4\n",
       "    abstract:                      Aggregated Time-series Product: This file ...\n",
       "    acknowledgement:               Any users of IMOS data are required to cle...\n",
       "    author:                        Klein, Eduardo\n",
       "    author_email:                  eduardo.kleinsalas@utas.edu.au\n",
       "    citation:                      The citation in a list of references is: \"...\n",
       "    data_centre:                   Australian Ocean Data Network (AODN)\n",
       "    data_centre_email:             info@aodn.org.au\n",
       "    date_created:                  2019-08-22T04:33:48Z\n",
       "    disclaimer:                    Data, products and services from IMOS are ...\n",
       "    featureType:                   timeSeries\n",
       "    file_version:                  Level 1 - Quality Controlled Data\n",
       "    file_version_quality_control:  Quality controlled data have been through ...\n",
       "    geospatial_lat_max:            -34.1192\n",
       "    geospatial_lat_min:            -34.12068\n",
       "    geospatial_lon_max:            151.2248\n",
       "    geospatial_lon_min:            151.22415\n",
       "    geospatial_vertical_max:       2357.52392578125\n",
       "    geospatial_vertical_min:       -0.5063575506210327\n",
       "    history:                       2019-08-22T04:33:48Z: Aggregated file crea...\n",
       "    institution_references:        http://imos.org.au/facilities/aodn/\n",
       "    keywords:                      PSAL, PSAL_quality_control, TIME, DEPTH, D...\n",
       "    keywords_vocabulary:           IMOS parameter names. See https://github.c...\n",
       "    license:                       http://creativecommons.org/licenses/by/4.0/\n",
       "    lineage:                       The variable of interest (VoI) is produced...\n",
       "    local_time_zone:               \n",
       "    naming_authority:              IMOS\n",
       "    project:                       Integrated Marine Observing System (IMOS)\n",
       "    references:                    http://www.imos.org.au\n",
       "    rejected_files:                \n",
       "    site_code:                     PH100\n",
       "    source:                        Mooring\n",
       "    standard_name_vocabulary:      NetCDF Climate and Forecast (CF) Metadata ...\n",
       "    time_coverage_end:             2019-06-12T02:30:01Z\n",
       "    time_coverage_start:           2010-05-04T02:00:00Z\n",
       "    title:                         Long Timeseries Aggregated product: PSAL a..."
      ]
     },
     "execution_count": 63,
     "metadata": {},
     "output_type": "execute_result"
    }
   ],
   "source": [
    "psal"
   ]
  },
  {
   "cell_type": "code",
   "execution_count": 64,
   "metadata": {},
   "outputs": [
    {
     "data": {
      "text/plain": [
       "array([ 15. ,  15.5,  24. , 104. ], dtype=float32)"
      ]
     },
     "execution_count": 64,
     "metadata": {},
     "output_type": "execute_result"
    }
   ],
   "source": [
    "# Nominal depth of temp instruments to compare with WQM instruments\n",
    "np.unique(psal.NOMINAL_DEPTH.values)"
   ]
  },
  {
   "cell_type": "code",
   "execution_count": 65,
   "metadata": {},
   "outputs": [],
   "source": [
    "psal = psal.drop(['DEPTH','DEPTH_quality_control','PRES','PRES_quality_control','instrument_index','instrument_id','source_file'])"
   ]
  },
  {
   "cell_type": "code",
   "execution_count": 66,
   "metadata": {},
   "outputs": [],
   "source": [
    "psal = psal.where(np.logical_and(psal.PSAL_quality_control > 0, psal.PSAL_quality_control < 3), drop = True)"
   ]
  },
  {
   "cell_type": "code",
   "execution_count": 67,
   "metadata": {},
   "outputs": [],
   "source": [
    "psal = psal.where(np.logical_and(psal.PRES_REL_quality_control > 0, psal.PRES_REL_quality_control < 3), drop = True) "
   ]
  },
  {
   "cell_type": "code",
   "execution_count": 68,
   "metadata": {},
   "outputs": [],
   "source": [
    "# create pd dataframe from scratch\n",
    "data  = {'TIME': psal.TIME.values,\n",
    "         'PSAL': psal.PSAL.values,\n",
    "         'PRES': psal.PRES_REL.values}\n",
    "\n",
    "psal_df= pd.DataFrame(data, columns = ['TIME','PSAL','PRES'])\n",
    "# set TIME as the indexing variable\n",
    "psal_df = psal_df.set_index('TIME')"
   ]
  },
  {
   "cell_type": "code",
   "execution_count": 69,
   "metadata": {},
   "outputs": [],
   "source": [
    "# subset to the same dates water quality measurements\n",
    "psal_df = psal_df.loc['2010-05-04 02':'2017-8-27 18']"
   ]
  },
  {
   "cell_type": "code",
   "execution_count": 70,
   "metadata": {},
   "outputs": [],
   "source": [
    "# subset to same pressure range as WQM\n",
    "psal_df = psal_df.where(psal_df.PRES <= max_pres).dropna()"
   ]
  },
  {
   "cell_type": "code",
   "execution_count": 71,
   "metadata": {},
   "outputs": [],
   "source": [
    "# temp_df = temp_df.loc[~temp_df.index.duplicated()]"
   ]
  },
  {
   "cell_type": "code",
   "execution_count": 72,
   "metadata": {},
   "outputs": [
    {
     "data": {
      "text/plain": [
       "<matplotlib.axes._subplots.AxesSubplot at 0x2b6a27549fd0>"
      ]
     },
     "execution_count": 72,
     "metadata": {},
     "output_type": "execute_result"
    },
    {
     "data": {
      "image/png": "[encoded data removed]",
      "text/plain": [
       "<Figure size 432x288 with 1 Axes>"
      ]
     },
     "metadata": {
      "needs_background": "light"
     },
     "output_type": "display_data"
    }
   ],
   "source": [
    "# Plot PRES over TIME\n",
    "# Because of extra instruments (see NOMINAL_DEPTH vals), there are more pressure vals here compared to WQM\n",
    "psal_df.PRES.plot()"
   ]
  },
  {
   "cell_type": "code",
   "execution_count": 73,
   "metadata": {},
   "outputs": [],
   "source": [
    "# Bin data by pressure and hour:\n",
    "# define pressure bins and labels for each bin\n",
    "bins = np.linspace(0, 32, 17)\n",
    "labs = np.linspace(1,31,16)"
   ]
  },
  {
   "cell_type": "code",
   "execution_count": 74,
   "metadata": {},
   "outputs": [],
   "source": [
    "# create a column with pressure bin labels\n",
    "psal_df['PRES_BIN'] = pd.cut(psal_df.PRES, bins = bins, labels = labs)"
   ]
  },
  {
   "cell_type": "code",
   "execution_count": 75,
   "metadata": {},
   "outputs": [],
   "source": [
    "# First groupby PRES_BIN column, then resample each group on hourly intervals and mean each resulting bin\n",
    "# drop unncessary columns and nan rows after\n",
    "psal_df = psal_df.groupby('PRES_BIN').resample('1H').mean().drop(columns=['PRES','PRES_BIN']).dropna()"
   ]
  },
  {
   "cell_type": "code",
   "execution_count": 76,
   "metadata": {},
   "outputs": [
    {
     "data": {
      "text/html": [
       "<div>\n",
       "<style scoped>\n",
       "    .dataframe tbody tr th:only-of-type {\n",
       "        vertical-align: middle;\n",
       "    }\n",
       "\n",
       "    .dataframe tbody tr th {\n",
       "        vertical-align: top;\n",
       "    }\n",
       "\n",
       "    .dataframe thead th {\n",
       "        text-align: right;\n",
       "    }\n",
       "</style>\n",
       "<table border=\"1\" class=\"dataframe\">\n",
       "  <thead>\n",
       "    <tr style=\"text-align: right;\">\n",
       "      <th></th>\n",
       "      <th></th>\n",
       "      <th>PSAL</th>\n",
       "    </tr>\n",
       "    <tr>\n",
       "      <th>PRES_BIN</th>\n",
       "      <th>TIME</th>\n",
       "      <th></th>\n",
       "    </tr>\n",
       "  </thead>\n",
       "  <tbody>\n",
       "    <tr>\n",
       "      <th>1.0</th>\n",
       "      <th>2012-11-28 22:00:00</th>\n",
       "      <td>35.461388</td>\n",
       "    </tr>\n",
       "    <tr>\n",
       "      <th>3.0</th>\n",
       "      <th>2012-11-28 22:00:00</th>\n",
       "      <td>35.460751</td>\n",
       "    </tr>\n",
       "    <tr>\n",
       "      <th rowspan=\"3\" valign=\"top\">7.0</th>\n",
       "      <th>2013-06-15 07:00:00</th>\n",
       "      <td>35.462334</td>\n",
       "    </tr>\n",
       "    <tr>\n",
       "      <th>2013-06-15 08:00:00</th>\n",
       "      <td>35.463001</td>\n",
       "    </tr>\n",
       "    <tr>\n",
       "      <th>2013-06-15 21:00:00</th>\n",
       "      <td>35.501999</td>\n",
       "    </tr>\n",
       "    <tr>\n",
       "      <th>...</th>\n",
       "      <th>...</th>\n",
       "      <td>...</td>\n",
       "    </tr>\n",
       "    <tr>\n",
       "      <th rowspan=\"5\" valign=\"top\">31.0</th>\n",
       "      <th>2014-11-04 08:00:00</th>\n",
       "      <td>35.632832</td>\n",
       "    </tr>\n",
       "    <tr>\n",
       "      <th>2014-11-04 09:00:00</th>\n",
       "      <td>35.634396</td>\n",
       "    </tr>\n",
       "    <tr>\n",
       "      <th>2014-11-04 10:00:00</th>\n",
       "      <td>35.633755</td>\n",
       "    </tr>\n",
       "    <tr>\n",
       "      <th>2016-04-01 05:00:00</th>\n",
       "      <td>35.544964</td>\n",
       "    </tr>\n",
       "    <tr>\n",
       "      <th>2016-04-01 06:00:00</th>\n",
       "      <td>35.544453</td>\n",
       "    </tr>\n",
       "  </tbody>\n",
       "</table>\n",
       "<p>75665 rows × 1 columns</p>\n",
       "</div>"
      ],
      "text/plain": [
       "                                   PSAL\n",
       "PRES_BIN TIME                          \n",
       "1.0      2012-11-28 22:00:00  35.461388\n",
       "3.0      2012-11-28 22:00:00  35.460751\n",
       "7.0      2013-06-15 07:00:00  35.462334\n",
       "         2013-06-15 08:00:00  35.463001\n",
       "         2013-06-15 21:00:00  35.501999\n",
       "...                                 ...\n",
       "31.0     2014-11-04 08:00:00  35.632832\n",
       "         2014-11-04 09:00:00  35.634396\n",
       "         2014-11-04 10:00:00  35.633755\n",
       "         2016-04-01 05:00:00  35.544964\n",
       "         2016-04-01 06:00:00  35.544453\n",
       "\n",
       "[75665 rows x 1 columns]"
      ]
     },
     "execution_count": 76,
     "metadata": {},
     "output_type": "execute_result"
    }
   ],
   "source": [
    "psal_df"
   ]
  },
  {
   "cell_type": "code",
   "execution_count": 77,
   "metadata": {},
   "outputs": [],
   "source": [
    "# Join with mooring_df\n",
    "mooring_df = mooring_df.join(psal_df, how=\"inner\")"
   ]
  },
  {
   "cell_type": "code",
   "execution_count": 78,
   "metadata": {},
   "outputs": [
    {
     "data": {
      "text/html": [
       "<div>\n",
       "<style scoped>\n",
       "    .dataframe tbody tr th:only-of-type {\n",
       "        vertical-align: middle;\n",
       "    }\n",
       "\n",
       "    .dataframe tbody tr th {\n",
       "        vertical-align: top;\n",
       "    }\n",
       "\n",
       "    .dataframe thead th {\n",
       "        text-align: right;\n",
       "    }\n",
       "</style>\n",
       "<table border=\"1\" class=\"dataframe\">\n",
       "  <thead>\n",
       "    <tr style=\"text-align: right;\">\n",
       "      <th></th>\n",
       "      <th></th>\n",
       "      <th>DOX2</th>\n",
       "      <th>TEMP</th>\n",
       "      <th>PSAL</th>\n",
       "    </tr>\n",
       "    <tr>\n",
       "      <th>PRES_BIN</th>\n",
       "      <th>TIME</th>\n",
       "      <th></th>\n",
       "      <th></th>\n",
       "      <th></th>\n",
       "    </tr>\n",
       "  </thead>\n",
       "  <tbody>\n",
       "    <tr>\n",
       "      <th>1.0</th>\n",
       "      <th>2012-11-28 22:00:00</th>\n",
       "      <td>219.715591</td>\n",
       "      <td>20.759911</td>\n",
       "      <td>35.461388</td>\n",
       "    </tr>\n",
       "    <tr>\n",
       "      <th>3.0</th>\n",
       "      <th>2012-11-28 22:00:00</th>\n",
       "      <td>219.631363</td>\n",
       "      <td>20.770100</td>\n",
       "      <td>35.460751</td>\n",
       "    </tr>\n",
       "    <tr>\n",
       "      <th rowspan=\"3\" valign=\"top\">7.0</th>\n",
       "      <th>2013-06-15 07:00:00</th>\n",
       "      <td>205.350891</td>\n",
       "      <td>19.003767</td>\n",
       "      <td>35.462334</td>\n",
       "    </tr>\n",
       "    <tr>\n",
       "      <th>2013-06-15 08:00:00</th>\n",
       "      <td>205.339203</td>\n",
       "      <td>18.982601</td>\n",
       "      <td>35.463001</td>\n",
       "    </tr>\n",
       "    <tr>\n",
       "      <th>2013-06-15 21:00:00</th>\n",
       "      <td>208.561523</td>\n",
       "      <td>18.965900</td>\n",
       "      <td>35.501999</td>\n",
       "    </tr>\n",
       "    <tr>\n",
       "      <th>...</th>\n",
       "      <th>...</th>\n",
       "      <td>...</td>\n",
       "      <td>...</td>\n",
       "      <td>...</td>\n",
       "    </tr>\n",
       "    <tr>\n",
       "      <th rowspan=\"5\" valign=\"top\">31.0</th>\n",
       "      <th>2010-05-21 10:00:00</th>\n",
       "      <td>210.213242</td>\n",
       "      <td>22.698212</td>\n",
       "      <td>35.327530</td>\n",
       "    </tr>\n",
       "    <tr>\n",
       "      <th>2010-05-21 11:00:00</th>\n",
       "      <td>210.027222</td>\n",
       "      <td>22.679289</td>\n",
       "      <td>35.324860</td>\n",
       "    </tr>\n",
       "    <tr>\n",
       "      <th>2010-05-21 12:00:00</th>\n",
       "      <td>209.906219</td>\n",
       "      <td>22.679312</td>\n",
       "      <td>35.319817</td>\n",
       "    </tr>\n",
       "    <tr>\n",
       "      <th>2016-04-01 05:00:00</th>\n",
       "      <td>161.294037</td>\n",
       "      <td>24.785011</td>\n",
       "      <td>35.544964</td>\n",
       "    </tr>\n",
       "    <tr>\n",
       "      <th>2016-04-01 06:00:00</th>\n",
       "      <td>162.787338</td>\n",
       "      <td>24.770300</td>\n",
       "      <td>35.544453</td>\n",
       "    </tr>\n",
       "  </tbody>\n",
       "</table>\n",
       "<p>62732 rows × 3 columns</p>\n",
       "</div>"
      ],
      "text/plain": [
       "                                    DOX2       TEMP       PSAL\n",
       "PRES_BIN TIME                                                 \n",
       "1.0      2012-11-28 22:00:00  219.715591  20.759911  35.461388\n",
       "3.0      2012-11-28 22:00:00  219.631363  20.770100  35.460751\n",
       "7.0      2013-06-15 07:00:00  205.350891  19.003767  35.462334\n",
       "         2013-06-15 08:00:00  205.339203  18.982601  35.463001\n",
       "         2013-06-15 21:00:00  208.561523  18.965900  35.501999\n",
       "...                                  ...        ...        ...\n",
       "31.0     2010-05-21 10:00:00  210.213242  22.698212  35.327530\n",
       "         2010-05-21 11:00:00  210.027222  22.679289  35.324860\n",
       "         2010-05-21 12:00:00  209.906219  22.679312  35.319817\n",
       "         2016-04-01 05:00:00  161.294037  24.785011  35.544964\n",
       "         2016-04-01 06:00:00  162.787338  24.770300  35.544453\n",
       "\n",
       "[62732 rows x 3 columns]"
      ]
     },
     "execution_count": 78,
     "metadata": {},
     "output_type": "execute_result"
    }
   ],
   "source": [
    "mooring_df"
   ]
  },
  {
   "cell_type": "code",
   "execution_count": 79,
   "metadata": {},
   "outputs": [],
   "source": [
    "# reset indices and split TIME into YEAR YDAY and HOUR\n",
    "mooring_df = mooring_df.reset_index()"
   ]
  },
  {
   "cell_type": "code",
   "execution_count": 80,
   "metadata": {},
   "outputs": [],
   "source": [
    "import datetime"
   ]
  },
  {
   "cell_type": "code",
   "execution_count": 81,
   "metadata": {},
   "outputs": [],
   "source": [
    "mooring_df['Year'] = mooring_df.TIME.dt.year\n",
    "mooring_df['Yday'] = mooring_df.TIME.dt.dayofyear#pd.to_numeric(mooring_df.TIME.dt.strftime('%j'))\n",
    "mooring_df['Hour'] = mooring_df.TIME.dt.hour"
   ]
  },
  {
   "cell_type": "code",
   "execution_count": 82,
   "metadata": {},
   "outputs": [],
   "source": [
    "mooring_df.rename(columns={'PRES_BIN': 'PRESSURE', 'DOX2': 'OXYGEN_VALUE', 'TEMP': 'TEMPERATURE_VALUE', 'PSAL': 'SALINITY_VALUE'}, inplace=True)"
   ]
  },
  {
   "cell_type": "code",
   "execution_count": 83,
   "metadata": {},
   "outputs": [],
   "source": [
    "# Normalise columns for prediction, similar to training data"
   ]
  },
  {
   "cell_type": "code",
   "execution_count": 84,
   "metadata": {},
   "outputs": [],
   "source": [
    "import pickle"
   ]
  },
  {
   "cell_type": "code",
   "execution_count": 85,
   "metadata": {},
   "outputs": [
    {
     "data": {
      "text/html": [
       "<div>\n",
       "<style scoped>\n",
       "    .dataframe tbody tr th:only-of-type {\n",
       "        vertical-align: middle;\n",
       "    }\n",
       "\n",
       "    .dataframe tbody tr th {\n",
       "        vertical-align: top;\n",
       "    }\n",
       "\n",
       "    .dataframe thead th {\n",
       "        text-align: right;\n",
       "    }\n",
       "</style>\n",
       "<table border=\"1\" class=\"dataframe\">\n",
       "  <thead>\n",
       "    <tr style=\"text-align: right;\">\n",
       "      <th></th>\n",
       "      <th>count</th>\n",
       "      <th>mean</th>\n",
       "      <th>std</th>\n",
       "      <th>min</th>\n",
       "      <th>25%</th>\n",
       "      <th>50%</th>\n",
       "      <th>75%</th>\n",
       "      <th>max</th>\n",
       "    </tr>\n",
       "  </thead>\n",
       "  <tbody>\n",
       "    <tr>\n",
       "      <th>Year</th>\n",
       "      <td>12970.0</td>\n",
       "      <td>1970.413030</td>\n",
       "      <td>8.419602</td>\n",
       "      <td>1953.000</td>\n",
       "      <td>1964.00000</td>\n",
       "      <td>1971.00</td>\n",
       "      <td>1977.00</td>\n",
       "      <td>1985.000</td>\n",
       "    </tr>\n",
       "    <tr>\n",
       "      <th>Yday</th>\n",
       "      <td>12970.0</td>\n",
       "      <td>183.796530</td>\n",
       "      <td>105.020247</td>\n",
       "      <td>1.000</td>\n",
       "      <td>92.00000</td>\n",
       "      <td>187.00</td>\n",
       "      <td>275.00</td>\n",
       "      <td>365.000</td>\n",
       "    </tr>\n",
       "    <tr>\n",
       "      <th>Hour</th>\n",
       "      <td>12970.0</td>\n",
       "      <td>0.028373</td>\n",
       "      <td>0.807359</td>\n",
       "      <td>0.000</td>\n",
       "      <td>0.00000</td>\n",
       "      <td>0.00</td>\n",
       "      <td>0.00</td>\n",
       "      <td>23.000</td>\n",
       "    </tr>\n",
       "    <tr>\n",
       "      <th>PRESSURE</th>\n",
       "      <td>12970.0</td>\n",
       "      <td>47.623531</td>\n",
       "      <td>41.024090</td>\n",
       "      <td>0.000</td>\n",
       "      <td>20.00000</td>\n",
       "      <td>40.00</td>\n",
       "      <td>70.00</td>\n",
       "      <td>300.000</td>\n",
       "    </tr>\n",
       "    <tr>\n",
       "      <th>TEMPERATURE_VALUE</th>\n",
       "      <td>12970.0</td>\n",
       "      <td>17.498877</td>\n",
       "      <td>2.411700</td>\n",
       "      <td>10.110</td>\n",
       "      <td>15.75925</td>\n",
       "      <td>17.24</td>\n",
       "      <td>19.05</td>\n",
       "      <td>25.500</td>\n",
       "    </tr>\n",
       "    <tr>\n",
       "      <th>TEMPERATURE_QC_FLAG</th>\n",
       "      <td>12970.0</td>\n",
       "      <td>0.000000</td>\n",
       "      <td>0.000000</td>\n",
       "      <td>0.000</td>\n",
       "      <td>0.00000</td>\n",
       "      <td>0.00</td>\n",
       "      <td>0.00</td>\n",
       "      <td>0.000</td>\n",
       "    </tr>\n",
       "    <tr>\n",
       "      <th>SALINITY_VALUE</th>\n",
       "      <td>12970.0</td>\n",
       "      <td>35.461692</td>\n",
       "      <td>0.164354</td>\n",
       "      <td>31.924</td>\n",
       "      <td>35.38600</td>\n",
       "      <td>35.48</td>\n",
       "      <td>35.56</td>\n",
       "      <td>35.967</td>\n",
       "    </tr>\n",
       "    <tr>\n",
       "      <th>SALINITY_QC_FLAG</th>\n",
       "      <td>12970.0</td>\n",
       "      <td>0.000000</td>\n",
       "      <td>0.000000</td>\n",
       "      <td>0.000</td>\n",
       "      <td>0.00000</td>\n",
       "      <td>0.00</td>\n",
       "      <td>0.00</td>\n",
       "      <td>0.000</td>\n",
       "    </tr>\n",
       "    <tr>\n",
       "      <th>OXYGEN_VALUE</th>\n",
       "      <td>12970.0</td>\n",
       "      <td>0.000000</td>\n",
       "      <td>1.000000</td>\n",
       "      <td>109.900</td>\n",
       "      <td>199.69000</td>\n",
       "      <td>222.92</td>\n",
       "      <td>234.98</td>\n",
       "      <td>324.320</td>\n",
       "    </tr>\n",
       "    <tr>\n",
       "      <th>OXYGEN_QC_FLAG</th>\n",
       "      <td>12970.0</td>\n",
       "      <td>0.000000</td>\n",
       "      <td>0.000000</td>\n",
       "      <td>0.000</td>\n",
       "      <td>0.00000</td>\n",
       "      <td>0.00</td>\n",
       "      <td>0.00</td>\n",
       "      <td>0.000</td>\n",
       "    </tr>\n",
       "  </tbody>\n",
       "</table>\n",
       "</div>"
      ],
      "text/plain": [
       "                       count         mean         std       min         25%  \\\n",
       "Year                 12970.0  1970.413030    8.419602  1953.000  1964.00000   \n",
       "Yday                 12970.0   183.796530  105.020247     1.000    92.00000   \n",
       "Hour                 12970.0     0.028373    0.807359     0.000     0.00000   \n",
       "PRESSURE             12970.0    47.623531   41.024090     0.000    20.00000   \n",
       "TEMPERATURE_VALUE    12970.0    17.498877    2.411700    10.110    15.75925   \n",
       "TEMPERATURE_QC_FLAG  12970.0     0.000000    0.000000     0.000     0.00000   \n",
       "SALINITY_VALUE       12970.0    35.461692    0.164354    31.924    35.38600   \n",
       "SALINITY_QC_FLAG     12970.0     0.000000    0.000000     0.000     0.00000   \n",
       "OXYGEN_VALUE         12970.0     0.000000    1.000000   109.900   199.69000   \n",
       "OXYGEN_QC_FLAG       12970.0     0.000000    0.000000     0.000     0.00000   \n",
       "\n",
       "                         50%      75%       max  \n",
       "Year                 1971.00  1977.00  1985.000  \n",
       "Yday                  187.00   275.00   365.000  \n",
       "Hour                    0.00     0.00    23.000  \n",
       "PRESSURE               40.00    70.00   300.000  \n",
       "TEMPERATURE_VALUE      17.24    19.05    25.500  \n",
       "TEMPERATURE_QC_FLAG     0.00     0.00     0.000  \n",
       "SALINITY_VALUE         35.48    35.56    35.967  \n",
       "SALINITY_QC_FLAG        0.00     0.00     0.000  \n",
       "OXYGEN_VALUE          222.92   234.98   324.320  \n",
       "OXYGEN_QC_FLAG          0.00     0.00     0.000  "
      ]
     },
     "execution_count": 85,
     "metadata": {},
     "output_type": "execute_result"
    }
   ],
   "source": [
    "pickle_in = open(\"../data/standardisation_oxygen.pickle\", \"rb\")\n",
    "oxygen_stats = pickle.load(pickle_in)\n",
    "oxygen_stats"
   ]
  },
  {
   "cell_type": "code",
   "execution_count": 86,
   "metadata": {},
   "outputs": [
    {
     "data": {
      "text/plain": [
       "17.498876792598303"
      ]
     },
     "execution_count": 86,
     "metadata": {},
     "output_type": "execute_result"
    }
   ],
   "source": [
    "oxygen_stats.loc['TEMPERATURE_VALUE','mean']"
   ]
  },
  {
   "cell_type": "code",
   "execution_count": 87,
   "metadata": {},
   "outputs": [],
   "source": [
    "mooring_df.TEMPERATURE_VALUE =(mooring_df.TEMPERATURE_VALUE - oxygen_stats.loc['TEMPERATURE_VALUE','mean'])/oxygen_stats.loc['TEMPERATURE_VALUE','std']\n",
    "mooring_df.SALINITY_VALUE =(mooring_df.SALINITY_VALUE - oxygen_stats.loc['SALINITY_VALUE','mean'])/oxygen_stats.loc['SALINITY_VALUE','std']\n",
    "mooring_df.PRESSURE =(mooring_df.PRESSURE - oxygen_stats.loc['PRESSURE','mean'])/oxygen_stats.loc['PRESSURE','std']\n",
    "mooring_df.Year =(mooring_df.Year - oxygen_stats.loc['Year','mean'])/oxygen_stats.loc['Year','std']\n",
    "mooring_df.Yday =(mooring_df.Yday - oxygen_stats.loc['Yday','mean'])/oxygen_stats.loc['Yday','std']\n",
    "mooring_df.Hour =(mooring_df.Hour - oxygen_stats.loc['Hour','mean'])/oxygen_stats.loc['Hour','std']"
   ]
  },
  {
   "cell_type": "code",
   "execution_count": 88,
   "metadata": {},
   "outputs": [
    {
     "data": {
      "text/html": [
       "<div>\n",
       "<style scoped>\n",
       "    .dataframe tbody tr th:only-of-type {\n",
       "        vertical-align: middle;\n",
       "    }\n",
       "\n",
       "    .dataframe tbody tr th {\n",
       "        vertical-align: top;\n",
       "    }\n",
       "\n",
       "    .dataframe thead th {\n",
       "        text-align: right;\n",
       "    }\n",
       "</style>\n",
       "<table border=\"1\" class=\"dataframe\">\n",
       "  <thead>\n",
       "    <tr style=\"text-align: right;\">\n",
       "      <th></th>\n",
       "      <th>PRESSURE</th>\n",
       "      <th>TIME</th>\n",
       "      <th>OXYGEN_VALUE</th>\n",
       "      <th>TEMPERATURE_VALUE</th>\n",
       "      <th>SALINITY_VALUE</th>\n",
       "      <th>Year</th>\n",
       "      <th>Yday</th>\n",
       "      <th>Hour</th>\n",
       "    </tr>\n",
       "  </thead>\n",
       "  <tbody>\n",
       "    <tr>\n",
       "      <th>0</th>\n",
       "      <td>-1.136492</td>\n",
       "      <td>2012-11-28 22:00:00</td>\n",
       "      <td>219.715591</td>\n",
       "      <td>1.352172</td>\n",
       "      <td>-0.001857</td>\n",
       "      <td>4.939304</td>\n",
       "      <td>1.420711</td>\n",
       "      <td>27.214206</td>\n",
       "    </tr>\n",
       "    <tr>\n",
       "      <th>1</th>\n",
       "      <td>-1.087740</td>\n",
       "      <td>2012-11-28 22:00:00</td>\n",
       "      <td>219.631363</td>\n",
       "      <td>1.356397</td>\n",
       "      <td>-0.005733</td>\n",
       "      <td>4.939304</td>\n",
       "      <td>1.420711</td>\n",
       "      <td>27.214206</td>\n",
       "    </tr>\n",
       "    <tr>\n",
       "      <th>2</th>\n",
       "      <td>-0.990236</td>\n",
       "      <td>2013-06-15 07:00:00</td>\n",
       "      <td>205.350891</td>\n",
       "      <td>0.623996</td>\n",
       "      <td>0.003899</td>\n",
       "      <td>5.058074</td>\n",
       "      <td>-0.169458</td>\n",
       "      <td>8.635104</td>\n",
       "    </tr>\n",
       "    <tr>\n",
       "      <th>3</th>\n",
       "      <td>-0.990236</td>\n",
       "      <td>2013-06-15 08:00:00</td>\n",
       "      <td>205.339203</td>\n",
       "      <td>0.615219</td>\n",
       "      <td>0.007961</td>\n",
       "      <td>5.058074</td>\n",
       "      <td>-0.169458</td>\n",
       "      <td>9.873711</td>\n",
       "    </tr>\n",
       "    <tr>\n",
       "      <th>4</th>\n",
       "      <td>-0.990236</td>\n",
       "      <td>2013-06-15 21:00:00</td>\n",
       "      <td>208.561523</td>\n",
       "      <td>0.608294</td>\n",
       "      <td>0.245240</td>\n",
       "      <td>5.058074</td>\n",
       "      <td>-0.169458</td>\n",
       "      <td>25.975600</td>\n",
       "    </tr>\n",
       "    <tr>\n",
       "      <th>...</th>\n",
       "      <td>...</td>\n",
       "      <td>...</td>\n",
       "      <td>...</td>\n",
       "      <td>...</td>\n",
       "      <td>...</td>\n",
       "      <td>...</td>\n",
       "      <td>...</td>\n",
       "      <td>...</td>\n",
       "    </tr>\n",
       "    <tr>\n",
       "      <th>62727</th>\n",
       "      <td>-0.405214</td>\n",
       "      <td>2010-05-21 10:00:00</td>\n",
       "      <td>210.213242</td>\n",
       "      <td>2.155880</td>\n",
       "      <td>-0.816306</td>\n",
       "      <td>4.701763</td>\n",
       "      <td>-0.407507</td>\n",
       "      <td>12.350925</td>\n",
       "    </tr>\n",
       "    <tr>\n",
       "      <th>62728</th>\n",
       "      <td>-0.405214</td>\n",
       "      <td>2010-05-21 11:00:00</td>\n",
       "      <td>210.027222</td>\n",
       "      <td>2.148033</td>\n",
       "      <td>-0.832553</td>\n",
       "      <td>4.701763</td>\n",
       "      <td>-0.407507</td>\n",
       "      <td>13.589532</td>\n",
       "    </tr>\n",
       "    <tr>\n",
       "      <th>62729</th>\n",
       "      <td>-0.405214</td>\n",
       "      <td>2010-05-21 12:00:00</td>\n",
       "      <td>209.906219</td>\n",
       "      <td>2.148043</td>\n",
       "      <td>-0.863237</td>\n",
       "      <td>4.701763</td>\n",
       "      <td>-0.407507</td>\n",
       "      <td>14.828138</td>\n",
       "    </tr>\n",
       "    <tr>\n",
       "      <th>62730</th>\n",
       "      <td>-0.405214</td>\n",
       "      <td>2016-04-01 05:00:00</td>\n",
       "      <td>161.294037</td>\n",
       "      <td>3.021161</td>\n",
       "      <td>0.506657</td>\n",
       "      <td>5.414386</td>\n",
       "      <td>-0.874084</td>\n",
       "      <td>6.157891</td>\n",
       "    </tr>\n",
       "    <tr>\n",
       "      <th>62731</th>\n",
       "      <td>-0.405214</td>\n",
       "      <td>2016-04-01 06:00:00</td>\n",
       "      <td>162.787338</td>\n",
       "      <td>3.015061</td>\n",
       "      <td>0.503547</td>\n",
       "      <td>5.414386</td>\n",
       "      <td>-0.874084</td>\n",
       "      <td>7.396498</td>\n",
       "    </tr>\n",
       "  </tbody>\n",
       "</table>\n",
       "<p>62732 rows × 8 columns</p>\n",
       "</div>"
      ],
      "text/plain": [
       "       PRESSURE                TIME  OXYGEN_VALUE  TEMPERATURE_VALUE  \\\n",
       "0     -1.136492 2012-11-28 22:00:00    219.715591           1.352172   \n",
       "1     -1.087740 2012-11-28 22:00:00    219.631363           1.356397   \n",
       "2     -0.990236 2013-06-15 07:00:00    205.350891           0.623996   \n",
       "3     -0.990236 2013-06-15 08:00:00    205.339203           0.615219   \n",
       "4     -0.990236 2013-06-15 21:00:00    208.561523           0.608294   \n",
       "...         ...                 ...           ...                ...   \n",
       "62727 -0.405214 2010-05-21 10:00:00    210.213242           2.155880   \n",
       "62728 -0.405214 2010-05-21 11:00:00    210.027222           2.148033   \n",
       "62729 -0.405214 2010-05-21 12:00:00    209.906219           2.148043   \n",
       "62730 -0.405214 2016-04-01 05:00:00    161.294037           3.021161   \n",
       "62731 -0.405214 2016-04-01 06:00:00    162.787338           3.015061   \n",
       "\n",
       "       SALINITY_VALUE      Year      Yday       Hour  \n",
       "0           -0.001857  4.939304  1.420711  27.214206  \n",
       "1           -0.005733  4.939304  1.420711  27.214206  \n",
       "2            0.003899  5.058074 -0.169458   8.635104  \n",
       "3            0.007961  5.058074 -0.169458   9.873711  \n",
       "4            0.245240  5.058074 -0.169458  25.975600  \n",
       "...               ...       ...       ...        ...  \n",
       "62727       -0.816306  4.701763 -0.407507  12.350925  \n",
       "62728       -0.832553  4.701763 -0.407507  13.589532  \n",
       "62729       -0.863237  4.701763 -0.407507  14.828138  \n",
       "62730        0.506657  5.414386 -0.874084   6.157891  \n",
       "62731        0.503547  5.414386 -0.874084   7.396498  \n",
       "\n",
       "[62732 rows x 8 columns]"
      ]
     },
     "execution_count": 88,
     "metadata": {},
     "output_type": "execute_result"
    }
   ],
   "source": [
    "mooring_df"
   ]
  },
  {
   "cell_type": "markdown",
   "metadata": {},
   "source": [
    "## Prediction using ANN model"
   ]
  },
  {
   "cell_type": "code",
   "execution_count": 94,
   "metadata": {},
   "outputs": [],
   "source": [
    "mooring_df['DOX2_predictions'] = model.predict(mooring_df[['Year','Yday','Hour','PRESSURE','TEMPERATURE_VALUE','SALINITY_VALUE']])\n",
    "mooring_df['DOX2_error'] = mooring_df.OXYGEN_VALUE - mooring_df.DOX2_predictions"
   ]
  },
  {
   "cell_type": "code",
   "execution_count": 95,
   "metadata": {},
   "outputs": [
    {
     "data": {
      "text/html": [
       "<div>\n",
       "<style scoped>\n",
       "    .dataframe tbody tr th:only-of-type {\n",
       "        vertical-align: middle;\n",
       "    }\n",
       "\n",
       "    .dataframe tbody tr th {\n",
       "        vertical-align: top;\n",
       "    }\n",
       "\n",
       "    .dataframe thead th {\n",
       "        text-align: right;\n",
       "    }\n",
       "</style>\n",
       "<table border=\"1\" class=\"dataframe\">\n",
       "  <thead>\n",
       "    <tr style=\"text-align: right;\">\n",
       "      <th></th>\n",
       "      <th>PRESSURE</th>\n",
       "      <th>TIME</th>\n",
       "      <th>OXYGEN_VALUE</th>\n",
       "      <th>TEMPERATURE_VALUE</th>\n",
       "      <th>SALINITY_VALUE</th>\n",
       "      <th>Year</th>\n",
       "      <th>Yday</th>\n",
       "      <th>Hour</th>\n",
       "      <th>DOX2_predictions</th>\n",
       "      <th>DOX2_error</th>\n",
       "    </tr>\n",
       "  </thead>\n",
       "  <tbody>\n",
       "    <tr>\n",
       "      <th>0</th>\n",
       "      <td>-1.136492</td>\n",
       "      <td>2012-11-28 22:00:00</td>\n",
       "      <td>219.715591</td>\n",
       "      <td>1.352172</td>\n",
       "      <td>-0.001857</td>\n",
       "      <td>4.939304</td>\n",
       "      <td>1.420711</td>\n",
       "      <td>27.214206</td>\n",
       "      <td>191.269196</td>\n",
       "      <td>28.446396</td>\n",
       "    </tr>\n",
       "    <tr>\n",
       "      <th>1</th>\n",
       "      <td>-1.087740</td>\n",
       "      <td>2012-11-28 22:00:00</td>\n",
       "      <td>219.631363</td>\n",
       "      <td>1.356397</td>\n",
       "      <td>-0.005733</td>\n",
       "      <td>4.939304</td>\n",
       "      <td>1.420711</td>\n",
       "      <td>27.214206</td>\n",
       "      <td>190.373611</td>\n",
       "      <td>29.257751</td>\n",
       "    </tr>\n",
       "    <tr>\n",
       "      <th>2</th>\n",
       "      <td>-0.990236</td>\n",
       "      <td>2013-06-15 07:00:00</td>\n",
       "      <td>205.350891</td>\n",
       "      <td>0.623996</td>\n",
       "      <td>0.003899</td>\n",
       "      <td>5.058074</td>\n",
       "      <td>-0.169458</td>\n",
       "      <td>8.635104</td>\n",
       "      <td>112.922050</td>\n",
       "      <td>92.428841</td>\n",
       "    </tr>\n",
       "    <tr>\n",
       "      <th>3</th>\n",
       "      <td>-0.990236</td>\n",
       "      <td>2013-06-15 08:00:00</td>\n",
       "      <td>205.339203</td>\n",
       "      <td>0.615219</td>\n",
       "      <td>0.007961</td>\n",
       "      <td>5.058074</td>\n",
       "      <td>-0.169458</td>\n",
       "      <td>9.873711</td>\n",
       "      <td>117.785461</td>\n",
       "      <td>87.553741</td>\n",
       "    </tr>\n",
       "    <tr>\n",
       "      <th>4</th>\n",
       "      <td>-0.990236</td>\n",
       "      <td>2013-06-15 21:00:00</td>\n",
       "      <td>208.561523</td>\n",
       "      <td>0.608294</td>\n",
       "      <td>0.245240</td>\n",
       "      <td>5.058074</td>\n",
       "      <td>-0.169458</td>\n",
       "      <td>25.975600</td>\n",
       "      <td>246.425446</td>\n",
       "      <td>-37.863922</td>\n",
       "    </tr>\n",
       "    <tr>\n",
       "      <th>...</th>\n",
       "      <td>...</td>\n",
       "      <td>...</td>\n",
       "      <td>...</td>\n",
       "      <td>...</td>\n",
       "      <td>...</td>\n",
       "      <td>...</td>\n",
       "      <td>...</td>\n",
       "      <td>...</td>\n",
       "      <td>...</td>\n",
       "      <td>...</td>\n",
       "    </tr>\n",
       "    <tr>\n",
       "      <th>62727</th>\n",
       "      <td>-0.405214</td>\n",
       "      <td>2010-05-21 10:00:00</td>\n",
       "      <td>210.213242</td>\n",
       "      <td>2.155880</td>\n",
       "      <td>-0.816306</td>\n",
       "      <td>4.701763</td>\n",
       "      <td>-0.407507</td>\n",
       "      <td>12.350925</td>\n",
       "      <td>158.802689</td>\n",
       "      <td>51.410553</td>\n",
       "    </tr>\n",
       "    <tr>\n",
       "      <th>62728</th>\n",
       "      <td>-0.405214</td>\n",
       "      <td>2010-05-21 11:00:00</td>\n",
       "      <td>210.027222</td>\n",
       "      <td>2.148033</td>\n",
       "      <td>-0.832553</td>\n",
       "      <td>4.701763</td>\n",
       "      <td>-0.407507</td>\n",
       "      <td>13.589532</td>\n",
       "      <td>162.020569</td>\n",
       "      <td>48.006653</td>\n",
       "    </tr>\n",
       "    <tr>\n",
       "      <th>62729</th>\n",
       "      <td>-0.405214</td>\n",
       "      <td>2010-05-21 12:00:00</td>\n",
       "      <td>209.906219</td>\n",
       "      <td>2.148043</td>\n",
       "      <td>-0.863237</td>\n",
       "      <td>4.701763</td>\n",
       "      <td>-0.407507</td>\n",
       "      <td>14.828138</td>\n",
       "      <td>165.005417</td>\n",
       "      <td>44.900803</td>\n",
       "    </tr>\n",
       "    <tr>\n",
       "      <th>62730</th>\n",
       "      <td>-0.405214</td>\n",
       "      <td>2016-04-01 05:00:00</td>\n",
       "      <td>161.294037</td>\n",
       "      <td>3.021161</td>\n",
       "      <td>0.506657</td>\n",
       "      <td>5.414386</td>\n",
       "      <td>-0.874084</td>\n",
       "      <td>6.157891</td>\n",
       "      <td>147.765533</td>\n",
       "      <td>13.528503</td>\n",
       "    </tr>\n",
       "    <tr>\n",
       "      <th>62731</th>\n",
       "      <td>-0.405214</td>\n",
       "      <td>2016-04-01 06:00:00</td>\n",
       "      <td>162.787338</td>\n",
       "      <td>3.015061</td>\n",
       "      <td>0.503547</td>\n",
       "      <td>5.414386</td>\n",
       "      <td>-0.874084</td>\n",
       "      <td>7.396498</td>\n",
       "      <td>146.428604</td>\n",
       "      <td>16.358734</td>\n",
       "    </tr>\n",
       "  </tbody>\n",
       "</table>\n",
       "<p>62732 rows × 10 columns</p>\n",
       "</div>"
      ],
      "text/plain": [
       "       PRESSURE                TIME  OXYGEN_VALUE  TEMPERATURE_VALUE  \\\n",
       "0     -1.136492 2012-11-28 22:00:00    219.715591           1.352172   \n",
       "1     -1.087740 2012-11-28 22:00:00    219.631363           1.356397   \n",
       "2     -0.990236 2013-06-15 07:00:00    205.350891           0.623996   \n",
       "3     -0.990236 2013-06-15 08:00:00    205.339203           0.615219   \n",
       "4     -0.990236 2013-06-15 21:00:00    208.561523           0.608294   \n",
       "...         ...                 ...           ...                ...   \n",
       "62727 -0.405214 2010-05-21 10:00:00    210.213242           2.155880   \n",
       "62728 -0.405214 2010-05-21 11:00:00    210.027222           2.148033   \n",
       "62729 -0.405214 2010-05-21 12:00:00    209.906219           2.148043   \n",
       "62730 -0.405214 2016-04-01 05:00:00    161.294037           3.021161   \n",
       "62731 -0.405214 2016-04-01 06:00:00    162.787338           3.015061   \n",
       "\n",
       "       SALINITY_VALUE      Year      Yday       Hour  DOX2_predictions  \\\n",
       "0           -0.001857  4.939304  1.420711  27.214206        191.269196   \n",
       "1           -0.005733  4.939304  1.420711  27.214206        190.373611   \n",
       "2            0.003899  5.058074 -0.169458   8.635104        112.922050   \n",
       "3            0.007961  5.058074 -0.169458   9.873711        117.785461   \n",
       "4            0.245240  5.058074 -0.169458  25.975600        246.425446   \n",
       "...               ...       ...       ...        ...               ...   \n",
       "62727       -0.816306  4.701763 -0.407507  12.350925        158.802689   \n",
       "62728       -0.832553  4.701763 -0.407507  13.589532        162.020569   \n",
       "62729       -0.863237  4.701763 -0.407507  14.828138        165.005417   \n",
       "62730        0.506657  5.414386 -0.874084   6.157891        147.765533   \n",
       "62731        0.503547  5.414386 -0.874084   7.396498        146.428604   \n",
       "\n",
       "       DOX2_error  \n",
       "0       28.446396  \n",
       "1       29.257751  \n",
       "2       92.428841  \n",
       "3       87.553741  \n",
       "4      -37.863922  \n",
       "...           ...  \n",
       "62727   51.410553  \n",
       "62728   48.006653  \n",
       "62729   44.900803  \n",
       "62730   13.528503  \n",
       "62731   16.358734  \n",
       "\n",
       "[62732 rows x 10 columns]"
      ]
     },
     "execution_count": 95,
     "metadata": {},
     "output_type": "execute_result"
    }
   ],
   "source": [
    "mooring_df"
   ]
  },
  {
   "cell_type": "code",
   "execution_count": 96,
   "metadata": {},
   "outputs": [
    {
     "data": {
      "text/plain": [
       "(array([  147.,   466.,   763.,  2342.,  2929.,  7256., 15003., 18591.,\n",
       "        13817.,  1418.]),\n",
       " array([-304.86722 , -256.50882 , -208.15042 , -159.79202 , -111.43362 ,\n",
       "         -63.07522 ,  -14.716818,   33.641582,   81.999985,  130.35838 ,\n",
       "         178.71678 ], dtype=float32),\n",
       " <a list of 10 Patch objects>)"
      ]
     },
     "execution_count": 96,
     "metadata": {},
     "output_type": "execute_result"
    },
    {
     "data": {
      "image/png": "[encoded data removed]",
      "text/plain": [
       "<Figure size 432x288 with 1 Axes>"
      ]
     },
     "metadata": {
      "needs_background": "light"
     },
     "output_type": "display_data"
    }
   ],
   "source": [
    "plt.hist(mooring_df['DOX2_error'])"
   ]
  },
  {
   "cell_type": "code",
   "execution_count": 97,
   "metadata": {},
   "outputs": [],
   "source": [
    "mooring_df.TEMPERATURE_VALUE =(mooring_df.TEMPERATURE_VALUE * oxygen_stats.loc['TEMPERATURE_VALUE','std'])+oxygen_stats.loc['TEMPERATURE_VALUE','mean']\n",
    "mooring_df.SALINITY_VALUE =(mooring_df.SALINITY_VALUE * oxygen_stats.loc['SALINITY_VALUE','std'])+oxygen_stats.loc['SALINITY_VALUE','mean']\n",
    "# mooring_df.PRESSURE =(mooring_df.PRESSURE * oxygen_stats.loc['PRESSURE','std'])+oxygen_stats.loc['PRESSURE','mean']\n",
    "mooring_df.Year =(mooring_df.Year * oxygen_stats.loc['Year','std'])+oxygen_stats.loc['Year','mean']\n",
    "mooring_df.Yday =(mooring_df.Yday * oxygen_stats.loc['Yday','std'])+oxygen_stats.loc['Yday','mean']\n",
    "mooring_df.Hour =(mooring_df.Hour * oxygen_stats.loc['Hour','std'])+oxygen_stats.loc['Hour','mean']"
   ]
  },
  {
   "cell_type": "code",
   "execution_count": 98,
   "metadata": {},
   "outputs": [
    {
     "data": {
      "text/html": [
       "<div>\n",
       "<style scoped>\n",
       "    .dataframe tbody tr th:only-of-type {\n",
       "        vertical-align: middle;\n",
       "    }\n",
       "\n",
       "    .dataframe tbody tr th {\n",
       "        vertical-align: top;\n",
       "    }\n",
       "\n",
       "    .dataframe thead th {\n",
       "        text-align: right;\n",
       "    }\n",
       "</style>\n",
       "<table border=\"1\" class=\"dataframe\">\n",
       "  <thead>\n",
       "    <tr style=\"text-align: right;\">\n",
       "      <th></th>\n",
       "      <th>PRESSURE</th>\n",
       "      <th>TIME</th>\n",
       "      <th>OXYGEN_VALUE</th>\n",
       "      <th>TEMPERATURE_VALUE</th>\n",
       "      <th>SALINITY_VALUE</th>\n",
       "      <th>Year</th>\n",
       "      <th>Yday</th>\n",
       "      <th>Hour</th>\n",
       "      <th>DOX2_predictions</th>\n",
       "      <th>DOX2_error</th>\n",
       "    </tr>\n",
       "  </thead>\n",
       "  <tbody>\n",
       "    <tr>\n",
       "      <th>0</th>\n",
       "      <td>-1.136492</td>\n",
       "      <td>2012-11-28 22:00:00</td>\n",
       "      <td>219.715591</td>\n",
       "      <td>20.759911</td>\n",
       "      <td>35.461388</td>\n",
       "      <td>2012.0</td>\n",
       "      <td>333.0</td>\n",
       "      <td>22.0</td>\n",
       "      <td>191.269196</td>\n",
       "      <td>28.446396</td>\n",
       "    </tr>\n",
       "    <tr>\n",
       "      <th>1</th>\n",
       "      <td>-1.087740</td>\n",
       "      <td>2012-11-28 22:00:00</td>\n",
       "      <td>219.631363</td>\n",
       "      <td>20.770100</td>\n",
       "      <td>35.460751</td>\n",
       "      <td>2012.0</td>\n",
       "      <td>333.0</td>\n",
       "      <td>22.0</td>\n",
       "      <td>190.373611</td>\n",
       "      <td>29.257751</td>\n",
       "    </tr>\n",
       "    <tr>\n",
       "      <th>2</th>\n",
       "      <td>-0.990236</td>\n",
       "      <td>2013-06-15 07:00:00</td>\n",
       "      <td>205.350891</td>\n",
       "      <td>19.003767</td>\n",
       "      <td>35.462334</td>\n",
       "      <td>2013.0</td>\n",
       "      <td>166.0</td>\n",
       "      <td>7.0</td>\n",
       "      <td>112.922050</td>\n",
       "      <td>92.428841</td>\n",
       "    </tr>\n",
       "    <tr>\n",
       "      <th>3</th>\n",
       "      <td>-0.990236</td>\n",
       "      <td>2013-06-15 08:00:00</td>\n",
       "      <td>205.339203</td>\n",
       "      <td>18.982601</td>\n",
       "      <td>35.463001</td>\n",
       "      <td>2013.0</td>\n",
       "      <td>166.0</td>\n",
       "      <td>8.0</td>\n",
       "      <td>117.785461</td>\n",
       "      <td>87.553741</td>\n",
       "    </tr>\n",
       "    <tr>\n",
       "      <th>4</th>\n",
       "      <td>-0.990236</td>\n",
       "      <td>2013-06-15 21:00:00</td>\n",
       "      <td>208.561523</td>\n",
       "      <td>18.965900</td>\n",
       "      <td>35.501999</td>\n",
       "      <td>2013.0</td>\n",
       "      <td>166.0</td>\n",
       "      <td>21.0</td>\n",
       "      <td>246.425446</td>\n",
       "      <td>-37.863922</td>\n",
       "    </tr>\n",
       "    <tr>\n",
       "      <th>...</th>\n",
       "      <td>...</td>\n",
       "      <td>...</td>\n",
       "      <td>...</td>\n",
       "      <td>...</td>\n",
       "      <td>...</td>\n",
       "      <td>...</td>\n",
       "      <td>...</td>\n",
       "      <td>...</td>\n",
       "      <td>...</td>\n",
       "      <td>...</td>\n",
       "    </tr>\n",
       "    <tr>\n",
       "      <th>62727</th>\n",
       "      <td>-0.405214</td>\n",
       "      <td>2010-05-21 10:00:00</td>\n",
       "      <td>210.213242</td>\n",
       "      <td>22.698212</td>\n",
       "      <td>35.327530</td>\n",
       "      <td>2010.0</td>\n",
       "      <td>141.0</td>\n",
       "      <td>10.0</td>\n",
       "      <td>158.802689</td>\n",
       "      <td>51.410553</td>\n",
       "    </tr>\n",
       "    <tr>\n",
       "      <th>62728</th>\n",
       "      <td>-0.405214</td>\n",
       "      <td>2010-05-21 11:00:00</td>\n",
       "      <td>210.027222</td>\n",
       "      <td>22.679289</td>\n",
       "      <td>35.324860</td>\n",
       "      <td>2010.0</td>\n",
       "      <td>141.0</td>\n",
       "      <td>11.0</td>\n",
       "      <td>162.020569</td>\n",
       "      <td>48.006653</td>\n",
       "    </tr>\n",
       "    <tr>\n",
       "      <th>62729</th>\n",
       "      <td>-0.405214</td>\n",
       "      <td>2010-05-21 12:00:00</td>\n",
       "      <td>209.906219</td>\n",
       "      <td>22.679312</td>\n",
       "      <td>35.319817</td>\n",
       "      <td>2010.0</td>\n",
       "      <td>141.0</td>\n",
       "      <td>12.0</td>\n",
       "      <td>165.005417</td>\n",
       "      <td>44.900803</td>\n",
       "    </tr>\n",
       "    <tr>\n",
       "      <th>62730</th>\n",
       "      <td>-0.405214</td>\n",
       "      <td>2016-04-01 05:00:00</td>\n",
       "      <td>161.294037</td>\n",
       "      <td>24.785011</td>\n",
       "      <td>35.544964</td>\n",
       "      <td>2016.0</td>\n",
       "      <td>92.0</td>\n",
       "      <td>5.0</td>\n",
       "      <td>147.765533</td>\n",
       "      <td>13.528503</td>\n",
       "    </tr>\n",
       "    <tr>\n",
       "      <th>62731</th>\n",
       "      <td>-0.405214</td>\n",
       "      <td>2016-04-01 06:00:00</td>\n",
       "      <td>162.787338</td>\n",
       "      <td>24.770300</td>\n",
       "      <td>35.544453</td>\n",
       "      <td>2016.0</td>\n",
       "      <td>92.0</td>\n",
       "      <td>6.0</td>\n",
       "      <td>146.428604</td>\n",
       "      <td>16.358734</td>\n",
       "    </tr>\n",
       "  </tbody>\n",
       "</table>\n",
       "<p>62732 rows × 10 columns</p>\n",
       "</div>"
      ],
      "text/plain": [
       "       PRESSURE                TIME  OXYGEN_VALUE  TEMPERATURE_VALUE  \\\n",
       "0     -1.136492 2012-11-28 22:00:00    219.715591          20.759911   \n",
       "1     -1.087740 2012-11-28 22:00:00    219.631363          20.770100   \n",
       "2     -0.990236 2013-06-15 07:00:00    205.350891          19.003767   \n",
       "3     -0.990236 2013-06-15 08:00:00    205.339203          18.982601   \n",
       "4     -0.990236 2013-06-15 21:00:00    208.561523          18.965900   \n",
       "...         ...                 ...           ...                ...   \n",
       "62727 -0.405214 2010-05-21 10:00:00    210.213242          22.698212   \n",
       "62728 -0.405214 2010-05-21 11:00:00    210.027222          22.679289   \n",
       "62729 -0.405214 2010-05-21 12:00:00    209.906219          22.679312   \n",
       "62730 -0.405214 2016-04-01 05:00:00    161.294037          24.785011   \n",
       "62731 -0.405214 2016-04-01 06:00:00    162.787338          24.770300   \n",
       "\n",
       "       SALINITY_VALUE    Year   Yday  Hour  DOX2_predictions  DOX2_error  \n",
       "0           35.461388  2012.0  333.0  22.0        191.269196   28.446396  \n",
       "1           35.460751  2012.0  333.0  22.0        190.373611   29.257751  \n",
       "2           35.462334  2013.0  166.0   7.0        112.922050   92.428841  \n",
       "3           35.463001  2013.0  166.0   8.0        117.785461   87.553741  \n",
       "4           35.501999  2013.0  166.0  21.0        246.425446  -37.863922  \n",
       "...               ...     ...    ...   ...               ...         ...  \n",
       "62727       35.327530  2010.0  141.0  10.0        158.802689   51.410553  \n",
       "62728       35.324860  2010.0  141.0  11.0        162.020569   48.006653  \n",
       "62729       35.319817  2010.0  141.0  12.0        165.005417   44.900803  \n",
       "62730       35.544964  2016.0   92.0   5.0        147.765533   13.528503  \n",
       "62731       35.544453  2016.0   92.0   6.0        146.428604   16.358734  \n",
       "\n",
       "[62732 rows x 10 columns]"
      ]
     },
     "execution_count": 98,
     "metadata": {},
     "output_type": "execute_result"
    }
   ],
   "source": [
    "mooring_df"
   ]
  },
  {
   "cell_type": "code",
   "execution_count": 98,
   "metadata": {},
   "outputs": [
    {
     "data": {
      "text/plain": [
       "<matplotlib.axes._subplots.AxesSubplot at 0x2af1a4e2e198>"
      ]
     },
     "execution_count": 98,
     "metadata": {},
     "output_type": "execute_result"
    },
    {
     "data": {
      "image/png": "[encoded data removed]",
      "text/plain": [
       "<Figure size 432x288 with 2 Axes>"
      ]
     },
     "metadata": {
      "needs_background": "light"
     },
     "output_type": "display_data"
    }
   ],
   "source": [
    "mooring_df.plot.scatter('TIME','OXYGEN_VALUE',c='PRESSURE')"
   ]
  },
  {
   "cell_type": "code",
   "execution_count": 99,
   "metadata": {},
   "outputs": [
    {
     "data": {
      "text/html": [
       "<div>\n",
       "<style scoped>\n",
       "    .dataframe tbody tr th:only-of-type {\n",
       "        vertical-align: middle;\n",
       "    }\n",
       "\n",
       "    .dataframe tbody tr th {\n",
       "        vertical-align: top;\n",
       "    }\n",
       "\n",
       "    .dataframe thead th {\n",
       "        text-align: right;\n",
       "    }\n",
       "</style>\n",
       "<table border=\"1\" class=\"dataframe\">\n",
       "  <thead>\n",
       "    <tr style=\"text-align: right;\">\n",
       "      <th></th>\n",
       "      <th>TIME</th>\n",
       "      <th>OXYGEN_VALUE</th>\n",
       "      <th>TEMPERATURE_VALUE</th>\n",
       "      <th>SALINITY_VALUE</th>\n",
       "      <th>Year</th>\n",
       "      <th>Yday</th>\n",
       "      <th>Hour</th>\n",
       "      <th>DOX2_predictions</th>\n",
       "      <th>DOX2_error</th>\n",
       "    </tr>\n",
       "    <tr>\n",
       "      <th>PRESSURE</th>\n",
       "      <th></th>\n",
       "      <th></th>\n",
       "      <th></th>\n",
       "      <th></th>\n",
       "      <th></th>\n",
       "      <th></th>\n",
       "      <th></th>\n",
       "      <th></th>\n",
       "      <th></th>\n",
       "    </tr>\n",
       "  </thead>\n",
       "  <tbody>\n",
       "    <tr>\n",
       "      <th>1.0</th>\n",
       "      <td>1</td>\n",
       "      <td>1</td>\n",
       "      <td>1</td>\n",
       "      <td>1</td>\n",
       "      <td>1</td>\n",
       "      <td>1</td>\n",
       "      <td>1</td>\n",
       "      <td>1</td>\n",
       "      <td>1</td>\n",
       "    </tr>\n",
       "    <tr>\n",
       "      <th>3.0</th>\n",
       "      <td>1</td>\n",
       "      <td>1</td>\n",
       "      <td>1</td>\n",
       "      <td>1</td>\n",
       "      <td>1</td>\n",
       "      <td>1</td>\n",
       "      <td>1</td>\n",
       "      <td>1</td>\n",
       "      <td>1</td>\n",
       "    </tr>\n",
       "    <tr>\n",
       "      <th>7.0</th>\n",
       "      <td>189</td>\n",
       "      <td>189</td>\n",
       "      <td>189</td>\n",
       "      <td>189</td>\n",
       "      <td>189</td>\n",
       "      <td>189</td>\n",
       "      <td>189</td>\n",
       "      <td>189</td>\n",
       "      <td>189</td>\n",
       "    </tr>\n",
       "    <tr>\n",
       "      <th>9.0</th>\n",
       "      <td>3047</td>\n",
       "      <td>3047</td>\n",
       "      <td>3047</td>\n",
       "      <td>3047</td>\n",
       "      <td>3047</td>\n",
       "      <td>3047</td>\n",
       "      <td>3047</td>\n",
       "      <td>3047</td>\n",
       "      <td>3047</td>\n",
       "    </tr>\n",
       "    <tr>\n",
       "      <th>11.0</th>\n",
       "      <td>3382</td>\n",
       "      <td>3382</td>\n",
       "      <td>3382</td>\n",
       "      <td>3382</td>\n",
       "      <td>3382</td>\n",
       "      <td>3382</td>\n",
       "      <td>3382</td>\n",
       "      <td>3382</td>\n",
       "      <td>3382</td>\n",
       "    </tr>\n",
       "    <tr>\n",
       "      <th>13.0</th>\n",
       "      <td>8405</td>\n",
       "      <td>8405</td>\n",
       "      <td>8405</td>\n",
       "      <td>8405</td>\n",
       "      <td>8405</td>\n",
       "      <td>8405</td>\n",
       "      <td>8405</td>\n",
       "      <td>8405</td>\n",
       "      <td>8405</td>\n",
       "    </tr>\n",
       "    <tr>\n",
       "      <th>15.0</th>\n",
       "      <td>26249</td>\n",
       "      <td>26249</td>\n",
       "      <td>26249</td>\n",
       "      <td>26249</td>\n",
       "      <td>26249</td>\n",
       "      <td>26249</td>\n",
       "      <td>26249</td>\n",
       "      <td>26249</td>\n",
       "      <td>26249</td>\n",
       "    </tr>\n",
       "    <tr>\n",
       "      <th>17.0</th>\n",
       "      <td>9507</td>\n",
       "      <td>9507</td>\n",
       "      <td>9507</td>\n",
       "      <td>9507</td>\n",
       "      <td>9507</td>\n",
       "      <td>9507</td>\n",
       "      <td>9507</td>\n",
       "      <td>9507</td>\n",
       "      <td>9507</td>\n",
       "    </tr>\n",
       "    <tr>\n",
       "      <th>19.0</th>\n",
       "      <td>1071</td>\n",
       "      <td>1071</td>\n",
       "      <td>1071</td>\n",
       "      <td>1071</td>\n",
       "      <td>1071</td>\n",
       "      <td>1071</td>\n",
       "      <td>1071</td>\n",
       "      <td>1071</td>\n",
       "      <td>1071</td>\n",
       "    </tr>\n",
       "    <tr>\n",
       "      <th>21.0</th>\n",
       "      <td>309</td>\n",
       "      <td>309</td>\n",
       "      <td>309</td>\n",
       "      <td>309</td>\n",
       "      <td>309</td>\n",
       "      <td>309</td>\n",
       "      <td>309</td>\n",
       "      <td>309</td>\n",
       "      <td>309</td>\n",
       "    </tr>\n",
       "    <tr>\n",
       "      <th>23.0</th>\n",
       "      <td>5164</td>\n",
       "      <td>5164</td>\n",
       "      <td>5164</td>\n",
       "      <td>5164</td>\n",
       "      <td>5164</td>\n",
       "      <td>5164</td>\n",
       "      <td>5164</td>\n",
       "      <td>5164</td>\n",
       "      <td>5164</td>\n",
       "    </tr>\n",
       "    <tr>\n",
       "      <th>25.0</th>\n",
       "      <td>5045</td>\n",
       "      <td>5045</td>\n",
       "      <td>5045</td>\n",
       "      <td>5045</td>\n",
       "      <td>5045</td>\n",
       "      <td>5045</td>\n",
       "      <td>5045</td>\n",
       "      <td>5045</td>\n",
       "      <td>5045</td>\n",
       "    </tr>\n",
       "    <tr>\n",
       "      <th>27.0</th>\n",
       "      <td>301</td>\n",
       "      <td>301</td>\n",
       "      <td>301</td>\n",
       "      <td>301</td>\n",
       "      <td>301</td>\n",
       "      <td>301</td>\n",
       "      <td>301</td>\n",
       "      <td>301</td>\n",
       "      <td>301</td>\n",
       "    </tr>\n",
       "    <tr>\n",
       "      <th>29.0</th>\n",
       "      <td>53</td>\n",
       "      <td>53</td>\n",
       "      <td>53</td>\n",
       "      <td>53</td>\n",
       "      <td>53</td>\n",
       "      <td>53</td>\n",
       "      <td>53</td>\n",
       "      <td>53</td>\n",
       "      <td>53</td>\n",
       "    </tr>\n",
       "    <tr>\n",
       "      <th>31.0</th>\n",
       "      <td>8</td>\n",
       "      <td>8</td>\n",
       "      <td>8</td>\n",
       "      <td>8</td>\n",
       "      <td>8</td>\n",
       "      <td>8</td>\n",
       "      <td>8</td>\n",
       "      <td>8</td>\n",
       "      <td>8</td>\n",
       "    </tr>\n",
       "  </tbody>\n",
       "</table>\n",
       "</div>"
      ],
      "text/plain": [
       "           TIME  OXYGEN_VALUE  TEMPERATURE_VALUE  SALINITY_VALUE   Year  \\\n",
       "PRESSURE                                                                  \n",
       "1.0           1             1                  1               1      1   \n",
       "3.0           1             1                  1               1      1   \n",
       "7.0         189           189                189             189    189   \n",
       "9.0        3047          3047               3047            3047   3047   \n",
       "11.0       3382          3382               3382            3382   3382   \n",
       "13.0       8405          8405               8405            8405   8405   \n",
       "15.0      26249         26249              26249           26249  26249   \n",
       "17.0       9507          9507               9507            9507   9507   \n",
       "19.0       1071          1071               1071            1071   1071   \n",
       "21.0        309           309                309             309    309   \n",
       "23.0       5164          5164               5164            5164   5164   \n",
       "25.0       5045          5045               5045            5045   5045   \n",
       "27.0        301           301                301             301    301   \n",
       "29.0         53            53                 53              53     53   \n",
       "31.0          8             8                  8               8      8   \n",
       "\n",
       "           Yday   Hour  DOX2_predictions  DOX2_error  \n",
       "PRESSURE                                              \n",
       "1.0           1      1                 1           1  \n",
       "3.0           1      1                 1           1  \n",
       "7.0         189    189               189         189  \n",
       "9.0        3047   3047              3047        3047  \n",
       "11.0       3382   3382              3382        3382  \n",
       "13.0       8405   8405              8405        8405  \n",
       "15.0      26249  26249             26249       26249  \n",
       "17.0       9507   9507              9507        9507  \n",
       "19.0       1071   1071              1071        1071  \n",
       "21.0        309    309               309         309  \n",
       "23.0       5164   5164              5164        5164  \n",
       "25.0       5045   5045              5045        5045  \n",
       "27.0        301    301               301         301  \n",
       "29.0         53     53                53          53  \n",
       "31.0          8      8                 8           8  "
      ]
     },
     "execution_count": 99,
     "metadata": {},
     "output_type": "execute_result"
    }
   ],
   "source": [
    "mooring_df.groupby('PRESSURE').count()"
   ]
  },
  {
   "cell_type": "code",
   "execution_count": 138,
   "metadata": {},
   "outputs": [],
   "source": [
    "plot_df = mooring_df.where((mooring_df.PRESSURE>13) & (mooring_df.PRESSURE<16)).dropna()\n",
    "# mooring_df.where((mooring_df.PRESSURE==15.0)).dropna()"
   ]
  },
  {
   "cell_type": "code",
   "execution_count": 139,
   "metadata": {},
   "outputs": [
    {
     "data": {
      "text/html": [
       "<div>\n",
       "<style scoped>\n",
       "    .dataframe tbody tr th:only-of-type {\n",
       "        vertical-align: middle;\n",
       "    }\n",
       "\n",
       "    .dataframe tbody tr th {\n",
       "        vertical-align: top;\n",
       "    }\n",
       "\n",
       "    .dataframe thead th {\n",
       "        text-align: right;\n",
       "    }\n",
       "</style>\n",
       "<table border=\"1\" class=\"dataframe\">\n",
       "  <thead>\n",
       "    <tr style=\"text-align: right;\">\n",
       "      <th></th>\n",
       "      <th>PRESSURE</th>\n",
       "      <th>TIME</th>\n",
       "      <th>OXYGEN_VALUE</th>\n",
       "      <th>TEMPERATURE_VALUE</th>\n",
       "      <th>SALINITY_VALUE</th>\n",
       "      <th>Year</th>\n",
       "      <th>Yday</th>\n",
       "      <th>Hour</th>\n",
       "      <th>DOX2_predictions</th>\n",
       "      <th>DOX2_error</th>\n",
       "    </tr>\n",
       "  </thead>\n",
       "  <tbody>\n",
       "    <tr>\n",
       "      <th>15025</th>\n",
       "      <td>15.0</td>\n",
       "      <td>2011-03-30 02:00:00</td>\n",
       "      <td>207.406555</td>\n",
       "      <td>23.874733</td>\n",
       "      <td>35.421001</td>\n",
       "      <td>2011.0</td>\n",
       "      <td>89.0</td>\n",
       "      <td>2.0</td>\n",
       "      <td>177.838867</td>\n",
       "      <td>29.567688</td>\n",
       "    </tr>\n",
       "    <tr>\n",
       "      <th>15026</th>\n",
       "      <td>15.0</td>\n",
       "      <td>2011-03-30 23:00:00</td>\n",
       "      <td>205.592316</td>\n",
       "      <td>24.032101</td>\n",
       "      <td>35.394669</td>\n",
       "      <td>2011.0</td>\n",
       "      <td>89.0</td>\n",
       "      <td>23.0</td>\n",
       "      <td>234.460815</td>\n",
       "      <td>-28.868500</td>\n",
       "    </tr>\n",
       "    <tr>\n",
       "      <th>15027</th>\n",
       "      <td>15.0</td>\n",
       "      <td>2011-03-31 00:00:00</td>\n",
       "      <td>205.822815</td>\n",
       "      <td>23.990505</td>\n",
       "      <td>35.395649</td>\n",
       "      <td>2011.0</td>\n",
       "      <td>90.0</td>\n",
       "      <td>0.0</td>\n",
       "      <td>301.231262</td>\n",
       "      <td>-95.408447</td>\n",
       "    </tr>\n",
       "    <tr>\n",
       "      <th>15028</th>\n",
       "      <td>15.0</td>\n",
       "      <td>2011-03-31 01:00:00</td>\n",
       "      <td>206.022751</td>\n",
       "      <td>23.955677</td>\n",
       "      <td>35.400547</td>\n",
       "      <td>2011.0</td>\n",
       "      <td>90.0</td>\n",
       "      <td>1.0</td>\n",
       "      <td>221.052155</td>\n",
       "      <td>-15.029404</td>\n",
       "    </tr>\n",
       "    <tr>\n",
       "      <th>15029</th>\n",
       "      <td>15.0</td>\n",
       "      <td>2011-03-31 02:00:00</td>\n",
       "      <td>206.452667</td>\n",
       "      <td>23.911592</td>\n",
       "      <td>35.403381</td>\n",
       "      <td>2011.0</td>\n",
       "      <td>90.0</td>\n",
       "      <td>2.0</td>\n",
       "      <td>178.483475</td>\n",
       "      <td>27.969193</td>\n",
       "    </tr>\n",
       "    <tr>\n",
       "      <th>...</th>\n",
       "      <td>...</td>\n",
       "      <td>...</td>\n",
       "      <td>...</td>\n",
       "      <td>...</td>\n",
       "      <td>...</td>\n",
       "      <td>...</td>\n",
       "      <td>...</td>\n",
       "      <td>...</td>\n",
       "      <td>...</td>\n",
       "      <td>...</td>\n",
       "    </tr>\n",
       "    <tr>\n",
       "      <th>41269</th>\n",
       "      <td>15.0</td>\n",
       "      <td>2017-08-27 13:00:00</td>\n",
       "      <td>209.932739</td>\n",
       "      <td>18.792896</td>\n",
       "      <td>35.667912</td>\n",
       "      <td>2017.0</td>\n",
       "      <td>239.0</td>\n",
       "      <td>13.0</td>\n",
       "      <td>145.746658</td>\n",
       "      <td>64.186081</td>\n",
       "    </tr>\n",
       "    <tr>\n",
       "      <th>41270</th>\n",
       "      <td>15.0</td>\n",
       "      <td>2017-08-27 14:00:00</td>\n",
       "      <td>210.159729</td>\n",
       "      <td>18.775326</td>\n",
       "      <td>35.667591</td>\n",
       "      <td>2017.0</td>\n",
       "      <td>239.0</td>\n",
       "      <td>14.0</td>\n",
       "      <td>154.523331</td>\n",
       "      <td>55.636398</td>\n",
       "    </tr>\n",
       "    <tr>\n",
       "      <th>41271</th>\n",
       "      <td>15.0</td>\n",
       "      <td>2017-08-27 15:00:00</td>\n",
       "      <td>210.691208</td>\n",
       "      <td>18.669523</td>\n",
       "      <td>35.669529</td>\n",
       "      <td>2017.0</td>\n",
       "      <td>239.0</td>\n",
       "      <td>15.0</td>\n",
       "      <td>162.241272</td>\n",
       "      <td>48.449936</td>\n",
       "    </tr>\n",
       "    <tr>\n",
       "      <th>41272</th>\n",
       "      <td>15.0</td>\n",
       "      <td>2017-08-27 16:00:00</td>\n",
       "      <td>211.089798</td>\n",
       "      <td>18.511110</td>\n",
       "      <td>35.671211</td>\n",
       "      <td>2017.0</td>\n",
       "      <td>239.0</td>\n",
       "      <td>16.0</td>\n",
       "      <td>169.491867</td>\n",
       "      <td>41.597931</td>\n",
       "    </tr>\n",
       "    <tr>\n",
       "      <th>41273</th>\n",
       "      <td>15.0</td>\n",
       "      <td>2017-08-27 17:00:00</td>\n",
       "      <td>211.420609</td>\n",
       "      <td>18.394382</td>\n",
       "      <td>35.671417</td>\n",
       "      <td>2017.0</td>\n",
       "      <td>239.0</td>\n",
       "      <td>17.0</td>\n",
       "      <td>177.284485</td>\n",
       "      <td>34.136124</td>\n",
       "    </tr>\n",
       "  </tbody>\n",
       "</table>\n",
       "<p>26249 rows × 10 columns</p>\n",
       "</div>"
      ],
      "text/plain": [
       "       PRESSURE                TIME  OXYGEN_VALUE  TEMPERATURE_VALUE  \\\n",
       "15025      15.0 2011-03-30 02:00:00    207.406555          23.874733   \n",
       "15026      15.0 2011-03-30 23:00:00    205.592316          24.032101   \n",
       "15027      15.0 2011-03-31 00:00:00    205.822815          23.990505   \n",
       "15028      15.0 2011-03-31 01:00:00    206.022751          23.955677   \n",
       "15029      15.0 2011-03-31 02:00:00    206.452667          23.911592   \n",
       "...         ...                 ...           ...                ...   \n",
       "41269      15.0 2017-08-27 13:00:00    209.932739          18.792896   \n",
       "41270      15.0 2017-08-27 14:00:00    210.159729          18.775326   \n",
       "41271      15.0 2017-08-27 15:00:00    210.691208          18.669523   \n",
       "41272      15.0 2017-08-27 16:00:00    211.089798          18.511110   \n",
       "41273      15.0 2017-08-27 17:00:00    211.420609          18.394382   \n",
       "\n",
       "       SALINITY_VALUE    Year   Yday  Hour  DOX2_predictions  DOX2_error  \n",
       "15025       35.421001  2011.0   89.0   2.0        177.838867   29.567688  \n",
       "15026       35.394669  2011.0   89.0  23.0        234.460815  -28.868500  \n",
       "15027       35.395649  2011.0   90.0   0.0        301.231262  -95.408447  \n",
       "15028       35.400547  2011.0   90.0   1.0        221.052155  -15.029404  \n",
       "15029       35.403381  2011.0   90.0   2.0        178.483475   27.969193  \n",
       "...               ...     ...    ...   ...               ...         ...  \n",
       "41269       35.667912  2017.0  239.0  13.0        145.746658   64.186081  \n",
       "41270       35.667591  2017.0  239.0  14.0        154.523331   55.636398  \n",
       "41271       35.669529  2017.0  239.0  15.0        162.241272   48.449936  \n",
       "41272       35.671211  2017.0  239.0  16.0        169.491867   41.597931  \n",
       "41273       35.671417  2017.0  239.0  17.0        177.284485   34.136124  \n",
       "\n",
       "[26249 rows x 10 columns]"
      ]
     },
     "execution_count": 139,
     "metadata": {},
     "output_type": "execute_result"
    }
   ],
   "source": [
    "plot_df"
   ]
  },
  {
   "cell_type": "code",
   "execution_count": 128,
   "metadata": {},
   "outputs": [
    {
     "data": {
      "text/plain": [
       "<matplotlib.axes._subplots.AxesSubplot at 0x2af1aadffef0>"
      ]
     },
     "execution_count": 128,
     "metadata": {},
     "output_type": "execute_result"
    },
    {
     "data": {
      "image/png": "[encoded data removed]",
      "text/plain": [
       "<Figure size 432x288 with 1 Axes>"
      ]
     },
     "metadata": {
      "needs_background": "light"
     },
     "output_type": "display_data"
    },
    {
     "data": {
      "image/png": "[encoded data removed]",
      "text/plain": [
       "<Figure size 432x288 with 1 Axes>"
      ]
     },
     "metadata": {
      "needs_background": "light"
     },
     "output_type": "display_data"
    }
   ],
   "source": [
    "plot_df.plot.scatter('TIME','OXYGEN_VALUE',s=0.1)\n",
    "plot_df.plot.scatter('TIME', 'DOX2_error',c='r',s=0.1)"
   ]
  },
  {
   "cell_type": "code",
   "execution_count": 159,
   "metadata": {},
   "outputs": [],
   "source": [
    "temp = plot_df.where((mooring_df.DOX2_error < 20) & (mooring_df.DOX2_error > -20)).dropna()"
   ]
  },
  {
   "cell_type": "code",
   "execution_count": 160,
   "metadata": {},
   "outputs": [
    {
     "data": {
      "text/html": [
       "<div>\n",
       "<style scoped>\n",
       "    .dataframe tbody tr th:only-of-type {\n",
       "        vertical-align: middle;\n",
       "    }\n",
       "\n",
       "    .dataframe tbody tr th {\n",
       "        vertical-align: top;\n",
       "    }\n",
       "\n",
       "    .dataframe thead th {\n",
       "        text-align: right;\n",
       "    }\n",
       "</style>\n",
       "<table border=\"1\" class=\"dataframe\">\n",
       "  <thead>\n",
       "    <tr style=\"text-align: right;\">\n",
       "      <th></th>\n",
       "      <th>PRESSURE</th>\n",
       "      <th>TIME</th>\n",
       "      <th>OXYGEN_VALUE</th>\n",
       "      <th>TEMPERATURE_VALUE</th>\n",
       "      <th>SALINITY_VALUE</th>\n",
       "      <th>Year</th>\n",
       "      <th>Yday</th>\n",
       "      <th>Hour</th>\n",
       "      <th>DOX2_predictions</th>\n",
       "      <th>DOX2_error</th>\n",
       "    </tr>\n",
       "  </thead>\n",
       "  <tbody>\n",
       "    <tr>\n",
       "      <th>15028</th>\n",
       "      <td>15.0</td>\n",
       "      <td>2011-03-31 01:00:00</td>\n",
       "      <td>206.022751</td>\n",
       "      <td>23.955677</td>\n",
       "      <td>35.400547</td>\n",
       "      <td>2011.0</td>\n",
       "      <td>90.0</td>\n",
       "      <td>1.0</td>\n",
       "      <td>221.052155</td>\n",
       "      <td>-15.029404</td>\n",
       "    </tr>\n",
       "    <tr>\n",
       "      <th>15043</th>\n",
       "      <td>15.0</td>\n",
       "      <td>2011-03-31 16:00:00</td>\n",
       "      <td>207.307846</td>\n",
       "      <td>23.617336</td>\n",
       "      <td>35.422607</td>\n",
       "      <td>2011.0</td>\n",
       "      <td>90.0</td>\n",
       "      <td>16.0</td>\n",
       "      <td>190.914795</td>\n",
       "      <td>16.393051</td>\n",
       "    </tr>\n",
       "    <tr>\n",
       "      <th>15044</th>\n",
       "      <td>15.0</td>\n",
       "      <td>2011-03-31 17:00:00</td>\n",
       "      <td>207.345306</td>\n",
       "      <td>23.603033</td>\n",
       "      <td>35.425041</td>\n",
       "      <td>2011.0</td>\n",
       "      <td>90.0</td>\n",
       "      <td>17.0</td>\n",
       "      <td>198.152420</td>\n",
       "      <td>9.192886</td>\n",
       "    </tr>\n",
       "    <tr>\n",
       "      <th>15045</th>\n",
       "      <td>15.0</td>\n",
       "      <td>2011-03-31 18:00:00</td>\n",
       "      <td>207.629807</td>\n",
       "      <td>23.576160</td>\n",
       "      <td>35.428406</td>\n",
       "      <td>2011.0</td>\n",
       "      <td>90.0</td>\n",
       "      <td>18.0</td>\n",
       "      <td>205.724579</td>\n",
       "      <td>1.905228</td>\n",
       "    </tr>\n",
       "    <tr>\n",
       "      <th>15046</th>\n",
       "      <td>15.0</td>\n",
       "      <td>2011-03-31 19:00:00</td>\n",
       "      <td>207.436325</td>\n",
       "      <td>23.583130</td>\n",
       "      <td>35.427765</td>\n",
       "      <td>2011.0</td>\n",
       "      <td>90.0</td>\n",
       "      <td>19.0</td>\n",
       "      <td>212.975769</td>\n",
       "      <td>-5.539444</td>\n",
       "    </tr>\n",
       "    <tr>\n",
       "      <th>...</th>\n",
       "      <td>...</td>\n",
       "      <td>...</td>\n",
       "      <td>...</td>\n",
       "      <td>...</td>\n",
       "      <td>...</td>\n",
       "      <td>...</td>\n",
       "      <td>...</td>\n",
       "      <td>...</td>\n",
       "      <td>...</td>\n",
       "      <td>...</td>\n",
       "    </tr>\n",
       "    <tr>\n",
       "      <th>41241</th>\n",
       "      <td>15.0</td>\n",
       "      <td>2017-08-25 21:00:00</td>\n",
       "      <td>208.320831</td>\n",
       "      <td>17.795134</td>\n",
       "      <td>35.689640</td>\n",
       "      <td>2017.0</td>\n",
       "      <td>237.0</td>\n",
       "      <td>21.0</td>\n",
       "      <td>221.363037</td>\n",
       "      <td>-13.042206</td>\n",
       "    </tr>\n",
       "    <tr>\n",
       "      <th>41245</th>\n",
       "      <td>15.0</td>\n",
       "      <td>2017-08-26 01:00:00</td>\n",
       "      <td>207.603455</td>\n",
       "      <td>17.589165</td>\n",
       "      <td>35.678226</td>\n",
       "      <td>2017.0</td>\n",
       "      <td>238.0</td>\n",
       "      <td>1.0</td>\n",
       "      <td>205.405807</td>\n",
       "      <td>2.197647</td>\n",
       "    </tr>\n",
       "    <tr>\n",
       "      <th>41263</th>\n",
       "      <td>15.0</td>\n",
       "      <td>2017-08-26 19:00:00</td>\n",
       "      <td>204.377441</td>\n",
       "      <td>18.722832</td>\n",
       "      <td>35.766171</td>\n",
       "      <td>2017.0</td>\n",
       "      <td>238.0</td>\n",
       "      <td>19.0</td>\n",
       "      <td>191.928680</td>\n",
       "      <td>12.448761</td>\n",
       "    </tr>\n",
       "    <tr>\n",
       "      <th>41264</th>\n",
       "      <td>15.0</td>\n",
       "      <td>2017-08-26 20:00:00</td>\n",
       "      <td>205.087646</td>\n",
       "      <td>18.698603</td>\n",
       "      <td>35.762321</td>\n",
       "      <td>2017.0</td>\n",
       "      <td>238.0</td>\n",
       "      <td>20.0</td>\n",
       "      <td>206.633652</td>\n",
       "      <td>-1.546005</td>\n",
       "    </tr>\n",
       "    <tr>\n",
       "      <th>41265</th>\n",
       "      <td>15.0</td>\n",
       "      <td>2017-08-26 21:00:00</td>\n",
       "      <td>206.363312</td>\n",
       "      <td>18.545425</td>\n",
       "      <td>35.749500</td>\n",
       "      <td>2017.0</td>\n",
       "      <td>238.0</td>\n",
       "      <td>21.0</td>\n",
       "      <td>219.856445</td>\n",
       "      <td>-13.493134</td>\n",
       "    </tr>\n",
       "  </tbody>\n",
       "</table>\n",
       "<p>4969 rows × 10 columns</p>\n",
       "</div>"
      ],
      "text/plain": [
       "       PRESSURE                TIME  OXYGEN_VALUE  TEMPERATURE_VALUE  \\\n",
       "15028      15.0 2011-03-31 01:00:00    206.022751          23.955677   \n",
       "15043      15.0 2011-03-31 16:00:00    207.307846          23.617336   \n",
       "15044      15.0 2011-03-31 17:00:00    207.345306          23.603033   \n",
       "15045      15.0 2011-03-31 18:00:00    207.629807          23.576160   \n",
       "15046      15.0 2011-03-31 19:00:00    207.436325          23.583130   \n",
       "...         ...                 ...           ...                ...   \n",
       "41241      15.0 2017-08-25 21:00:00    208.320831          17.795134   \n",
       "41245      15.0 2017-08-26 01:00:00    207.603455          17.589165   \n",
       "41263      15.0 2017-08-26 19:00:00    204.377441          18.722832   \n",
       "41264      15.0 2017-08-26 20:00:00    205.087646          18.698603   \n",
       "41265      15.0 2017-08-26 21:00:00    206.363312          18.545425   \n",
       "\n",
       "       SALINITY_VALUE    Year   Yday  Hour  DOX2_predictions  DOX2_error  \n",
       "15028       35.400547  2011.0   90.0   1.0        221.052155  -15.029404  \n",
       "15043       35.422607  2011.0   90.0  16.0        190.914795   16.393051  \n",
       "15044       35.425041  2011.0   90.0  17.0        198.152420    9.192886  \n",
       "15045       35.428406  2011.0   90.0  18.0        205.724579    1.905228  \n",
       "15046       35.427765  2011.0   90.0  19.0        212.975769   -5.539444  \n",
       "...               ...     ...    ...   ...               ...         ...  \n",
       "41241       35.689640  2017.0  237.0  21.0        221.363037  -13.042206  \n",
       "41245       35.678226  2017.0  238.0   1.0        205.405807    2.197647  \n",
       "41263       35.766171  2017.0  238.0  19.0        191.928680   12.448761  \n",
       "41264       35.762321  2017.0  238.0  20.0        206.633652   -1.546005  \n",
       "41265       35.749500  2017.0  238.0  21.0        219.856445  -13.493134  \n",
       "\n",
       "[4969 rows x 10 columns]"
      ]
     },
     "execution_count": 160,
     "metadata": {},
     "output_type": "execute_result"
    }
   ],
   "source": [
    "temp"
   ]
  },
  {
   "cell_type": "code",
   "execution_count": 162,
   "metadata": {},
   "outputs": [
    {
     "data": {
      "text/plain": [
       "Text(0.5, 0, 'Temperature (degree Celsius)')"
      ]
     },
     "execution_count": 162,
     "metadata": {},
     "output_type": "execute_result"
    },
    {
     "data": {
      "image/png": "[encoded data removed]",
      "text/plain": [
       "<Figure size 432x288 with 1 Axes>"
      ]
     },
     "metadata": {
      "needs_background": "light"
     },
     "output_type": "display_data"
    }
   ],
   "source": [
    "temp.TEMPERATURE_VALUE.plot.hist()\n",
    "plt.xlabel('Temperature (degree Celsius)')"
   ]
  },
  {
   "cell_type": "code",
   "execution_count": 164,
   "metadata": {},
   "outputs": [
    {
     "data": {
      "text/plain": [
       "Text(0.5, 0, 'Salinity (g/L)')"
      ]
     },
     "execution_count": 164,
     "metadata": {},
     "output_type": "execute_result"
    },
    {
     "data": {
      "image/png": "[encoded data removed]",
      "text/plain": [
       "<Figure size 432x288 with 1 Axes>"
      ]
     },
     "metadata": {
      "needs_background": "light"
     },
     "output_type": "display_data"
    }
   ],
   "source": [
    "temp.SALINITY_VALUE.plot.hist()\n",
    "plt.xlabel('Salinity (g/L)')"
   ]
  },
  {
   "cell_type": "code",
   "execution_count": 165,
   "metadata": {},
   "outputs": [
    {
     "data": {
      "text/plain": [
       "Text(0.5, 0, 'Day of year')"
      ]
     },
     "execution_count": 165,
     "metadata": {},
     "output_type": "execute_result"
    },
    {
     "data": {
      "image/png": "[encoded data removed]",
      "text/plain": [
       "<Figure size 432x288 with 1 Axes>"
      ]
     },
     "metadata": {
      "needs_background": "light"
     },
     "output_type": "display_data"
    }
   ],
   "source": [
    "temp.Yday.plot.hist()\n",
    "plt.xlabel('Day of year')"
   ]
  },
  {
   "cell_type": "code",
   "execution_count": 166,
   "metadata": {},
   "outputs": [
    {
     "data": {
      "text/plain": [
       "Text(0.5, 0, 'Hour')"
      ]
     },
     "execution_count": 166,
     "metadata": {},
     "output_type": "execute_result"
    },
    {
     "data": {
      "image/png": "[encoded data removed]",
      "text/plain": [
       "<Figure size 432x288 with 1 Axes>"
      ]
     },
     "metadata": {
      "needs_background": "light"
     },
     "output_type": "display_data"
    }
   ],
   "source": [
    "temp.Hour.plot.hist()\n",
    "plt.xlabel('Hour')"
   ]
  },
  {
   "cell_type": "code",
   "execution_count": null,
   "metadata": {},
   "outputs": [],
   "source": []
  }
 ],
 "metadata": {
  "kernelspec": {
   "display_name": "Python 3",
   "language": "python",
   "name": "python3"
  },
  "language_info": {
   "codemirror_mode": {
    "name": "ipython",
    "version": 3
   },
   "file_extension": ".py",
   "mimetype": "text/x-python",
   "name": "python",
   "nbconvert_exporter": "python",
   "pygments_lexer": "ipython3",
   "version": "3.7.3"
  }
 },
 "nbformat": 4,
 "nbformat_minor": 4
}
