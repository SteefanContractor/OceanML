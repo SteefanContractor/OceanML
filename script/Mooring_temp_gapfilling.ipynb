{
 "cells": [
  {
   "cell_type": "code",
   "execution_count": 1,
   "metadata": {},
   "outputs": [
    {
     "name": "stderr",
     "output_type": "stream",
     "text": [
      "/srv/scratch/z3289452/miniconda3/envs/OceanDataScience/lib/python3.7/site-packages/statsmodels/tools/_testing.py:19: FutureWarning: pandas.util.testing is deprecated. Use the functions in the public API at pandas.testing instead.\n",
      "  import pandas.util.testing as tm\n"
     ]
    }
   ],
   "source": [
    "import pandas as pd\n",
    "import numpy as np\n",
    "import matplotlib.pyplot as plt\n",
    "import seaborn as sns\n",
    "%matplotlib inline"
   ]
  },
  {
   "cell_type": "code",
   "execution_count": 2,
   "metadata": {},
   "outputs": [
    {
     "name": "stderr",
     "output_type": "stream",
     "text": [
      "/srv/scratch/z3289452/miniconda3/envs/OceanDataScience/lib/python3.7/site-packages/xarray/core/merge.py:17: FutureWarning: The Panel class is removed from pandas. Accessing it from the top-level namespace will also be removed in the next version\n",
      "  PANDAS_TYPES = (pd.Series, pd.DataFrame, pd.Panel)\n"
     ]
    }
   ],
   "source": [
    "import xarray as xr"
   ]
  },
  {
   "cell_type": "markdown",
   "metadata": {},
   "source": [
    "### Temperature data "
   ]
  },
  {
   "cell_type": "code",
   "execution_count": 3,
   "metadata": {},
   "outputs": [],
   "source": [
    "temp = xr.open_dataset('/srv/scratch/z3289452/OceanDataScience/Mooring/PH100/IMOS_ANMN-NSW_TZ_20091029_PH100_FV01_TEMP-aggregated-timeseries_END-20190612_C-20190819.nc')"
   ]
  },
  {
   "cell_type": "code",
   "execution_count": 4,
   "metadata": {},
   "outputs": [
    {
     "data": {
      "text/plain": [
       "<xarray.Dataset>\n",
       "Dimensions:                   (INSTRUMENT: 688, OBSERVATION: 25570235)\n",
       "Coordinates:\n",
       "    TIME                      (OBSERVATION) datetime64[ns] ...\n",
       "    LONGITUDE                 (INSTRUMENT) float32 ...\n",
       "    LATITUDE                  (INSTRUMENT) float32 ...\n",
       "    NOMINAL_DEPTH             (INSTRUMENT) float32 ...\n",
       "Dimensions without coordinates: INSTRUMENT, OBSERVATION\n",
       "Data variables:\n",
       "    TEMP                      (OBSERVATION) float32 ...\n",
       "    TEMP_quality_control      (OBSERVATION) float32 ...\n",
       "    DEPTH                     (OBSERVATION) float32 ...\n",
       "    DEPTH_quality_control     (OBSERVATION) int8 ...\n",
       "    PRES                      (OBSERVATION) float32 ...\n",
       "    PRES_quality_control      (OBSERVATION) float32 ...\n",
       "    PRES_REL                  (OBSERVATION) float32 ...\n",
       "    PRES_REL_quality_control  (OBSERVATION) float32 ...\n",
       "    instrument_index          (OBSERVATION) int32 ...\n",
       "    instrument_id             (INSTRUMENT) |S256 ...\n",
       "    source_file               (INSTRUMENT) |S256 ...\n",
       "Attributes:\n",
       "    Conventions:                   CF-1.6,IMOS-1.4\n",
       "    abstract:                      Aggregated Time-series Product: This file ...\n",
       "    acknowledgement:               Any users of IMOS data are required to cle...\n",
       "    author:                        Klein, Eduardo\n",
       "    author_email:                  eduardo.kleinsalas@utas.edu.au\n",
       "    citation:                      The citation in a list of references is: \"...\n",
       "    data_centre:                   Australian Ocean Data Network (AODN)\n",
       "    data_centre_email:             info@aodn.org.au\n",
       "    date_created:                  2019-08-19T04:20:41Z\n",
       "    disclaimer:                    Data, products and services from IMOS are ...\n",
       "    featureType:                   timeSeries\n",
       "    file_version:                  Level 1 - Quality Controlled Data\n",
       "    file_version_quality_control:  Quality controlled data have been through ...\n",
       "    geospatial_lat_max:            -34.1192\n",
       "    geospatial_lat_min:            -34.12068\n",
       "    geospatial_lon_max:            151.2248\n",
       "    geospatial_lon_min:            151.22404\n",
       "    geospatial_vertical_max:       999999.0\n",
       "    geospatial_vertical_min:       -139.6803741455078\n",
       "    history:                       2019-08-19T04:20:41Z: Aggregated file crea...\n",
       "    institution_references:        http://imos.org.au/facilities/aodn/\n",
       "    keywords:                      TEMP, TEMP_quality_control, TIME, DEPTH, D...\n",
       "    keywords_vocabulary:           IMOS parameter names. See https://github.c...\n",
       "    license:                       http://creativecommons.org/licenses/by/4.0/\n",
       "    lineage:                       The variable of interest (VoI) is produced...\n",
       "    local_time_zone:               \n",
       "    naming_authority:              IMOS\n",
       "    project:                       Integrated Marine Observing System (IMOS)\n",
       "    references:                    http://www.imos.org.au\n",
       "    rejected_files:                \n",
       "    site_code:                     PH100\n",
       "    source:                        Mooring\n",
       "    standard_name_vocabulary:      NetCDF Climate and Forecast (CF) Metadata ...\n",
       "    time_coverage_end:             2019-06-12T02:34:59Z\n",
       "    time_coverage_start:           2009-10-29T02:55:00Z\n",
       "    title:                         Long Timeseries Aggregated product: TEMP a..."
      ]
     },
     "execution_count": 4,
     "metadata": {},
     "output_type": "execute_result"
    }
   ],
   "source": [
    "temp"
   ]
  },
  {
   "cell_type": "code",
   "execution_count": null,
   "metadata": {},
   "outputs": [],
   "source": [
    "# Nominal depth of temp instruments to compare with WQM instruments\n",
    "np.unique(temp.NOMINAL_DEPTH.values)"
   ]
  },
  {
   "cell_type": "code",
   "execution_count": null,
   "metadata": {},
   "outputs": [],
   "source": [
    "temp = temp.drop(['DEPTH','DEPTH_quality_control','PRES','PRES_quality_control','instrument_index','instrument_id','source_file'])"
   ]
  },
  {
   "cell_type": "code",
   "execution_count": null,
   "metadata": {},
   "outputs": [],
   "source": [
    "temp = temp.where(np.logical_and(temp.TEMP_quality_control > 0, temp.TEMP_quality_control < 3), drop = True)"
   ]
  },
  {
   "cell_type": "code",
   "execution_count": null,
   "metadata": {},
   "outputs": [],
   "source": [
    "temp = temp.where(np.logical_and(temp.PRES_REL_quality_control > 0, temp.PRES_REL_quality_control < 3), drop = True) "
   ]
  },
  {
   "cell_type": "code",
   "execution_count": 9,
   "metadata": {},
   "outputs": [],
   "source": [
    "# create pd dataframe from scratch\n",
    "data  = {'TIME': temp.TIME.values,\n",
    "         'TEMP': temp.TEMP.values,\n",
    "         'PRES': temp.PRES_REL.values}\n",
    "\n",
    "temp_df= pd.DataFrame(data, columns = ['TIME','TEMP','PRES'])\n",
    "# set TIME as the indexing variable\n",
    "temp_df = temp_df.set_index('TIME')"
   ]
  },
  {
   "cell_type": "code",
   "execution_count": 18,
   "metadata": {},
   "outputs": [
    {
     "data": {
      "text/plain": [
       "<matplotlib.axes._subplots.AxesSubplot at 0x2ad9836f87b8>"
      ]
     },
     "execution_count": 18,
     "metadata": {},
     "output_type": "execute_result"
    },
    {
     "data": {
      "image/png": "[encoded data removed]",
      "text/plain": [
       "<Figure size 432x288 with 1 Axes>"
      ]
     },
     "metadata": {
      "needs_background": "light"
     },
     "output_type": "display_data"
    }
   ],
   "source": [
    "# Plot PRES over TIME\n",
    "# Because of extra instruments (see NOMINAL_DEPTH vals), there are more pressure vals here compared to WQM\n",
    "temp_df.PRES.plot()"
   ]
  },
  {
   "cell_type": "code",
   "execution_count": 39,
   "metadata": {},
   "outputs": [],
   "source": [
    "# Max and min pressure values\n",
    "bin_max = temp_df.PRES.max()\n",
    "bin_min = temp_df.PRES.min()\n",
    "bin_size = 2"
   ]
  },
  {
   "cell_type": "code",
   "execution_count": 40,
   "metadata": {},
   "outputs": [],
   "source": [
    "def create_bins(bin_size, bin_max):\n",
    "    \"\"\"\n",
    "    A function to return equal sized bins and corresponding bin labels for binning of data.\n",
    "    Input:\n",
    "    bin_size: size of bins\n",
    "    bin_max: maximum value of the data to be binned. The minimum is assumed to be zero.\n",
    "    \"\"\"\n",
    "    num_bins = np.ceil(bin_max/bin_size)\n",
    "    lab_start = np.ceil(bin_size/2)\n",
    "    bins = np.linspace(0, bin_size*num_bins, num_bins+1)\n",
    "    labs = np.linspace(lab_start, bin_size*(num_bins-1)+lab_start, num_bins)\n",
    "    return bins, labs"
   ]
  },
  {
   "cell_type": "code",
   "execution_count": 41,
   "metadata": {},
   "outputs": [],
   "source": [
    "# Automatically calculate pressure bin parameters based on given bin_size\n",
    "bins, labs = create_bins(bin_size, bin_max)"
   ]
  },
  {
   "cell_type": "code",
   "execution_count": 42,
   "metadata": {},
   "outputs": [],
   "source": [
    "# create a column with pressure bin labels\n",
    "temp_df['PRES_BIN'] = pd.cut(temp_df.PRES, bins = bins, labels = labs)"
   ]
  },
  {
   "cell_type": "code",
   "execution_count": 43,
   "metadata": {},
   "outputs": [],
   "source": [
    "# First groupby PRES_BIN column, then resample each group on hourly intervals and mean each resulting bin\n",
    "# drop unncessary columns and nan rows after\n",
    "temp_df = temp_df.groupby('PRES_BIN').resample('1H').mean().drop(columns=['PRES','PRES_BIN']).dropna()"
   ]
  },
  {
   "cell_type": "code",
   "execution_count": 44,
   "metadata": {},
   "outputs": [
    {
     "data": {
      "text/html": [
       "<div>\n",
       "<style scoped>\n",
       "    .dataframe tbody tr th:only-of-type {\n",
       "        vertical-align: middle;\n",
       "    }\n",
       "\n",
       "    .dataframe tbody tr th {\n",
       "        vertical-align: top;\n",
       "    }\n",
       "\n",
       "    .dataframe thead th {\n",
       "        text-align: right;\n",
       "    }\n",
       "</style>\n",
       "<table border=\"1\" class=\"dataframe\">\n",
       "  <thead>\n",
       "    <tr style=\"text-align: right;\">\n",
       "      <th></th>\n",
       "      <th></th>\n",
       "      <th>TEMP</th>\n",
       "    </tr>\n",
       "    <tr>\n",
       "      <th>PRES_BIN</th>\n",
       "      <th>TIME</th>\n",
       "      <th></th>\n",
       "    </tr>\n",
       "  </thead>\n",
       "  <tbody>\n",
       "    <tr>\n",
       "      <th>1.0</th>\n",
       "      <th>2012-11-28 22:00:00</th>\n",
       "      <td>20.759911</td>\n",
       "    </tr>\n",
       "    <tr>\n",
       "      <th>3.0</th>\n",
       "      <th>2012-11-28 22:00:00</th>\n",
       "      <td>20.770100</td>\n",
       "    </tr>\n",
       "    <tr>\n",
       "      <th rowspan=\"3\" valign=\"top\">7.0</th>\n",
       "      <th>2013-06-15 07:00:00</th>\n",
       "      <td>19.003767</td>\n",
       "    </tr>\n",
       "    <tr>\n",
       "      <th>2013-06-15 08:00:00</th>\n",
       "      <td>18.982601</td>\n",
       "    </tr>\n",
       "    <tr>\n",
       "      <th>2013-06-15 21:00:00</th>\n",
       "      <td>18.965900</td>\n",
       "    </tr>\n",
       "    <tr>\n",
       "      <th>...</th>\n",
       "      <th>...</th>\n",
       "      <td>...</td>\n",
       "    </tr>\n",
       "    <tr>\n",
       "      <th rowspan=\"5\" valign=\"top\">115.0</th>\n",
       "      <th>2014-11-06 22:00:00</th>\n",
       "      <td>15.896667</td>\n",
       "    </tr>\n",
       "    <tr>\n",
       "      <th>2014-11-07 22:00:00</th>\n",
       "      <td>15.611667</td>\n",
       "    </tr>\n",
       "    <tr>\n",
       "      <th>2014-11-07 23:00:00</th>\n",
       "      <td>15.620000</td>\n",
       "    </tr>\n",
       "    <tr>\n",
       "      <th>2014-11-09 23:00:00</th>\n",
       "      <td>16.000000</td>\n",
       "    </tr>\n",
       "    <tr>\n",
       "      <th>2014-11-10 00:00:00</th>\n",
       "      <td>16.036667</td>\n",
       "    </tr>\n",
       "  </tbody>\n",
       "</table>\n",
       "<p>149829 rows × 1 columns</p>\n",
       "</div>"
      ],
      "text/plain": [
       "                                   TEMP\n",
       "PRES_BIN TIME                          \n",
       "1.0      2012-11-28 22:00:00  20.759911\n",
       "3.0      2012-11-28 22:00:00  20.770100\n",
       "7.0      2013-06-15 07:00:00  19.003767\n",
       "         2013-06-15 08:00:00  18.982601\n",
       "         2013-06-15 21:00:00  18.965900\n",
       "...                                 ...\n",
       "115.0    2014-11-06 22:00:00  15.896667\n",
       "         2014-11-07 22:00:00  15.611667\n",
       "         2014-11-07 23:00:00  15.620000\n",
       "         2014-11-09 23:00:00  16.000000\n",
       "         2014-11-10 00:00:00  16.036667\n",
       "\n",
       "[149829 rows x 1 columns]"
      ]
     },
     "execution_count": 44,
     "metadata": {},
     "output_type": "execute_result"
    }
   ],
   "source": [
    "temp_df"
   ]
  },
  {
   "cell_type": "code",
   "execution_count": 45,
   "metadata": {},
   "outputs": [
    {
     "data": {
      "text/html": [
       "<div>\n",
       "<style scoped>\n",
       "    .dataframe tbody tr th:only-of-type {\n",
       "        vertical-align: middle;\n",
       "    }\n",
       "\n",
       "    .dataframe tbody tr th {\n",
       "        vertical-align: top;\n",
       "    }\n",
       "\n",
       "    .dataframe thead th {\n",
       "        text-align: right;\n",
       "    }\n",
       "</style>\n",
       "<table border=\"1\" class=\"dataframe\">\n",
       "  <thead>\n",
       "    <tr style=\"text-align: right;\">\n",
       "      <th></th>\n",
       "      <th>TEMP</th>\n",
       "    </tr>\n",
       "    <tr>\n",
       "      <th>PRES_BIN</th>\n",
       "      <th></th>\n",
       "    </tr>\n",
       "  </thead>\n",
       "  <tbody>\n",
       "    <tr>\n",
       "      <th>1.0</th>\n",
       "      <td>1</td>\n",
       "    </tr>\n",
       "    <tr>\n",
       "      <th>3.0</th>\n",
       "      <td>1</td>\n",
       "    </tr>\n",
       "    <tr>\n",
       "      <th>7.0</th>\n",
       "      <td>189</td>\n",
       "    </tr>\n",
       "    <tr>\n",
       "      <th>9.0</th>\n",
       "      <td>3047</td>\n",
       "    </tr>\n",
       "    <tr>\n",
       "      <th>11.0</th>\n",
       "      <td>3400</td>\n",
       "    </tr>\n",
       "    <tr>\n",
       "      <th>13.0</th>\n",
       "      <td>12072</td>\n",
       "    </tr>\n",
       "    <tr>\n",
       "      <th>15.0</th>\n",
       "      <td>33495</td>\n",
       "    </tr>\n",
       "    <tr>\n",
       "      <th>17.0</th>\n",
       "      <td>10984</td>\n",
       "    </tr>\n",
       "    <tr>\n",
       "      <th>19.0</th>\n",
       "      <td>1395</td>\n",
       "    </tr>\n",
       "    <tr>\n",
       "      <th>21.0</th>\n",
       "      <td>399</td>\n",
       "    </tr>\n",
       "    <tr>\n",
       "      <th>23.0</th>\n",
       "      <td>5209</td>\n",
       "    </tr>\n",
       "    <tr>\n",
       "      <th>25.0</th>\n",
       "      <td>5076</td>\n",
       "    </tr>\n",
       "    <tr>\n",
       "      <th>27.0</th>\n",
       "      <td>323</td>\n",
       "    </tr>\n",
       "    <tr>\n",
       "      <th>29.0</th>\n",
       "      <td>61</td>\n",
       "    </tr>\n",
       "    <tr>\n",
       "      <th>31.0</th>\n",
       "      <td>13</td>\n",
       "    </tr>\n",
       "    <tr>\n",
       "      <th>33.0</th>\n",
       "      <td>6</td>\n",
       "    </tr>\n",
       "    <tr>\n",
       "      <th>35.0</th>\n",
       "      <td>3</td>\n",
       "    </tr>\n",
       "    <tr>\n",
       "      <th>109.0</th>\n",
       "      <td>19356</td>\n",
       "    </tr>\n",
       "    <tr>\n",
       "      <th>111.0</th>\n",
       "      <td>42038</td>\n",
       "    </tr>\n",
       "    <tr>\n",
       "      <th>113.0</th>\n",
       "      <td>10870</td>\n",
       "    </tr>\n",
       "    <tr>\n",
       "      <th>115.0</th>\n",
       "      <td>1891</td>\n",
       "    </tr>\n",
       "  </tbody>\n",
       "</table>\n",
       "</div>"
      ],
      "text/plain": [
       "           TEMP\n",
       "PRES_BIN       \n",
       "1.0           1\n",
       "3.0           1\n",
       "7.0         189\n",
       "9.0        3047\n",
       "11.0       3400\n",
       "13.0      12072\n",
       "15.0      33495\n",
       "17.0      10984\n",
       "19.0       1395\n",
       "21.0        399\n",
       "23.0       5209\n",
       "25.0       5076\n",
       "27.0        323\n",
       "29.0         61\n",
       "31.0         13\n",
       "33.0          6\n",
       "35.0          3\n",
       "109.0     19356\n",
       "111.0     42038\n",
       "113.0     10870\n",
       "115.0      1891"
      ]
     },
     "execution_count": 45,
     "metadata": {},
     "output_type": "execute_result"
    }
   ],
   "source": [
    "temp_df.groupby('PRES_BIN').count()"
   ]
  },
  {
   "cell_type": "markdown",
   "metadata": {},
   "source": [
    "Based on nominal depths, it looks like most readings are from the 15, 24 and 110 dbar sensors.\n",
    "So we will create bins around these depths as well."
   ]
  },
  {
   "cell_type": "code",
   "execution_count": null,
   "metadata": {},
   "outputs": [],
   "source": [
    "bins = [0,11,19,20,28,106,114,116]\n",
    "labs = [5.5,15,19.5,24,(106-28)/2,110,115]"
   ]
  },
  {
   "cell_type": "code",
   "execution_count": null,
   "metadata": {},
   "outputs": [],
   "source": [
    "# create pd dataframe from scratch\n",
    "data  = {'TIME': temp.TIME.values,\n",
    "         'TEMP': temp.TEMP.values,\n",
    "         'PRES': temp.PRES_REL.values}\n",
    "\n",
    "temp_df= pd.DataFrame(data, columns = ['TIME','TEMP','PRES'])\n",
    "# set TIME as the indexing variable\n",
    "temp_df = temp_df.set_index('TIME')"
   ]
  },
  {
   "cell_type": "code",
   "execution_count": 14,
   "metadata": {},
   "outputs": [],
   "source": [
    "# create a column with pressure bin labels\n",
    "temp_df['PRES_BIN'] = pd.cut(temp_df.PRES, bins = bins, labels = labs, include_lowest=True)"
   ]
  },
  {
   "cell_type": "code",
   "execution_count": 15,
   "metadata": {},
   "outputs": [],
   "source": [
    "# First groupby PRES_BIN column, then resample each group on hourly intervals and mean each resulting bin\n",
    "# drop unncessary columns and nan rows after\n",
    "temp_df = temp_df.groupby('PRES_BIN').resample('1H').mean().drop(columns=['PRES']).dropna()"
   ]
  },
  {
   "cell_type": "code",
   "execution_count": 16,
   "metadata": {},
   "outputs": [
    {
     "data": {
      "text/html": [
       "<div>\n",
       "<style scoped>\n",
       "    .dataframe tbody tr th:only-of-type {\n",
       "        vertical-align: middle;\n",
       "    }\n",
       "\n",
       "    .dataframe tbody tr th {\n",
       "        vertical-align: top;\n",
       "    }\n",
       "\n",
       "    .dataframe thead th {\n",
       "        text-align: right;\n",
       "    }\n",
       "</style>\n",
       "<table border=\"1\" class=\"dataframe\">\n",
       "  <thead>\n",
       "    <tr style=\"text-align: right;\">\n",
       "      <th></th>\n",
       "      <th>TEMP</th>\n",
       "    </tr>\n",
       "    <tr>\n",
       "      <th>PRES_BIN</th>\n",
       "      <th></th>\n",
       "    </tr>\n",
       "  </thead>\n",
       "  <tbody>\n",
       "    <tr>\n",
       "      <th>5.5</th>\n",
       "      <td>3919</td>\n",
       "    </tr>\n",
       "    <tr>\n",
       "      <th>15.0</th>\n",
       "      <td>38582</td>\n",
       "    </tr>\n",
       "    <tr>\n",
       "      <th>19.5</th>\n",
       "      <td>605</td>\n",
       "    </tr>\n",
       "    <tr>\n",
       "      <th>24.0</th>\n",
       "      <td>7391</td>\n",
       "    </tr>\n",
       "    <tr>\n",
       "      <th>39.0</th>\n",
       "      <td>68</td>\n",
       "    </tr>\n",
       "    <tr>\n",
       "      <th>110.0</th>\n",
       "      <td>65696</td>\n",
       "    </tr>\n",
       "    <tr>\n",
       "      <th>115.0</th>\n",
       "      <td>1891</td>\n",
       "    </tr>\n",
       "  </tbody>\n",
       "</table>\n",
       "</div>"
      ],
      "text/plain": [
       "           TEMP\n",
       "PRES_BIN       \n",
       "5.5        3919\n",
       "15.0      38582\n",
       "19.5        605\n",
       "24.0       7391\n",
       "39.0         68\n",
       "110.0     65696\n",
       "115.0      1891"
      ]
     },
     "execution_count": 16,
     "metadata": {},
     "output_type": "execute_result"
    }
   ],
   "source": [
    "temp_df.groupby('PRES_BIN').count()"
   ]
  },
  {
   "cell_type": "markdown",
   "metadata": {},
   "source": [
    "Based on the binning above, three models will be trained: 15 dbar, 24 dbar and 110 dbar."
   ]
  },
  {
   "cell_type": "markdown",
   "metadata": {},
   "source": [
    "### 15 dbar"
   ]
  },
  {
   "cell_type": "code",
   "execution_count": 17,
   "metadata": {},
   "outputs": [],
   "source": [
    "temp_df_15 = temp_df.xs(15)"
   ]
  },
  {
   "cell_type": "code",
   "execution_count": 18,
   "metadata": {},
   "outputs": [
    {
     "data": {
      "text/html": [
       "<div>\n",
       "<style scoped>\n",
       "    .dataframe tbody tr th:only-of-type {\n",
       "        vertical-align: middle;\n",
       "    }\n",
       "\n",
       "    .dataframe tbody tr th {\n",
       "        vertical-align: top;\n",
       "    }\n",
       "\n",
       "    .dataframe thead th {\n",
       "        text-align: right;\n",
       "    }\n",
       "</style>\n",
       "<table border=\"1\" class=\"dataframe\">\n",
       "  <thead>\n",
       "    <tr style=\"text-align: right;\">\n",
       "      <th></th>\n",
       "      <th>TEMP</th>\n",
       "    </tr>\n",
       "    <tr>\n",
       "      <th>TIME</th>\n",
       "      <th></th>\n",
       "    </tr>\n",
       "  </thead>\n",
       "  <tbody>\n",
       "    <tr>\n",
       "      <th>2011-03-30 01:00:00</th>\n",
       "      <td>23.914965</td>\n",
       "    </tr>\n",
       "    <tr>\n",
       "      <th>2011-03-30 02:00:00</th>\n",
       "      <td>23.876726</td>\n",
       "    </tr>\n",
       "    <tr>\n",
       "      <th>2011-03-30 03:00:00</th>\n",
       "      <td>23.861305</td>\n",
       "    </tr>\n",
       "    <tr>\n",
       "      <th>2011-03-30 04:00:00</th>\n",
       "      <td>23.838934</td>\n",
       "    </tr>\n",
       "    <tr>\n",
       "      <th>2011-03-30 05:00:00</th>\n",
       "      <td>23.851543</td>\n",
       "    </tr>\n",
       "    <tr>\n",
       "      <th>...</th>\n",
       "      <td>...</td>\n",
       "    </tr>\n",
       "    <tr>\n",
       "      <th>2017-08-27 14:00:00</th>\n",
       "      <td>18.774223</td>\n",
       "    </tr>\n",
       "    <tr>\n",
       "      <th>2017-08-27 15:00:00</th>\n",
       "      <td>18.677221</td>\n",
       "    </tr>\n",
       "    <tr>\n",
       "      <th>2017-08-27 16:00:00</th>\n",
       "      <td>18.512810</td>\n",
       "    </tr>\n",
       "    <tr>\n",
       "      <th>2017-08-27 17:00:00</th>\n",
       "      <td>18.349054</td>\n",
       "    </tr>\n",
       "    <tr>\n",
       "      <th>2017-08-27 18:00:00</th>\n",
       "      <td>18.427813</td>\n",
       "    </tr>\n",
       "  </tbody>\n",
       "</table>\n",
       "<p>38582 rows × 1 columns</p>\n",
       "</div>"
      ],
      "text/plain": [
       "                          TEMP\n",
       "TIME                          \n",
       "2011-03-30 01:00:00  23.914965\n",
       "2011-03-30 02:00:00  23.876726\n",
       "2011-03-30 03:00:00  23.861305\n",
       "2011-03-30 04:00:00  23.838934\n",
       "2011-03-30 05:00:00  23.851543\n",
       "...                        ...\n",
       "2017-08-27 14:00:00  18.774223\n",
       "2017-08-27 15:00:00  18.677221\n",
       "2017-08-27 16:00:00  18.512810\n",
       "2017-08-27 17:00:00  18.349054\n",
       "2017-08-27 18:00:00  18.427813\n",
       "\n",
       "[38582 rows x 1 columns]"
      ]
     },
     "execution_count": 18,
     "metadata": {},
     "output_type": "execute_result"
    }
   ],
   "source": [
    "temp_df_15"
   ]
  },
  {
   "cell_type": "code",
   "execution_count": 19,
   "metadata": {},
   "outputs": [
    {
     "data": {
      "text/plain": [
       "<matplotlib.axes._subplots.AxesSubplot at 0x2abf0f63a978>"
      ]
     },
     "execution_count": 19,
     "metadata": {},
     "output_type": "execute_result"
    },
    {
     "data": {
      "image/png": "[encoded data removed]",
      "text/plain": [
       "<Figure size 432x288 with 1 Axes>"
      ]
     },
     "metadata": {
      "needs_background": "light"
     },
     "output_type": "display_data"
    }
   ],
   "source": [
    "temp_df_15.plot()"
   ]
  },
  {
   "cell_type": "code",
   "execution_count": 21,
   "metadata": {},
   "outputs": [],
   "source": [
    "Time_diff = temp_df_15.index.to_series().diff()"
   ]
  },
  {
   "cell_type": "code",
   "execution_count": 90,
   "metadata": {},
   "outputs": [
    {
     "data": {
      "text/plain": [
       "(array([3.8523e+04, 3.0000e+01, 6.0000e+00, 7.0000e+00, 2.0000e+00,\n",
       "        4.0000e+00, 1.0000e+00, 0.0000e+00, 0.0000e+00, 1.0000e+00,\n",
       "        0.0000e+00, 0.0000e+00, 0.0000e+00, 0.0000e+00, 0.0000e+00,\n",
       "        0.0000e+00, 0.0000e+00, 0.0000e+00, 0.0000e+00, 0.0000e+00,\n",
       "        0.0000e+00, 0.0000e+00, 0.0000e+00, 0.0000e+00, 0.0000e+00,\n",
       "        0.0000e+00, 0.0000e+00, 0.0000e+00, 0.0000e+00, 0.0000e+00,\n",
       "        7.0000e+00]),\n",
       " array([  0.,   1.,   2.,   3.,   4.,   5.,   6.,   7.,   8.,   9.,  10.,\n",
       "         11.,  12.,  13.,  14.,  15.,  16.,  17.,  18.,  19.,  20.,  21.,\n",
       "         22.,  23.,  24.,  25.,  26.,  27.,  28.,  29.,  30., 185.]),\n",
       " <a list of 31 Patch objects>)"
      ]
     },
     "execution_count": 90,
     "metadata": {},
     "output_type": "execute_result"
    },
    {
     "data": {
      "image/png": "[encoded data removed]",
      "text/plain": [
       "<Figure size 432x288 with 1 Axes>"
      ]
     },
     "metadata": {
      "needs_background": "light"
     },
     "output_type": "display_data"
    }
   ],
   "source": [
    "plt.hist((Time_diff/pd.Timedelta(days=1)), bins=np.append(np.linspace(0,30,31),185))#.where((Time_diff/pd.Timedelta(days=1)) > 1))"
   ]
  },
  {
   "cell_type": "code",
   "execution_count": 94,
   "metadata": {},
   "outputs": [
    {
     "name": "stdout",
     "output_type": "stream",
     "text": [
      "The longest gap in days is 182.91666666666666 days (approx 6 months)\n"
     ]
    }
   ],
   "source": [
    "print('The longest gap in days is '+str((Time_diff/pd.Timedelta(days=1)).max())+' days (approx 6 months)')"
   ]
  },
  {
   "cell_type": "markdown",
   "metadata": {},
   "source": [
    "We will thus use the 6 month period before a gap and a 6 month period after a gap to predict a gap of 6 months using our RNN."
   ]
  },
  {
   "cell_type": "code",
   "execution_count": 22,
   "metadata": {},
   "outputs": [
    {
     "data": {
      "text/plain": [
       "TIME\n",
       "2011-08-31 03:00:00    40 days 14:00:00\n",
       "2012-05-31 01:00:00    92 days 00:00:00\n",
       "2013-09-15 06:00:00     9 days 07:00:00\n",
       "2014-09-11 01:00:00    45 days 17:00:00\n",
       "2016-03-01 23:00:00    89 days 23:00:00\n",
       "2016-11-30 23:00:00   182 days 22:00:00\n",
       "2017-02-28 00:00:00    67 days 22:00:00\n",
       "2017-05-26 01:00:00    40 days 19:00:00\n",
       "Name: TIME, dtype: timedelta64[ns]"
      ]
     },
     "execution_count": 22,
     "metadata": {},
     "output_type": "execute_result"
    }
   ],
   "source": [
    "Time_diff.where(Time_diff > pd.Timedelta(days=7)).dropna()"
   ]
  },
  {
   "cell_type": "code",
   "execution_count": 23,
   "metadata": {},
   "outputs": [
    {
     "data": {
      "text/plain": [
       "Timedelta('0 days 02:00:00')"
      ]
     },
     "execution_count": 23,
     "metadata": {},
     "output_type": "execute_result"
    }
   ],
   "source": [
    "Time_diff.where(Time_diff > pd.Timedelta(hours=1)).min()"
   ]
  },
  {
   "cell_type": "markdown",
   "metadata": {},
   "source": [
    "If the 6 monthly model is too inaccurate, we can train a (92 day) 3 monthly model which will result in only a single gap of 182 days in the data."
   ]
  },
  {
   "cell_type": "markdown",
   "metadata": {},
   "source": [
    "#### Data generator"
   ]
  },
  {
   "cell_type": "code",
   "execution_count": 44,
   "metadata": {},
   "outputs": [
    {
     "data": {
      "text/plain": [
       "336"
      ]
     },
     "execution_count": 44,
     "metadata": {},
     "output_type": "execute_result"
    }
   ],
   "source": [
    "14*24"
   ]
  },
  {
   "cell_type": "code",
   "execution_count": 56,
   "metadata": {},
   "outputs": [
    {
     "data": {
      "text/html": [
       "<div>\n",
       "<style scoped>\n",
       "    .dataframe tbody tr th:only-of-type {\n",
       "        vertical-align: middle;\n",
       "    }\n",
       "\n",
       "    .dataframe tbody tr th {\n",
       "        vertical-align: top;\n",
       "    }\n",
       "\n",
       "    .dataframe thead th {\n",
       "        text-align: right;\n",
       "    }\n",
       "</style>\n",
       "<table border=\"1\" class=\"dataframe\">\n",
       "  <thead>\n",
       "    <tr style=\"text-align: right;\">\n",
       "      <th></th>\n",
       "      <th>TEMP</th>\n",
       "    </tr>\n",
       "    <tr>\n",
       "      <th>TIME</th>\n",
       "      <th></th>\n",
       "    </tr>\n",
       "  </thead>\n",
       "  <tbody>\n",
       "    <tr>\n",
       "      <th>2011-04-08 16:00:00</th>\n",
       "      <td>24.550600</td>\n",
       "    </tr>\n",
       "    <tr>\n",
       "      <th>2011-04-09 15:00:00</th>\n",
       "      <td>25.100657</td>\n",
       "    </tr>\n",
       "    <tr>\n",
       "      <th>2011-05-21 04:00:00</th>\n",
       "      <td>20.977367</td>\n",
       "    </tr>\n",
       "    <tr>\n",
       "      <th>2011-05-22 04:00:00</th>\n",
       "      <td>21.429600</td>\n",
       "    </tr>\n",
       "    <tr>\n",
       "      <th>2011-07-04 07:00:00</th>\n",
       "      <td>20.654633</td>\n",
       "    </tr>\n",
       "    <tr>\n",
       "      <th>...</th>\n",
       "      <td>...</td>\n",
       "    </tr>\n",
       "    <tr>\n",
       "      <th>2017-04-14 18:00:00</th>\n",
       "      <td>22.955465</td>\n",
       "    </tr>\n",
       "    <tr>\n",
       "      <th>2017-04-14 20:00:00</th>\n",
       "      <td>22.947350</td>\n",
       "    </tr>\n",
       "    <tr>\n",
       "      <th>2017-04-14 22:00:00</th>\n",
       "      <td>22.880543</td>\n",
       "    </tr>\n",
       "    <tr>\n",
       "      <th>2017-04-15 06:00:00</th>\n",
       "      <td>22.506340</td>\n",
       "    </tr>\n",
       "    <tr>\n",
       "      <th>2017-05-26 01:00:00</th>\n",
       "      <td>19.773260</td>\n",
       "    </tr>\n",
       "  </tbody>\n",
       "</table>\n",
       "<p>310 rows × 1 columns</p>\n",
       "</div>"
      ],
      "text/plain": [
       "                          TEMP\n",
       "TIME                          \n",
       "2011-04-08 16:00:00  24.550600\n",
       "2011-04-09 15:00:00  25.100657\n",
       "2011-05-21 04:00:00  20.977367\n",
       "2011-05-22 04:00:00  21.429600\n",
       "2011-07-04 07:00:00  20.654633\n",
       "...                        ...\n",
       "2017-04-14 18:00:00  22.955465\n",
       "2017-04-14 20:00:00  22.947350\n",
       "2017-04-14 22:00:00  22.880543\n",
       "2017-04-15 06:00:00  22.506340\n",
       "2017-05-26 01:00:00  19.773260\n",
       "\n",
       "[310 rows x 1 columns]"
      ]
     },
     "execution_count": 56,
     "metadata": {},
     "output_type": "execute_result"
    }
   ],
   "source": [
    "# find all locations where timeseries has gaps\n",
    "temp_df_15.iloc[np.where(Time_diff > pd.Timedelta(hours=1))[0]]"
   ]
  },
  {
   "cell_type": "code",
   "execution_count": 63,
   "metadata": {},
   "outputs": [
    {
     "data": {
      "text/plain": [
       "1"
      ]
     },
     "execution_count": 63,
     "metadata": {},
     "output_type": "execute_result"
    }
   ],
   "source": [
    "exp = 0\n",
    "test = 10 if exp == 1 else 1\n",
    "test"
   ]
  },
  {
   "cell_type": "code",
   "execution_count": 46,
   "metadata": {},
   "outputs": [],
   "source": [
    "samp_seq = temp_df_15.TEMP[:1500]"
   ]
  },
  {
   "cell_type": "code",
   "execution_count": null,
   "metadata": {},
   "outputs": [],
   "source": [
    "hist_len = 14*24\n",
    "targ_len = 1\n",
    "\n",
    "break_index = np.where(Time_diff > pd.Timedelta(hours=1))[0] - 1 \n",
    "window_len = hist_len + targ_len\n",
    "for w in range(len(break_index)+1):\n",
    "    window_start = w\n",
    "    window_end = break_index[1]\n",
    "    for i in range(len(samp_seq)):\n",
    "    "
   ]
  },
  {
   "cell_type": "code",
   "execution_count": 33,
   "metadata": {},
   "outputs": [],
   "source": [
    "def generate_sequence(dataset, history_size, target_size):\n",
    "    data = []\n",
    "    labels = []\n",
    "\n",
    "    start_index = history_size\n",
    "    end_index = len(dataset) - target_size\n",
    "\n",
    "    for i in range(start_index, end_index):\n",
    "        indices = range(i-history_size, i)\n",
    "        # Reshape data from (history_size,) to (history_size, 1)\n",
    "        data.append(np.reshape(dataset[indices], (history_size, 1)))\n",
    "        labels.append(dataset[i+target_size])\n",
    "    return np.array(data), np.array(labels)"
   ]
  },
  {
   "cell_type": "code",
   "execution_count": 34,
   "metadata": {},
   "outputs": [
    {
     "ename": "KeyError",
     "evalue": "range(0, 204)",
     "output_type": "error",
     "traceback": [
      "\u001b[0;31m---------------------------------------------------------------------------\u001b[0m",
      "\u001b[0;31mTypeError\u001b[0m                                 Traceback (most recent call last)",
      "\u001b[0;32m/srv/scratch/z3289452/miniconda3/envs/OceanDataScience/lib/python3.7/site-packages/pandas/core/indexes/base.py\u001b[0m in \u001b[0;36mget_value\u001b[0;34m(self, series, key)\u001b[0m\n\u001b[1;32m   4410\u001b[0m             \u001b[0;32mtry\u001b[0m\u001b[0;34m:\u001b[0m\u001b[0;34m\u001b[0m\u001b[0;34m\u001b[0m\u001b[0m\n\u001b[0;32m-> 4411\u001b[0;31m                 \u001b[0;32mreturn\u001b[0m \u001b[0mlibindex\u001b[0m\u001b[0;34m.\u001b[0m\u001b[0mget_value_at\u001b[0m\u001b[0;34m(\u001b[0m\u001b[0ms\u001b[0m\u001b[0;34m,\u001b[0m \u001b[0mkey\u001b[0m\u001b[0;34m)\u001b[0m\u001b[0;34m\u001b[0m\u001b[0;34m\u001b[0m\u001b[0m\n\u001b[0m\u001b[1;32m   4412\u001b[0m             \u001b[0;32mexcept\u001b[0m \u001b[0mIndexError\u001b[0m\u001b[0;34m:\u001b[0m\u001b[0;34m\u001b[0m\u001b[0;34m\u001b[0m\u001b[0m\n",
      "\u001b[0;32mpandas/_libs/index.pyx\u001b[0m in \u001b[0;36mpandas._libs.index.get_value_at\u001b[0;34m()\u001b[0m\n",
      "\u001b[0;32mpandas/_libs/index.pyx\u001b[0m in \u001b[0;36mpandas._libs.index.get_value_at\u001b[0;34m()\u001b[0m\n",
      "\u001b[0;32mpandas/_libs/util.pxd\u001b[0m in \u001b[0;36mpandas._libs.util.get_value_at\u001b[0;34m()\u001b[0m\n",
      "\u001b[0;32mpandas/_libs/util.pxd\u001b[0m in \u001b[0;36mpandas._libs.util.validate_indexer\u001b[0;34m()\u001b[0m\n",
      "\u001b[0;31mTypeError\u001b[0m: 'range' object cannot be interpreted as an integer",
      "\nDuring handling of the above exception, another exception occurred:\n",
      "\u001b[0;31mKeyError\u001b[0m                                  Traceback (most recent call last)",
      "\u001b[0;32m/srv/scratch/z3289452/miniconda3/envs/OceanDataScience/lib/python3.7/site-packages/pandas/core/indexes/datetimes.py\u001b[0m in \u001b[0;36mget_value\u001b[0;34m(self, series, key)\u001b[0m\n\u001b[1;32m    650\u001b[0m         \u001b[0;32mtry\u001b[0m\u001b[0;34m:\u001b[0m\u001b[0;34m\u001b[0m\u001b[0;34m\u001b[0m\u001b[0m\n\u001b[0;32m--> 651\u001b[0;31m             \u001b[0mvalue\u001b[0m \u001b[0;34m=\u001b[0m \u001b[0mIndex\u001b[0m\u001b[0;34m.\u001b[0m\u001b[0mget_value\u001b[0m\u001b[0;34m(\u001b[0m\u001b[0mself\u001b[0m\u001b[0;34m,\u001b[0m \u001b[0mseries\u001b[0m\u001b[0;34m,\u001b[0m \u001b[0mkey\u001b[0m\u001b[0;34m)\u001b[0m\u001b[0;34m\u001b[0m\u001b[0;34m\u001b[0m\u001b[0m\n\u001b[0m\u001b[1;32m    652\u001b[0m         \u001b[0;32mexcept\u001b[0m \u001b[0mKeyError\u001b[0m\u001b[0;34m:\u001b[0m\u001b[0;34m\u001b[0m\u001b[0;34m\u001b[0m\u001b[0m\n",
      "\u001b[0;32m/srv/scratch/z3289452/miniconda3/envs/OceanDataScience/lib/python3.7/site-packages/pandas/core/indexes/base.py\u001b[0m in \u001b[0;36mget_value\u001b[0;34m(self, series, key)\u001b[0m\n\u001b[1;32m   4418\u001b[0m                 \u001b[0;32melse\u001b[0m\u001b[0;34m:\u001b[0m\u001b[0;34m\u001b[0m\u001b[0;34m\u001b[0m\u001b[0m\n\u001b[0;32m-> 4419\u001b[0;31m                     \u001b[0;32mraise\u001b[0m \u001b[0me1\u001b[0m\u001b[0;34m\u001b[0m\u001b[0;34m\u001b[0m\u001b[0m\n\u001b[0m\u001b[1;32m   4420\u001b[0m             \u001b[0;32mexcept\u001b[0m \u001b[0mException\u001b[0m\u001b[0;34m:\u001b[0m\u001b[0;34m\u001b[0m\u001b[0;34m\u001b[0m\u001b[0m\n",
      "\u001b[0;32m/srv/scratch/z3289452/miniconda3/envs/OceanDataScience/lib/python3.7/site-packages/pandas/core/indexes/base.py\u001b[0m in \u001b[0;36mget_value\u001b[0;34m(self, series, key)\u001b[0m\n\u001b[1;32m   4404\u001b[0m         \u001b[0;32mtry\u001b[0m\u001b[0;34m:\u001b[0m\u001b[0;34m\u001b[0m\u001b[0;34m\u001b[0m\u001b[0m\n\u001b[0;32m-> 4405\u001b[0;31m             \u001b[0;32mreturn\u001b[0m \u001b[0mself\u001b[0m\u001b[0;34m.\u001b[0m\u001b[0m_engine\u001b[0m\u001b[0;34m.\u001b[0m\u001b[0mget_value\u001b[0m\u001b[0;34m(\u001b[0m\u001b[0ms\u001b[0m\u001b[0;34m,\u001b[0m \u001b[0mk\u001b[0m\u001b[0;34m,\u001b[0m \u001b[0mtz\u001b[0m\u001b[0;34m=\u001b[0m\u001b[0mgetattr\u001b[0m\u001b[0;34m(\u001b[0m\u001b[0mseries\u001b[0m\u001b[0;34m.\u001b[0m\u001b[0mdtype\u001b[0m\u001b[0;34m,\u001b[0m \u001b[0;34m\"tz\"\u001b[0m\u001b[0;34m,\u001b[0m \u001b[0;32mNone\u001b[0m\u001b[0;34m)\u001b[0m\u001b[0;34m)\u001b[0m\u001b[0;34m\u001b[0m\u001b[0;34m\u001b[0m\u001b[0m\n\u001b[0m\u001b[1;32m   4406\u001b[0m         \u001b[0;32mexcept\u001b[0m \u001b[0mKeyError\u001b[0m \u001b[0;32mas\u001b[0m \u001b[0me1\u001b[0m\u001b[0;34m:\u001b[0m\u001b[0;34m\u001b[0m\u001b[0;34m\u001b[0m\u001b[0m\n",
      "\u001b[0;32mpandas/_libs/index.pyx\u001b[0m in \u001b[0;36mpandas._libs.index.IndexEngine.get_value\u001b[0;34m()\u001b[0m\n",
      "\u001b[0;32mpandas/_libs/index.pyx\u001b[0m in \u001b[0;36mpandas._libs.index.IndexEngine.get_value\u001b[0;34m()\u001b[0m\n",
      "\u001b[0;32mpandas/_libs/index.pyx\u001b[0m in \u001b[0;36mpandas._libs.index.DatetimeEngine.get_loc\u001b[0;34m()\u001b[0m\n",
      "\u001b[0;32mpandas/_libs/index.pyx\u001b[0m in \u001b[0;36mpandas._libs.index.DatetimeEngine._date_check_type\u001b[0;34m()\u001b[0m\n",
      "\u001b[0;31mKeyError\u001b[0m: range(0, 204)",
      "\nDuring handling of the above exception, another exception occurred:\n",
      "\u001b[0;31mTypeError\u001b[0m                                 Traceback (most recent call last)",
      "\u001b[0;32m/srv/scratch/z3289452/miniconda3/envs/OceanDataScience/lib/python3.7/site-packages/pandas/core/indexes/datetimes.py\u001b[0m in \u001b[0;36mget_value\u001b[0;34m(self, series, key)\u001b[0m\n\u001b[1;32m    659\u001b[0m             \u001b[0;32mtry\u001b[0m\u001b[0;34m:\u001b[0m\u001b[0;34m\u001b[0m\u001b[0;34m\u001b[0m\u001b[0m\n\u001b[0;32m--> 660\u001b[0;31m                 \u001b[0;32mreturn\u001b[0m \u001b[0mself\u001b[0m\u001b[0;34m.\u001b[0m\u001b[0mget_value_maybe_box\u001b[0m\u001b[0;34m(\u001b[0m\u001b[0mseries\u001b[0m\u001b[0;34m,\u001b[0m \u001b[0mkey\u001b[0m\u001b[0;34m)\u001b[0m\u001b[0;34m\u001b[0m\u001b[0;34m\u001b[0m\u001b[0m\n\u001b[0m\u001b[1;32m    661\u001b[0m             \u001b[0;32mexcept\u001b[0m \u001b[0;34m(\u001b[0m\u001b[0mTypeError\u001b[0m\u001b[0;34m,\u001b[0m \u001b[0mValueError\u001b[0m\u001b[0;34m,\u001b[0m \u001b[0mKeyError\u001b[0m\u001b[0;34m)\u001b[0m\u001b[0;34m:\u001b[0m\u001b[0;34m\u001b[0m\u001b[0;34m\u001b[0m\u001b[0m\n",
      "\u001b[0;32m/srv/scratch/z3289452/miniconda3/envs/OceanDataScience/lib/python3.7/site-packages/pandas/core/indexes/datetimes.py\u001b[0m in \u001b[0;36mget_value_maybe_box\u001b[0;34m(self, series, key)\u001b[0m\n\u001b[1;32m    674\u001b[0m         \u001b[0;32melif\u001b[0m \u001b[0;32mnot\u001b[0m \u001b[0misinstance\u001b[0m\u001b[0;34m(\u001b[0m\u001b[0mkey\u001b[0m\u001b[0;34m,\u001b[0m \u001b[0mTimestamp\u001b[0m\u001b[0;34m)\u001b[0m\u001b[0;34m:\u001b[0m\u001b[0;34m\u001b[0m\u001b[0;34m\u001b[0m\u001b[0m\n\u001b[0;32m--> 675\u001b[0;31m             \u001b[0mkey\u001b[0m \u001b[0;34m=\u001b[0m \u001b[0mTimestamp\u001b[0m\u001b[0;34m(\u001b[0m\u001b[0mkey\u001b[0m\u001b[0;34m)\u001b[0m\u001b[0;34m\u001b[0m\u001b[0;34m\u001b[0m\u001b[0m\n\u001b[0m\u001b[1;32m    676\u001b[0m         \u001b[0mvalues\u001b[0m \u001b[0;34m=\u001b[0m \u001b[0mself\u001b[0m\u001b[0;34m.\u001b[0m\u001b[0m_engine\u001b[0m\u001b[0;34m.\u001b[0m\u001b[0mget_value\u001b[0m\u001b[0;34m(\u001b[0m\u001b[0mcom\u001b[0m\u001b[0;34m.\u001b[0m\u001b[0mvalues_from_object\u001b[0m\u001b[0;34m(\u001b[0m\u001b[0mseries\u001b[0m\u001b[0;34m)\u001b[0m\u001b[0;34m,\u001b[0m \u001b[0mkey\u001b[0m\u001b[0;34m,\u001b[0m \u001b[0mtz\u001b[0m\u001b[0;34m=\u001b[0m\u001b[0mself\u001b[0m\u001b[0;34m.\u001b[0m\u001b[0mtz\u001b[0m\u001b[0;34m)\u001b[0m\u001b[0;34m\u001b[0m\u001b[0;34m\u001b[0m\u001b[0m\n",
      "\u001b[0;32mpandas/_libs/tslibs/timestamps.pyx\u001b[0m in \u001b[0;36mpandas._libs.tslibs.timestamps.Timestamp.__new__\u001b[0;34m()\u001b[0m\n",
      "\u001b[0;32mpandas/_libs/tslibs/conversion.pyx\u001b[0m in \u001b[0;36mpandas._libs.tslibs.conversion.convert_to_tsobject\u001b[0;34m()\u001b[0m\n",
      "\u001b[0;31mTypeError\u001b[0m: Cannot convert input [range(0, 204)] of type <class 'range'> to Timestamp",
      "\nDuring handling of the above exception, another exception occurred:\n",
      "\u001b[0;31mKeyError\u001b[0m                                  Traceback (most recent call last)",
      "\u001b[0;32m<ipython-input-34-3d0f3aee6140>\u001b[0m in \u001b[0;36m<module>\u001b[0;34m\u001b[0m\n\u001b[1;32m      1\u001b[0m \u001b[0mhist_size\u001b[0m \u001b[0;34m=\u001b[0m \u001b[0;36m182\u001b[0m\u001b[0;34m+\u001b[0m\u001b[0;36m22\u001b[0m\u001b[0;34m\u001b[0m\u001b[0;34m\u001b[0m\u001b[0m\n\u001b[1;32m      2\u001b[0m \u001b[0mtarg_size\u001b[0m \u001b[0;34m=\u001b[0m \u001b[0mhist_size\u001b[0m\u001b[0;34m\u001b[0m\u001b[0;34m\u001b[0m\u001b[0m\n\u001b[0;32m----> 3\u001b[0;31m \u001b[0mX\u001b[0m\u001b[0;34m,\u001b[0m \u001b[0my\u001b[0m \u001b[0;34m=\u001b[0m \u001b[0mgenerate_sequence\u001b[0m\u001b[0;34m(\u001b[0m\u001b[0mtemp_df_15\u001b[0m\u001b[0;34m.\u001b[0m\u001b[0mTEMP\u001b[0m\u001b[0;34m,\u001b[0m \u001b[0mhist_size\u001b[0m\u001b[0;34m,\u001b[0m \u001b[0mtarg_size\u001b[0m\u001b[0;34m)\u001b[0m\u001b[0;34m\u001b[0m\u001b[0;34m\u001b[0m\u001b[0m\n\u001b[0m",
      "\u001b[0;32m<ipython-input-33-752d08ecc9ea>\u001b[0m in \u001b[0;36mgenerate_sequence\u001b[0;34m(dataset, history_size, target_size)\u001b[0m\n\u001b[1;32m      9\u001b[0m         \u001b[0mindices\u001b[0m \u001b[0;34m=\u001b[0m \u001b[0mrange\u001b[0m\u001b[0;34m(\u001b[0m\u001b[0mi\u001b[0m\u001b[0;34m-\u001b[0m\u001b[0mhistory_size\u001b[0m\u001b[0;34m,\u001b[0m \u001b[0mi\u001b[0m\u001b[0;34m)\u001b[0m\u001b[0;34m\u001b[0m\u001b[0;34m\u001b[0m\u001b[0m\n\u001b[1;32m     10\u001b[0m         \u001b[0;31m# Reshape data from (history_size,) to (history_size, 1)\u001b[0m\u001b[0;34m\u001b[0m\u001b[0;34m\u001b[0m\u001b[0;34m\u001b[0m\u001b[0m\n\u001b[0;32m---> 11\u001b[0;31m         \u001b[0mdata\u001b[0m\u001b[0;34m.\u001b[0m\u001b[0mappend\u001b[0m\u001b[0;34m(\u001b[0m\u001b[0mnp\u001b[0m\u001b[0;34m.\u001b[0m\u001b[0mreshape\u001b[0m\u001b[0;34m(\u001b[0m\u001b[0mdataset\u001b[0m\u001b[0;34m[\u001b[0m\u001b[0mindices\u001b[0m\u001b[0;34m]\u001b[0m\u001b[0;34m,\u001b[0m \u001b[0;34m(\u001b[0m\u001b[0mhistory_size\u001b[0m\u001b[0;34m,\u001b[0m \u001b[0;36m1\u001b[0m\u001b[0;34m)\u001b[0m\u001b[0;34m)\u001b[0m\u001b[0;34m)\u001b[0m\u001b[0;34m\u001b[0m\u001b[0;34m\u001b[0m\u001b[0m\n\u001b[0m\u001b[1;32m     12\u001b[0m         \u001b[0mlabels\u001b[0m\u001b[0;34m.\u001b[0m\u001b[0mappend\u001b[0m\u001b[0;34m(\u001b[0m\u001b[0mdataset\u001b[0m\u001b[0;34m[\u001b[0m\u001b[0mi\u001b[0m\u001b[0;34m+\u001b[0m\u001b[0mtarget_size\u001b[0m\u001b[0;34m]\u001b[0m\u001b[0;34m)\u001b[0m\u001b[0;34m\u001b[0m\u001b[0;34m\u001b[0m\u001b[0m\n\u001b[1;32m     13\u001b[0m     \u001b[0;32mreturn\u001b[0m \u001b[0mnp\u001b[0m\u001b[0;34m.\u001b[0m\u001b[0marray\u001b[0m\u001b[0;34m(\u001b[0m\u001b[0mdata\u001b[0m\u001b[0;34m)\u001b[0m\u001b[0;34m,\u001b[0m \u001b[0mnp\u001b[0m\u001b[0;34m.\u001b[0m\u001b[0marray\u001b[0m\u001b[0;34m(\u001b[0m\u001b[0mlabels\u001b[0m\u001b[0;34m)\u001b[0m\u001b[0;34m\u001b[0m\u001b[0;34m\u001b[0m\u001b[0m\n",
      "\u001b[0;32m/srv/scratch/z3289452/miniconda3/envs/OceanDataScience/lib/python3.7/site-packages/pandas/core/series.py\u001b[0m in \u001b[0;36m__getitem__\u001b[0;34m(self, key)\u001b[0m\n\u001b[1;32m    869\u001b[0m         \u001b[0mkey\u001b[0m \u001b[0;34m=\u001b[0m \u001b[0mcom\u001b[0m\u001b[0;34m.\u001b[0m\u001b[0mapply_if_callable\u001b[0m\u001b[0;34m(\u001b[0m\u001b[0mkey\u001b[0m\u001b[0;34m,\u001b[0m \u001b[0mself\u001b[0m\u001b[0;34m)\u001b[0m\u001b[0;34m\u001b[0m\u001b[0;34m\u001b[0m\u001b[0m\n\u001b[1;32m    870\u001b[0m         \u001b[0;32mtry\u001b[0m\u001b[0;34m:\u001b[0m\u001b[0;34m\u001b[0m\u001b[0;34m\u001b[0m\u001b[0m\n\u001b[0;32m--> 871\u001b[0;31m             \u001b[0mresult\u001b[0m \u001b[0;34m=\u001b[0m \u001b[0mself\u001b[0m\u001b[0;34m.\u001b[0m\u001b[0mindex\u001b[0m\u001b[0;34m.\u001b[0m\u001b[0mget_value\u001b[0m\u001b[0;34m(\u001b[0m\u001b[0mself\u001b[0m\u001b[0;34m,\u001b[0m \u001b[0mkey\u001b[0m\u001b[0;34m)\u001b[0m\u001b[0;34m\u001b[0m\u001b[0;34m\u001b[0m\u001b[0m\n\u001b[0m\u001b[1;32m    872\u001b[0m \u001b[0;34m\u001b[0m\u001b[0m\n\u001b[1;32m    873\u001b[0m             \u001b[0;32mif\u001b[0m \u001b[0;32mnot\u001b[0m \u001b[0mis_scalar\u001b[0m\u001b[0;34m(\u001b[0m\u001b[0mresult\u001b[0m\u001b[0;34m)\u001b[0m\u001b[0;34m:\u001b[0m\u001b[0;34m\u001b[0m\u001b[0;34m\u001b[0m\u001b[0m\n",
      "\u001b[0;32m/srv/scratch/z3289452/miniconda3/envs/OceanDataScience/lib/python3.7/site-packages/pandas/core/indexes/datetimes.py\u001b[0m in \u001b[0;36mget_value\u001b[0;34m(self, series, key)\u001b[0m\n\u001b[1;32m    660\u001b[0m                 \u001b[0;32mreturn\u001b[0m \u001b[0mself\u001b[0m\u001b[0;34m.\u001b[0m\u001b[0mget_value_maybe_box\u001b[0m\u001b[0;34m(\u001b[0m\u001b[0mseries\u001b[0m\u001b[0;34m,\u001b[0m \u001b[0mkey\u001b[0m\u001b[0;34m)\u001b[0m\u001b[0;34m\u001b[0m\u001b[0;34m\u001b[0m\u001b[0m\n\u001b[1;32m    661\u001b[0m             \u001b[0;32mexcept\u001b[0m \u001b[0;34m(\u001b[0m\u001b[0mTypeError\u001b[0m\u001b[0;34m,\u001b[0m \u001b[0mValueError\u001b[0m\u001b[0;34m,\u001b[0m \u001b[0mKeyError\u001b[0m\u001b[0;34m)\u001b[0m\u001b[0;34m:\u001b[0m\u001b[0;34m\u001b[0m\u001b[0;34m\u001b[0m\u001b[0m\n\u001b[0;32m--> 662\u001b[0;31m                 \u001b[0;32mraise\u001b[0m \u001b[0mKeyError\u001b[0m\u001b[0;34m(\u001b[0m\u001b[0mkey\u001b[0m\u001b[0;34m)\u001b[0m\u001b[0;34m\u001b[0m\u001b[0;34m\u001b[0m\u001b[0m\n\u001b[0m\u001b[1;32m    663\u001b[0m         \u001b[0;32melse\u001b[0m\u001b[0;34m:\u001b[0m\u001b[0;34m\u001b[0m\u001b[0;34m\u001b[0m\u001b[0m\n\u001b[1;32m    664\u001b[0m             \u001b[0;32mreturn\u001b[0m \u001b[0mcom\u001b[0m\u001b[0;34m.\u001b[0m\u001b[0mmaybe_box\u001b[0m\u001b[0;34m(\u001b[0m\u001b[0mself\u001b[0m\u001b[0;34m,\u001b[0m \u001b[0mvalue\u001b[0m\u001b[0;34m,\u001b[0m \u001b[0mseries\u001b[0m\u001b[0;34m,\u001b[0m \u001b[0mkey\u001b[0m\u001b[0;34m)\u001b[0m\u001b[0;34m\u001b[0m\u001b[0;34m\u001b[0m\u001b[0m\n",
      "\u001b[0;31mKeyError\u001b[0m: range(0, 204)"
     ]
    }
   ],
   "source": [
    "hist_size = 182+22\n",
    "targ_size = hist_size\n",
    "X, y = generate_sequence(temp_df_15.TEMP, hist_size, targ_size)"
   ]
  },
  {
   "cell_type": "code",
   "execution_count": 32,
   "metadata": {},
   "outputs": [
    {
     "data": {
      "text/plain": [
       "TIME\n",
       "2011-03-30 01:00:00    23.914965\n",
       "2011-03-30 02:00:00    23.876726\n",
       "2011-03-30 03:00:00    23.861305\n",
       "2011-03-30 04:00:00    23.838934\n",
       "2011-03-30 05:00:00    23.851543\n",
       "                         ...    \n",
       "2017-08-27 14:00:00    18.774223\n",
       "2017-08-27 15:00:00    18.677221\n",
       "2017-08-27 16:00:00    18.512810\n",
       "2017-08-27 17:00:00    18.349054\n",
       "2017-08-27 18:00:00    18.427813\n",
       "Name: TEMP, Length: 38582, dtype: float32"
      ]
     },
     "execution_count": 32,
     "metadata": {},
     "output_type": "execute_result"
    }
   ],
   "source": [
    "temp_df_15.TEMP"
   ]
  },
  {
   "cell_type": "code",
   "execution_count": null,
   "metadata": {},
   "outputs": [],
   "source": []
  }
 ],
 "metadata": {
  "kernelspec": {
   "display_name": "Python 3",
   "language": "python",
   "name": "python3"
  },
  "language_info": {
   "codemirror_mode": {
    "name": "ipython",
    "version": 3
   },
   "file_extension": ".py",
   "mimetype": "text/x-python",
   "name": "python",
   "nbconvert_exporter": "python",
   "pygments_lexer": "ipython3",
   "version": "3.7.3"
  }
 },
 "nbformat": 4,
 "nbformat_minor": 4
}
