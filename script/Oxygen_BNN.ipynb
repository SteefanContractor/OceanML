{
 "cells": [
  {
   "cell_type": "code",
   "execution_count": 1,
   "metadata": {},
   "outputs": [],
   "source": [
    "import pandas as pd\n",
    "import numpy as np\n",
    "import matplotlib.pyplot as plt\n",
    "import pickle\n",
    "%matplotlib inline"
   ]
  },
  {
   "cell_type": "code",
   "execution_count": 2,
   "metadata": {},
   "outputs": [],
   "source": [
    "from matplotlib import rcParams \n",
    "rcParams.update({'font.size': 18})\n",
    "from matplotlib.ticker import PercentFormatter"
   ]
  },
  {
   "cell_type": "code",
   "execution_count": null,
   "metadata": {},
   "outputs": [],
   "source": [
    "import tensorflow as tf\n",
    "from tensorflow import keras\n",
    "from tensorflow.keras import layers\n",
    "from tensorflow.keras import regularizers\n",
    "import tensorflow_probability as tfp"
   ]
  },
  {
   "cell_type": "code",
   "execution_count": 2,
   "metadata": {},
   "outputs": [
    {
     "data": {
      "text/plain": [
       "('2.4.1', '0.12.1')"
      ]
     },
     "execution_count": 2,
     "metadata": {},
     "output_type": "execute_result"
    }
   ],
   "source": [
    "tf.__version__, tfp.__version__"
   ]
  },
  {
   "cell_type": "code",
   "execution_count": 5,
   "metadata": {},
   "outputs": [
    {
     "data": {
      "text/html": [
       "<div>\n",
       "<style scoped>\n",
       "    .dataframe tbody tr th:only-of-type {\n",
       "        vertical-align: middle;\n",
       "    }\n",
       "\n",
       "    .dataframe tbody tr th {\n",
       "        vertical-align: top;\n",
       "    }\n",
       "\n",
       "    .dataframe thead th {\n",
       "        text-align: right;\n",
       "    }\n",
       "</style>\n",
       "<table border=\"1\" class=\"dataframe\">\n",
       "  <thead>\n",
       "    <tr style=\"text-align: right;\">\n",
       "      <th></th>\n",
       "      <th>Year</th>\n",
       "      <th>Yday</th>\n",
       "      <th>Hour</th>\n",
       "      <th>PRESSURE</th>\n",
       "      <th>TEMPERATURE_VALUE</th>\n",
       "      <th>SALINITY_VALUE</th>\n",
       "      <th>OXYGEN_VALUE</th>\n",
       "    </tr>\n",
       "  </thead>\n",
       "  <tbody>\n",
       "    <tr>\n",
       "      <th>count</th>\n",
       "      <td>1.234100e+04</td>\n",
       "      <td>1.234100e+04</td>\n",
       "      <td>12341.000000</td>\n",
       "      <td>1.234100e+04</td>\n",
       "      <td>1.234100e+04</td>\n",
       "      <td>1.234100e+04</td>\n",
       "      <td>12341.000000</td>\n",
       "    </tr>\n",
       "    <tr>\n",
       "      <th>mean</th>\n",
       "      <td>1.274958e-14</td>\n",
       "      <td>-8.751519e-17</td>\n",
       "      <td>0.000000</td>\n",
       "      <td>8.060610e-17</td>\n",
       "      <td>-1.520001e-16</td>\n",
       "      <td>3.435202e-14</td>\n",
       "      <td>218.501794</td>\n",
       "    </tr>\n",
       "    <tr>\n",
       "      <th>std</th>\n",
       "      <td>1.000000e+00</td>\n",
       "      <td>1.000000e+00</td>\n",
       "      <td>1.000000</td>\n",
       "      <td>1.000000e+00</td>\n",
       "      <td>1.000000e+00</td>\n",
       "      <td>1.000000e+00</td>\n",
       "      <td>23.150133</td>\n",
       "    </tr>\n",
       "    <tr>\n",
       "      <th>min</th>\n",
       "      <td>-2.035476e+00</td>\n",
       "      <td>-1.754102e+00</td>\n",
       "      <td>-0.036029</td>\n",
       "      <td>-1.421978e+00</td>\n",
       "      <td>-2.515894e+00</td>\n",
       "      <td>-3.751239e+00</td>\n",
       "      <td>109.900000</td>\n",
       "    </tr>\n",
       "    <tr>\n",
       "      <th>25%</th>\n",
       "      <td>-7.417802e-01</td>\n",
       "      <td>-8.565878e-01</td>\n",
       "      <td>-0.036029</td>\n",
       "      <td>-7.603727e-01</td>\n",
       "      <td>-7.337237e-01</td>\n",
       "      <td>-6.594490e-01</td>\n",
       "      <td>200.130000</td>\n",
       "    </tr>\n",
       "    <tr>\n",
       "      <th>50%</th>\n",
       "      <td>8.148080e-02</td>\n",
       "      <td>3.137826e-02</td>\n",
       "      <td>-0.036029</td>\n",
       "      <td>-9.876695e-02</td>\n",
       "      <td>-1.080223e-01</td>\n",
       "      <td>3.997917e-02</td>\n",
       "      <td>223.360000</td>\n",
       "    </tr>\n",
       "    <tr>\n",
       "      <th>75%</th>\n",
       "      <td>7.871331e-01</td>\n",
       "      <td>8.716042e-01</td>\n",
       "      <td>-0.036029</td>\n",
       "      <td>8.936417e-01</td>\n",
       "      <td>6.471345e-01</td>\n",
       "      <td>6.996671e-01</td>\n",
       "      <td>235.430000</td>\n",
       "    </tr>\n",
       "    <tr>\n",
       "      <th>max</th>\n",
       "      <td>1.728003e+00</td>\n",
       "      <td>1.721378e+00</td>\n",
       "      <td>27.753380</td>\n",
       "      <td>2.448415e+00</td>\n",
       "      <td>3.421796e+00</td>\n",
       "      <td>2.495926e+00</td>\n",
       "      <td>324.320000</td>\n",
       "    </tr>\n",
       "  </tbody>\n",
       "</table>\n",
       "</div>"
      ],
      "text/plain": [
       "               Year          Yday          Hour      PRESSURE  \\\n",
       "count  1.234100e+04  1.234100e+04  12341.000000  1.234100e+04   \n",
       "mean   1.274958e-14 -8.751519e-17      0.000000  8.060610e-17   \n",
       "std    1.000000e+00  1.000000e+00      1.000000  1.000000e+00   \n",
       "min   -2.035476e+00 -1.754102e+00     -0.036029 -1.421978e+00   \n",
       "25%   -7.417802e-01 -8.565878e-01     -0.036029 -7.603727e-01   \n",
       "50%    8.148080e-02  3.137826e-02     -0.036029 -9.876695e-02   \n",
       "75%    7.871331e-01  8.716042e-01     -0.036029  8.936417e-01   \n",
       "max    1.728003e+00  1.721378e+00     27.753380  2.448415e+00   \n",
       "\n",
       "       TEMPERATURE_VALUE  SALINITY_VALUE  OXYGEN_VALUE  \n",
       "count       1.234100e+04    1.234100e+04  12341.000000  \n",
       "mean       -1.520001e-16    3.435202e-14    218.501794  \n",
       "std         1.000000e+00    1.000000e+00     23.150133  \n",
       "min        -2.515894e+00   -3.751239e+00    109.900000  \n",
       "25%        -7.337237e-01   -6.594490e-01    200.130000  \n",
       "50%        -1.080223e-01    3.997917e-02    223.360000  \n",
       "75%         6.471345e-01    6.996671e-01    235.430000  \n",
       "max         3.421796e+00    2.495926e+00    324.320000  "
      ]
     },
     "execution_count": 5,
     "metadata": {},
     "output_type": "execute_result"
    }
   ],
   "source": [
    "pickle_in = open(\"../data/oxygen.pickle\", \"rb\")\n",
    "oxygen = pickle.load(pickle_in)\n",
    "oxygen.describe()"
   ]
  },
  {
   "cell_type": "code",
   "execution_count": 3,
   "metadata": {},
   "outputs": [],
   "source": [
    "%load_ext tensorboard"
   ]
  },
  {
   "cell_type": "code",
   "execution_count": 4,
   "metadata": {},
   "outputs": [
    {
     "name": "stdout",
     "output_type": "stream",
     "text": [
      "WARNING: GPU device not found.\n"
     ]
    }
   ],
   "source": [
    "# check if there are any GPUs avaialable on Katana\n",
    "if tf.test.gpu_device_name() != '/device:GPU:0':\n",
    "  print('WARNING: GPU device not found.')\n",
    "else:\n",
    "  print('SUCCESS: Found GPU: {}'.format(tf.test.gpu_device_name()))"
   ]
  },
  {
   "cell_type": "code",
   "execution_count": null,
   "metadata": {},
   "outputs": [],
   "source": []
  }
 ],
 "metadata": {
  "kernelspec": {
   "display_name": "Python 3",
   "language": "python",
   "name": "python3"
  },
  "language_info": {
   "codemirror_mode": {
    "name": "ipython",
    "version": 3
   },
   "file_extension": ".py",
   "mimetype": "text/x-python",
   "name": "python",
   "nbconvert_exporter": "python",
   "pygments_lexer": "ipython3",
   "version": "3.7.3"
  }
 },
 "nbformat": 4,
 "nbformat_minor": 4
}
