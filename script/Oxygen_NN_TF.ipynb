{
 "cells": [
  {
   "cell_type": "code",
   "execution_count": 1,
   "metadata": {},
   "outputs": [],
   "source": [
    "import pandas as pd\n",
    "import numpy as np\n",
    "import matplotlib.pyplot as plt\n",
    "import pickle\n",
    "%matplotlib inline"
   ]
  },
  {
   "cell_type": "code",
   "execution_count": 27,
   "metadata": {},
   "outputs": [
    {
     "data": {
      "text/html": [
       "<div>\n",
       "<style scoped>\n",
       "    .dataframe tbody tr th:only-of-type {\n",
       "        vertical-align: middle;\n",
       "    }\n",
       "\n",
       "    .dataframe tbody tr th {\n",
       "        vertical-align: top;\n",
       "    }\n",
       "\n",
       "    .dataframe thead th {\n",
       "        text-align: right;\n",
       "    }\n",
       "</style>\n",
       "<table border=\"1\" class=\"dataframe\">\n",
       "  <thead>\n",
       "    <tr style=\"text-align: right;\">\n",
       "      <th></th>\n",
       "      <th>Year</th>\n",
       "      <th>Yday</th>\n",
       "      <th>Hour</th>\n",
       "      <th>PRESSURE</th>\n",
       "      <th>TEMPERATURE_VALUE</th>\n",
       "      <th>SALINITY_VALUE</th>\n",
       "      <th>OXYGEN_VALUE</th>\n",
       "    </tr>\n",
       "  </thead>\n",
       "  <tbody>\n",
       "    <tr>\n",
       "      <th>count</th>\n",
       "      <td>1.297000e+04</td>\n",
       "      <td>1.297000e+04</td>\n",
       "      <td>12970.000000</td>\n",
       "      <td>1.297000e+04</td>\n",
       "      <td>1.297000e+04</td>\n",
       "      <td>1.297000e+04</td>\n",
       "      <td>12970.000000</td>\n",
       "    </tr>\n",
       "    <tr>\n",
       "      <th>mean</th>\n",
       "      <td>-8.204386e-15</td>\n",
       "      <td>1.314805e-16</td>\n",
       "      <td>0.000000</td>\n",
       "      <td>8.765369e-18</td>\n",
       "      <td>4.908607e-16</td>\n",
       "      <td>4.382685e-15</td>\n",
       "      <td>218.042145</td>\n",
       "    </tr>\n",
       "    <tr>\n",
       "      <th>std</th>\n",
       "      <td>1.000000e+00</td>\n",
       "      <td>1.000000e+00</td>\n",
       "      <td>1.000000</td>\n",
       "      <td>1.000000e+00</td>\n",
       "      <td>1.000000e+00</td>\n",
       "      <td>1.000000e+00</td>\n",
       "      <td>23.011995</td>\n",
       "    </tr>\n",
       "    <tr>\n",
       "      <th>min</th>\n",
       "      <td>-2.068154e+00</td>\n",
       "      <td>-1.740584e+00</td>\n",
       "      <td>-0.035143</td>\n",
       "      <td>-1.160867e+00</td>\n",
       "      <td>-3.063763e+00</td>\n",
       "      <td>-2.152486e+01</td>\n",
       "      <td>109.900000</td>\n",
       "    </tr>\n",
       "    <tr>\n",
       "      <th>25%</th>\n",
       "      <td>-7.616786e-01</td>\n",
       "      <td>-8.740841e-01</td>\n",
       "      <td>-0.035143</td>\n",
       "      <td>-6.733490e-01</td>\n",
       "      <td>-7.213280e-01</td>\n",
       "      <td>-4.605411e-01</td>\n",
       "      <td>199.690000</td>\n",
       "    </tr>\n",
       "    <tr>\n",
       "      <th>50%</th>\n",
       "      <td>6.971469e-02</td>\n",
       "      <td>3.050335e-02</td>\n",
       "      <td>-0.035143</td>\n",
       "      <td>-1.858306e-01</td>\n",
       "      <td>-1.073420e-01</td>\n",
       "      <td>1.113958e-01</td>\n",
       "      <td>222.920000</td>\n",
       "    </tr>\n",
       "    <tr>\n",
       "      <th>75%</th>\n",
       "      <td>7.823375e-01</td>\n",
       "      <td>8.684370e-01</td>\n",
       "      <td>-0.035143</td>\n",
       "      <td>5.454471e-01</td>\n",
       "      <td>6.431659e-01</td>\n",
       "      <td>5.981507e-01</td>\n",
       "      <td>234.980000</td>\n",
       "    </tr>\n",
       "    <tr>\n",
       "      <th>max</th>\n",
       "      <td>1.732501e+00</td>\n",
       "      <td>1.725415e+00</td>\n",
       "      <td>28.452813</td>\n",
       "      <td>6.151909e+00</td>\n",
       "      <td>3.317628e+00</td>\n",
       "      <td>3.074516e+00</td>\n",
       "      <td>324.320000</td>\n",
       "    </tr>\n",
       "  </tbody>\n",
       "</table>\n",
       "</div>"
      ],
      "text/plain": [
       "               Year          Yday          Hour      PRESSURE  \\\n",
       "count  1.297000e+04  1.297000e+04  12970.000000  1.297000e+04   \n",
       "mean  -8.204386e-15  1.314805e-16      0.000000  8.765369e-18   \n",
       "std    1.000000e+00  1.000000e+00      1.000000  1.000000e+00   \n",
       "min   -2.068154e+00 -1.740584e+00     -0.035143 -1.160867e+00   \n",
       "25%   -7.616786e-01 -8.740841e-01     -0.035143 -6.733490e-01   \n",
       "50%    6.971469e-02  3.050335e-02     -0.035143 -1.858306e-01   \n",
       "75%    7.823375e-01  8.684370e-01     -0.035143  5.454471e-01   \n",
       "max    1.732501e+00  1.725415e+00     28.452813  6.151909e+00   \n",
       "\n",
       "       TEMPERATURE_VALUE  SALINITY_VALUE  OXYGEN_VALUE  \n",
       "count       1.297000e+04    1.297000e+04  12970.000000  \n",
       "mean        4.908607e-16    4.382685e-15    218.042145  \n",
       "std         1.000000e+00    1.000000e+00     23.011995  \n",
       "min        -3.063763e+00   -2.152486e+01    109.900000  \n",
       "25%        -7.213280e-01   -4.605411e-01    199.690000  \n",
       "50%        -1.073420e-01    1.113958e-01    222.920000  \n",
       "75%         6.431659e-01    5.981507e-01    234.980000  \n",
       "max         3.317628e+00    3.074516e+00    324.320000  "
      ]
     },
     "execution_count": 27,
     "metadata": {},
     "output_type": "execute_result"
    }
   ],
   "source": [
    "pickle_in = open(\"../data/oxygen.pickle\", \"rb\")\n",
    "oxygen = pickle.load(pickle_in)\n",
    "oxygen.describe()"
   ]
  },
  {
   "cell_type": "code",
   "execution_count": 147,
   "metadata": {},
   "outputs": [
    {
     "name": "stderr",
     "output_type": "stream",
     "text": [
      "/srv/scratch/z3289452/miniconda3/envs/OceanDataScience/lib/python3.7/site-packages/tensorflow/python/framework/dtypes.py:516: FutureWarning: Passing (type, 1) or '1type' as a synonym of type is deprecated; in a future version of numpy, it will be understood as (type, (1,)) / '(1,)type'.\n",
      "  _np_qint8 = np.dtype([(\"qint8\", np.int8, 1)])\n",
      "/srv/scratch/z3289452/miniconda3/envs/OceanDataScience/lib/python3.7/site-packages/tensorflow/python/framework/dtypes.py:517: FutureWarning: Passing (type, 1) or '1type' as a synonym of type is deprecated; in a future version of numpy, it will be understood as (type, (1,)) / '(1,)type'.\n",
      "  _np_quint8 = np.dtype([(\"quint8\", np.uint8, 1)])\n",
      "/srv/scratch/z3289452/miniconda3/envs/OceanDataScience/lib/python3.7/site-packages/tensorflow/python/framework/dtypes.py:518: FutureWarning: Passing (type, 1) or '1type' as a synonym of type is deprecated; in a future version of numpy, it will be understood as (type, (1,)) / '(1,)type'.\n",
      "  _np_qint16 = np.dtype([(\"qint16\", np.int16, 1)])\n",
      "/srv/scratch/z3289452/miniconda3/envs/OceanDataScience/lib/python3.7/site-packages/tensorflow/python/framework/dtypes.py:519: FutureWarning: Passing (type, 1) or '1type' as a synonym of type is deprecated; in a future version of numpy, it will be understood as (type, (1,)) / '(1,)type'.\n",
      "  _np_quint16 = np.dtype([(\"quint16\", np.uint16, 1)])\n",
      "/srv/scratch/z3289452/miniconda3/envs/OceanDataScience/lib/python3.7/site-packages/tensorflow/python/framework/dtypes.py:520: FutureWarning: Passing (type, 1) or '1type' as a synonym of type is deprecated; in a future version of numpy, it will be understood as (type, (1,)) / '(1,)type'.\n",
      "  _np_qint32 = np.dtype([(\"qint32\", np.int32, 1)])\n",
      "/srv/scratch/z3289452/miniconda3/envs/OceanDataScience/lib/python3.7/site-packages/tensorflow/python/framework/dtypes.py:525: FutureWarning: Passing (type, 1) or '1type' as a synonym of type is deprecated; in a future version of numpy, it will be understood as (type, (1,)) / '(1,)type'.\n",
      "  np_resource = np.dtype([(\"resource\", np.ubyte, 1)])\n",
      "/srv/scratch/z3289452/miniconda3/envs/OceanDataScience/lib/python3.7/site-packages/tensorboard/compat/tensorflow_stub/dtypes.py:541: FutureWarning: Passing (type, 1) or '1type' as a synonym of type is deprecated; in a future version of numpy, it will be understood as (type, (1,)) / '(1,)type'.\n",
      "  _np_qint8 = np.dtype([(\"qint8\", np.int8, 1)])\n",
      "/srv/scratch/z3289452/miniconda3/envs/OceanDataScience/lib/python3.7/site-packages/tensorboard/compat/tensorflow_stub/dtypes.py:542: FutureWarning: Passing (type, 1) or '1type' as a synonym of type is deprecated; in a future version of numpy, it will be understood as (type, (1,)) / '(1,)type'.\n",
      "  _np_quint8 = np.dtype([(\"quint8\", np.uint8, 1)])\n",
      "/srv/scratch/z3289452/miniconda3/envs/OceanDataScience/lib/python3.7/site-packages/tensorboard/compat/tensorflow_stub/dtypes.py:543: FutureWarning: Passing (type, 1) or '1type' as a synonym of type is deprecated; in a future version of numpy, it will be understood as (type, (1,)) / '(1,)type'.\n",
      "  _np_qint16 = np.dtype([(\"qint16\", np.int16, 1)])\n",
      "/srv/scratch/z3289452/miniconda3/envs/OceanDataScience/lib/python3.7/site-packages/tensorboard/compat/tensorflow_stub/dtypes.py:544: FutureWarning: Passing (type, 1) or '1type' as a synonym of type is deprecated; in a future version of numpy, it will be understood as (type, (1,)) / '(1,)type'.\n",
      "  _np_quint16 = np.dtype([(\"quint16\", np.uint16, 1)])\n",
      "/srv/scratch/z3289452/miniconda3/envs/OceanDataScience/lib/python3.7/site-packages/tensorboard/compat/tensorflow_stub/dtypes.py:545: FutureWarning: Passing (type, 1) or '1type' as a synonym of type is deprecated; in a future version of numpy, it will be understood as (type, (1,)) / '(1,)type'.\n",
      "  _np_qint32 = np.dtype([(\"qint32\", np.int32, 1)])\n",
      "/srv/scratch/z3289452/miniconda3/envs/OceanDataScience/lib/python3.7/site-packages/tensorboard/compat/tensorflow_stub/dtypes.py:550: FutureWarning: Passing (type, 1) or '1type' as a synonym of type is deprecated; in a future version of numpy, it will be understood as (type, (1,)) / '(1,)type'.\n",
      "  np_resource = np.dtype([(\"resource\", np.ubyte, 1)])\n"
     ]
    }
   ],
   "source": [
    "import tensorflow as tf\n",
    "\n",
    "from tensorflow import keras\n",
    "from tensorflow.keras import layers"
   ]
  },
  {
   "cell_type": "code",
   "execution_count": 4,
   "metadata": {},
   "outputs": [],
   "source": [
    "## Train test split\n",
    "train_dataset = oxygen.sample(frac=0.8, random_state=0)\n",
    "test_dataset  = oxygen.drop(train_dataset.index)"
   ]
  },
  {
   "cell_type": "code",
   "execution_count": 5,
   "metadata": {},
   "outputs": [
    {
     "data": {
      "text/html": [
       "<div>\n",
       "<style scoped>\n",
       "    .dataframe tbody tr th:only-of-type {\n",
       "        vertical-align: middle;\n",
       "    }\n",
       "\n",
       "    .dataframe tbody tr th {\n",
       "        vertical-align: top;\n",
       "    }\n",
       "\n",
       "    .dataframe thead th {\n",
       "        text-align: right;\n",
       "    }\n",
       "</style>\n",
       "<table border=\"1\" class=\"dataframe\">\n",
       "  <thead>\n",
       "    <tr style=\"text-align: right;\">\n",
       "      <th></th>\n",
       "      <th>Year</th>\n",
       "      <th>Yday</th>\n",
       "      <th>Hour</th>\n",
       "      <th>PRESSURE</th>\n",
       "      <th>TEMPERATURE_VALUE</th>\n",
       "      <th>SALINITY_VALUE</th>\n",
       "      <th>OXYGEN_VALUE</th>\n",
       "    </tr>\n",
       "  </thead>\n",
       "  <tbody>\n",
       "    <tr>\n",
       "      <th>1859</th>\n",
       "      <td>-1.355531</td>\n",
       "      <td>0.563734</td>\n",
       "      <td>-0.035143</td>\n",
       "      <td>0.667327</td>\n",
       "      <td>-0.870289</td>\n",
       "      <td>-0.661327</td>\n",
       "      <td>213.98</td>\n",
       "    </tr>\n",
       "    <tr>\n",
       "      <th>6820</th>\n",
       "      <td>0.069715</td>\n",
       "      <td>1.154096</td>\n",
       "      <td>-0.035143</td>\n",
       "      <td>-0.673349</td>\n",
       "      <td>-0.650527</td>\n",
       "      <td>-0.131982</td>\n",
       "      <td>265.80</td>\n",
       "    </tr>\n",
       "    <tr>\n",
       "      <th>9274</th>\n",
       "      <td>0.544797</td>\n",
       "      <td>1.239794</td>\n",
       "      <td>-0.035143</td>\n",
       "      <td>0.301688</td>\n",
       "      <td>-0.949072</td>\n",
       "      <td>-0.636990</td>\n",
       "      <td>182.71</td>\n",
       "    </tr>\n",
       "    <tr>\n",
       "      <th>11109</th>\n",
       "      <td>0.901108</td>\n",
       "      <td>-0.102804</td>\n",
       "      <td>-0.035143</td>\n",
       "      <td>-0.917108</td>\n",
       "      <td>0.564383</td>\n",
       "      <td>0.214831</td>\n",
       "      <td>227.83</td>\n",
       "    </tr>\n",
       "    <tr>\n",
       "      <th>10251</th>\n",
       "      <td>0.782337</td>\n",
       "      <td>-0.569381</td>\n",
       "      <td>-0.035143</td>\n",
       "      <td>6.151909</td>\n",
       "      <td>-2.267644</td>\n",
       "      <td>-2.352801</td>\n",
       "      <td>202.81</td>\n",
       "    </tr>\n",
       "  </tbody>\n",
       "</table>\n",
       "</div>"
      ],
      "text/plain": [
       "           Year      Yday      Hour  PRESSURE  TEMPERATURE_VALUE  \\\n",
       "1859  -1.355531  0.563734 -0.035143  0.667327          -0.870289   \n",
       "6820   0.069715  1.154096 -0.035143 -0.673349          -0.650527   \n",
       "9274   0.544797  1.239794 -0.035143  0.301688          -0.949072   \n",
       "11109  0.901108 -0.102804 -0.035143 -0.917108           0.564383   \n",
       "10251  0.782337 -0.569381 -0.035143  6.151909          -2.267644   \n",
       "\n",
       "       SALINITY_VALUE  OXYGEN_VALUE  \n",
       "1859        -0.661327        213.98  \n",
       "6820        -0.131982        265.80  \n",
       "9274        -0.636990        182.71  \n",
       "11109        0.214831        227.83  \n",
       "10251       -2.352801        202.81  "
      ]
     },
     "execution_count": 5,
     "metadata": {},
     "output_type": "execute_result"
    }
   ],
   "source": [
    "train_dataset.head()"
   ]
  },
  {
   "cell_type": "code",
   "execution_count": 6,
   "metadata": {},
   "outputs": [],
   "source": [
    "train_labels = train_dataset.pop('OXYGEN_VALUE')\n",
    "test_labels = test_dataset.pop('OXYGEN_VALUE')"
   ]
  },
  {
   "cell_type": "markdown",
   "metadata": {},
   "source": [
    "### The Model"
   ]
  },
  {
   "cell_type": "code",
   "execution_count": 16,
   "metadata": {},
   "outputs": [],
   "source": [
    "def build_model():\n",
    "    model = keras.Sequential([\n",
    "      layers.Dense(64, activation='relu', input_shape=[len(train_dataset.keys())]),\n",
    "      layers.Dense(64, activation='relu'),\n",
    "      layers.Dense(8, activation='relu'),\n",
    "      layers.Dense(1)\n",
    "    ])\n",
    "    \n",
    "    optimizer = keras.optimizers.Adam()\n",
    "    \n",
    "    model.compile(loss='mse',\n",
    "                 optimizer=optimizer,\n",
    "                 metrics=['mae', 'mse', keras.metrics.MeanAbsolutePercentageError()])\n",
    "    \n",
    "    return model"
   ]
  },
  {
   "cell_type": "code",
   "execution_count": 17,
   "metadata": {},
   "outputs": [],
   "source": [
    "model = build_model()"
   ]
  },
  {
   "cell_type": "code",
   "execution_count": 18,
   "metadata": {},
   "outputs": [
    {
     "name": "stdout",
     "output_type": "stream",
     "text": [
      "Model: \"sequential_4\"\n",
      "_________________________________________________________________\n",
      "Layer (type)                 Output Shape              Param #   \n",
      "=================================================================\n",
      "dense_16 (Dense)             (None, 64)                448       \n",
      "_________________________________________________________________\n",
      "dense_17 (Dense)             (None, 64)                4160      \n",
      "_________________________________________________________________\n",
      "dense_18 (Dense)             (None, 8)                 520       \n",
      "_________________________________________________________________\n",
      "dense_19 (Dense)             (None, 1)                 9         \n",
      "=================================================================\n",
      "Total params: 5,137\n",
      "Trainable params: 5,137\n",
      "Non-trainable params: 0\n",
      "_________________________________________________________________\n"
     ]
    }
   ],
   "source": [
    "model.summary()"
   ]
  },
  {
   "cell_type": "code",
   "execution_count": 25,
   "metadata": {},
   "outputs": [
    {
     "name": "stdout",
     "output_type": "stream",
     "text": [
      "WARNING:tensorflow:Falling back from v2 loop because of error: Failed to find data adapter that can handle input: <class 'pandas.core.frame.DataFrame'>, <class 'NoneType'>\n",
      "\n",
      "....................................................................................................\n",
      "....................................................................................................\n",
      "....................................................................................................\n",
      "....................................................................................................\n",
      "...................................................................................................."
     ]
    }
   ],
   "source": [
    "## Train the model\n",
    "# Display training progress by printing a single dot for each completed epoch\n",
    "class PrintDot(keras.callbacks.Callback):\n",
    "  def on_epoch_end(self, epoch, logs):\n",
    "    if epoch % 100 == 0: print('')\n",
    "    print('.', end='')\n",
    "\n",
    "EPOCHS = 500\n",
    "\n",
    "history = model.fit(\n",
    "  train_dataset, train_labels,\n",
    "  epochs=EPOCHS, validation_split = 0.2, verbose=0,\n",
    "  callbacks=[PrintDot()])"
   ]
  },
  {
   "cell_type": "code",
   "execution_count": 26,
   "metadata": {},
   "outputs": [
    {
     "data": {
      "text/html": [
       "<div>\n",
       "<style scoped>\n",
       "    .dataframe tbody tr th:only-of-type {\n",
       "        vertical-align: middle;\n",
       "    }\n",
       "\n",
       "    .dataframe tbody tr th {\n",
       "        vertical-align: top;\n",
       "    }\n",
       "\n",
       "    .dataframe thead th {\n",
       "        text-align: right;\n",
       "    }\n",
       "</style>\n",
       "<table border=\"1\" class=\"dataframe\">\n",
       "  <thead>\n",
       "    <tr style=\"text-align: right;\">\n",
       "      <th></th>\n",
       "      <th>loss</th>\n",
       "      <th>mae</th>\n",
       "      <th>mse</th>\n",
       "      <th>mean_absolute_percentage_error</th>\n",
       "      <th>val_loss</th>\n",
       "      <th>val_mae</th>\n",
       "      <th>val_mse</th>\n",
       "      <th>val_mean_absolute_percentage_error</th>\n",
       "    </tr>\n",
       "  </thead>\n",
       "  <tbody>\n",
       "    <tr>\n",
       "      <th>count</th>\n",
       "      <td>500.000000</td>\n",
       "      <td>500.000000</td>\n",
       "      <td>500.000000</td>\n",
       "      <td>500.000000</td>\n",
       "      <td>500.000000</td>\n",
       "      <td>500.000000</td>\n",
       "      <td>500.000000</td>\n",
       "      <td>500.000000</td>\n",
       "    </tr>\n",
       "    <tr>\n",
       "      <th>mean</th>\n",
       "      <td>124.105141</td>\n",
       "      <td>8.044875</td>\n",
       "      <td>124.105143</td>\n",
       "      <td>3.772340</td>\n",
       "      <td>133.628096</td>\n",
       "      <td>8.503744</td>\n",
       "      <td>133.628095</td>\n",
       "      <td>3.946359</td>\n",
       "    </tr>\n",
       "    <tr>\n",
       "      <th>std</th>\n",
       "      <td>5.019757</td>\n",
       "      <td>0.177361</td>\n",
       "      <td>5.019758</td>\n",
       "      <td>0.083227</td>\n",
       "      <td>4.749098</td>\n",
       "      <td>0.212164</td>\n",
       "      <td>4.749098</td>\n",
       "      <td>0.099593</td>\n",
       "    </tr>\n",
       "    <tr>\n",
       "      <th>min</th>\n",
       "      <td>115.998774</td>\n",
       "      <td>7.751125</td>\n",
       "      <td>115.998795</td>\n",
       "      <td>3.634219</td>\n",
       "      <td>125.249854</td>\n",
       "      <td>8.130034</td>\n",
       "      <td>125.249855</td>\n",
       "      <td>3.764160</td>\n",
       "    </tr>\n",
       "    <tr>\n",
       "      <th>25%</th>\n",
       "      <td>120.222926</td>\n",
       "      <td>7.905116</td>\n",
       "      <td>120.222910</td>\n",
       "      <td>3.706797</td>\n",
       "      <td>130.151139</td>\n",
       "      <td>8.348971</td>\n",
       "      <td>130.151138</td>\n",
       "      <td>3.875533</td>\n",
       "    </tr>\n",
       "    <tr>\n",
       "      <th>50%</th>\n",
       "      <td>122.832589</td>\n",
       "      <td>7.999689</td>\n",
       "      <td>122.832600</td>\n",
       "      <td>3.750814</td>\n",
       "      <td>133.008074</td>\n",
       "      <td>8.473672</td>\n",
       "      <td>133.008087</td>\n",
       "      <td>3.930791</td>\n",
       "    </tr>\n",
       "    <tr>\n",
       "      <th>75%</th>\n",
       "      <td>127.342597</td>\n",
       "      <td>8.157766</td>\n",
       "      <td>127.342588</td>\n",
       "      <td>3.824708</td>\n",
       "      <td>136.167953</td>\n",
       "      <td>8.608869</td>\n",
       "      <td>136.167953</td>\n",
       "      <td>4.002208</td>\n",
       "    </tr>\n",
       "    <tr>\n",
       "      <th>max</th>\n",
       "      <td>138.215576</td>\n",
       "      <td>8.559223</td>\n",
       "      <td>138.215591</td>\n",
       "      <td>4.012484</td>\n",
       "      <td>165.588207</td>\n",
       "      <td>9.861861</td>\n",
       "      <td>165.588226</td>\n",
       "      <td>4.612249</td>\n",
       "    </tr>\n",
       "  </tbody>\n",
       "</table>\n",
       "</div>"
      ],
      "text/plain": [
       "             loss         mae         mse  mean_absolute_percentage_error  \\\n",
       "count  500.000000  500.000000  500.000000                      500.000000   \n",
       "mean   124.105141    8.044875  124.105143                        3.772340   \n",
       "std      5.019757    0.177361    5.019758                        0.083227   \n",
       "min    115.998774    7.751125  115.998795                        3.634219   \n",
       "25%    120.222926    7.905116  120.222910                        3.706797   \n",
       "50%    122.832589    7.999689  122.832600                        3.750814   \n",
       "75%    127.342597    8.157766  127.342588                        3.824708   \n",
       "max    138.215576    8.559223  138.215591                        4.012484   \n",
       "\n",
       "         val_loss     val_mae     val_mse  val_mean_absolute_percentage_error  \n",
       "count  500.000000  500.000000  500.000000                          500.000000  \n",
       "mean   133.628096    8.503744  133.628095                            3.946359  \n",
       "std      4.749098    0.212164    4.749098                            0.099593  \n",
       "min    125.249854    8.130034  125.249855                            3.764160  \n",
       "25%    130.151139    8.348971  130.151138                            3.875533  \n",
       "50%    133.008074    8.473672  133.008087                            3.930791  \n",
       "75%    136.167953    8.608869  136.167953                            4.002208  \n",
       "max    165.588207    9.861861  165.588226                            4.612249  "
      ]
     },
     "execution_count": 26,
     "metadata": {},
     "output_type": "execute_result"
    }
   ],
   "source": [
    "pd.DataFrame(history.history).describe()"
   ]
  },
  {
   "cell_type": "code",
   "execution_count": 39,
   "metadata": {},
   "outputs": [
    {
     "data": {
      "image/png": "[encoded data removed]",
      "text/plain": [
       "<Figure size 432x288 with 1 Axes>"
      ]
     },
     "metadata": {
      "needs_background": "light"
     },
     "output_type": "display_data"
    },
    {
     "data": {
      "image/png": "[encoded data removed]",
      "text/plain": [
       "<Figure size 432x288 with 1 Axes>"
      ]
     },
     "metadata": {
      "needs_background": "light"
     },
     "output_type": "display_data"
    },
    {
     "data": {
      "image/png": "[encoded data removed]",
      "text/plain": [
       "<Figure size 432x288 with 1 Axes>"
      ]
     },
     "metadata": {
      "needs_background": "light"
     },
     "output_type": "display_data"
    }
   ],
   "source": [
    "def plot_history(history):\n",
    "  hist = pd.DataFrame(history.history)\n",
    "  hist['epoch'] = history.epoch\n",
    "\n",
    "  plt.figure()\n",
    "  plt.xlabel('Epoch')\n",
    "  plt.ylabel('Mean Abs Error')\n",
    "  plt.plot(hist['epoch'], hist['mae'],\n",
    "           label='Train Error')\n",
    "  plt.plot(hist['epoch'], hist['val_mae'],\n",
    "           label = 'Val Error')\n",
    "  plt.ylim([5,10])\n",
    "  plt.legend()\n",
    "\n",
    "  plt.figure()\n",
    "  plt.xlabel('Epoch')\n",
    "  plt.ylabel('Mean Square Error')\n",
    "  plt.plot(hist['epoch'], hist['mse'],\n",
    "           label='Train Error')\n",
    "  plt.plot(hist['epoch'], hist['val_mse'],\n",
    "           label = 'Val Error')\n",
    "  plt.ylim([100,200])\n",
    "  plt.legend()\n",
    "\n",
    "  plt.figure()\n",
    "  plt.xlabel('Epoch')\n",
    "  plt.ylabel('Mean Absolute Percentage Error')\n",
    "  plt.plot(hist['epoch'], hist['mean_absolute_percentage_error'],\n",
    "           label='Train Error')\n",
    "  plt.plot(hist['epoch'], hist['val_mean_absolute_percentage_error'],\n",
    "           label = 'Val Error')\n",
    "  plt.ylim([3,6])\n",
    "  plt.legend()\n",
    "  plt.show()\n",
    "\n",
    "\n",
    "plot_history(history)"
   ]
  },
  {
   "cell_type": "code",
   "execution_count": 33,
   "metadata": {},
   "outputs": [
    {
     "name": "stdout",
     "output_type": "stream",
     "text": [
      "WARNING:tensorflow:Falling back from v2 loop because of error: Failed to find data adapter that can handle input: <class 'pandas.core.frame.DataFrame'>, <class 'NoneType'>\n",
      "2594/2594 - 0s - loss: 138.2379 - mae: 8.3196 - mse: 138.2379 - mean_absolute_percentage_error: 3.9170\n",
      "Testing set Mean Abs Percentage Error:  3.92\n"
     ]
    }
   ],
   "source": [
    "loss, mae, mse, mape = model.evaluate(test_dataset, test_labels, verbose=2)\n",
    "\n",
    "print(\"Testing set Mean Abs Percentage Error: {:5.2f}\".format(mape))"
   ]
  },
  {
   "cell_type": "code",
   "execution_count": 32,
   "metadata": {},
   "outputs": [
    {
     "name": "stdout",
     "output_type": "stream",
     "text": [
      "WARNING:tensorflow:Falling back from v2 loop because of error: Failed to find data adapter that can handle input: <class 'pandas.core.frame.DataFrame'>, <class 'NoneType'>\n"
     ]
    },
    {
     "data": {
      "image/png": "[encoded data removed]",
      "text/plain": [
       "<Figure size 432x288 with 1 Axes>"
      ]
     },
     "metadata": {
      "needs_background": "light"
     },
     "output_type": "display_data"
    }
   ],
   "source": [
    "## Make predictions\n",
    "test_predictions = model.predict(test_dataset).flatten()\n",
    "\n",
    "plt.scatter(test_labels, test_predictions)\n",
    "plt.xlabel('True Values [Oxygen]')\n",
    "plt.ylabel('Predictions [Oxygen]')\n",
    "plt.axis('equal')\n",
    "plt.axis('square')\n",
    "_ = plt.plot([-300, 500], [-300, 500])"
   ]
  },
  {
   "cell_type": "code",
   "execution_count": 22,
   "metadata": {},
   "outputs": [
    {
     "data": {
      "image/png": "[encoded data removed]",
      "text/plain": [
       "<Figure size 432x288 with 1 Axes>"
      ]
     },
     "metadata": {
      "needs_background": "light"
     },
     "output_type": "display_data"
    }
   ],
   "source": [
    "error = test_predictions - test_labels\n",
    "plt.hist(error, bins = 25)\n",
    "plt.xlabel(\"Prediction Error [Oxygen]\")\n",
    "_ = plt.ylabel(\"Count\")"
   ]
  },
  {
   "cell_type": "code",
   "execution_count": 36,
   "metadata": {},
   "outputs": [],
   "source": [
    "## Save model\n",
    "model.save('../data/saved_models/oxygen_model.h5')"
   ]
  },
  {
   "cell_type": "markdown",
   "metadata": {},
   "source": [
    "## Load Model"
   ]
  },
  {
   "cell_type": "code",
   "execution_count": 148,
   "metadata": {},
   "outputs": [
    {
     "name": "stdout",
     "output_type": "stream",
     "text": [
      "WARNING:tensorflow:From /srv/scratch/z3289452/miniconda3/envs/OceanDataScience/lib/python3.7/site-packages/tensorflow/python/ops/init_ops.py:1251: calling VarianceScaling.__init__ (from tensorflow.python.ops.init_ops) with dtype is deprecated and will be removed in a future version.\n",
      "Instructions for updating:\n",
      "Call initializer instance with the dtype argument instead of passing it to the constructor\n"
     ]
    }
   ],
   "source": [
    "model = keras.models.load_model('../data/saved_models/oxygen_model.h5')"
   ]
  },
  {
   "cell_type": "code",
   "execution_count": 149,
   "metadata": {},
   "outputs": [
    {
     "name": "stdout",
     "output_type": "stream",
     "text": [
      "Model: \"sequential_1\"\n",
      "_________________________________________________________________\n",
      "Layer (type)                 Output Shape              Param #   \n",
      "=================================================================\n",
      "dense_4 (Dense)              (None, 64)                448       \n",
      "_________________________________________________________________\n",
      "dense_5 (Dense)              (None, 64)                4160      \n",
      "_________________________________________________________________\n",
      "dense_6 (Dense)              (None, 8)                 520       \n",
      "_________________________________________________________________\n",
      "dense_7 (Dense)              (None, 1)                 9         \n",
      "=================================================================\n",
      "Total params: 5,137\n",
      "Trainable params: 5,137\n",
      "Non-trainable params: 0\n",
      "_________________________________________________________________\n"
     ]
    }
   ],
   "source": [
    "model.summary()"
   ]
  },
  {
   "cell_type": "code",
   "execution_count": 9,
   "metadata": {},
   "outputs": [],
   "source": [
    "test_predictions = model.predict(test_dataset).flatten()\n",
    "error = test_predictions - test_labels"
   ]
  },
  {
   "cell_type": "code",
   "execution_count": 10,
   "metadata": {},
   "outputs": [
    {
     "data": {
      "text/plain": [
       "array([-22.19531197, -16.60289813,  18.65565738,  23.59062833])"
      ]
     },
     "execution_count": 10,
     "metadata": {},
     "output_type": "execute_result"
    }
   ],
   "source": [
    "np.percentile(error, [2.5, 5, 95, 97.5])"
   ]
  },
  {
   "cell_type": "markdown",
   "metadata": {},
   "source": [
    "## Application: Predict based on Moorning data"
   ]
  },
  {
   "cell_type": "code",
   "execution_count": 2,
   "metadata": {},
   "outputs": [
    {
     "name": "stderr",
     "output_type": "stream",
     "text": [
      "/srv/scratch/z3289452/miniconda3/envs/OceanDataScience/lib/python3.7/site-packages/xarray/core/merge.py:17: FutureWarning: The Panel class is removed from pandas. Accessing it from the top-level namespace will also be removed in the next version\n",
      "  PANDAS_TYPES = (pd.Series, pd.DataFrame, pd.Panel)\n"
     ]
    }
   ],
   "source": [
    "import xarray as xr"
   ]
  },
  {
   "cell_type": "code",
   "execution_count": 76,
   "metadata": {},
   "outputs": [],
   "source": [
    "# Load PH100 Mooring data\n",
    "wqm_ds = xr.open_dataset('/srv/scratch/z3289452/OceanDataScience/Mooring/PH100/IMOS_ANMN-NSW_OZ_20100504_PH100_FV01_DOX2-aggregated-timeseries_END-20170828_C-20190819.nc') "
   ]
  },
  {
   "cell_type": "code",
   "execution_count": 77,
   "metadata": {},
   "outputs": [
    {
     "data": {
      "text/plain": [
       "<xarray.Dataset>\n",
       "Dimensions:                   (INSTRUMENT: 33, OBSERVATION: 12073463)\n",
       "Coordinates:\n",
       "    TIME                      (OBSERVATION) datetime64[ns] ...\n",
       "    LONGITUDE                 (INSTRUMENT) float32 ...\n",
       "    LATITUDE                  (INSTRUMENT) float32 ...\n",
       "    NOMINAL_DEPTH             (INSTRUMENT) float32 ...\n",
       "Dimensions without coordinates: INSTRUMENT, OBSERVATION\n",
       "Data variables:\n",
       "    DOX2                      (OBSERVATION) float32 ...\n",
       "    DOX2_quality_control      (OBSERVATION) float32 ...\n",
       "    DEPTH                     (OBSERVATION) float32 ...\n",
       "    DEPTH_quality_control     (OBSERVATION) int8 ...\n",
       "    PRES                      (OBSERVATION) float32 ...\n",
       "    PRES_quality_control      (OBSERVATION) float32 ...\n",
       "    PRES_REL                  (OBSERVATION) float32 ...\n",
       "    PRES_REL_quality_control  (OBSERVATION) float32 ...\n",
       "    instrument_index          (OBSERVATION) int32 ...\n",
       "    instrument_id             (INSTRUMENT) |S256 ...\n",
       "    source_file               (INSTRUMENT) |S256 ...\n",
       "Attributes:\n",
       "    Conventions:                   CF-1.6,IMOS-1.4\n",
       "    abstract:                      Aggregated Time-series Product: This file ...\n",
       "    acknowledgement:               Any users of IMOS data are required to cle...\n",
       "    author:                        Klein, Eduardo\n",
       "    author_email:                  eduardo.kleinsalas@utas.edu.au\n",
       "    citation:                      The citation in a list of references is: \"...\n",
       "    data_centre:                   Australian Ocean Data Network (AODN)\n",
       "    data_centre_email:             info@aodn.org.au\n",
       "    date_created:                  2019-08-19T02:32:49Z\n",
       "    disclaimer:                    Data, products and services from IMOS are ...\n",
       "    featureType:                   timeSeries\n",
       "    file_version:                  Level 1 - Quality Controlled Data\n",
       "    file_version_quality_control:  Quality controlled data have been through ...\n",
       "    geospatial_lat_max:            -34.1192\n",
       "    geospatial_lat_min:            -34.12068\n",
       "    geospatial_lon_max:            151.2248\n",
       "    geospatial_lon_min:            151.22415\n",
       "    geospatial_vertical_max:       2357.52392578125\n",
       "    geospatial_vertical_min:       -0.5063575506210327\n",
       "    history:                       2019-08-19T02:32:49Z: Aggregated file crea...\n",
       "    institution_references:        http://imos.org.au/facilities/aodn/\n",
       "    keywords:                      DOX2, DOX2_quality_control, TIME, DEPTH, D...\n",
       "    keywords_vocabulary:           IMOS parameter names. See https://github.c...\n",
       "    license:                       http://creativecommons.org/licenses/by/4.0/\n",
       "    lineage:                       The variable of interest (VoI) is produced...\n",
       "    local_time_zone:               \n",
       "    naming_authority:              IMOS\n",
       "    project:                       Integrated Marine Observing System (IMOS)\n",
       "    references:                    http://www.imos.org.au\n",
       "    rejected_files:                \n",
       "    site_code:                     PH100\n",
       "    source:                        Mooring\n",
       "    standard_name_vocabulary:      NetCDF Climate and Forecast (CF) Metadata ...\n",
       "    time_coverage_end:             2017-08-28T19:45:29Z\n",
       "    time_coverage_start:           2010-05-04T02:00:00Z\n",
       "    title:                         Long Timeseries Aggregated product: DOX2 a..."
      ]
     },
     "execution_count": 77,
     "metadata": {},
     "output_type": "execute_result"
    }
   ],
   "source": [
    "wqm_ds"
   ]
  },
  {
   "cell_type": "code",
   "execution_count": 78,
   "metadata": {},
   "outputs": [
    {
     "data": {
      "text/plain": [
       "array([15. , 15.5, 24. ], dtype=float32)"
      ]
     },
     "execution_count": 78,
     "metadata": {},
     "output_type": "execute_result"
    }
   ],
   "source": [
    "# Nominal depth location of WQM sensors\n",
    "np.unique(wqm_ds.NOMINAL_DEPTH.values)"
   ]
  },
  {
   "cell_type": "code",
   "execution_count": 79,
   "metadata": {},
   "outputs": [],
   "source": [
    "# Drop unecessary variables and export to dataframe\n",
    "wqm_ds = wqm_ds.drop(['DEPTH','DEPTH_quality_control','PRES','PRES_quality_control','instrument_index','instrument_id','source_file'])"
   ]
  },
  {
   "cell_type": "code",
   "execution_count": 80,
   "metadata": {},
   "outputs": [],
   "source": [
    "# filter out bad quality data \n",
    "wqm_ds = wqm_ds.where(np.logical_and(wqm_ds.DOX2_quality_control > 0, wqm_ds.DOX2_quality_control < 3), drop = True)"
   ]
  },
  {
   "cell_type": "code",
   "execution_count": 81,
   "metadata": {},
   "outputs": [],
   "source": [
    "wqm_ds = wqm_ds.where(np.logical_and(wqm_ds.PRES_REL_quality_control > 0, wqm_ds.PRES_REL_quality_control < 3), drop = True)"
   ]
  },
  {
   "cell_type": "code",
   "execution_count": 82,
   "metadata": {},
   "outputs": [],
   "source": [
    "# create pd dataframe from scratch\n",
    "data  = {'TIME': wqm_ds.TIME.values,\n",
    "         'DOX2': wqm_ds.DOX2.values,\n",
    "         'PRES': wqm_ds.PRES_REL.values}\n",
    "\n",
    "wqm_df = pd.DataFrame(data, columns = ['TIME','DOX2','PRES'])\n",
    "# set TIME as the indexing variable\n",
    "wqm_df = wqm_df.set_index('TIME')"
   ]
  },
  {
   "cell_type": "code",
   "execution_count": 83,
   "metadata": {},
   "outputs": [
    {
     "data": {
      "text/html": [
       "<div>\n",
       "<style scoped>\n",
       "    .dataframe tbody tr th:only-of-type {\n",
       "        vertical-align: middle;\n",
       "    }\n",
       "\n",
       "    .dataframe tbody tr th {\n",
       "        vertical-align: top;\n",
       "    }\n",
       "\n",
       "    .dataframe thead th {\n",
       "        text-align: right;\n",
       "    }\n",
       "</style>\n",
       "<table border=\"1\" class=\"dataframe\">\n",
       "  <thead>\n",
       "    <tr style=\"text-align: right;\">\n",
       "      <th></th>\n",
       "      <th>DOX2</th>\n",
       "      <th>PRES</th>\n",
       "    </tr>\n",
       "    <tr>\n",
       "      <th>TIME</th>\n",
       "      <th></th>\n",
       "      <th></th>\n",
       "    </tr>\n",
       "  </thead>\n",
       "  <tbody>\n",
       "    <tr>\n",
       "      <th>2010-05-04 02:00:00.000003328</th>\n",
       "      <td>191.253952</td>\n",
       "      <td>28.760000</td>\n",
       "    </tr>\n",
       "    <tr>\n",
       "      <th>2010-05-04 02:00:01.000007936</th>\n",
       "      <td>191.167465</td>\n",
       "      <td>28.799999</td>\n",
       "    </tr>\n",
       "    <tr>\n",
       "      <th>2010-05-04 02:00:02.000002560</th>\n",
       "      <td>191.140900</td>\n",
       "      <td>28.840000</td>\n",
       "    </tr>\n",
       "    <tr>\n",
       "      <th>2010-05-04 02:00:03.000007168</th>\n",
       "      <td>191.029449</td>\n",
       "      <td>28.870001</td>\n",
       "    </tr>\n",
       "    <tr>\n",
       "      <th>2010-05-04 02:00:04.000001792</th>\n",
       "      <td>191.110626</td>\n",
       "      <td>28.870001</td>\n",
       "    </tr>\n",
       "    <tr>\n",
       "      <th>...</th>\n",
       "      <td>...</td>\n",
       "      <td>...</td>\n",
       "    </tr>\n",
       "    <tr>\n",
       "      <th>2017-08-27 18:30:19.000000768</th>\n",
       "      <td>212.614594</td>\n",
       "      <td>17.709999</td>\n",
       "    </tr>\n",
       "    <tr>\n",
       "      <th>2017-08-27 18:30:20.000005632</th>\n",
       "      <td>212.614273</td>\n",
       "      <td>17.830000</td>\n",
       "    </tr>\n",
       "    <tr>\n",
       "      <th>2017-08-27 18:30:21.000000000</th>\n",
       "      <td>212.701523</td>\n",
       "      <td>17.910000</td>\n",
       "    </tr>\n",
       "    <tr>\n",
       "      <th>2017-08-27 18:30:22.000004608</th>\n",
       "      <td>212.657791</td>\n",
       "      <td>17.930000</td>\n",
       "    </tr>\n",
       "    <tr>\n",
       "      <th>2017-08-27 18:30:22.999999232</th>\n",
       "      <td>212.614243</td>\n",
       "      <td>17.879999</td>\n",
       "    </tr>\n",
       "  </tbody>\n",
       "</table>\n",
       "<p>10088856 rows × 2 columns</p>\n",
       "</div>"
      ],
      "text/plain": [
       "                                     DOX2       PRES\n",
       "TIME                                                \n",
       "2010-05-04 02:00:00.000003328  191.253952  28.760000\n",
       "2010-05-04 02:00:01.000007936  191.167465  28.799999\n",
       "2010-05-04 02:00:02.000002560  191.140900  28.840000\n",
       "2010-05-04 02:00:03.000007168  191.029449  28.870001\n",
       "2010-05-04 02:00:04.000001792  191.110626  28.870001\n",
       "...                                   ...        ...\n",
       "2017-08-27 18:30:19.000000768  212.614594  17.709999\n",
       "2017-08-27 18:30:20.000005632  212.614273  17.830000\n",
       "2017-08-27 18:30:21.000000000  212.701523  17.910000\n",
       "2017-08-27 18:30:22.000004608  212.657791  17.930000\n",
       "2017-08-27 18:30:22.999999232  212.614243  17.879999\n",
       "\n",
       "[10088856 rows x 2 columns]"
      ]
     },
     "execution_count": 83,
     "metadata": {},
     "output_type": "execute_result"
    }
   ],
   "source": [
    "wqm_df"
   ]
  },
  {
   "cell_type": "code",
   "execution_count": 84,
   "metadata": {},
   "outputs": [
    {
     "data": {
      "text/plain": [
       "<matplotlib.axes._subplots.AxesSubplot at 0x2ba072f6bfd0>"
      ]
     },
     "execution_count": 84,
     "metadata": {},
     "output_type": "execute_result"
    },
    {
     "data": {
      "image/png": "[encoded data removed]",
      "text/plain": [
       "<Figure size 432x288 with 1 Axes>"
      ]
     },
     "metadata": {
      "needs_background": "light"
     },
     "output_type": "display_data"
    }
   ],
   "source": [
    "# Plot PRES over TIME\n",
    "wqm_df.PRES.plot()"
   ]
  },
  {
   "cell_type": "code",
   "execution_count": 85,
   "metadata": {},
   "outputs": [],
   "source": [
    "# save maximum pressure value for subsetting temperature later\n",
    "max_pres = wqm_df.PRES.max()"
   ]
  },
  {
   "cell_type": "code",
   "execution_count": 86,
   "metadata": {},
   "outputs": [],
   "source": [
    "# Bin data by pressure and hour:\n",
    "# define pressure bins and labels for each bin\n",
    "bins = np.linspace(0, 32, 17)\n",
    "labs = np.linspace(1,31,16)"
   ]
  },
  {
   "cell_type": "code",
   "execution_count": 87,
   "metadata": {},
   "outputs": [],
   "source": [
    "# create a column with pressure bin labels\n",
    "wqm_df['PRES_BIN'] = pd.cut(wqm_df.PRES, bins = bins, labels = labs)"
   ]
  },
  {
   "cell_type": "code",
   "execution_count": 88,
   "metadata": {},
   "outputs": [],
   "source": [
    "# First groupby PRES_BIN column, then resample each group on hourly intervals and mean each resulting bin\n",
    "# drop unncessary columns and nan rows after\n",
    "wqm_df = wqm_df.groupby('PRES_BIN').resample('1H').mean().drop(columns=['PRES','PRES_BIN']).dropna()"
   ]
  },
  {
   "cell_type": "code",
   "execution_count": 89,
   "metadata": {},
   "outputs": [
    {
     "data": {
      "text/html": [
       "<div>\n",
       "<style scoped>\n",
       "    .dataframe tbody tr th:only-of-type {\n",
       "        vertical-align: middle;\n",
       "    }\n",
       "\n",
       "    .dataframe tbody tr th {\n",
       "        vertical-align: top;\n",
       "    }\n",
       "\n",
       "    .dataframe thead th {\n",
       "        text-align: right;\n",
       "    }\n",
       "</style>\n",
       "<table border=\"1\" class=\"dataframe\">\n",
       "  <thead>\n",
       "    <tr style=\"text-align: right;\">\n",
       "      <th></th>\n",
       "      <th></th>\n",
       "      <th>DOX2</th>\n",
       "    </tr>\n",
       "    <tr>\n",
       "      <th>PRES_BIN</th>\n",
       "      <th>TIME</th>\n",
       "      <th></th>\n",
       "    </tr>\n",
       "  </thead>\n",
       "  <tbody>\n",
       "    <tr>\n",
       "      <th>1.0</th>\n",
       "      <th>2012-11-28 22:00:00</th>\n",
       "      <td>219.715591</td>\n",
       "    </tr>\n",
       "    <tr>\n",
       "      <th>3.0</th>\n",
       "      <th>2012-11-28 22:00:00</th>\n",
       "      <td>219.631363</td>\n",
       "    </tr>\n",
       "    <tr>\n",
       "      <th rowspan=\"3\" valign=\"top\">7.0</th>\n",
       "      <th>2013-06-15 07:00:00</th>\n",
       "      <td>205.350891</td>\n",
       "    </tr>\n",
       "    <tr>\n",
       "      <th>2013-06-15 08:00:00</th>\n",
       "      <td>205.339203</td>\n",
       "    </tr>\n",
       "    <tr>\n",
       "      <th>2013-06-15 21:00:00</th>\n",
       "      <td>208.561523</td>\n",
       "    </tr>\n",
       "    <tr>\n",
       "      <th>...</th>\n",
       "      <th>...</th>\n",
       "      <td>...</td>\n",
       "    </tr>\n",
       "    <tr>\n",
       "      <th rowspan=\"5\" valign=\"top\">31.0</th>\n",
       "      <th>2010-05-21 10:00:00</th>\n",
       "      <td>210.213242</td>\n",
       "    </tr>\n",
       "    <tr>\n",
       "      <th>2010-05-21 11:00:00</th>\n",
       "      <td>210.027222</td>\n",
       "    </tr>\n",
       "    <tr>\n",
       "      <th>2010-05-21 12:00:00</th>\n",
       "      <td>209.906219</td>\n",
       "    </tr>\n",
       "    <tr>\n",
       "      <th>2016-04-01 05:00:00</th>\n",
       "      <td>161.294037</td>\n",
       "    </tr>\n",
       "    <tr>\n",
       "      <th>2016-04-01 06:00:00</th>\n",
       "      <td>162.787338</td>\n",
       "    </tr>\n",
       "  </tbody>\n",
       "</table>\n",
       "<p>62732 rows × 1 columns</p>\n",
       "</div>"
      ],
      "text/plain": [
       "                                    DOX2\n",
       "PRES_BIN TIME                           \n",
       "1.0      2012-11-28 22:00:00  219.715591\n",
       "3.0      2012-11-28 22:00:00  219.631363\n",
       "7.0      2013-06-15 07:00:00  205.350891\n",
       "         2013-06-15 08:00:00  205.339203\n",
       "         2013-06-15 21:00:00  208.561523\n",
       "...                                  ...\n",
       "31.0     2010-05-21 10:00:00  210.213242\n",
       "         2010-05-21 11:00:00  210.027222\n",
       "         2010-05-21 12:00:00  209.906219\n",
       "         2016-04-01 05:00:00  161.294037\n",
       "         2016-04-01 06:00:00  162.787338\n",
       "\n",
       "[62732 rows x 1 columns]"
      ]
     },
     "execution_count": 89,
     "metadata": {},
     "output_type": "execute_result"
    }
   ],
   "source": [
    "wqm_df"
   ]
  },
  {
   "cell_type": "markdown",
   "metadata": {},
   "source": [
    "### Temperature data "
   ]
  },
  {
   "cell_type": "code",
   "execution_count": 55,
   "metadata": {},
   "outputs": [],
   "source": [
    "temp = xr.open_dataset('/srv/scratch/z3289452/OceanDataScience/Mooring/PH100/IMOS_ANMN-NSW_TZ_20091029_PH100_FV01_TEMP-aggregated-timeseries_END-20190612_C-20190819.nc')"
   ]
  },
  {
   "cell_type": "code",
   "execution_count": 56,
   "metadata": {},
   "outputs": [
    {
     "data": {
      "text/plain": [
       "<xarray.Dataset>\n",
       "Dimensions:                   (INSTRUMENT: 688, OBSERVATION: 25570235)\n",
       "Coordinates:\n",
       "    TIME                      (OBSERVATION) datetime64[ns] ...\n",
       "    LONGITUDE                 (INSTRUMENT) float32 ...\n",
       "    LATITUDE                  (INSTRUMENT) float32 ...\n",
       "    NOMINAL_DEPTH             (INSTRUMENT) float32 ...\n",
       "Dimensions without coordinates: INSTRUMENT, OBSERVATION\n",
       "Data variables:\n",
       "    TEMP                      (OBSERVATION) float32 ...\n",
       "    TEMP_quality_control      (OBSERVATION) float32 ...\n",
       "    DEPTH                     (OBSERVATION) float32 ...\n",
       "    DEPTH_quality_control     (OBSERVATION) int8 ...\n",
       "    PRES                      (OBSERVATION) float32 ...\n",
       "    PRES_quality_control      (OBSERVATION) float32 ...\n",
       "    PRES_REL                  (OBSERVATION) float32 ...\n",
       "    PRES_REL_quality_control  (OBSERVATION) float32 ...\n",
       "    instrument_index          (OBSERVATION) int32 ...\n",
       "    instrument_id             (INSTRUMENT) |S256 ...\n",
       "    source_file               (INSTRUMENT) |S256 ...\n",
       "Attributes:\n",
       "    Conventions:                   CF-1.6,IMOS-1.4\n",
       "    abstract:                      Aggregated Time-series Product: This file ...\n",
       "    acknowledgement:               Any users of IMOS data are required to cle...\n",
       "    author:                        Klein, Eduardo\n",
       "    author_email:                  eduardo.kleinsalas@utas.edu.au\n",
       "    citation:                      The citation in a list of references is: \"...\n",
       "    data_centre:                   Australian Ocean Data Network (AODN)\n",
       "    data_centre_email:             info@aodn.org.au\n",
       "    date_created:                  2019-08-19T04:20:41Z\n",
       "    disclaimer:                    Data, products and services from IMOS are ...\n",
       "    featureType:                   timeSeries\n",
       "    file_version:                  Level 1 - Quality Controlled Data\n",
       "    file_version_quality_control:  Quality controlled data have been through ...\n",
       "    geospatial_lat_max:            -34.1192\n",
       "    geospatial_lat_min:            -34.12068\n",
       "    geospatial_lon_max:            151.2248\n",
       "    geospatial_lon_min:            151.22404\n",
       "    geospatial_vertical_max:       999999.0\n",
       "    geospatial_vertical_min:       -139.6803741455078\n",
       "    history:                       2019-08-19T04:20:41Z: Aggregated file crea...\n",
       "    institution_references:        http://imos.org.au/facilities/aodn/\n",
       "    keywords:                      TEMP, TEMP_quality_control, TIME, DEPTH, D...\n",
       "    keywords_vocabulary:           IMOS parameter names. See https://github.c...\n",
       "    license:                       http://creativecommons.org/licenses/by/4.0/\n",
       "    lineage:                       The variable of interest (VoI) is produced...\n",
       "    local_time_zone:               \n",
       "    naming_authority:              IMOS\n",
       "    project:                       Integrated Marine Observing System (IMOS)\n",
       "    references:                    http://www.imos.org.au\n",
       "    rejected_files:                \n",
       "    site_code:                     PH100\n",
       "    source:                        Mooring\n",
       "    standard_name_vocabulary:      NetCDF Climate and Forecast (CF) Metadata ...\n",
       "    time_coverage_end:             2019-06-12T02:34:59Z\n",
       "    time_coverage_start:           2009-10-29T02:55:00Z\n",
       "    title:                         Long Timeseries Aggregated product: TEMP a..."
      ]
     },
     "execution_count": 56,
     "metadata": {},
     "output_type": "execute_result"
    }
   ],
   "source": [
    "temp"
   ]
  },
  {
   "cell_type": "code",
   "execution_count": 57,
   "metadata": {},
   "outputs": [
    {
     "data": {
      "text/plain": [
       "array([ 15. ,  15.5,  16. ,  24. ,  32. ,  40. ,  48. ,  56. ,  64. ,\n",
       "        72. ,  80. ,  88. ,  96. , 104. , 109.5, 110. ], dtype=float32)"
      ]
     },
     "execution_count": 57,
     "metadata": {},
     "output_type": "execute_result"
    }
   ],
   "source": [
    "# Nominal depth of temp instruments to compare with WQM instruments\n",
    "np.unique(temp.NOMINAL_DEPTH.values)"
   ]
  },
  {
   "cell_type": "code",
   "execution_count": 58,
   "metadata": {},
   "outputs": [],
   "source": [
    "temp = temp.drop(['DEPTH','DEPTH_quality_control','PRES','PRES_quality_control','instrument_index','instrument_id','source_file'])"
   ]
  },
  {
   "cell_type": "code",
   "execution_count": 59,
   "metadata": {},
   "outputs": [],
   "source": [
    "temp = temp.where(np.logical_and(temp.TEMP_quality_control > 0, temp.TEMP_quality_control < 3), drop = True)"
   ]
  },
  {
   "cell_type": "code",
   "execution_count": 60,
   "metadata": {},
   "outputs": [],
   "source": [
    "temp = temp.where(np.logical_and(temp.PRES_REL_quality_control > 0, temp.PRES_REL_quality_control < 3), drop = True) "
   ]
  },
  {
   "cell_type": "code",
   "execution_count": 61,
   "metadata": {},
   "outputs": [],
   "source": [
    "# create pd dataframe from scratch\n",
    "data  = {'TIME': temp.TIME.values,\n",
    "         'TEMP': temp.TEMP.values,\n",
    "         'PRES': temp.PRES_REL.values}\n",
    "\n",
    "temp_df= pd.DataFrame(data, columns = ['TIME','TEMP','PRES'])\n",
    "# set TIME as the indexing variable\n",
    "temp_df = temp_df.set_index('TIME')"
   ]
  },
  {
   "cell_type": "code",
   "execution_count": 62,
   "metadata": {},
   "outputs": [],
   "source": [
    "# subset to the same dates water quality measurements\n",
    "temp_df = temp_df.loc['2010-05-04 02':'2017-8-27 18']"
   ]
  },
  {
   "cell_type": "code",
   "execution_count": 63,
   "metadata": {},
   "outputs": [],
   "source": [
    "# subset to same pressure range as WQM\n",
    "temp_df = temp_df.where(temp_df.PRES <= max_pres).dropna()"
   ]
  },
  {
   "cell_type": "code",
   "execution_count": 64,
   "metadata": {},
   "outputs": [],
   "source": [
    "# temp_df = temp_df.loc[~temp_df.index.duplicated()]"
   ]
  },
  {
   "cell_type": "code",
   "execution_count": 65,
   "metadata": {},
   "outputs": [
    {
     "data": {
      "text/plain": [
       "<matplotlib.axes._subplots.AxesSubplot at 0x2ba076aac4e0>"
      ]
     },
     "execution_count": 65,
     "metadata": {},
     "output_type": "execute_result"
    },
    {
     "data": {
      "image/png": "[encoded data removed]",
      "text/plain": [
       "<Figure size 432x288 with 1 Axes>"
      ]
     },
     "metadata": {
      "needs_background": "light"
     },
     "output_type": "display_data"
    }
   ],
   "source": [
    "# Plot PRES over TIME\n",
    "# Because of extra instruments (see NOMINAL_DEPTH vals), there are more pressure vals here compared to WQM\n",
    "temp_df.PRES.plot()"
   ]
  },
  {
   "cell_type": "code",
   "execution_count": 67,
   "metadata": {},
   "outputs": [],
   "source": [
    "# Bin data by pressure and hour:\n",
    "# define pressure bins and labels for each bin\n",
    "bins = np.linspace(0, 32, 17)\n",
    "labs = np.linspace(1,31,16)"
   ]
  },
  {
   "cell_type": "code",
   "execution_count": 68,
   "metadata": {},
   "outputs": [],
   "source": [
    "# create a column with pressure bin labels\n",
    "temp_df['PRES_BIN'] = pd.cut(temp_df.PRES, bins = bins, labels = labs)"
   ]
  },
  {
   "cell_type": "code",
   "execution_count": 69,
   "metadata": {},
   "outputs": [],
   "source": [
    "# First groupby PRES_BIN column, then resample each group on hourly intervals and mean each resulting bin\n",
    "# drop unncessary columns and nan rows after\n",
    "temp_df = temp_df.groupby('PRES_BIN').resample('1H').mean().drop(columns=['PRES','PRES_BIN']).dropna()"
   ]
  },
  {
   "cell_type": "code",
   "execution_count": 90,
   "metadata": {},
   "outputs": [
    {
     "data": {
      "text/html": [
       "<div>\n",
       "<style scoped>\n",
       "    .dataframe tbody tr th:only-of-type {\n",
       "        vertical-align: middle;\n",
       "    }\n",
       "\n",
       "    .dataframe tbody tr th {\n",
       "        vertical-align: top;\n",
       "    }\n",
       "\n",
       "    .dataframe thead th {\n",
       "        text-align: right;\n",
       "    }\n",
       "</style>\n",
       "<table border=\"1\" class=\"dataframe\">\n",
       "  <thead>\n",
       "    <tr style=\"text-align: right;\">\n",
       "      <th></th>\n",
       "      <th></th>\n",
       "      <th>TEMP</th>\n",
       "    </tr>\n",
       "    <tr>\n",
       "      <th>PRES_BIN</th>\n",
       "      <th>TIME</th>\n",
       "      <th></th>\n",
       "    </tr>\n",
       "  </thead>\n",
       "  <tbody>\n",
       "    <tr>\n",
       "      <th>1.0</th>\n",
       "      <th>2012-11-28 22:00:00</th>\n",
       "      <td>20.759911</td>\n",
       "    </tr>\n",
       "    <tr>\n",
       "      <th>3.0</th>\n",
       "      <th>2012-11-28 22:00:00</th>\n",
       "      <td>20.770100</td>\n",
       "    </tr>\n",
       "    <tr>\n",
       "      <th rowspan=\"3\" valign=\"top\">7.0</th>\n",
       "      <th>2013-06-15 07:00:00</th>\n",
       "      <td>19.003767</td>\n",
       "    </tr>\n",
       "    <tr>\n",
       "      <th>2013-06-15 08:00:00</th>\n",
       "      <td>18.982601</td>\n",
       "    </tr>\n",
       "    <tr>\n",
       "      <th>2013-06-15 21:00:00</th>\n",
       "      <td>18.965900</td>\n",
       "    </tr>\n",
       "    <tr>\n",
       "      <th>...</th>\n",
       "      <th>...</th>\n",
       "      <td>...</td>\n",
       "    </tr>\n",
       "    <tr>\n",
       "      <th rowspan=\"5\" valign=\"top\">31.0</th>\n",
       "      <th>2014-11-04 08:00:00</th>\n",
       "      <td>19.540016</td>\n",
       "    </tr>\n",
       "    <tr>\n",
       "      <th>2014-11-04 09:00:00</th>\n",
       "      <td>19.641979</td>\n",
       "    </tr>\n",
       "    <tr>\n",
       "      <th>2014-11-04 10:00:00</th>\n",
       "      <td>19.633989</td>\n",
       "    </tr>\n",
       "    <tr>\n",
       "      <th>2016-04-01 05:00:00</th>\n",
       "      <td>24.785011</td>\n",
       "    </tr>\n",
       "    <tr>\n",
       "      <th>2016-04-01 06:00:00</th>\n",
       "      <td>24.770300</td>\n",
       "    </tr>\n",
       "  </tbody>\n",
       "</table>\n",
       "<p>75665 rows × 1 columns</p>\n",
       "</div>"
      ],
      "text/plain": [
       "                                   TEMP\n",
       "PRES_BIN TIME                          \n",
       "1.0      2012-11-28 22:00:00  20.759911\n",
       "3.0      2012-11-28 22:00:00  20.770100\n",
       "7.0      2013-06-15 07:00:00  19.003767\n",
       "         2013-06-15 08:00:00  18.982601\n",
       "         2013-06-15 21:00:00  18.965900\n",
       "...                                 ...\n",
       "31.0     2014-11-04 08:00:00  19.540016\n",
       "         2014-11-04 09:00:00  19.641979\n",
       "         2014-11-04 10:00:00  19.633989\n",
       "         2016-04-01 05:00:00  24.785011\n",
       "         2016-04-01 06:00:00  24.770300\n",
       "\n",
       "[75665 rows x 1 columns]"
      ]
     },
     "execution_count": 90,
     "metadata": {},
     "output_type": "execute_result"
    }
   ],
   "source": [
    "temp_df"
   ]
  },
  {
   "cell_type": "code",
   "execution_count": 91,
   "metadata": {},
   "outputs": [
    {
     "data": {
      "text/html": [
       "<div>\n",
       "<style scoped>\n",
       "    .dataframe tbody tr th:only-of-type {\n",
       "        vertical-align: middle;\n",
       "    }\n",
       "\n",
       "    .dataframe tbody tr th {\n",
       "        vertical-align: top;\n",
       "    }\n",
       "\n",
       "    .dataframe thead th {\n",
       "        text-align: right;\n",
       "    }\n",
       "</style>\n",
       "<table border=\"1\" class=\"dataframe\">\n",
       "  <thead>\n",
       "    <tr style=\"text-align: right;\">\n",
       "      <th></th>\n",
       "      <th></th>\n",
       "      <th>DOX2</th>\n",
       "    </tr>\n",
       "    <tr>\n",
       "      <th>PRES_BIN</th>\n",
       "      <th>TIME</th>\n",
       "      <th></th>\n",
       "    </tr>\n",
       "  </thead>\n",
       "  <tbody>\n",
       "    <tr>\n",
       "      <th>1.0</th>\n",
       "      <th>2012-11-28 22:00:00</th>\n",
       "      <td>219.715591</td>\n",
       "    </tr>\n",
       "    <tr>\n",
       "      <th>3.0</th>\n",
       "      <th>2012-11-28 22:00:00</th>\n",
       "      <td>219.631363</td>\n",
       "    </tr>\n",
       "    <tr>\n",
       "      <th rowspan=\"3\" valign=\"top\">7.0</th>\n",
       "      <th>2013-06-15 07:00:00</th>\n",
       "      <td>205.350891</td>\n",
       "    </tr>\n",
       "    <tr>\n",
       "      <th>2013-06-15 08:00:00</th>\n",
       "      <td>205.339203</td>\n",
       "    </tr>\n",
       "    <tr>\n",
       "      <th>2013-06-15 21:00:00</th>\n",
       "      <td>208.561523</td>\n",
       "    </tr>\n",
       "    <tr>\n",
       "      <th>...</th>\n",
       "      <th>...</th>\n",
       "      <td>...</td>\n",
       "    </tr>\n",
       "    <tr>\n",
       "      <th rowspan=\"5\" valign=\"top\">31.0</th>\n",
       "      <th>2010-05-21 10:00:00</th>\n",
       "      <td>210.213242</td>\n",
       "    </tr>\n",
       "    <tr>\n",
       "      <th>2010-05-21 11:00:00</th>\n",
       "      <td>210.027222</td>\n",
       "    </tr>\n",
       "    <tr>\n",
       "      <th>2010-05-21 12:00:00</th>\n",
       "      <td>209.906219</td>\n",
       "    </tr>\n",
       "    <tr>\n",
       "      <th>2016-04-01 05:00:00</th>\n",
       "      <td>161.294037</td>\n",
       "    </tr>\n",
       "    <tr>\n",
       "      <th>2016-04-01 06:00:00</th>\n",
       "      <td>162.787338</td>\n",
       "    </tr>\n",
       "  </tbody>\n",
       "</table>\n",
       "<p>62732 rows × 1 columns</p>\n",
       "</div>"
      ],
      "text/plain": [
       "                                    DOX2\n",
       "PRES_BIN TIME                           \n",
       "1.0      2012-11-28 22:00:00  219.715591\n",
       "3.0      2012-11-28 22:00:00  219.631363\n",
       "7.0      2013-06-15 07:00:00  205.350891\n",
       "         2013-06-15 08:00:00  205.339203\n",
       "         2013-06-15 21:00:00  208.561523\n",
       "...                                  ...\n",
       "31.0     2010-05-21 10:00:00  210.213242\n",
       "         2010-05-21 11:00:00  210.027222\n",
       "         2010-05-21 12:00:00  209.906219\n",
       "         2016-04-01 05:00:00  161.294037\n",
       "         2016-04-01 06:00:00  162.787338\n",
       "\n",
       "[62732 rows x 1 columns]"
      ]
     },
     "execution_count": 91,
     "metadata": {},
     "output_type": "execute_result"
    }
   ],
   "source": [
    "wqm_df"
   ]
  },
  {
   "cell_type": "code",
   "execution_count": 92,
   "metadata": {},
   "outputs": [],
   "source": [
    "# Join wqm_df and temp_df\n",
    "mooring_df = wqm_df.join(temp_df, how='inner')"
   ]
  },
  {
   "cell_type": "code",
   "execution_count": 93,
   "metadata": {},
   "outputs": [
    {
     "data": {
      "text/html": [
       "<div>\n",
       "<style scoped>\n",
       "    .dataframe tbody tr th:only-of-type {\n",
       "        vertical-align: middle;\n",
       "    }\n",
       "\n",
       "    .dataframe tbody tr th {\n",
       "        vertical-align: top;\n",
       "    }\n",
       "\n",
       "    .dataframe thead th {\n",
       "        text-align: right;\n",
       "    }\n",
       "</style>\n",
       "<table border=\"1\" class=\"dataframe\">\n",
       "  <thead>\n",
       "    <tr style=\"text-align: right;\">\n",
       "      <th></th>\n",
       "      <th></th>\n",
       "      <th>DOX2</th>\n",
       "      <th>TEMP</th>\n",
       "    </tr>\n",
       "    <tr>\n",
       "      <th>PRES_BIN</th>\n",
       "      <th>TIME</th>\n",
       "      <th></th>\n",
       "      <th></th>\n",
       "    </tr>\n",
       "  </thead>\n",
       "  <tbody>\n",
       "    <tr>\n",
       "      <th>1.0</th>\n",
       "      <th>2012-11-28 22:00:00</th>\n",
       "      <td>219.715591</td>\n",
       "      <td>20.759911</td>\n",
       "    </tr>\n",
       "    <tr>\n",
       "      <th>3.0</th>\n",
       "      <th>2012-11-28 22:00:00</th>\n",
       "      <td>219.631363</td>\n",
       "      <td>20.770100</td>\n",
       "    </tr>\n",
       "    <tr>\n",
       "      <th rowspan=\"3\" valign=\"top\">7.0</th>\n",
       "      <th>2013-06-15 07:00:00</th>\n",
       "      <td>205.350891</td>\n",
       "      <td>19.003767</td>\n",
       "    </tr>\n",
       "    <tr>\n",
       "      <th>2013-06-15 08:00:00</th>\n",
       "      <td>205.339203</td>\n",
       "      <td>18.982601</td>\n",
       "    </tr>\n",
       "    <tr>\n",
       "      <th>2013-06-15 21:00:00</th>\n",
       "      <td>208.561523</td>\n",
       "      <td>18.965900</td>\n",
       "    </tr>\n",
       "    <tr>\n",
       "      <th>...</th>\n",
       "      <th>...</th>\n",
       "      <td>...</td>\n",
       "      <td>...</td>\n",
       "    </tr>\n",
       "    <tr>\n",
       "      <th rowspan=\"5\" valign=\"top\">31.0</th>\n",
       "      <th>2010-05-21 10:00:00</th>\n",
       "      <td>210.213242</td>\n",
       "      <td>22.698212</td>\n",
       "    </tr>\n",
       "    <tr>\n",
       "      <th>2010-05-21 11:00:00</th>\n",
       "      <td>210.027222</td>\n",
       "      <td>22.679289</td>\n",
       "    </tr>\n",
       "    <tr>\n",
       "      <th>2010-05-21 12:00:00</th>\n",
       "      <td>209.906219</td>\n",
       "      <td>22.679312</td>\n",
       "    </tr>\n",
       "    <tr>\n",
       "      <th>2016-04-01 05:00:00</th>\n",
       "      <td>161.294037</td>\n",
       "      <td>24.785011</td>\n",
       "    </tr>\n",
       "    <tr>\n",
       "      <th>2016-04-01 06:00:00</th>\n",
       "      <td>162.787338</td>\n",
       "      <td>24.770300</td>\n",
       "    </tr>\n",
       "  </tbody>\n",
       "</table>\n",
       "<p>62732 rows × 2 columns</p>\n",
       "</div>"
      ],
      "text/plain": [
       "                                    DOX2       TEMP\n",
       "PRES_BIN TIME                                      \n",
       "1.0      2012-11-28 22:00:00  219.715591  20.759911\n",
       "3.0      2012-11-28 22:00:00  219.631363  20.770100\n",
       "7.0      2013-06-15 07:00:00  205.350891  19.003767\n",
       "         2013-06-15 08:00:00  205.339203  18.982601\n",
       "         2013-06-15 21:00:00  208.561523  18.965900\n",
       "...                                  ...        ...\n",
       "31.0     2010-05-21 10:00:00  210.213242  22.698212\n",
       "         2010-05-21 11:00:00  210.027222  22.679289\n",
       "         2010-05-21 12:00:00  209.906219  22.679312\n",
       "         2016-04-01 05:00:00  161.294037  24.785011\n",
       "         2016-04-01 06:00:00  162.787338  24.770300\n",
       "\n",
       "[62732 rows x 2 columns]"
      ]
     },
     "execution_count": 93,
     "metadata": {},
     "output_type": "execute_result"
    }
   ],
   "source": [
    "mooring_df"
   ]
  },
  {
   "cell_type": "markdown",
   "metadata": {},
   "source": [
    "### Salinity data"
   ]
  },
  {
   "cell_type": "code",
   "execution_count": 95,
   "metadata": {},
   "outputs": [],
   "source": [
    "psal = xr.open_dataset('/srv/scratch/z3289452/OceanDataScience/Mooring/PH100/IMOS_ANMN-NSW_SZ_20100504_PH100_FV01_PSAL-aggregated-timeseries_END-20190612_C-20190822.nc')"
   ]
  },
  {
   "cell_type": "code",
   "execution_count": 96,
   "metadata": {},
   "outputs": [
    {
     "data": {
      "text/plain": [
       "<xarray.Dataset>\n",
       "Dimensions:                   (INSTRUMENT: 50, OBSERVATION: 12502147)\n",
       "Coordinates:\n",
       "    TIME                      (OBSERVATION) datetime64[ns] ...\n",
       "    LONGITUDE                 (INSTRUMENT) float32 ...\n",
       "    LATITUDE                  (INSTRUMENT) float32 ...\n",
       "    NOMINAL_DEPTH             (INSTRUMENT) float32 ...\n",
       "Dimensions without coordinates: INSTRUMENT, OBSERVATION\n",
       "Data variables:\n",
       "    PSAL                      (OBSERVATION) float32 ...\n",
       "    PSAL_quality_control      (OBSERVATION) float32 ...\n",
       "    DEPTH                     (OBSERVATION) float32 ...\n",
       "    DEPTH_quality_control     (OBSERVATION) int8 ...\n",
       "    PRES                      (OBSERVATION) float32 ...\n",
       "    PRES_quality_control      (OBSERVATION) float32 ...\n",
       "    PRES_REL                  (OBSERVATION) float32 ...\n",
       "    PRES_REL_quality_control  (OBSERVATION) float32 ...\n",
       "    instrument_index          (OBSERVATION) int32 ...\n",
       "    instrument_id             (INSTRUMENT) |S256 ...\n",
       "    source_file               (INSTRUMENT) |S256 ...\n",
       "Attributes:\n",
       "    Conventions:                   CF-1.6,IMOS-1.4\n",
       "    abstract:                      Aggregated Time-series Product: This file ...\n",
       "    acknowledgement:               Any users of IMOS data are required to cle...\n",
       "    author:                        Klein, Eduardo\n",
       "    author_email:                  eduardo.kleinsalas@utas.edu.au\n",
       "    citation:                      The citation in a list of references is: \"...\n",
       "    data_centre:                   Australian Ocean Data Network (AODN)\n",
       "    data_centre_email:             info@aodn.org.au\n",
       "    date_created:                  2019-08-22T04:33:48Z\n",
       "    disclaimer:                    Data, products and services from IMOS are ...\n",
       "    featureType:                   timeSeries\n",
       "    file_version:                  Level 1 - Quality Controlled Data\n",
       "    file_version_quality_control:  Quality controlled data have been through ...\n",
       "    geospatial_lat_max:            -34.1192\n",
       "    geospatial_lat_min:            -34.12068\n",
       "    geospatial_lon_max:            151.2248\n",
       "    geospatial_lon_min:            151.22415\n",
       "    geospatial_vertical_max:       2357.52392578125\n",
       "    geospatial_vertical_min:       -0.5063575506210327\n",
       "    history:                       2019-08-22T04:33:48Z: Aggregated file crea...\n",
       "    institution_references:        http://imos.org.au/facilities/aodn/\n",
       "    keywords:                      PSAL, PSAL_quality_control, TIME, DEPTH, D...\n",
       "    keywords_vocabulary:           IMOS parameter names. See https://github.c...\n",
       "    license:                       http://creativecommons.org/licenses/by/4.0/\n",
       "    lineage:                       The variable of interest (VoI) is produced...\n",
       "    local_time_zone:               \n",
       "    naming_authority:              IMOS\n",
       "    project:                       Integrated Marine Observing System (IMOS)\n",
       "    references:                    http://www.imos.org.au\n",
       "    rejected_files:                \n",
       "    site_code:                     PH100\n",
       "    source:                        Mooring\n",
       "    standard_name_vocabulary:      NetCDF Climate and Forecast (CF) Metadata ...\n",
       "    time_coverage_end:             2019-06-12T02:30:01Z\n",
       "    time_coverage_start:           2010-05-04T02:00:00Z\n",
       "    title:                         Long Timeseries Aggregated product: PSAL a..."
      ]
     },
     "execution_count": 96,
     "metadata": {},
     "output_type": "execute_result"
    }
   ],
   "source": [
    "psal"
   ]
  },
  {
   "cell_type": "code",
   "execution_count": 97,
   "metadata": {},
   "outputs": [
    {
     "data": {
      "text/plain": [
       "array([ 15. ,  15.5,  24. , 104. ], dtype=float32)"
      ]
     },
     "execution_count": 97,
     "metadata": {},
     "output_type": "execute_result"
    }
   ],
   "source": [
    "# Nominal depth of temp instruments to compare with WQM instruments\n",
    "np.unique(psal.NOMINAL_DEPTH.values)"
   ]
  },
  {
   "cell_type": "code",
   "execution_count": 98,
   "metadata": {},
   "outputs": [],
   "source": [
    "psal = psal.drop(['DEPTH','DEPTH_quality_control','PRES','PRES_quality_control','instrument_index','instrument_id','source_file'])"
   ]
  },
  {
   "cell_type": "code",
   "execution_count": 99,
   "metadata": {},
   "outputs": [],
   "source": [
    "psal = psal.where(np.logical_and(psal.PSAL_quality_control > 0, psal.PSAL_quality_control < 3), drop = True)"
   ]
  },
  {
   "cell_type": "code",
   "execution_count": 100,
   "metadata": {},
   "outputs": [],
   "source": [
    "psal = psal.where(np.logical_and(psal.PRES_REL_quality_control > 0, psal.PRES_REL_quality_control < 3), drop = True) "
   ]
  },
  {
   "cell_type": "code",
   "execution_count": 102,
   "metadata": {},
   "outputs": [],
   "source": [
    "# create pd dataframe from scratch\n",
    "data  = {'TIME': psal.TIME.values,\n",
    "         'PSAL': psal.PSAL.values,\n",
    "         'PRES': psal.PRES_REL.values}\n",
    "\n",
    "psal_df= pd.DataFrame(data, columns = ['TIME','PSAL','PRES'])\n",
    "# set TIME as the indexing variable\n",
    "psal_df = psal_df.set_index('TIME')"
   ]
  },
  {
   "cell_type": "code",
   "execution_count": 103,
   "metadata": {},
   "outputs": [],
   "source": [
    "# subset to the same dates water quality measurements\n",
    "psal_df = psal_df.loc['2010-05-04 02':'2017-8-27 18']"
   ]
  },
  {
   "cell_type": "code",
   "execution_count": 104,
   "metadata": {},
   "outputs": [],
   "source": [
    "# subset to same pressure range as WQM\n",
    "psal_df = psal_df.where(psal_df.PRES <= max_pres).dropna()"
   ]
  },
  {
   "cell_type": "code",
   "execution_count": 64,
   "metadata": {},
   "outputs": [],
   "source": [
    "# temp_df = temp_df.loc[~temp_df.index.duplicated()]"
   ]
  },
  {
   "cell_type": "code",
   "execution_count": 105,
   "metadata": {},
   "outputs": [
    {
     "data": {
      "text/plain": [
       "<matplotlib.axes._subplots.AxesSubplot at 0x2ba0732691d0>"
      ]
     },
     "execution_count": 105,
     "metadata": {},
     "output_type": "execute_result"
    },
    {
     "data": {
      "image/png": "[encoded data removed]",
      "text/plain": [
       "<Figure size 432x288 with 1 Axes>"
      ]
     },
     "metadata": {
      "needs_background": "light"
     },
     "output_type": "display_data"
    }
   ],
   "source": [
    "# Plot PRES over TIME\n",
    "# Because of extra instruments (see NOMINAL_DEPTH vals), there are more pressure vals here compared to WQM\n",
    "psal_df.PRES.plot()"
   ]
  },
  {
   "cell_type": "code",
   "execution_count": 106,
   "metadata": {},
   "outputs": [],
   "source": [
    "# Bin data by pressure and hour:\n",
    "# define pressure bins and labels for each bin\n",
    "bins = np.linspace(0, 32, 17)\n",
    "labs = np.linspace(1,31,16)"
   ]
  },
  {
   "cell_type": "code",
   "execution_count": 108,
   "metadata": {},
   "outputs": [],
   "source": [
    "# create a column with pressure bin labels\n",
    "psal_df['PRES_BIN'] = pd.cut(psal_df.PRES, bins = bins, labels = labs)"
   ]
  },
  {
   "cell_type": "code",
   "execution_count": 109,
   "metadata": {},
   "outputs": [],
   "source": [
    "# First groupby PRES_BIN column, then resample each group on hourly intervals and mean each resulting bin\n",
    "# drop unncessary columns and nan rows after\n",
    "psal_df = psal_df.groupby('PRES_BIN').resample('1H').mean().drop(columns=['PRES','PRES_BIN']).dropna()"
   ]
  },
  {
   "cell_type": "code",
   "execution_count": 110,
   "metadata": {},
   "outputs": [
    {
     "data": {
      "text/html": [
       "<div>\n",
       "<style scoped>\n",
       "    .dataframe tbody tr th:only-of-type {\n",
       "        vertical-align: middle;\n",
       "    }\n",
       "\n",
       "    .dataframe tbody tr th {\n",
       "        vertical-align: top;\n",
       "    }\n",
       "\n",
       "    .dataframe thead th {\n",
       "        text-align: right;\n",
       "    }\n",
       "</style>\n",
       "<table border=\"1\" class=\"dataframe\">\n",
       "  <thead>\n",
       "    <tr style=\"text-align: right;\">\n",
       "      <th></th>\n",
       "      <th></th>\n",
       "      <th>PSAL</th>\n",
       "    </tr>\n",
       "    <tr>\n",
       "      <th>PRES_BIN</th>\n",
       "      <th>TIME</th>\n",
       "      <th></th>\n",
       "    </tr>\n",
       "  </thead>\n",
       "  <tbody>\n",
       "    <tr>\n",
       "      <th>1.0</th>\n",
       "      <th>2012-11-28 22:00:00</th>\n",
       "      <td>35.461388</td>\n",
       "    </tr>\n",
       "    <tr>\n",
       "      <th>3.0</th>\n",
       "      <th>2012-11-28 22:00:00</th>\n",
       "      <td>35.460751</td>\n",
       "    </tr>\n",
       "    <tr>\n",
       "      <th rowspan=\"3\" valign=\"top\">7.0</th>\n",
       "      <th>2013-06-15 07:00:00</th>\n",
       "      <td>35.462334</td>\n",
       "    </tr>\n",
       "    <tr>\n",
       "      <th>2013-06-15 08:00:00</th>\n",
       "      <td>35.463001</td>\n",
       "    </tr>\n",
       "    <tr>\n",
       "      <th>2013-06-15 21:00:00</th>\n",
       "      <td>35.501999</td>\n",
       "    </tr>\n",
       "    <tr>\n",
       "      <th>...</th>\n",
       "      <th>...</th>\n",
       "      <td>...</td>\n",
       "    </tr>\n",
       "    <tr>\n",
       "      <th rowspan=\"5\" valign=\"top\">31.0</th>\n",
       "      <th>2014-11-04 08:00:00</th>\n",
       "      <td>35.632832</td>\n",
       "    </tr>\n",
       "    <tr>\n",
       "      <th>2014-11-04 09:00:00</th>\n",
       "      <td>35.634396</td>\n",
       "    </tr>\n",
       "    <tr>\n",
       "      <th>2014-11-04 10:00:00</th>\n",
       "      <td>35.633755</td>\n",
       "    </tr>\n",
       "    <tr>\n",
       "      <th>2016-04-01 05:00:00</th>\n",
       "      <td>35.544964</td>\n",
       "    </tr>\n",
       "    <tr>\n",
       "      <th>2016-04-01 06:00:00</th>\n",
       "      <td>35.544453</td>\n",
       "    </tr>\n",
       "  </tbody>\n",
       "</table>\n",
       "<p>75665 rows × 1 columns</p>\n",
       "</div>"
      ],
      "text/plain": [
       "                                   PSAL\n",
       "PRES_BIN TIME                          \n",
       "1.0      2012-11-28 22:00:00  35.461388\n",
       "3.0      2012-11-28 22:00:00  35.460751\n",
       "7.0      2013-06-15 07:00:00  35.462334\n",
       "         2013-06-15 08:00:00  35.463001\n",
       "         2013-06-15 21:00:00  35.501999\n",
       "...                                 ...\n",
       "31.0     2014-11-04 08:00:00  35.632832\n",
       "         2014-11-04 09:00:00  35.634396\n",
       "         2014-11-04 10:00:00  35.633755\n",
       "         2016-04-01 05:00:00  35.544964\n",
       "         2016-04-01 06:00:00  35.544453\n",
       "\n",
       "[75665 rows x 1 columns]"
      ]
     },
     "execution_count": 110,
     "metadata": {},
     "output_type": "execute_result"
    }
   ],
   "source": [
    "psal_df"
   ]
  },
  {
   "cell_type": "code",
   "execution_count": 111,
   "metadata": {},
   "outputs": [],
   "source": [
    "# Join with mooring_df\n",
    "mooring_df = mooring_df.join(psal_df, how=\"inner\")"
   ]
  },
  {
   "cell_type": "code",
   "execution_count": 112,
   "metadata": {},
   "outputs": [
    {
     "data": {
      "text/html": [
       "<div>\n",
       "<style scoped>\n",
       "    .dataframe tbody tr th:only-of-type {\n",
       "        vertical-align: middle;\n",
       "    }\n",
       "\n",
       "    .dataframe tbody tr th {\n",
       "        vertical-align: top;\n",
       "    }\n",
       "\n",
       "    .dataframe thead th {\n",
       "        text-align: right;\n",
       "    }\n",
       "</style>\n",
       "<table border=\"1\" class=\"dataframe\">\n",
       "  <thead>\n",
       "    <tr style=\"text-align: right;\">\n",
       "      <th></th>\n",
       "      <th></th>\n",
       "      <th>DOX2</th>\n",
       "      <th>TEMP</th>\n",
       "      <th>PSAL</th>\n",
       "    </tr>\n",
       "    <tr>\n",
       "      <th>PRES_BIN</th>\n",
       "      <th>TIME</th>\n",
       "      <th></th>\n",
       "      <th></th>\n",
       "      <th></th>\n",
       "    </tr>\n",
       "  </thead>\n",
       "  <tbody>\n",
       "    <tr>\n",
       "      <th>1.0</th>\n",
       "      <th>2012-11-28 22:00:00</th>\n",
       "      <td>219.715591</td>\n",
       "      <td>20.759911</td>\n",
       "      <td>35.461388</td>\n",
       "    </tr>\n",
       "    <tr>\n",
       "      <th>3.0</th>\n",
       "      <th>2012-11-28 22:00:00</th>\n",
       "      <td>219.631363</td>\n",
       "      <td>20.770100</td>\n",
       "      <td>35.460751</td>\n",
       "    </tr>\n",
       "    <tr>\n",
       "      <th rowspan=\"3\" valign=\"top\">7.0</th>\n",
       "      <th>2013-06-15 07:00:00</th>\n",
       "      <td>205.350891</td>\n",
       "      <td>19.003767</td>\n",
       "      <td>35.462334</td>\n",
       "    </tr>\n",
       "    <tr>\n",
       "      <th>2013-06-15 08:00:00</th>\n",
       "      <td>205.339203</td>\n",
       "      <td>18.982601</td>\n",
       "      <td>35.463001</td>\n",
       "    </tr>\n",
       "    <tr>\n",
       "      <th>2013-06-15 21:00:00</th>\n",
       "      <td>208.561523</td>\n",
       "      <td>18.965900</td>\n",
       "      <td>35.501999</td>\n",
       "    </tr>\n",
       "    <tr>\n",
       "      <th>...</th>\n",
       "      <th>...</th>\n",
       "      <td>...</td>\n",
       "      <td>...</td>\n",
       "      <td>...</td>\n",
       "    </tr>\n",
       "    <tr>\n",
       "      <th rowspan=\"5\" valign=\"top\">31.0</th>\n",
       "      <th>2010-05-21 10:00:00</th>\n",
       "      <td>210.213242</td>\n",
       "      <td>22.698212</td>\n",
       "      <td>35.327530</td>\n",
       "    </tr>\n",
       "    <tr>\n",
       "      <th>2010-05-21 11:00:00</th>\n",
       "      <td>210.027222</td>\n",
       "      <td>22.679289</td>\n",
       "      <td>35.324860</td>\n",
       "    </tr>\n",
       "    <tr>\n",
       "      <th>2010-05-21 12:00:00</th>\n",
       "      <td>209.906219</td>\n",
       "      <td>22.679312</td>\n",
       "      <td>35.319817</td>\n",
       "    </tr>\n",
       "    <tr>\n",
       "      <th>2016-04-01 05:00:00</th>\n",
       "      <td>161.294037</td>\n",
       "      <td>24.785011</td>\n",
       "      <td>35.544964</td>\n",
       "    </tr>\n",
       "    <tr>\n",
       "      <th>2016-04-01 06:00:00</th>\n",
       "      <td>162.787338</td>\n",
       "      <td>24.770300</td>\n",
       "      <td>35.544453</td>\n",
       "    </tr>\n",
       "  </tbody>\n",
       "</table>\n",
       "<p>62732 rows × 3 columns</p>\n",
       "</div>"
      ],
      "text/plain": [
       "                                    DOX2       TEMP       PSAL\n",
       "PRES_BIN TIME                                                 \n",
       "1.0      2012-11-28 22:00:00  219.715591  20.759911  35.461388\n",
       "3.0      2012-11-28 22:00:00  219.631363  20.770100  35.460751\n",
       "7.0      2013-06-15 07:00:00  205.350891  19.003767  35.462334\n",
       "         2013-06-15 08:00:00  205.339203  18.982601  35.463001\n",
       "         2013-06-15 21:00:00  208.561523  18.965900  35.501999\n",
       "...                                  ...        ...        ...\n",
       "31.0     2010-05-21 10:00:00  210.213242  22.698212  35.327530\n",
       "         2010-05-21 11:00:00  210.027222  22.679289  35.324860\n",
       "         2010-05-21 12:00:00  209.906219  22.679312  35.319817\n",
       "         2016-04-01 05:00:00  161.294037  24.785011  35.544964\n",
       "         2016-04-01 06:00:00  162.787338  24.770300  35.544453\n",
       "\n",
       "[62732 rows x 3 columns]"
      ]
     },
     "execution_count": 112,
     "metadata": {},
     "output_type": "execute_result"
    }
   ],
   "source": [
    "mooring_df"
   ]
  },
  {
   "cell_type": "code",
   "execution_count": 114,
   "metadata": {},
   "outputs": [],
   "source": [
    "# reset indices and split TIME into YEAR YDAY and HOUR\n",
    "mooring_df = mooring_df.reset_index()"
   ]
  },
  {
   "cell_type": "code",
   "execution_count": 118,
   "metadata": {},
   "outputs": [],
   "source": [
    "import datetime"
   ]
  },
  {
   "cell_type": "code",
   "execution_count": 162,
   "metadata": {},
   "outputs": [],
   "source": [
    "mooring_df['Year'] = mooring_df.TIME.dt.year\n",
    "mooring_df['Yday'] = mooring_df.TIME.dt.dayofyear#pd.to_numeric(mooring_df.TIME.dt.strftime('%j'))\n",
    "mooring_df['Hour'] = mooring_df.TIME.dt.hour"
   ]
  },
  {
   "cell_type": "code",
   "execution_count": 160,
   "metadata": {},
   "outputs": [],
   "source": [
    "mooring_df.rename(columns={'PRES_BIN': 'PRESSURE', 'DOX2': 'OXYGEN_VALUE', 'TEMP': 'TEMPERATURE_VALUE', 'PSAL': 'SALINITY_VALUE'}, inplace=True)"
   ]
  },
  {
   "cell_type": "code",
   "execution_count": 161,
   "metadata": {},
   "outputs": [
    {
     "data": {
      "text/html": [
       "<div>\n",
       "<style scoped>\n",
       "    .dataframe tbody tr th:only-of-type {\n",
       "        vertical-align: middle;\n",
       "    }\n",
       "\n",
       "    .dataframe tbody tr th {\n",
       "        vertical-align: top;\n",
       "    }\n",
       "\n",
       "    .dataframe thead th {\n",
       "        text-align: right;\n",
       "    }\n",
       "</style>\n",
       "<table border=\"1\" class=\"dataframe\">\n",
       "  <thead>\n",
       "    <tr style=\"text-align: right;\">\n",
       "      <th></th>\n",
       "      <th>PRESSURE</th>\n",
       "      <th>TIME</th>\n",
       "      <th>OXYGEN_VALUE</th>\n",
       "      <th>TEMPERATURE_VALUE</th>\n",
       "      <th>SALINITY_VALUE</th>\n",
       "      <th>Year</th>\n",
       "      <th>Yday</th>\n",
       "      <th>Hour</th>\n",
       "    </tr>\n",
       "  </thead>\n",
       "  <tbody>\n",
       "    <tr>\n",
       "      <th>0</th>\n",
       "      <td>1.0</td>\n",
       "      <td>2012-11-28 22:00:00</td>\n",
       "      <td>219.715591</td>\n",
       "      <td>20.759911</td>\n",
       "      <td>35.461388</td>\n",
       "      <td>2012</td>\n",
       "      <td>333</td>\n",
       "      <td>22</td>\n",
       "    </tr>\n",
       "    <tr>\n",
       "      <th>1</th>\n",
       "      <td>3.0</td>\n",
       "      <td>2012-11-28 22:00:00</td>\n",
       "      <td>219.631363</td>\n",
       "      <td>20.770100</td>\n",
       "      <td>35.460751</td>\n",
       "      <td>2012</td>\n",
       "      <td>333</td>\n",
       "      <td>22</td>\n",
       "    </tr>\n",
       "    <tr>\n",
       "      <th>2</th>\n",
       "      <td>7.0</td>\n",
       "      <td>2013-06-15 07:00:00</td>\n",
       "      <td>205.350891</td>\n",
       "      <td>19.003767</td>\n",
       "      <td>35.462334</td>\n",
       "      <td>2013</td>\n",
       "      <td>166</td>\n",
       "      <td>7</td>\n",
       "    </tr>\n",
       "    <tr>\n",
       "      <th>3</th>\n",
       "      <td>7.0</td>\n",
       "      <td>2013-06-15 08:00:00</td>\n",
       "      <td>205.339203</td>\n",
       "      <td>18.982601</td>\n",
       "      <td>35.463001</td>\n",
       "      <td>2013</td>\n",
       "      <td>166</td>\n",
       "      <td>8</td>\n",
       "    </tr>\n",
       "    <tr>\n",
       "      <th>4</th>\n",
       "      <td>7.0</td>\n",
       "      <td>2013-06-15 21:00:00</td>\n",
       "      <td>208.561523</td>\n",
       "      <td>18.965900</td>\n",
       "      <td>35.501999</td>\n",
       "      <td>2013</td>\n",
       "      <td>166</td>\n",
       "      <td>21</td>\n",
       "    </tr>\n",
       "    <tr>\n",
       "      <th>...</th>\n",
       "      <td>...</td>\n",
       "      <td>...</td>\n",
       "      <td>...</td>\n",
       "      <td>...</td>\n",
       "      <td>...</td>\n",
       "      <td>...</td>\n",
       "      <td>...</td>\n",
       "      <td>...</td>\n",
       "    </tr>\n",
       "    <tr>\n",
       "      <th>62727</th>\n",
       "      <td>31.0</td>\n",
       "      <td>2010-05-21 10:00:00</td>\n",
       "      <td>210.213242</td>\n",
       "      <td>22.698212</td>\n",
       "      <td>35.327530</td>\n",
       "      <td>2010</td>\n",
       "      <td>141</td>\n",
       "      <td>10</td>\n",
       "    </tr>\n",
       "    <tr>\n",
       "      <th>62728</th>\n",
       "      <td>31.0</td>\n",
       "      <td>2010-05-21 11:00:00</td>\n",
       "      <td>210.027222</td>\n",
       "      <td>22.679289</td>\n",
       "      <td>35.324860</td>\n",
       "      <td>2010</td>\n",
       "      <td>141</td>\n",
       "      <td>11</td>\n",
       "    </tr>\n",
       "    <tr>\n",
       "      <th>62729</th>\n",
       "      <td>31.0</td>\n",
       "      <td>2010-05-21 12:00:00</td>\n",
       "      <td>209.906219</td>\n",
       "      <td>22.679312</td>\n",
       "      <td>35.319817</td>\n",
       "      <td>2010</td>\n",
       "      <td>141</td>\n",
       "      <td>12</td>\n",
       "    </tr>\n",
       "    <tr>\n",
       "      <th>62730</th>\n",
       "      <td>31.0</td>\n",
       "      <td>2016-04-01 05:00:00</td>\n",
       "      <td>161.294037</td>\n",
       "      <td>24.785011</td>\n",
       "      <td>35.544964</td>\n",
       "      <td>2016</td>\n",
       "      <td>92</td>\n",
       "      <td>5</td>\n",
       "    </tr>\n",
       "    <tr>\n",
       "      <th>62731</th>\n",
       "      <td>31.0</td>\n",
       "      <td>2016-04-01 06:00:00</td>\n",
       "      <td>162.787338</td>\n",
       "      <td>24.770300</td>\n",
       "      <td>35.544453</td>\n",
       "      <td>2016</td>\n",
       "      <td>92</td>\n",
       "      <td>6</td>\n",
       "    </tr>\n",
       "  </tbody>\n",
       "</table>\n",
       "<p>62732 rows × 8 columns</p>\n",
       "</div>"
      ],
      "text/plain": [
       "       PRESSURE                TIME  OXYGEN_VALUE  TEMPERATURE_VALUE  \\\n",
       "0           1.0 2012-11-28 22:00:00    219.715591          20.759911   \n",
       "1           3.0 2012-11-28 22:00:00    219.631363          20.770100   \n",
       "2           7.0 2013-06-15 07:00:00    205.350891          19.003767   \n",
       "3           7.0 2013-06-15 08:00:00    205.339203          18.982601   \n",
       "4           7.0 2013-06-15 21:00:00    208.561523          18.965900   \n",
       "...         ...                 ...           ...                ...   \n",
       "62727      31.0 2010-05-21 10:00:00    210.213242          22.698212   \n",
       "62728      31.0 2010-05-21 11:00:00    210.027222          22.679289   \n",
       "62729      31.0 2010-05-21 12:00:00    209.906219          22.679312   \n",
       "62730      31.0 2016-04-01 05:00:00    161.294037          24.785011   \n",
       "62731      31.0 2016-04-01 06:00:00    162.787338          24.770300   \n",
       "\n",
       "       SALINITY_VALUE  Year  Yday  Hour  \n",
       "0           35.461388  2012   333    22  \n",
       "1           35.460751  2012   333    22  \n",
       "2           35.462334  2013   166     7  \n",
       "3           35.463001  2013   166     8  \n",
       "4           35.501999  2013   166    21  \n",
       "...               ...   ...   ...   ...  \n",
       "62727       35.327530  2010   141    10  \n",
       "62728       35.324860  2010   141    11  \n",
       "62729       35.319817  2010   141    12  \n",
       "62730       35.544964  2016    92     5  \n",
       "62731       35.544453  2016    92     6  \n",
       "\n",
       "[62732 rows x 8 columns]"
      ]
     },
     "execution_count": 161,
     "metadata": {},
     "output_type": "execute_result"
    }
   ],
   "source": [
    "# Normalise columns for prediction, similar to training data"
   ]
  },
  {
   "cell_type": "code",
   "execution_count": 164,
   "metadata": {},
   "outputs": [],
   "source": [
    "import pickle"
   ]
  },
  {
   "cell_type": "code",
   "execution_count": 170,
   "metadata": {},
   "outputs": [
    {
     "data": {
      "text/html": [
       "<div>\n",
       "<style scoped>\n",
       "    .dataframe tbody tr th:only-of-type {\n",
       "        vertical-align: middle;\n",
       "    }\n",
       "\n",
       "    .dataframe tbody tr th {\n",
       "        vertical-align: top;\n",
       "    }\n",
       "\n",
       "    .dataframe thead th {\n",
       "        text-align: right;\n",
       "    }\n",
       "</style>\n",
       "<table border=\"1\" class=\"dataframe\">\n",
       "  <thead>\n",
       "    <tr style=\"text-align: right;\">\n",
       "      <th></th>\n",
       "      <th>count</th>\n",
       "      <th>mean</th>\n",
       "      <th>std</th>\n",
       "      <th>min</th>\n",
       "      <th>25%</th>\n",
       "      <th>50%</th>\n",
       "      <th>75%</th>\n",
       "      <th>max</th>\n",
       "    </tr>\n",
       "  </thead>\n",
       "  <tbody>\n",
       "    <tr>\n",
       "      <th>Year</th>\n",
       "      <td>12970.0</td>\n",
       "      <td>1970.413030</td>\n",
       "      <td>8.419602</td>\n",
       "      <td>1953.000</td>\n",
       "      <td>1964.00000</td>\n",
       "      <td>1971.00</td>\n",
       "      <td>1977.00</td>\n",
       "      <td>1985.000</td>\n",
       "    </tr>\n",
       "    <tr>\n",
       "      <th>Yday</th>\n",
       "      <td>12970.0</td>\n",
       "      <td>183.796530</td>\n",
       "      <td>105.020247</td>\n",
       "      <td>1.000</td>\n",
       "      <td>92.00000</td>\n",
       "      <td>187.00</td>\n",
       "      <td>275.00</td>\n",
       "      <td>365.000</td>\n",
       "    </tr>\n",
       "    <tr>\n",
       "      <th>Hour</th>\n",
       "      <td>12970.0</td>\n",
       "      <td>0.028373</td>\n",
       "      <td>0.807359</td>\n",
       "      <td>0.000</td>\n",
       "      <td>0.00000</td>\n",
       "      <td>0.00</td>\n",
       "      <td>0.00</td>\n",
       "      <td>23.000</td>\n",
       "    </tr>\n",
       "    <tr>\n",
       "      <th>PRESSURE</th>\n",
       "      <td>12970.0</td>\n",
       "      <td>47.623531</td>\n",
       "      <td>41.024090</td>\n",
       "      <td>0.000</td>\n",
       "      <td>20.00000</td>\n",
       "      <td>40.00</td>\n",
       "      <td>70.00</td>\n",
       "      <td>300.000</td>\n",
       "    </tr>\n",
       "    <tr>\n",
       "      <th>TEMPERATURE_VALUE</th>\n",
       "      <td>12970.0</td>\n",
       "      <td>17.498877</td>\n",
       "      <td>2.411700</td>\n",
       "      <td>10.110</td>\n",
       "      <td>15.75925</td>\n",
       "      <td>17.24</td>\n",
       "      <td>19.05</td>\n",
       "      <td>25.500</td>\n",
       "    </tr>\n",
       "    <tr>\n",
       "      <th>TEMPERATURE_QC_FLAG</th>\n",
       "      <td>12970.0</td>\n",
       "      <td>0.000000</td>\n",
       "      <td>0.000000</td>\n",
       "      <td>0.000</td>\n",
       "      <td>0.00000</td>\n",
       "      <td>0.00</td>\n",
       "      <td>0.00</td>\n",
       "      <td>0.000</td>\n",
       "    </tr>\n",
       "    <tr>\n",
       "      <th>SALINITY_VALUE</th>\n",
       "      <td>12970.0</td>\n",
       "      <td>35.461692</td>\n",
       "      <td>0.164354</td>\n",
       "      <td>31.924</td>\n",
       "      <td>35.38600</td>\n",
       "      <td>35.48</td>\n",
       "      <td>35.56</td>\n",
       "      <td>35.967</td>\n",
       "    </tr>\n",
       "    <tr>\n",
       "      <th>SALINITY_QC_FLAG</th>\n",
       "      <td>12970.0</td>\n",
       "      <td>0.000000</td>\n",
       "      <td>0.000000</td>\n",
       "      <td>0.000</td>\n",
       "      <td>0.00000</td>\n",
       "      <td>0.00</td>\n",
       "      <td>0.00</td>\n",
       "      <td>0.000</td>\n",
       "    </tr>\n",
       "    <tr>\n",
       "      <th>OXYGEN_VALUE</th>\n",
       "      <td>12970.0</td>\n",
       "      <td>0.000000</td>\n",
       "      <td>1.000000</td>\n",
       "      <td>109.900</td>\n",
       "      <td>199.69000</td>\n",
       "      <td>222.92</td>\n",
       "      <td>234.98</td>\n",
       "      <td>324.320</td>\n",
       "    </tr>\n",
       "    <tr>\n",
       "      <th>OXYGEN_QC_FLAG</th>\n",
       "      <td>12970.0</td>\n",
       "      <td>0.000000</td>\n",
       "      <td>0.000000</td>\n",
       "      <td>0.000</td>\n",
       "      <td>0.00000</td>\n",
       "      <td>0.00</td>\n",
       "      <td>0.00</td>\n",
       "      <td>0.000</td>\n",
       "    </tr>\n",
       "  </tbody>\n",
       "</table>\n",
       "</div>"
      ],
      "text/plain": [
       "                       count         mean         std       min         25%  \\\n",
       "Year                 12970.0  1970.413030    8.419602  1953.000  1964.00000   \n",
       "Yday                 12970.0   183.796530  105.020247     1.000    92.00000   \n",
       "Hour                 12970.0     0.028373    0.807359     0.000     0.00000   \n",
       "PRESSURE             12970.0    47.623531   41.024090     0.000    20.00000   \n",
       "TEMPERATURE_VALUE    12970.0    17.498877    2.411700    10.110    15.75925   \n",
       "TEMPERATURE_QC_FLAG  12970.0     0.000000    0.000000     0.000     0.00000   \n",
       "SALINITY_VALUE       12970.0    35.461692    0.164354    31.924    35.38600   \n",
       "SALINITY_QC_FLAG     12970.0     0.000000    0.000000     0.000     0.00000   \n",
       "OXYGEN_VALUE         12970.0     0.000000    1.000000   109.900   199.69000   \n",
       "OXYGEN_QC_FLAG       12970.0     0.000000    0.000000     0.000     0.00000   \n",
       "\n",
       "                         50%      75%       max  \n",
       "Year                 1971.00  1977.00  1985.000  \n",
       "Yday                  187.00   275.00   365.000  \n",
       "Hour                    0.00     0.00    23.000  \n",
       "PRESSURE               40.00    70.00   300.000  \n",
       "TEMPERATURE_VALUE      17.24    19.05    25.500  \n",
       "TEMPERATURE_QC_FLAG     0.00     0.00     0.000  \n",
       "SALINITY_VALUE         35.48    35.56    35.967  \n",
       "SALINITY_QC_FLAG        0.00     0.00     0.000  \n",
       "OXYGEN_VALUE          222.92   234.98   324.320  \n",
       "OXYGEN_QC_FLAG          0.00     0.00     0.000  "
      ]
     },
     "execution_count": 170,
     "metadata": {},
     "output_type": "execute_result"
    }
   ],
   "source": [
    "pickle_in = open(\"../data/standardisation_oxygen.pickle\", \"rb\")\n",
    "oxygen_stats = pickle.load(pickle_in)\n",
    "oxygen_stats"
   ]
  },
  {
   "cell_type": "code",
   "execution_count": 183,
   "metadata": {},
   "outputs": [
    {
     "data": {
      "text/plain": [
       "17.498876792598303"
      ]
     },
     "execution_count": 183,
     "metadata": {},
     "output_type": "execute_result"
    }
   ],
   "source": [
    "oxygen_stats.loc['TEMPERATURE_VALUE','mean']"
   ]
  },
  {
   "cell_type": "code",
   "execution_count": 185,
   "metadata": {},
   "outputs": [],
   "source": [
    "mooring_df.TEMPERATURE_VALUE =(mooring_df.TEMPERATURE_VALUE - oxygen_stats.loc['TEMPERATURE_VALUE','mean'])/oxygen_stats.loc['TEMPERATURE_VALUE','std']\n",
    "mooring_df.SALINITY_VALUE =(mooring_df.SALINITY_VALUE - oxygen_stats.loc['SALINITY_VALUE','mean'])/oxygen_stats.loc['SALINITY_VALUE','std']\n",
    "mooring_df.PRESSURE =(mooring_df.PRESSURE - oxygen_stats.loc['PRESSURE','mean'])/oxygen_stats.loc['PRESSURE','std']\n",
    "mooring_df.Year =(mooring_df.Year - oxygen_stats.loc['Year','mean'])/oxygen_stats.loc['Year','std']\n",
    "mooring_df.Yday =(mooring_df.Yday - oxygen_stats.loc['Yday','mean'])/oxygen_stats.loc['Yday','std']\n",
    "mooring_df.Hour =(mooring_df.Hour - oxygen_stats.loc['Hour','mean'])/oxygen_stats.loc['Hour','std']"
   ]
  },
  {
   "cell_type": "code",
   "execution_count": 186,
   "metadata": {},
   "outputs": [
    {
     "data": {
      "text/html": [
       "<div>\n",
       "<style scoped>\n",
       "    .dataframe tbody tr th:only-of-type {\n",
       "        vertical-align: middle;\n",
       "    }\n",
       "\n",
       "    .dataframe tbody tr th {\n",
       "        vertical-align: top;\n",
       "    }\n",
       "\n",
       "    .dataframe thead th {\n",
       "        text-align: right;\n",
       "    }\n",
       "</style>\n",
       "<table border=\"1\" class=\"dataframe\">\n",
       "  <thead>\n",
       "    <tr style=\"text-align: right;\">\n",
       "      <th></th>\n",
       "      <th>PRESSURE</th>\n",
       "      <th>TIME</th>\n",
       "      <th>OXYGEN_VALUE</th>\n",
       "      <th>TEMPERATURE_VALUE</th>\n",
       "      <th>SALINITY_VALUE</th>\n",
       "      <th>Year</th>\n",
       "      <th>Yday</th>\n",
       "      <th>Hour</th>\n",
       "    </tr>\n",
       "  </thead>\n",
       "  <tbody>\n",
       "    <tr>\n",
       "      <th>0</th>\n",
       "      <td>-1.136492</td>\n",
       "      <td>2012-11-28 22:00:00</td>\n",
       "      <td>219.715591</td>\n",
       "      <td>1.352172</td>\n",
       "      <td>-0.001857</td>\n",
       "      <td>4.939304</td>\n",
       "      <td>1.420711</td>\n",
       "      <td>27.214206</td>\n",
       "    </tr>\n",
       "    <tr>\n",
       "      <th>1</th>\n",
       "      <td>-1.087740</td>\n",
       "      <td>2012-11-28 22:00:00</td>\n",
       "      <td>219.631363</td>\n",
       "      <td>1.356397</td>\n",
       "      <td>-0.005733</td>\n",
       "      <td>4.939304</td>\n",
       "      <td>1.420711</td>\n",
       "      <td>27.214206</td>\n",
       "    </tr>\n",
       "    <tr>\n",
       "      <th>2</th>\n",
       "      <td>-0.990236</td>\n",
       "      <td>2013-06-15 07:00:00</td>\n",
       "      <td>205.350891</td>\n",
       "      <td>0.623996</td>\n",
       "      <td>0.003899</td>\n",
       "      <td>5.058074</td>\n",
       "      <td>-0.169458</td>\n",
       "      <td>8.635104</td>\n",
       "    </tr>\n",
       "    <tr>\n",
       "      <th>3</th>\n",
       "      <td>-0.990236</td>\n",
       "      <td>2013-06-15 08:00:00</td>\n",
       "      <td>205.339203</td>\n",
       "      <td>0.615219</td>\n",
       "      <td>0.007961</td>\n",
       "      <td>5.058074</td>\n",
       "      <td>-0.169458</td>\n",
       "      <td>9.873711</td>\n",
       "    </tr>\n",
       "    <tr>\n",
       "      <th>4</th>\n",
       "      <td>-0.990236</td>\n",
       "      <td>2013-06-15 21:00:00</td>\n",
       "      <td>208.561523</td>\n",
       "      <td>0.608294</td>\n",
       "      <td>0.245240</td>\n",
       "      <td>5.058074</td>\n",
       "      <td>-0.169458</td>\n",
       "      <td>25.975600</td>\n",
       "    </tr>\n",
       "    <tr>\n",
       "      <th>...</th>\n",
       "      <td>...</td>\n",
       "      <td>...</td>\n",
       "      <td>...</td>\n",
       "      <td>...</td>\n",
       "      <td>...</td>\n",
       "      <td>...</td>\n",
       "      <td>...</td>\n",
       "      <td>...</td>\n",
       "    </tr>\n",
       "    <tr>\n",
       "      <th>62727</th>\n",
       "      <td>-0.405214</td>\n",
       "      <td>2010-05-21 10:00:00</td>\n",
       "      <td>210.213242</td>\n",
       "      <td>2.155880</td>\n",
       "      <td>-0.816306</td>\n",
       "      <td>4.701763</td>\n",
       "      <td>-0.407507</td>\n",
       "      <td>12.350925</td>\n",
       "    </tr>\n",
       "    <tr>\n",
       "      <th>62728</th>\n",
       "      <td>-0.405214</td>\n",
       "      <td>2010-05-21 11:00:00</td>\n",
       "      <td>210.027222</td>\n",
       "      <td>2.148033</td>\n",
       "      <td>-0.832553</td>\n",
       "      <td>4.701763</td>\n",
       "      <td>-0.407507</td>\n",
       "      <td>13.589532</td>\n",
       "    </tr>\n",
       "    <tr>\n",
       "      <th>62729</th>\n",
       "      <td>-0.405214</td>\n",
       "      <td>2010-05-21 12:00:00</td>\n",
       "      <td>209.906219</td>\n",
       "      <td>2.148043</td>\n",
       "      <td>-0.863237</td>\n",
       "      <td>4.701763</td>\n",
       "      <td>-0.407507</td>\n",
       "      <td>14.828138</td>\n",
       "    </tr>\n",
       "    <tr>\n",
       "      <th>62730</th>\n",
       "      <td>-0.405214</td>\n",
       "      <td>2016-04-01 05:00:00</td>\n",
       "      <td>161.294037</td>\n",
       "      <td>3.021161</td>\n",
       "      <td>0.506657</td>\n",
       "      <td>5.414386</td>\n",
       "      <td>-0.874084</td>\n",
       "      <td>6.157891</td>\n",
       "    </tr>\n",
       "    <tr>\n",
       "      <th>62731</th>\n",
       "      <td>-0.405214</td>\n",
       "      <td>2016-04-01 06:00:00</td>\n",
       "      <td>162.787338</td>\n",
       "      <td>3.015061</td>\n",
       "      <td>0.503547</td>\n",
       "      <td>5.414386</td>\n",
       "      <td>-0.874084</td>\n",
       "      <td>7.396498</td>\n",
       "    </tr>\n",
       "  </tbody>\n",
       "</table>\n",
       "<p>62732 rows × 8 columns</p>\n",
       "</div>"
      ],
      "text/plain": [
       "       PRESSURE                TIME  OXYGEN_VALUE  TEMPERATURE_VALUE  \\\n",
       "0     -1.136492 2012-11-28 22:00:00    219.715591           1.352172   \n",
       "1     -1.087740 2012-11-28 22:00:00    219.631363           1.356397   \n",
       "2     -0.990236 2013-06-15 07:00:00    205.350891           0.623996   \n",
       "3     -0.990236 2013-06-15 08:00:00    205.339203           0.615219   \n",
       "4     -0.990236 2013-06-15 21:00:00    208.561523           0.608294   \n",
       "...         ...                 ...           ...                ...   \n",
       "62727 -0.405214 2010-05-21 10:00:00    210.213242           2.155880   \n",
       "62728 -0.405214 2010-05-21 11:00:00    210.027222           2.148033   \n",
       "62729 -0.405214 2010-05-21 12:00:00    209.906219           2.148043   \n",
       "62730 -0.405214 2016-04-01 05:00:00    161.294037           3.021161   \n",
       "62731 -0.405214 2016-04-01 06:00:00    162.787338           3.015061   \n",
       "\n",
       "       SALINITY_VALUE      Year      Yday       Hour  \n",
       "0           -0.001857  4.939304  1.420711  27.214206  \n",
       "1           -0.005733  4.939304  1.420711  27.214206  \n",
       "2            0.003899  5.058074 -0.169458   8.635104  \n",
       "3            0.007961  5.058074 -0.169458   9.873711  \n",
       "4            0.245240  5.058074 -0.169458  25.975600  \n",
       "...               ...       ...       ...        ...  \n",
       "62727       -0.816306  4.701763 -0.407507  12.350925  \n",
       "62728       -0.832553  4.701763 -0.407507  13.589532  \n",
       "62729       -0.863237  4.701763 -0.407507  14.828138  \n",
       "62730        0.506657  5.414386 -0.874084   6.157891  \n",
       "62731        0.503547  5.414386 -0.874084   7.396498  \n",
       "\n",
       "[62732 rows x 8 columns]"
      ]
     },
     "execution_count": 186,
     "metadata": {},
     "output_type": "execute_result"
    }
   ],
   "source": [
    "mooring_df"
   ]
  },
  {
   "cell_type": "markdown",
   "metadata": {},
   "source": [
    "## Prediction using ANN model"
   ]
  },
  {
   "cell_type": "code",
   "execution_count": 191,
   "metadata": {},
   "outputs": [],
   "source": [
    "mooring_df['DOX2_predictions'] = model.predict(mooring_df[['Year','Yday','Hour','PRESSURE','TEMPERATURE_VALUE','SALINITY_VALUE']])\n",
    "mooring_df['DOX2_error'] = mooring_df.OXYGEN_VALUE - mooring_df.DOX2_predictions"
   ]
  },
  {
   "cell_type": "code",
   "execution_count": 192,
   "metadata": {},
   "outputs": [
    {
     "data": {
      "text/html": [
       "<div>\n",
       "<style scoped>\n",
       "    .dataframe tbody tr th:only-of-type {\n",
       "        vertical-align: middle;\n",
       "    }\n",
       "\n",
       "    .dataframe tbody tr th {\n",
       "        vertical-align: top;\n",
       "    }\n",
       "\n",
       "    .dataframe thead th {\n",
       "        text-align: right;\n",
       "    }\n",
       "</style>\n",
       "<table border=\"1\" class=\"dataframe\">\n",
       "  <thead>\n",
       "    <tr style=\"text-align: right;\">\n",
       "      <th></th>\n",
       "      <th>PRESSURE</th>\n",
       "      <th>TIME</th>\n",
       "      <th>OXYGEN_VALUE</th>\n",
       "      <th>TEMPERATURE_VALUE</th>\n",
       "      <th>SALINITY_VALUE</th>\n",
       "      <th>Year</th>\n",
       "      <th>Yday</th>\n",
       "      <th>Hour</th>\n",
       "      <th>DOX2_predictions</th>\n",
       "      <th>DOX2_error</th>\n",
       "    </tr>\n",
       "  </thead>\n",
       "  <tbody>\n",
       "    <tr>\n",
       "      <th>0</th>\n",
       "      <td>-1.136492</td>\n",
       "      <td>2012-11-28 22:00:00</td>\n",
       "      <td>219.715591</td>\n",
       "      <td>1.352172</td>\n",
       "      <td>-0.001857</td>\n",
       "      <td>4.939304</td>\n",
       "      <td>1.420711</td>\n",
       "      <td>27.214206</td>\n",
       "      <td>191.269196</td>\n",
       "      <td>28.446396</td>\n",
       "    </tr>\n",
       "    <tr>\n",
       "      <th>1</th>\n",
       "      <td>-1.087740</td>\n",
       "      <td>2012-11-28 22:00:00</td>\n",
       "      <td>219.631363</td>\n",
       "      <td>1.356397</td>\n",
       "      <td>-0.005733</td>\n",
       "      <td>4.939304</td>\n",
       "      <td>1.420711</td>\n",
       "      <td>27.214206</td>\n",
       "      <td>190.373627</td>\n",
       "      <td>29.257736</td>\n",
       "    </tr>\n",
       "    <tr>\n",
       "      <th>2</th>\n",
       "      <td>-0.990236</td>\n",
       "      <td>2013-06-15 07:00:00</td>\n",
       "      <td>205.350891</td>\n",
       "      <td>0.623996</td>\n",
       "      <td>0.003899</td>\n",
       "      <td>5.058074</td>\n",
       "      <td>-0.169458</td>\n",
       "      <td>8.635104</td>\n",
       "      <td>112.922050</td>\n",
       "      <td>92.428841</td>\n",
       "    </tr>\n",
       "    <tr>\n",
       "      <th>3</th>\n",
       "      <td>-0.990236</td>\n",
       "      <td>2013-06-15 08:00:00</td>\n",
       "      <td>205.339203</td>\n",
       "      <td>0.615219</td>\n",
       "      <td>0.007961</td>\n",
       "      <td>5.058074</td>\n",
       "      <td>-0.169458</td>\n",
       "      <td>9.873711</td>\n",
       "      <td>117.785454</td>\n",
       "      <td>87.553749</td>\n",
       "    </tr>\n",
       "    <tr>\n",
       "      <th>4</th>\n",
       "      <td>-0.990236</td>\n",
       "      <td>2013-06-15 21:00:00</td>\n",
       "      <td>208.561523</td>\n",
       "      <td>0.608294</td>\n",
       "      <td>0.245240</td>\n",
       "      <td>5.058074</td>\n",
       "      <td>-0.169458</td>\n",
       "      <td>25.975600</td>\n",
       "      <td>246.425446</td>\n",
       "      <td>-37.863922</td>\n",
       "    </tr>\n",
       "    <tr>\n",
       "      <th>...</th>\n",
       "      <td>...</td>\n",
       "      <td>...</td>\n",
       "      <td>...</td>\n",
       "      <td>...</td>\n",
       "      <td>...</td>\n",
       "      <td>...</td>\n",
       "      <td>...</td>\n",
       "      <td>...</td>\n",
       "      <td>...</td>\n",
       "      <td>...</td>\n",
       "    </tr>\n",
       "    <tr>\n",
       "      <th>62727</th>\n",
       "      <td>-0.405214</td>\n",
       "      <td>2010-05-21 10:00:00</td>\n",
       "      <td>210.213242</td>\n",
       "      <td>2.155880</td>\n",
       "      <td>-0.816306</td>\n",
       "      <td>4.701763</td>\n",
       "      <td>-0.407507</td>\n",
       "      <td>12.350925</td>\n",
       "      <td>158.802689</td>\n",
       "      <td>51.410553</td>\n",
       "    </tr>\n",
       "    <tr>\n",
       "      <th>62728</th>\n",
       "      <td>-0.405214</td>\n",
       "      <td>2010-05-21 11:00:00</td>\n",
       "      <td>210.027222</td>\n",
       "      <td>2.148033</td>\n",
       "      <td>-0.832553</td>\n",
       "      <td>4.701763</td>\n",
       "      <td>-0.407507</td>\n",
       "      <td>13.589532</td>\n",
       "      <td>162.020569</td>\n",
       "      <td>48.006653</td>\n",
       "    </tr>\n",
       "    <tr>\n",
       "      <th>62729</th>\n",
       "      <td>-0.405214</td>\n",
       "      <td>2010-05-21 12:00:00</td>\n",
       "      <td>209.906219</td>\n",
       "      <td>2.148043</td>\n",
       "      <td>-0.863237</td>\n",
       "      <td>4.701763</td>\n",
       "      <td>-0.407507</td>\n",
       "      <td>14.828138</td>\n",
       "      <td>165.005417</td>\n",
       "      <td>44.900803</td>\n",
       "    </tr>\n",
       "    <tr>\n",
       "      <th>62730</th>\n",
       "      <td>-0.405214</td>\n",
       "      <td>2016-04-01 05:00:00</td>\n",
       "      <td>161.294037</td>\n",
       "      <td>3.021161</td>\n",
       "      <td>0.506657</td>\n",
       "      <td>5.414386</td>\n",
       "      <td>-0.874084</td>\n",
       "      <td>6.157891</td>\n",
       "      <td>147.765533</td>\n",
       "      <td>13.528503</td>\n",
       "    </tr>\n",
       "    <tr>\n",
       "      <th>62731</th>\n",
       "      <td>-0.405214</td>\n",
       "      <td>2016-04-01 06:00:00</td>\n",
       "      <td>162.787338</td>\n",
       "      <td>3.015061</td>\n",
       "      <td>0.503547</td>\n",
       "      <td>5.414386</td>\n",
       "      <td>-0.874084</td>\n",
       "      <td>7.396498</td>\n",
       "      <td>146.428604</td>\n",
       "      <td>16.358734</td>\n",
       "    </tr>\n",
       "  </tbody>\n",
       "</table>\n",
       "<p>62732 rows × 10 columns</p>\n",
       "</div>"
      ],
      "text/plain": [
       "       PRESSURE                TIME  OXYGEN_VALUE  TEMPERATURE_VALUE  \\\n",
       "0     -1.136492 2012-11-28 22:00:00    219.715591           1.352172   \n",
       "1     -1.087740 2012-11-28 22:00:00    219.631363           1.356397   \n",
       "2     -0.990236 2013-06-15 07:00:00    205.350891           0.623996   \n",
       "3     -0.990236 2013-06-15 08:00:00    205.339203           0.615219   \n",
       "4     -0.990236 2013-06-15 21:00:00    208.561523           0.608294   \n",
       "...         ...                 ...           ...                ...   \n",
       "62727 -0.405214 2010-05-21 10:00:00    210.213242           2.155880   \n",
       "62728 -0.405214 2010-05-21 11:00:00    210.027222           2.148033   \n",
       "62729 -0.405214 2010-05-21 12:00:00    209.906219           2.148043   \n",
       "62730 -0.405214 2016-04-01 05:00:00    161.294037           3.021161   \n",
       "62731 -0.405214 2016-04-01 06:00:00    162.787338           3.015061   \n",
       "\n",
       "       SALINITY_VALUE      Year      Yday       Hour  DOX2_predictions  \\\n",
       "0           -0.001857  4.939304  1.420711  27.214206        191.269196   \n",
       "1           -0.005733  4.939304  1.420711  27.214206        190.373627   \n",
       "2            0.003899  5.058074 -0.169458   8.635104        112.922050   \n",
       "3            0.007961  5.058074 -0.169458   9.873711        117.785454   \n",
       "4            0.245240  5.058074 -0.169458  25.975600        246.425446   \n",
       "...               ...       ...       ...        ...               ...   \n",
       "62727       -0.816306  4.701763 -0.407507  12.350925        158.802689   \n",
       "62728       -0.832553  4.701763 -0.407507  13.589532        162.020569   \n",
       "62729       -0.863237  4.701763 -0.407507  14.828138        165.005417   \n",
       "62730        0.506657  5.414386 -0.874084   6.157891        147.765533   \n",
       "62731        0.503547  5.414386 -0.874084   7.396498        146.428604   \n",
       "\n",
       "       DOX2_error  \n",
       "0       28.446396  \n",
       "1       29.257736  \n",
       "2       92.428841  \n",
       "3       87.553749  \n",
       "4      -37.863922  \n",
       "...           ...  \n",
       "62727   51.410553  \n",
       "62728   48.006653  \n",
       "62729   44.900803  \n",
       "62730   13.528503  \n",
       "62731   16.358734  \n",
       "\n",
       "[62732 rows x 10 columns]"
      ]
     },
     "execution_count": 192,
     "metadata": {},
     "output_type": "execute_result"
    }
   ],
   "source": [
    "mooring_df"
   ]
  },
  {
   "cell_type": "code",
   "execution_count": null,
   "metadata": {},
   "outputs": [],
   "source": []
  }
 ],
 "metadata": {
  "kernelspec": {
   "display_name": "Python 3",
   "language": "python",
   "name": "python3"
  },
  "language_info": {
   "codemirror_mode": {
    "name": "ipython",
    "version": 3
   },
   "file_extension": ".py",
   "mimetype": "text/x-python",
   "name": "python",
   "nbconvert_exporter": "python",
   "pygments_lexer": "ipython3",
   "version": "3.7.3"
  }
 },
 "nbformat": 4,
 "nbformat_minor": 4
}
