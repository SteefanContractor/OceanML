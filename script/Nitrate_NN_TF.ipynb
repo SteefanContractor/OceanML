{
 "cells": [
  {
   "cell_type": "code",
   "execution_count": 4,
   "metadata": {},
   "outputs": [],
   "source": [
    "import pandas as pd\n",
    "import numpy as np\n",
    "import matplotlib.pyplot as plt\n",
    "import pickle\n",
    "%matplotlib inline"
   ]
  },
  {
   "cell_type": "code",
   "execution_count": 5,
   "metadata": {},
   "outputs": [
    {
     "data": {
      "text/html": [
       "<div>\n",
       "<style scoped>\n",
       "    .dataframe tbody tr th:only-of-type {\n",
       "        vertical-align: middle;\n",
       "    }\n",
       "\n",
       "    .dataframe tbody tr th {\n",
       "        vertical-align: top;\n",
       "    }\n",
       "\n",
       "    .dataframe thead th {\n",
       "        text-align: right;\n",
       "    }\n",
       "</style>\n",
       "<table border=\"1\" class=\"dataframe\">\n",
       "  <thead>\n",
       "    <tr style=\"text-align: right;\">\n",
       "      <th></th>\n",
       "      <th>Year</th>\n",
       "      <th>Yday</th>\n",
       "      <th>Hour</th>\n",
       "      <th>PRESSURE</th>\n",
       "      <th>TEMPERATURE_VALUE</th>\n",
       "      <th>SALINITY_VALUE</th>\n",
       "      <th>NITRATE_VALUE</th>\n",
       "    </tr>\n",
       "  </thead>\n",
       "  <tbody>\n",
       "    <tr>\n",
       "      <th>count</th>\n",
       "      <td>1.319300e+04</td>\n",
       "      <td>1.319300e+04</td>\n",
       "      <td>1.319300e+04</td>\n",
       "      <td>1.319300e+04</td>\n",
       "      <td>1.319300e+04</td>\n",
       "      <td>1.319300e+04</td>\n",
       "      <td>13193.000000</td>\n",
       "    </tr>\n",
       "    <tr>\n",
       "      <th>mean</th>\n",
       "      <td>-1.516629e-15</td>\n",
       "      <td>-6.032046e-17</td>\n",
       "      <td>3.446884e-17</td>\n",
       "      <td>3.231453e-17</td>\n",
       "      <td>-1.271038e-15</td>\n",
       "      <td>7.471120e-15</td>\n",
       "      <td>3.982172</td>\n",
       "    </tr>\n",
       "    <tr>\n",
       "      <th>std</th>\n",
       "      <td>1.000000e+00</td>\n",
       "      <td>1.000000e+00</td>\n",
       "      <td>1.000000e+00</td>\n",
       "      <td>1.000000e+00</td>\n",
       "      <td>1.000000e+00</td>\n",
       "      <td>1.000000e+00</td>\n",
       "      <td>3.744430</td>\n",
       "    </tr>\n",
       "    <tr>\n",
       "      <th>min</th>\n",
       "      <td>-1.890652e+00</td>\n",
       "      <td>-1.788631e+00</td>\n",
       "      <td>-2.791508e-01</td>\n",
       "      <td>-1.220091e+00</td>\n",
       "      <td>-3.093349e+00</td>\n",
       "      <td>-2.213066e+01</td>\n",
       "      <td>0.020000</td>\n",
       "    </tr>\n",
       "    <tr>\n",
       "      <th>25%</th>\n",
       "      <td>-6.959712e-01</td>\n",
       "      <td>-8.599608e-01</td>\n",
       "      <td>-2.791508e-01</td>\n",
       "      <td>-7.283696e-01</td>\n",
       "      <td>-7.209295e-01</td>\n",
       "      <td>-4.641692e-01</td>\n",
       "      <td>0.700000</td>\n",
       "    </tr>\n",
       "    <tr>\n",
       "      <th>50%</th>\n",
       "      <td>-5.268161e-02</td>\n",
       "      <td>4.936176e-02</td>\n",
       "      <td>-2.791508e-01</td>\n",
       "      <td>9.212555e-03</td>\n",
       "      <td>-1.211264e-01</td>\n",
       "      <td>8.688615e-02</td>\n",
       "      <td>2.600000</td>\n",
       "    </tr>\n",
       "    <tr>\n",
       "      <th>75%</th>\n",
       "      <td>4.987095e-01</td>\n",
       "      <td>8.426006e-01</td>\n",
       "      <td>-2.791508e-01</td>\n",
       "      <td>6.238643e-01</td>\n",
       "      <td>6.143669e-01</td>\n",
       "      <td>5.878456e-01</td>\n",
       "      <td>6.900000</td>\n",
       "    </tr>\n",
       "    <tr>\n",
       "      <th>max</th>\n",
       "      <td>3.347563e+00</td>\n",
       "      <td>1.732576e+00</td>\n",
       "      <td>3.810519e+00</td>\n",
       "      <td>6.155730e+00</td>\n",
       "      <td>3.440528e+00</td>\n",
       "      <td>3.186572e+00</td>\n",
       "      <td>25.800000</td>\n",
       "    </tr>\n",
       "  </tbody>\n",
       "</table>\n",
       "</div>"
      ],
      "text/plain": [
       "               Year          Yday          Hour      PRESSURE  \\\n",
       "count  1.319300e+04  1.319300e+04  1.319300e+04  1.319300e+04   \n",
       "mean  -1.516629e-15 -6.032046e-17  3.446884e-17  3.231453e-17   \n",
       "std    1.000000e+00  1.000000e+00  1.000000e+00  1.000000e+00   \n",
       "min   -1.890652e+00 -1.788631e+00 -2.791508e-01 -1.220091e+00   \n",
       "25%   -6.959712e-01 -8.599608e-01 -2.791508e-01 -7.283696e-01   \n",
       "50%   -5.268161e-02  4.936176e-02 -2.791508e-01  9.212555e-03   \n",
       "75%    4.987095e-01  8.426006e-01 -2.791508e-01  6.238643e-01   \n",
       "max    3.347563e+00  1.732576e+00  3.810519e+00  6.155730e+00   \n",
       "\n",
       "       TEMPERATURE_VALUE  SALINITY_VALUE  NITRATE_VALUE  \n",
       "count       1.319300e+04    1.319300e+04   13193.000000  \n",
       "mean       -1.271038e-15    7.471120e-15       3.982172  \n",
       "std         1.000000e+00    1.000000e+00       3.744430  \n",
       "min        -3.093349e+00   -2.213066e+01       0.020000  \n",
       "25%        -7.209295e-01   -4.641692e-01       0.700000  \n",
       "50%        -1.211264e-01    8.688615e-02       2.600000  \n",
       "75%         6.143669e-01    5.878456e-01       6.900000  \n",
       "max         3.440528e+00    3.186572e+00      25.800000  "
      ]
     },
     "execution_count": 5,
     "metadata": {},
     "output_type": "execute_result"
    }
   ],
   "source": [
    "pickle_in = open(\"../data/nitrate.pickle\", \"rb\")\n",
    "nitrate = pickle.load(pickle_in)\n",
    "nitrate.describe()"
   ]
  },
  {
   "cell_type": "code",
   "execution_count": 3,
   "metadata": {},
   "outputs": [
    {
     "name": "stderr",
     "output_type": "stream",
     "text": [
      "/home/z3289452/miniconda3/envs/OceanDataScience/lib/python3.7/site-packages/tensorboard/compat/tensorflow_stub/dtypes.py:541: FutureWarning: Passing (type, 1) or '1type' as a synonym of type is deprecated; in a future version of numpy, it will be understood as (type, (1,)) / '(1,)type'.\n",
      "  _np_qint8 = np.dtype([(\"qint8\", np.int8, 1)])\n",
      "/home/z3289452/miniconda3/envs/OceanDataScience/lib/python3.7/site-packages/tensorboard/compat/tensorflow_stub/dtypes.py:542: FutureWarning: Passing (type, 1) or '1type' as a synonym of type is deprecated; in a future version of numpy, it will be understood as (type, (1,)) / '(1,)type'.\n",
      "  _np_quint8 = np.dtype([(\"quint8\", np.uint8, 1)])\n",
      "/home/z3289452/miniconda3/envs/OceanDataScience/lib/python3.7/site-packages/tensorboard/compat/tensorflow_stub/dtypes.py:543: FutureWarning: Passing (type, 1) or '1type' as a synonym of type is deprecated; in a future version of numpy, it will be understood as (type, (1,)) / '(1,)type'.\n",
      "  _np_qint16 = np.dtype([(\"qint16\", np.int16, 1)])\n",
      "/home/z3289452/miniconda3/envs/OceanDataScience/lib/python3.7/site-packages/tensorboard/compat/tensorflow_stub/dtypes.py:544: FutureWarning: Passing (type, 1) or '1type' as a synonym of type is deprecated; in a future version of numpy, it will be understood as (type, (1,)) / '(1,)type'.\n",
      "  _np_quint16 = np.dtype([(\"quint16\", np.uint16, 1)])\n",
      "/home/z3289452/miniconda3/envs/OceanDataScience/lib/python3.7/site-packages/tensorboard/compat/tensorflow_stub/dtypes.py:545: FutureWarning: Passing (type, 1) or '1type' as a synonym of type is deprecated; in a future version of numpy, it will be understood as (type, (1,)) / '(1,)type'.\n",
      "  _np_qint32 = np.dtype([(\"qint32\", np.int32, 1)])\n",
      "/home/z3289452/miniconda3/envs/OceanDataScience/lib/python3.7/site-packages/tensorboard/compat/tensorflow_stub/dtypes.py:550: FutureWarning: Passing (type, 1) or '1type' as a synonym of type is deprecated; in a future version of numpy, it will be understood as (type, (1,)) / '(1,)type'.\n",
      "  np_resource = np.dtype([(\"resource\", np.ubyte, 1)])\n"
     ]
    }
   ],
   "source": [
    "import tensorflow as tf\n",
    "\n",
    "from tensorflow import keras\n",
    "from tensorflow.keras import layers"
   ]
  },
  {
   "cell_type": "code",
   "execution_count": 7,
   "metadata": {},
   "outputs": [
    {
     "data": {
      "text/plain": [
       "13193"
      ]
     },
     "execution_count": 7,
     "metadata": {},
     "output_type": "execute_result"
    }
   ],
   "source": [
    "len(nitrate.index)"
   ]
  },
  {
   "cell_type": "code",
   "execution_count": 8,
   "metadata": {},
   "outputs": [
    {
     "data": {
      "text/plain": [
       "Year                 2.222977e-14\n",
       "Yday                -1.154235e-16\n",
       "Hour                 3.668406e-14\n",
       "PRESSURE            -5.591424e-16\n",
       "TEMPERATURE_VALUE   -1.224553e-15\n",
       "SALINITY_VALUE       7.180239e-15\n",
       "NITRATE_VALUE        3.982172e+00\n",
       "dtype: float64"
      ]
     },
     "execution_count": 8,
     "metadata": {},
     "output_type": "execute_result"
    }
   ],
   "source": [
    "nitrate.mean()"
   ]
  },
  {
   "cell_type": "code",
   "execution_count": 4,
   "metadata": {},
   "outputs": [],
   "source": [
    "## Train test split\n",
    "train_dataset = nitrate.sample(frac=0.8, random_state=0)\n",
    "test_dataset  = nitrate.drop(train_dataset.index)"
   ]
  },
  {
   "cell_type": "code",
   "execution_count": 5,
   "metadata": {},
   "outputs": [],
   "source": [
    "train_labels = train_dataset.pop('NITRATE_VALUE')\n",
    "test_labels = test_dataset.pop('NITRATE_VALUE')"
   ]
  },
  {
   "cell_type": "code",
   "execution_count": 11,
   "metadata": {},
   "outputs": [
    {
     "data": {
      "text/html": [
       "<div>\n",
       "<style scoped>\n",
       "    .dataframe tbody tr th:only-of-type {\n",
       "        vertical-align: middle;\n",
       "    }\n",
       "\n",
       "    .dataframe tbody tr th {\n",
       "        vertical-align: top;\n",
       "    }\n",
       "\n",
       "    .dataframe thead th {\n",
       "        text-align: right;\n",
       "    }\n",
       "</style>\n",
       "<table border=\"1\" class=\"dataframe\">\n",
       "  <thead>\n",
       "    <tr style=\"text-align: right;\">\n",
       "      <th></th>\n",
       "      <th>Year</th>\n",
       "      <th>Yday</th>\n",
       "      <th>Hour</th>\n",
       "      <th>PRESSURE</th>\n",
       "      <th>TEMPERATURE_VALUE</th>\n",
       "      <th>SALINITY_VALUE</th>\n",
       "    </tr>\n",
       "  </thead>\n",
       "  <tbody>\n",
       "    <tr>\n",
       "      <th>8358</th>\n",
       "      <td>0.039217</td>\n",
       "      <td>-0.521383</td>\n",
       "      <td>-0.279151</td>\n",
       "      <td>-0.482509</td>\n",
       "      <td>1.197749</td>\n",
       "      <td>0.061838</td>\n",
       "    </tr>\n",
       "    <tr>\n",
       "      <th>13195</th>\n",
       "      <td>0.866304</td>\n",
       "      <td>-0.743877</td>\n",
       "      <td>-0.279151</td>\n",
       "      <td>-0.236648</td>\n",
       "      <td>1.603956</td>\n",
       "      <td>1.502096</td>\n",
       "    </tr>\n",
       "    <tr>\n",
       "      <th>10712</th>\n",
       "      <td>0.314912</td>\n",
       "      <td>1.200525</td>\n",
       "      <td>-0.279151</td>\n",
       "      <td>-1.220091</td>\n",
       "      <td>0.566832</td>\n",
       "      <td>0.118196</td>\n",
       "    </tr>\n",
       "    <tr>\n",
       "      <th>15413</th>\n",
       "      <td>3.255665</td>\n",
       "      <td>-0.714856</td>\n",
       "      <td>3.810519</td>\n",
       "      <td>0.623864</td>\n",
       "      <td>1.028784</td>\n",
       "      <td>0.475130</td>\n",
       "    </tr>\n",
       "    <tr>\n",
       "      <th>376</th>\n",
       "      <td>-1.706855</td>\n",
       "      <td>0.455655</td>\n",
       "      <td>-0.279151</td>\n",
       "      <td>-0.974230</td>\n",
       "      <td>-0.569682</td>\n",
       "      <td>0.362414</td>\n",
       "    </tr>\n",
       "  </tbody>\n",
       "</table>\n",
       "</div>"
      ],
      "text/plain": [
       "           Year      Yday      Hour  PRESSURE  TEMPERATURE_VALUE  \\\n",
       "8358   0.039217 -0.521383 -0.279151 -0.482509           1.197749   \n",
       "13195  0.866304 -0.743877 -0.279151 -0.236648           1.603956   \n",
       "10712  0.314912  1.200525 -0.279151 -1.220091           0.566832   \n",
       "15413  3.255665 -0.714856  3.810519  0.623864           1.028784   \n",
       "376   -1.706855  0.455655 -0.279151 -0.974230          -0.569682   \n",
       "\n",
       "       SALINITY_VALUE  \n",
       "8358         0.061838  \n",
       "13195        1.502096  \n",
       "10712        0.118196  \n",
       "15413        0.475130  \n",
       "376          0.362414  "
      ]
     },
     "execution_count": 11,
     "metadata": {},
     "output_type": "execute_result"
    }
   ],
   "source": [
    "train_dataset.head()"
   ]
  },
  {
   "cell_type": "markdown",
   "metadata": {},
   "source": [
    "### The Model"
   ]
  },
  {
   "cell_type": "code",
   "execution_count": 6,
   "metadata": {},
   "outputs": [],
   "source": [
    "def build_model():\n",
    "    model = keras.Sequential([\n",
    "      layers.Dense(64, activation='relu', input_shape=[len(train_dataset.keys())]),\n",
    "      layers.Dense(64, activation='relu'),\n",
    "      layers.Dense(8, activation='relu'),\n",
    "      layers.Dense(1)\n",
    "    ])\n",
    "    \n",
    "    optimizer = tf.keras.optimizers.RMSprop()\n",
    "    \n",
    "    model.compile(loss='mse',\n",
    "                 optimizer=optimizer,\n",
    "                 metrics=['mae', 'mse', tf.keras.metrics.MeanAbsolutePercentageError()])\n",
    "    \n",
    "    return model"
   ]
  },
  {
   "cell_type": "code",
   "execution_count": 7,
   "metadata": {},
   "outputs": [],
   "source": [
    "model = build_model()"
   ]
  },
  {
   "cell_type": "code",
   "execution_count": 8,
   "metadata": {},
   "outputs": [
    {
     "name": "stdout",
     "output_type": "stream",
     "text": [
      "Model: \"sequential\"\n",
      "_________________________________________________________________\n",
      "Layer (type)                 Output Shape              Param #   \n",
      "=================================================================\n",
      "dense (Dense)                (None, 64)                448       \n",
      "_________________________________________________________________\n",
      "dense_1 (Dense)              (None, 64)                4160      \n",
      "_________________________________________________________________\n",
      "dense_2 (Dense)              (None, 8)                 520       \n",
      "_________________________________________________________________\n",
      "dense_3 (Dense)              (None, 1)                 9         \n",
      "=================================================================\n",
      "Total params: 5,137\n",
      "Trainable params: 5,137\n",
      "Non-trainable params: 0\n",
      "_________________________________________________________________\n"
     ]
    }
   ],
   "source": [
    "model.summary()"
   ]
  },
  {
   "cell_type": "code",
   "execution_count": 15,
   "metadata": {},
   "outputs": [
    {
     "name": "stdout",
     "output_type": "stream",
     "text": [
      "WARNING:tensorflow:Falling back from v2 loop because of error: Failed to find data adapter that can handle input: <class 'pandas.core.frame.DataFrame'>, <class 'NoneType'>\n"
     ]
    },
    {
     "data": {
      "text/plain": [
       "array([[0.13360588],\n",
       "       [0.36526144],\n",
       "       [0.07536654],\n",
       "       [0.83241576],\n",
       "       [0.02010188],\n",
       "       [0.16854614],\n",
       "       [0.15300976],\n",
       "       [0.13701682],\n",
       "       [0.3569321 ],\n",
       "       [0.10873897]], dtype=float32)"
      ]
     },
     "execution_count": 15,
     "metadata": {},
     "output_type": "execute_result"
    }
   ],
   "source": [
    "# Try out model with example batch\n",
    "example_batch = train_dataset[:10]\n",
    "example_result = model.predict(example_batch)\n",
    "example_result"
   ]
  },
  {
   "cell_type": "code",
   "execution_count": 9,
   "metadata": {},
   "outputs": [
    {
     "name": "stdout",
     "output_type": "stream",
     "text": [
      "WARNING:tensorflow:Falling back from v2 loop because of error: Failed to find data adapter that can handle input: <class 'pandas.core.frame.DataFrame'>, <class 'NoneType'>\n",
      "\n",
      "...................................................................................................."
     ]
    }
   ],
   "source": [
    "## Train the model\n",
    "# Display training progress by printing a single dot for each completed epoch\n",
    "class PrintDot(keras.callbacks.Callback):\n",
    "  def on_epoch_end(self, epoch, logs):\n",
    "    if epoch % 100 == 0: print('')\n",
    "    print('.', end='')\n",
    "\n",
    "EPOCHS = 100\n",
    "\n",
    "history = model.fit(\n",
    "  train_dataset, train_labels,\n",
    "  epochs=EPOCHS, validation_split = 0.2, verbose=0,\n",
    "  callbacks=[PrintDot()])"
   ]
  },
  {
   "cell_type": "code",
   "execution_count": 10,
   "metadata": {},
   "outputs": [
    {
     "data": {
      "text/html": [
       "<div>\n",
       "<style scoped>\n",
       "    .dataframe tbody tr th:only-of-type {\n",
       "        vertical-align: middle;\n",
       "    }\n",
       "\n",
       "    .dataframe tbody tr th {\n",
       "        vertical-align: top;\n",
       "    }\n",
       "\n",
       "    .dataframe thead th {\n",
       "        text-align: right;\n",
       "    }\n",
       "</style>\n",
       "<table border=\"1\" class=\"dataframe\">\n",
       "  <thead>\n",
       "    <tr style=\"text-align: right;\">\n",
       "      <th></th>\n",
       "      <th>loss</th>\n",
       "      <th>mae</th>\n",
       "      <th>mse</th>\n",
       "      <th>mean_absolute_percentage_error</th>\n",
       "      <th>val_loss</th>\n",
       "      <th>val_mae</th>\n",
       "      <th>val_mse</th>\n",
       "      <th>val_mean_absolute_percentage_error</th>\n",
       "    </tr>\n",
       "  </thead>\n",
       "  <tbody>\n",
       "    <tr>\n",
       "      <th>count</th>\n",
       "      <td>100.000000</td>\n",
       "      <td>100.000000</td>\n",
       "      <td>100.000000</td>\n",
       "      <td>100.000000</td>\n",
       "      <td>100.000000</td>\n",
       "      <td>100.000000</td>\n",
       "      <td>100.000000</td>\n",
       "      <td>100.000000</td>\n",
       "    </tr>\n",
       "    <tr>\n",
       "      <th>mean</th>\n",
       "      <td>2.300617</td>\n",
       "      <td>1.031421</td>\n",
       "      <td>2.300617</td>\n",
       "      <td>97.939332</td>\n",
       "      <td>2.423376</td>\n",
       "      <td>1.063462</td>\n",
       "      <td>2.423376</td>\n",
       "      <td>105.105243</td>\n",
       "    </tr>\n",
       "    <tr>\n",
       "      <th>std</th>\n",
       "      <td>0.570878</td>\n",
       "      <td>0.104052</td>\n",
       "      <td>0.570878</td>\n",
       "      <td>9.939760</td>\n",
       "      <td>0.163127</td>\n",
       "      <td>0.055043</td>\n",
       "      <td>0.163127</td>\n",
       "      <td>15.410430</td>\n",
       "    </tr>\n",
       "    <tr>\n",
       "      <th>min</th>\n",
       "      <td>1.987997</td>\n",
       "      <td>0.957157</td>\n",
       "      <td>1.987997</td>\n",
       "      <td>89.729683</td>\n",
       "      <td>2.246298</td>\n",
       "      <td>1.003301</td>\n",
       "      <td>2.246299</td>\n",
       "      <td>82.564362</td>\n",
       "    </tr>\n",
       "    <tr>\n",
       "      <th>25%</th>\n",
       "      <td>2.069382</td>\n",
       "      <td>0.975136</td>\n",
       "      <td>2.069382</td>\n",
       "      <td>91.768568</td>\n",
       "      <td>2.318255</td>\n",
       "      <td>1.023278</td>\n",
       "      <td>2.318255</td>\n",
       "      <td>92.907480</td>\n",
       "    </tr>\n",
       "    <tr>\n",
       "      <th>50%</th>\n",
       "      <td>2.190808</td>\n",
       "      <td>1.003269</td>\n",
       "      <td>2.190808</td>\n",
       "      <td>94.768066</td>\n",
       "      <td>2.376198</td>\n",
       "      <td>1.048523</td>\n",
       "      <td>2.376198</td>\n",
       "      <td>101.762177</td>\n",
       "    </tr>\n",
       "    <tr>\n",
       "      <th>75%</th>\n",
       "      <td>2.380598</td>\n",
       "      <td>1.060072</td>\n",
       "      <td>2.380599</td>\n",
       "      <td>100.817736</td>\n",
       "      <td>2.493089</td>\n",
       "      <td>1.088011</td>\n",
       "      <td>2.493089</td>\n",
       "      <td>112.977184</td>\n",
       "    </tr>\n",
       "    <tr>\n",
       "      <th>max</th>\n",
       "      <td>7.488298</td>\n",
       "      <td>1.849109</td>\n",
       "      <td>7.488298</td>\n",
       "      <td>162.262695</td>\n",
       "      <td>3.314880</td>\n",
       "      <td>1.320765</td>\n",
       "      <td>3.314880</td>\n",
       "      <td>155.972656</td>\n",
       "    </tr>\n",
       "  </tbody>\n",
       "</table>\n",
       "</div>"
      ],
      "text/plain": [
       "             loss         mae         mse  mean_absolute_percentage_error  \\\n",
       "count  100.000000  100.000000  100.000000                      100.000000   \n",
       "mean     2.300617    1.031421    2.300617                       97.939332   \n",
       "std      0.570878    0.104052    0.570878                        9.939760   \n",
       "min      1.987997    0.957157    1.987997                       89.729683   \n",
       "25%      2.069382    0.975136    2.069382                       91.768568   \n",
       "50%      2.190808    1.003269    2.190808                       94.768066   \n",
       "75%      2.380598    1.060072    2.380599                      100.817736   \n",
       "max      7.488298    1.849109    7.488298                      162.262695   \n",
       "\n",
       "         val_loss     val_mae     val_mse  val_mean_absolute_percentage_error  \n",
       "count  100.000000  100.000000  100.000000                          100.000000  \n",
       "mean     2.423376    1.063462    2.423376                          105.105243  \n",
       "std      0.163127    0.055043    0.163127                           15.410430  \n",
       "min      2.246298    1.003301    2.246299                           82.564362  \n",
       "25%      2.318255    1.023278    2.318255                           92.907480  \n",
       "50%      2.376198    1.048523    2.376198                          101.762177  \n",
       "75%      2.493089    1.088011    2.493089                          112.977184  \n",
       "max      3.314880    1.320765    3.314880                          155.972656  "
      ]
     },
     "execution_count": 10,
     "metadata": {},
     "output_type": "execute_result"
    }
   ],
   "source": [
    "pd.DataFrame(history.history).describe()"
   ]
  },
  {
   "cell_type": "code",
   "execution_count": 11,
   "metadata": {},
   "outputs": [
    {
     "data": {
      "image/png": "[encoded data removed]",
      "text/plain": [
       "<Figure size 432x288 with 1 Axes>"
      ]
     },
     "metadata": {
      "needs_background": "light"
     },
     "output_type": "display_data"
    },
    {
     "data": {
      "image/png": "[encoded data removed]",
      "text/plain": [
       "<Figure size 432x288 with 1 Axes>"
      ]
     },
     "metadata": {
      "needs_background": "light"
     },
     "output_type": "display_data"
    },
    {
     "data": {
      "image/png": "[encoded data removed]",
      "text/plain": [
       "<Figure size 432x288 with 1 Axes>"
      ]
     },
     "metadata": {
      "needs_background": "light"
     },
     "output_type": "display_data"
    }
   ],
   "source": [
    "def plot_history(history):\n",
    "  hist = pd.DataFrame(history.history)\n",
    "  hist['epoch'] = history.epoch\n",
    "\n",
    "  plt.figure()\n",
    "  plt.xlabel('Epoch')\n",
    "  plt.ylabel('Mean Abs Error')\n",
    "  plt.plot(hist['epoch'], hist['mae'],\n",
    "           label='Train Error')\n",
    "  plt.plot(hist['epoch'], hist['val_mae'],\n",
    "           label = 'Val Error')\n",
    "  plt.ylim([0.9,2])\n",
    "  plt.legend()\n",
    "\n",
    "  plt.figure()\n",
    "  plt.xlabel('Epoch')\n",
    "  plt.ylabel('Mean Square Error')\n",
    "  plt.plot(hist['epoch'], hist['mse'],\n",
    "           label='Train Error')\n",
    "  plt.plot(hist['epoch'], hist['val_mse'],\n",
    "           label = 'Val Error')\n",
    "  plt.ylim([1.8,7])\n",
    "  plt.legend()\n",
    "\n",
    "  plt.figure()\n",
    "  plt.xlabel('Epoch')\n",
    "  plt.ylabel('Mean Absolute Percentage Error')\n",
    "  plt.plot(hist['epoch'], hist['mean_absolute_percentage_error'],\n",
    "           label='Train Error')\n",
    "  plt.plot(hist['epoch'], hist['val_mean_absolute_percentage_error'],\n",
    "           label = 'Val Error')\n",
    "  plt.ylim([80,160])\n",
    "  plt.legend()\n",
    "  plt.show()\n",
    "\n",
    "\n",
    "plot_history(history)"
   ]
  },
  {
   "cell_type": "code",
   "execution_count": 31,
   "metadata": {},
   "outputs": [
    {
     "name": "stdout",
     "output_type": "stream",
     "text": [
      "WARNING:tensorflow:Falling back from v2 loop because of error: Failed to find data adapter that can handle input: <class 'pandas.core.frame.DataFrame'>, <class 'NoneType'>\n",
      "2639/2639 - 0s - loss: 2.4043 - mae: 1.0691 - mse: 2.4043 - mean_absolute_percentage_error: 117.4726\n",
      "Testing set Mean Abs Percentage Error: 117.47\n"
     ]
    }
   ],
   "source": [
    "loss, mae, mse, mape = model.evaluate(test_dataset, test_labels, verbose=2)\n",
    "\n",
    "print(\"Testing set Mean Abs Percentage Error: {:5.2f}\".format(mape))"
   ]
  }
 ],
 "metadata": {
  "kernelspec": {
   "display_name": "Python 3",
   "language": "python",
   "name": "python3"
  },
  "language_info": {
   "codemirror_mode": {
    "name": "ipython",
    "version": 3
   },
   "file_extension": ".py",
   "mimetype": "text/x-python",
   "name": "python",
   "nbconvert_exporter": "python",
   "pygments_lexer": "ipython3",
   "version": "3.7.3"
  }
 },
 "nbformat": 4,
 "nbformat_minor": 4
}
