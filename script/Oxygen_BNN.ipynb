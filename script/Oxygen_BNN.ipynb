{
  "nbformat": 4,
  "nbformat_minor": 0,
  "metadata": {
    "kernelspec": {
      "display_name": "Python 3",
      "language": "python",
      "name": "python3"
    },
    "language_info": {
      "codemirror_mode": {
        "name": "ipython",
        "version": 3
      },
      "file_extension": ".py",
      "mimetype": "text/x-python",
      "name": "python",
      "nbconvert_exporter": "python",
      "pygments_lexer": "ipython3",
      "version": "3.7.3"
    },
    "colab": {
      "name": "Oxygen_BNN.ipynb",
      "provenance": []
    },
    "accelerator": "GPU"
  },
  "cells": [
    {
      "cell_type": "code",
      "metadata": {
        "id": "AhVp_32a_WKi"
      },
      "source": [
        "import pandas as pd\n",
        "import numpy as np\n",
        "import matplotlib.pyplot as plt\n",
        "import pickle\n",
        "%matplotlib inline"
      ],
      "execution_count": 8,
      "outputs": []
    },
    {
      "cell_type": "code",
      "metadata": {
        "id": "TPShslgb_WKl"
      },
      "source": [
        "from matplotlib import rcParams \n",
        "rcParams.update({'font.size': 18})\n",
        "from matplotlib.ticker import PercentFormatter"
      ],
      "execution_count": 9,
      "outputs": []
    },
    {
      "cell_type": "code",
      "metadata": {
        "id": "PpweG43t_WKm"
      },
      "source": [
        "import tensorflow as tf\n",
        "from tensorflow import keras\n",
        "from tensorflow.keras import layers\n",
        "from tensorflow.keras import regularizers\n",
        "import tensorflow_probability as tfp"
      ],
      "execution_count": 2,
      "outputs": []
    },
    {
      "cell_type": "code",
      "metadata": {
        "id": "O20dM9k7_WKm",
        "outputId": "f3f6f556-ba24-49a1-d5a6-c20a3006bde5",
        "colab": {
          "base_uri": "https://localhost:8080/"
        }
      },
      "source": [
        "tf.__version__, tfp.__version__"
      ],
      "execution_count": 3,
      "outputs": [
        {
          "output_type": "execute_result",
          "data": {
            "text/plain": [
              "('2.4.1', '0.12.1')"
            ]
          },
          "metadata": {
            "tags": []
          },
          "execution_count": 3
        }
      ]
    },
    {
      "cell_type": "code",
      "metadata": {
        "id": "SXxPlNmX_WKm",
        "outputId": "b4c0e29e-d8ed-447f-a7a2-180d3a9d5589",
        "colab": {
          "base_uri": "https://localhost:8080/",
          "height": 297
        }
      },
      "source": [
        "pickle_in = open(\"../data/oxygen.pickle\", \"rb\")\n",
        "oxygen = pickle.load(pickle_in)\n",
        "oxygen.describe()"
      ],
      "execution_count": 10,
      "outputs": [
        {
          "output_type": "execute_result",
          "data": {
            "text/html": [
              "<div>\n",
              "<style scoped>\n",
              "    .dataframe tbody tr th:only-of-type {\n",
              "        vertical-align: middle;\n",
              "    }\n",
              "\n",
              "    .dataframe tbody tr th {\n",
              "        vertical-align: top;\n",
              "    }\n",
              "\n",
              "    .dataframe thead th {\n",
              "        text-align: right;\n",
              "    }\n",
              "</style>\n",
              "<table border=\"1\" class=\"dataframe\">\n",
              "  <thead>\n",
              "    <tr style=\"text-align: right;\">\n",
              "      <th></th>\n",
              "      <th>Year</th>\n",
              "      <th>Yday</th>\n",
              "      <th>Hour</th>\n",
              "      <th>PRESSURE</th>\n",
              "      <th>TEMPERATURE_VALUE</th>\n",
              "      <th>SALINITY_VALUE</th>\n",
              "      <th>OXYGEN_VALUE</th>\n",
              "    </tr>\n",
              "  </thead>\n",
              "  <tbody>\n",
              "    <tr>\n",
              "      <th>count</th>\n",
              "      <td>1.234100e+04</td>\n",
              "      <td>1.234100e+04</td>\n",
              "      <td>1.234100e+04</td>\n",
              "      <td>1.234100e+04</td>\n",
              "      <td>1.234100e+04</td>\n",
              "      <td>1.234100e+04</td>\n",
              "      <td>12341.000000</td>\n",
              "    </tr>\n",
              "    <tr>\n",
              "      <th>mean</th>\n",
              "      <td>3.848916e-14</td>\n",
              "      <td>-2.301232e-16</td>\n",
              "      <td>4.863017e-15</td>\n",
              "      <td>-1.513703e-16</td>\n",
              "      <td>-1.781251e-16</td>\n",
              "      <td>3.503572e-14</td>\n",
              "      <td>218.501794</td>\n",
              "    </tr>\n",
              "    <tr>\n",
              "      <th>std</th>\n",
              "      <td>1.000000e+00</td>\n",
              "      <td>1.000000e+00</td>\n",
              "      <td>1.000000e+00</td>\n",
              "      <td>1.000000e+00</td>\n",
              "      <td>1.000000e+00</td>\n",
              "      <td>1.000000e+00</td>\n",
              "      <td>23.150133</td>\n",
              "    </tr>\n",
              "    <tr>\n",
              "      <th>min</th>\n",
              "      <td>-2.035476e+00</td>\n",
              "      <td>-1.754102e+00</td>\n",
              "      <td>-3.602873e-02</td>\n",
              "      <td>-1.421978e+00</td>\n",
              "      <td>-2.515894e+00</td>\n",
              "      <td>-3.751239e+00</td>\n",
              "      <td>109.900000</td>\n",
              "    </tr>\n",
              "    <tr>\n",
              "      <th>25%</th>\n",
              "      <td>-7.417802e-01</td>\n",
              "      <td>-8.565878e-01</td>\n",
              "      <td>-3.602873e-02</td>\n",
              "      <td>-7.603727e-01</td>\n",
              "      <td>-7.337237e-01</td>\n",
              "      <td>-6.594490e-01</td>\n",
              "      <td>200.130000</td>\n",
              "    </tr>\n",
              "    <tr>\n",
              "      <th>50%</th>\n",
              "      <td>8.148080e-02</td>\n",
              "      <td>3.137826e-02</td>\n",
              "      <td>-3.602873e-02</td>\n",
              "      <td>-9.876695e-02</td>\n",
              "      <td>-1.080223e-01</td>\n",
              "      <td>3.997917e-02</td>\n",
              "      <td>223.360000</td>\n",
              "    </tr>\n",
              "    <tr>\n",
              "      <th>75%</th>\n",
              "      <td>7.871331e-01</td>\n",
              "      <td>8.716042e-01</td>\n",
              "      <td>-3.602873e-02</td>\n",
              "      <td>8.936417e-01</td>\n",
              "      <td>6.471345e-01</td>\n",
              "      <td>6.996671e-01</td>\n",
              "      <td>235.430000</td>\n",
              "    </tr>\n",
              "    <tr>\n",
              "      <th>max</th>\n",
              "      <td>1.728003e+00</td>\n",
              "      <td>1.721378e+00</td>\n",
              "      <td>2.775338e+01</td>\n",
              "      <td>2.448415e+00</td>\n",
              "      <td>3.421796e+00</td>\n",
              "      <td>2.495926e+00</td>\n",
              "      <td>324.320000</td>\n",
              "    </tr>\n",
              "  </tbody>\n",
              "</table>\n",
              "</div>"
            ],
            "text/plain": [
              "               Year          Yday  ...  SALINITY_VALUE  OXYGEN_VALUE\n",
              "count  1.234100e+04  1.234100e+04  ...    1.234100e+04  12341.000000\n",
              "mean   3.848916e-14 -2.301232e-16  ...    3.503572e-14    218.501794\n",
              "std    1.000000e+00  1.000000e+00  ...    1.000000e+00     23.150133\n",
              "min   -2.035476e+00 -1.754102e+00  ...   -3.751239e+00    109.900000\n",
              "25%   -7.417802e-01 -8.565878e-01  ...   -6.594490e-01    200.130000\n",
              "50%    8.148080e-02  3.137826e-02  ...    3.997917e-02    223.360000\n",
              "75%    7.871331e-01  8.716042e-01  ...    6.996671e-01    235.430000\n",
              "max    1.728003e+00  1.721378e+00  ...    2.495926e+00    324.320000\n",
              "\n",
              "[8 rows x 7 columns]"
            ]
          },
          "metadata": {
            "tags": []
          },
          "execution_count": 10
        }
      ]
    },
    {
      "cell_type": "code",
      "metadata": {
        "id": "1PLBJkBf_WKn"
      },
      "source": [
        "%load_ext tensorboard"
      ],
      "execution_count": 11,
      "outputs": []
    },
    {
      "cell_type": "code",
      "metadata": {
        "id": "5wXmoq9p_WKn",
        "outputId": "b631df0b-521c-442f-a2cc-78c0741da4f3",
        "colab": {
          "base_uri": "https://localhost:8080/"
        }
      },
      "source": [
        "# check if there are any GPUs avaialable on Katana\n",
        "if tf.test.gpu_device_name() != '/device:GPU:0':\n",
        "  print('WARNING: GPU device not found.')\n",
        "  strategy = tf.distribute.get_strategy()\n",
        "else:\n",
        "  print('SUCCESS: Found GPU: {}'.format(tf.test.gpu_device_name()))\n",
        "  strategy = tf.distribute.OneDeviceStrategy(device=\"/gpu:0\")"
      ],
      "execution_count": 18,
      "outputs": [
        {
          "output_type": "stream",
          "text": [
            "SUCCESS: Found GPU: /device:GPU:0\n"
          ],
          "name": "stdout"
        }
      ]
    },
    {
      "cell_type": "code",
      "metadata": {
        "id": "9fXAC_rx_WKo"
      },
      "source": [
        "## Train test split\n",
        "train_dataset = oxygen.sample(frac=0.8, random_state=0)\n",
        "test_dataset  = oxygen.drop(train_dataset.index)\n",
        "train_labels = train_dataset.pop('OXYGEN_VALUE')\n",
        "test_labels = test_dataset.pop('OXYGEN_VALUE')"
      ],
      "execution_count": 19,
      "outputs": []
    },
    {
      "cell_type": "code",
      "metadata": {
        "id": "e4BPFv_-DXOL"
      },
      "source": [
        "def build_model():\n",
        "    model = keras.Sequential([\n",
        "      layers.Dense(8, activation='relu', input_shape=[len(train_dataset.keys())]),\n",
        "      layers.Dense(8, activation='relu'),\n",
        "      layers.Dense(1)\n",
        "    ])\n",
        "    \n",
        "    optimizer = keras.optimizers.Adam(lr=0.001)\n",
        "    \n",
        "    model.compile(loss=tf.keras.losses.mean_absolute_percentage_error,\n",
        "                 optimizer=optimizer,\n",
        "                 metrics=['mae', 'mse', keras.metrics.MeanAbsolutePercentageError()])\n",
        "    \n",
        "    return model"
      ],
      "execution_count": 20,
      "outputs": []
    },
    {
      "cell_type": "code",
      "metadata": {
        "id": "iHZgqqiCDiYV",
        "outputId": "fdeb8d1c-a037-4010-8e36-710a966d140c",
        "colab": {
          "base_uri": "https://localhost:8080/"
        }
      },
      "source": [
        "%%timeit -r1 -n1\n",
        "# build model\n",
        "strategy = tf.distribute.get_strategy()\n",
        "with strategy.scope(): model = build_model()\n",
        "\n",
        "## Train the model\n",
        "# Display training progress by printing a single dot for each completed epoch\n",
        "class PrintDot(keras.callbacks.Callback):\n",
        "  def on_epoch_end(self, epoch, logs):\n",
        "    if epoch % 10 == 0: print('loss: {:7.4f}, val_loss: {:7.4f}' .format(logs['loss'], logs['val_loss']))\n",
        "    print('.', end='')\n",
        "# early stopping callback\n",
        "es_callback = tf.keras.callbacks.EarlyStopping(monitor='val_loss', patience=40)\n",
        "\n",
        "EPOCHS = 1000\n",
        "\n",
        "history = model.fit(\n",
        "  train_dataset, train_labels,\n",
        "  epochs=EPOCHS, validation_split = 0.2, verbose=0,\n",
        "  callbacks=[PrintDot(), es_callback])"
      ],
      "execution_count": 26,
      "outputs": [
        {
          "output_type": "stream",
          "text": [
            "loss: 98.5717, val_loss: 95.3647\n",
            "..........loss:  6.7247, val_loss:  6.8093\n",
            "..........loss:  5.6207, val_loss:  5.8132\n",
            "..........loss:  5.2917, val_loss:  5.5342\n",
            "..........loss:  5.1476, val_loss:  5.4037\n",
            "..........loss:  5.0792, val_loss:  5.3195\n",
            "..........loss:  5.0243, val_loss:  5.2801\n",
            "..........loss:  4.9953, val_loss:  5.2527\n",
            "..........loss:  4.9619, val_loss:  5.2415\n",
            "..........loss:  4.9501, val_loss:  5.2374\n",
            "..........loss:  4.9358, val_loss:  5.2409\n",
            "..........loss:  4.9245, val_loss:  5.1817\n",
            "..........loss:  4.9068, val_loss:  5.1568\n",
            "..........loss:  4.8970, val_loss:  5.1823\n",
            "..........loss:  4.8951, val_loss:  5.1596\n",
            "..........loss:  4.8882, val_loss:  5.1365\n",
            "..........loss:  4.8739, val_loss:  5.1678\n",
            "..........loss:  4.8770, val_loss:  5.1445\n",
            "..........loss:  4.8766, val_loss:  5.1484\n",
            "..........loss:  4.8691, val_loss:  5.1349\n",
            "..........loss:  4.8587, val_loss:  5.1170\n",
            "..........loss:  4.8589, val_loss:  5.1186\n",
            "..........loss:  4.8491, val_loss:  5.1829\n",
            "..........loss:  4.8467, val_loss:  5.1320\n",
            "..........loss:  4.8431, val_loss:  5.1125\n",
            "..........loss:  4.8403, val_loss:  5.0869\n",
            "..........loss:  4.8326, val_loss:  5.1149\n",
            "..........loss:  4.8303, val_loss:  5.0994\n",
            "..........loss:  4.8154, val_loss:  5.1094\n",
            "..........loss:  4.8054, val_loss:  5.0574\n",
            "..........loss:  4.7795, val_loss:  5.0714\n",
            "..........loss:  4.7670, val_loss:  5.0089\n",
            "..........loss:  4.7496, val_loss:  4.9749\n",
            "..........loss:  4.7279, val_loss:  5.0006\n",
            "..........loss:  4.7142, val_loss:  4.9815\n",
            "..........loss:  4.7072, val_loss:  4.9376\n",
            "..........loss:  4.6903, val_loss:  4.9390\n",
            "..........loss:  4.6747, val_loss:  4.9800\n",
            "..........loss:  4.6589, val_loss:  4.9163\n",
            "..........loss:  4.6593, val_loss:  4.9001\n",
            "..........loss:  4.6425, val_loss:  4.9150\n",
            "..........loss:  4.6314, val_loss:  4.8673\n",
            "..........loss:  4.4117, val_loss:  4.5944\n",
            "..........loss:  4.2876, val_loss:  4.5710\n",
            "..........loss:  4.2505, val_loss:  4.5400\n",
            "..........loss:  4.2344, val_loss:  4.5093\n",
            "..........loss:  4.2313, val_loss:  4.5175\n",
            "..........loss:  4.2199, val_loss:  4.4995\n",
            "..........loss:  4.2225, val_loss:  4.5302\n",
            "..........loss:  4.2198, val_loss:  4.5117\n",
            "..........loss:  4.2164, val_loss:  4.5415\n",
            "..........loss:  4.2098, val_loss:  4.4986\n",
            "..........loss:  4.2059, val_loss:  4.5275\n",
            "..........loss:  4.2187, val_loss:  4.4949\n",
            "..........loss:  4.2045, val_loss:  4.5266\n",
            "..........loss:  4.2024, val_loss:  4.4929\n",
            "..........loss:  4.2038, val_loss:  4.4813\n",
            "..........loss:  4.1962, val_loss:  4.5255\n",
            "..........loss:  4.2004, val_loss:  4.5141\n",
            ".......1 loop, best of 1: 5min 31s per loop\n"
          ],
          "name": "stdout"
        }
      ]
    },
    {
      "cell_type": "code",
      "metadata": {
        "id": "f6pLLPq6FWxh",
        "outputId": "620b4e2f-400c-4b87-a250-2002dfdf943d",
        "colab": {
          "base_uri": "https://localhost:8080/"
        }
      },
      "source": [
        "# test execution time with GPU\n",
        "%%timeit -r1 -n1\n",
        "# build model\n",
        "strategy = tf.distribute.OneDeviceStrategy(device=\"/gpu:0\")\n",
        "with strategy.scope(): model = build_model()\n",
        "\n",
        "## Train the model\n",
        "# Display training progress by printing a single dot for each completed epoch\n",
        "class PrintDot(keras.callbacks.Callback):\n",
        "  def on_epoch_end(self, epoch, logs):\n",
        "    if epoch % 10 == 0: print('loss: {:7.4f}, val_loss: {:7.4f}' .format(logs['loss'], logs['val_loss']))\n",
        "    print('.', end='')\n",
        "# early stopping callback\n",
        "es_callback = tf.keras.callbacks.EarlyStopping(monitor='val_loss', patience=40)\n",
        "\n",
        "EPOCHS = 1000\n",
        "\n",
        "history = model.fit(\n",
        "  train_dataset, train_labels,\n",
        "  epochs=EPOCHS, validation_split = 0.2, verbose=0,\n",
        "  callbacks=[PrintDot(), es_callback])"
      ],
      "execution_count": 29,
      "outputs": [
        {
          "output_type": "stream",
          "text": [
            "loss: 99.4606, val_loss: 98.0972\n",
            "..........loss:  7.2363, val_loss:  7.1240\n",
            "..........loss:  5.6509, val_loss:  5.7970\n",
            "..........loss:  5.2243, val_loss:  5.4566\n",
            "..........loss:  5.1091, val_loss:  5.3905\n",
            "..........loss:  5.0439, val_loss:  5.3260\n",
            "..........loss:  4.9850, val_loss:  5.2936\n",
            "..........loss:  4.9444, val_loss:  5.2524\n",
            "..........loss:  4.9316, val_loss:  5.2203\n",
            "..........loss:  4.9170, val_loss:  5.2372\n",
            "..........loss:  4.9079, val_loss:  5.2322\n",
            "..........loss:  4.9048, val_loss:  5.2151\n",
            "..........loss:  4.9007, val_loss:  5.1971\n",
            "..........loss:  4.8937, val_loss:  5.2435\n",
            "..........loss:  4.8871, val_loss:  5.1959\n",
            "..........loss:  4.8828, val_loss:  5.1971\n",
            "..........loss:  4.8785, val_loss:  5.1897\n",
            "..........loss:  4.8780, val_loss:  5.1710\n",
            "..........loss:  4.8679, val_loss:  5.1823\n",
            "..........loss:  4.8623, val_loss:  5.1537\n",
            "..........loss:  4.8465, val_loss:  5.1723\n",
            "..........loss:  4.8046, val_loss:  5.1089\n",
            "..........loss:  4.6494, val_loss:  4.9367\n",
            "..........loss:  4.5117, val_loss:  4.7884\n",
            "..........loss:  4.4056, val_loss:  4.7168\n",
            "..........loss:  4.3234, val_loss:  4.6150\n",
            "..........loss:  4.2508, val_loss:  4.6226\n",
            "..........loss:  4.2074, val_loss:  4.5706\n",
            "..........loss:  4.1828, val_loss:  4.5473\n",
            "..........loss:  4.1754, val_loss:  4.5293\n",
            "..........loss:  4.1642, val_loss:  4.5333\n",
            "..........loss:  4.1667, val_loss:  4.5160\n",
            "..........loss:  4.1562, val_loss:  4.5095\n",
            "..........loss:  4.1544, val_loss:  4.5138\n",
            "..........loss:  4.1555, val_loss:  4.5071\n",
            "..........loss:  4.1372, val_loss:  4.4785\n",
            "..........loss:  4.1357, val_loss:  4.5140\n",
            "..........loss:  4.1383, val_loss:  4.4831\n",
            "..........loss:  4.1372, val_loss:  4.4803\n",
            "..........loss:  4.1300, val_loss:  4.4899\n",
            "..........loss:  4.1266, val_loss:  4.4313\n",
            "..........loss:  4.1308, val_loss:  4.4329\n",
            "..........loss:  4.1317, val_loss:  4.4605\n",
            "..........loss:  4.1290, val_loss:  4.4468\n",
            "..........loss:  4.1335, val_loss:  4.4727\n",
            "..........loss:  4.1279, val_loss:  4.4097\n",
            "..........loss:  4.1276, val_loss:  4.4749\n",
            "..........loss:  4.1254, val_loss:  4.4272\n",
            "..........loss:  4.1248, val_loss:  4.4097\n",
            "..........loss:  4.1301, val_loss:  4.4332\n",
            "..........loss:  4.1249, val_loss:  4.4406\n",
            "..........loss:  4.1254, val_loss:  4.4176\n",
            "..........loss:  4.1286, val_loss:  4.4329\n",
            "..........loss:  4.1243, val_loss:  4.4273\n",
            "..........loss:  4.1202, val_loss:  4.4346\n",
            "..........loss:  4.1285, val_loss:  4.4350\n",
            "..........loss:  4.1225, val_loss:  4.4152\n",
            "..........loss:  4.1151, val_loss:  4.4526\n",
            "...1 loop, best of 1: 6min 22s per loop\n"
          ],
          "name": "stdout"
        }
      ]
    },
    {
      "cell_type": "code",
      "metadata": {
        "id": "82Wc8Vr8FXWw"
      },
      "source": [
        "# Define the prior weight distribution as Normal of mean=0 and stddev=1.\n",
        "# Note that, in this example, the we prior distribution is not trainable,\n",
        "# as we fix its parameters.\n",
        "def prior(kernel_size, bias_size, dtype=None):\n",
        "    n = kernel_size + bias_size\n",
        "    prior_model = keras.Sequential(\n",
        "        [\n",
        "            tfp.layers.DistributionLambda(\n",
        "                lambda t: tfp.distributions.MultivariateNormalDiag(\n",
        "                    loc=tf.zeros(n), scale_diag=tf.ones(n)\n",
        "                )\n",
        "            )\n",
        "        ]\n",
        "    )\n",
        "    return prior_model\n",
        "\n",
        "\n",
        "# Define variational posterior weight distribution as multivariate Gaussian.\n",
        "# Note that the learnable parameters for this distribution are the means,\n",
        "# variances, and covariances.\n",
        "def posterior(kernel_size, bias_size, dtype=None):\n",
        "    n = kernel_size + bias_size\n",
        "    posterior_model = keras.Sequential(\n",
        "        [\n",
        "            tfp.layers.VariableLayer(\n",
        "                tfp.layers.MultivariateNormalTriL.params_size(n), dtype=dtype\n",
        "            ),\n",
        "            tfp.layers.MultivariateNormalTriL(n),\n",
        "        ]\n",
        "    )\n",
        "    return posterior_model"
      ],
      "execution_count": 30,
      "outputs": []
    },
    {
      "cell_type": "code",
      "metadata": {
        "id": "1C8HC9YPNSvQ"
      },
      "source": [
        "def build_epistemic_model():\n",
        "    train_size = len(train_dataset)\n",
        "    model = keras.Sequential([\n",
        "      tfp.layers.DenseVariational(8, activation='relu', make_prior_fn=prior,\n",
        "            make_posterior_fn=posterior,\n",
        "            kl_weight=1 / train_size, input_shape=[len(train_dataset.keys())]),\n",
        "      tfp.layers.DenseVariational(8, activation='relu', make_prior_fn=prior,\n",
        "            make_posterior_fn=posterior,\n",
        "            kl_weight=1 / train_size),\n",
        "      layers.Dense(1)\n",
        "    ])\n",
        "    \n",
        "    optimizer = keras.optimizers.Adam(lr=0.001)\n",
        "    \n",
        "    model.compile(loss=tf.keras.losses.mean_absolute_percentage_error,\n",
        "                 optimizer=optimizer,\n",
        "                 metrics=['mae', 'mse', keras.metrics.MeanAbsolutePercentageError()])\n",
        "    \n",
        "    return model"
      ],
      "execution_count": 31,
      "outputs": []
    },
    {
      "cell_type": "code",
      "metadata": {
        "id": "4NUBH8NEOdRF",
        "outputId": "cbc8c1e9-7a24-4c2c-9dcb-b48631a1a1da",
        "colab": {
          "base_uri": "https://localhost:8080/"
        }
      },
      "source": [
        "# test execution time with GPU\n",
        "%%timeit -r1 -n1\n",
        "# build model\n",
        "strategy = tf.distribute.OneDeviceStrategy(device=\"/gpu:0\")\n",
        "with strategy.scope(): model = build_epistemic_model()\n",
        "\n",
        "## Train the model\n",
        "# Display training progress by printing a single dot for each completed epoch\n",
        "class PrintDot(keras.callbacks.Callback):\n",
        "  def on_epoch_end(self, epoch, logs):\n",
        "    if epoch % 10 == 0: print('loss: {:7.4f}, val_loss: {:7.4f}' .format(logs['loss'], logs['val_loss']))\n",
        "    print('.', end='')\n",
        "# early stopping callback\n",
        "es_callback = tf.keras.callbacks.EarlyStopping(monitor='val_loss', patience=40)\n",
        "\n",
        "EPOCHS = 500\n",
        "\n",
        "history = model.fit(\n",
        "  train_dataset, train_labels,\n",
        "  epochs=EPOCHS, validation_split = 0.2, verbose=0,\n",
        "  callbacks=[PrintDot(), es_callback])"
      ],
      "execution_count": 32,
      "outputs": [
        {
          "output_type": "stream",
          "text": [
            "WARNING:tensorflow:From /usr/local/lib/python3.7/dist-packages/tensorflow/python/ops/linalg/linear_operator_lower_triangular.py:167: calling LinearOperator.__init__ (from tensorflow.python.ops.linalg.linear_operator) with graph_parents is deprecated and will be removed in a future version.\n",
            "Instructions for updating:\n",
            "Do not pass `graph_parents`.  They will  no longer be used.\n",
            "loss: 98.7689, val_loss: 97.5924\n",
            "..........loss: 14.5959, val_loss: 14.1201\n",
            "..........loss:  8.8195, val_loss:  8.6998\n",
            "..........loss:  7.5583, val_loss:  7.9421\n",
            "..........loss:  7.1837, val_loss:  7.5796\n",
            "..........loss:  7.0360, val_loss:  7.0022\n",
            "..........loss:  6.8870, val_loss:  7.1840\n",
            "..........loss:  6.9968, val_loss:  7.1254\n",
            "..........loss:  6.8267, val_loss:  7.1443\n",
            "..........loss:  6.8310, val_loss:  7.2421\n",
            "..........loss:  6.8618, val_loss:  7.0566\n",
            "..........loss:  6.9348, val_loss:  7.0400\n",
            "..........loss:  6.8353, val_loss:  7.0084\n",
            "..........loss:  6.7429, val_loss:  7.0333\n",
            "..........loss:  6.8074, val_loss:  7.1355\n",
            "..........loss:  6.6529, val_loss:  6.8315\n",
            "..........loss:  6.7363, val_loss:  7.0320\n",
            "..........loss:  6.7291, val_loss:  7.0408\n",
            "..........loss:  6.5653, val_loss:  6.8965\n",
            "..........loss:  6.7711, val_loss:  6.7905\n",
            "..........loss:  6.6273, val_loss:  6.8072\n",
            "..1 loop, best of 1: 3min 7s per loop\n"
          ],
          "name": "stdout"
        }
      ]
    },
    {
      "cell_type": "code",
      "metadata": {
        "id": "0WuTUNdiOdqW"
      },
      "source": [
        "def build_alleatoric_model():\n",
        "    train_size = len(train_dataset)\n",
        "    inputs = keras.Input(shape = [len(train_dataset.keys())])\n",
        "    x = tfp.layers.DenseVariational(8, activation='relu', make_prior_fn=prior,\n",
        "            make_posterior_fn=posterior,\n",
        "            kl_weight=1 / train_size, input_shape=[len(train_dataset.keys())])(inputs)\n",
        "    x = tfp.layers.DenseVariational(8, activation='relu', make_prior_fn=prior,\n",
        "            make_posterior_fn=posterior,\n",
        "            kl_weight=1 / train_size)(x)\n",
        "    # Create a probabilisticå output (Normal distribution), and use the `Dense` layer\n",
        "    # to produce the parameters of the distribution.\n",
        "    # We set units=2 to learn both the mean and the variance of the Normal distribution.\n",
        "    distribution_params = layers.Dense(units=2)(x)\n",
        "    outputs = tfp.layers.IndependentNormal(1)(distribution_params)  \n",
        "    model = keras.Model(inputs=inputs, outputs=outputs)\n",
        "    \n",
        "    optimizer = keras.optimizers.Adam(lr=0.001)\n",
        "    \n",
        "    model.compile(loss=tf.keras.losses.mean_absolute_percentage_error,\n",
        "                 optimizer=optimizer,\n",
        "                 metrics=['mae', 'mse', keras.metrics.MeanAbsolutePercentageError()])\n",
        "    \n",
        "    return model"
      ],
      "execution_count": 33,
      "outputs": []
    },
    {
      "cell_type": "code",
      "metadata": {
        "id": "VQaunb_QTN6S",
        "outputId": "e94211c2-e196-4df1-c53a-27e4e71a2b72",
        "colab": {
          "base_uri": "https://localhost:8080/"
        }
      },
      "source": [
        "# test execution time with GPU\n",
        "%%timeit -r1 -n1\n",
        "# build model\n",
        "strategy = tf.distribute.OneDeviceStrategy(device=\"/gpu:0\")\n",
        "with strategy.scope(): model = build_alleatoric_model()\n",
        "\n",
        "## Train the model\n",
        "# Display training progress by printing a single dot for each completed epoch\n",
        "class PrintDot(keras.callbacks.Callback):\n",
        "  def on_epoch_end(self, epoch, logs):\n",
        "    if epoch % 10 == 0: print('loss: {:7.4f}, val_loss: {:7.4f}' .format(logs['loss'], logs['val_loss']))\n",
        "    print('.', end='')\n",
        "# early stopping callback\n",
        "es_callback = tf.keras.callbacks.EarlyStopping(monitor='val_loss', patience=40)\n",
        "\n",
        "EPOCHS = 500\n",
        "\n",
        "history = model.fit(\n",
        "  train_dataset, train_labels,\n",
        "  epochs=EPOCHS, validation_split = 0.2, verbose=0,\n",
        "  callbacks=[PrintDot(), es_callback])"
      ],
      "execution_count": null,
      "outputs": [
        {
          "output_type": "stream",
          "text": [
            "loss: 98.9364, val_loss: 97.6537\n",
            "..........loss: 14.5114, val_loss: 14.1005\n",
            "..........loss:  8.8985, val_loss:  9.0240\n",
            "..........loss:  7.5959, val_loss:  7.8728\n",
            "..........loss:  7.0633, val_loss:  7.4068\n",
            "..........loss:  7.1069, val_loss:  7.2906\n",
            "..........loss:  6.9427, val_loss:  7.1031\n",
            "..........loss:  6.9552, val_loss:  7.1949\n",
            "..........loss:  6.9351, val_loss:  7.1363\n",
            "..........loss:  6.8581, val_loss:  7.1123\n",
            "..........loss:  6.8160, val_loss:  7.1264\n",
            "....."
          ],
          "name": "stdout"
        }
      ]
    }
  ]
}