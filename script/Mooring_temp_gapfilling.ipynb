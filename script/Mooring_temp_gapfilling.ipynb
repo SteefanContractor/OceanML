{
 "cells": [
  {
   "cell_type": "code",
   "execution_count": 1,
   "metadata": {},
   "outputs": [
    {
     "name": "stderr",
     "output_type": "stream",
     "text": [
      "/srv/scratch/z3289452/miniconda3/envs/OceanDataScience/lib/python3.7/site-packages/statsmodels/tools/_testing.py:19: FutureWarning: pandas.util.testing is deprecated. Use the functions in the public API at pandas.testing instead.\n",
      "  import pandas.util.testing as tm\n"
     ]
    }
   ],
   "source": [
    "import pandas as pd\n",
    "import numpy as np\n",
    "import matplotlib.pyplot as plt\n",
    "import seaborn as sns\n",
    "%matplotlib inline"
   ]
  },
  {
   "cell_type": "code",
   "execution_count": 2,
   "metadata": {},
   "outputs": [
    {
     "name": "stderr",
     "output_type": "stream",
     "text": [
      "/srv/scratch/z3289452/miniconda3/envs/OceanDataScience/lib/python3.7/site-packages/tensorflow/python/framework/dtypes.py:516: FutureWarning: Passing (type, 1) or '1type' as a synonym of type is deprecated; in a future version of numpy, it will be understood as (type, (1,)) / '(1,)type'.\n",
      "  _np_qint8 = np.dtype([(\"qint8\", np.int8, 1)])\n",
      "/srv/scratch/z3289452/miniconda3/envs/OceanDataScience/lib/python3.7/site-packages/tensorflow/python/framework/dtypes.py:517: FutureWarning: Passing (type, 1) or '1type' as a synonym of type is deprecated; in a future version of numpy, it will be understood as (type, (1,)) / '(1,)type'.\n",
      "  _np_quint8 = np.dtype([(\"quint8\", np.uint8, 1)])\n",
      "/srv/scratch/z3289452/miniconda3/envs/OceanDataScience/lib/python3.7/site-packages/tensorflow/python/framework/dtypes.py:518: FutureWarning: Passing (type, 1) or '1type' as a synonym of type is deprecated; in a future version of numpy, it will be understood as (type, (1,)) / '(1,)type'.\n",
      "  _np_qint16 = np.dtype([(\"qint16\", np.int16, 1)])\n",
      "/srv/scratch/z3289452/miniconda3/envs/OceanDataScience/lib/python3.7/site-packages/tensorflow/python/framework/dtypes.py:519: FutureWarning: Passing (type, 1) or '1type' as a synonym of type is deprecated; in a future version of numpy, it will be understood as (type, (1,)) / '(1,)type'.\n",
      "  _np_quint16 = np.dtype([(\"quint16\", np.uint16, 1)])\n",
      "/srv/scratch/z3289452/miniconda3/envs/OceanDataScience/lib/python3.7/site-packages/tensorflow/python/framework/dtypes.py:520: FutureWarning: Passing (type, 1) or '1type' as a synonym of type is deprecated; in a future version of numpy, it will be understood as (type, (1,)) / '(1,)type'.\n",
      "  _np_qint32 = np.dtype([(\"qint32\", np.int32, 1)])\n",
      "/srv/scratch/z3289452/miniconda3/envs/OceanDataScience/lib/python3.7/site-packages/tensorflow/python/framework/dtypes.py:525: FutureWarning: Passing (type, 1) or '1type' as a synonym of type is deprecated; in a future version of numpy, it will be understood as (type, (1,)) / '(1,)type'.\n",
      "  np_resource = np.dtype([(\"resource\", np.ubyte, 1)])\n",
      "/srv/scratch/z3289452/miniconda3/envs/OceanDataScience/lib/python3.7/site-packages/tensorboard/compat/tensorflow_stub/dtypes.py:541: FutureWarning: Passing (type, 1) or '1type' as a synonym of type is deprecated; in a future version of numpy, it will be understood as (type, (1,)) / '(1,)type'.\n",
      "  _np_qint8 = np.dtype([(\"qint8\", np.int8, 1)])\n",
      "/srv/scratch/z3289452/miniconda3/envs/OceanDataScience/lib/python3.7/site-packages/tensorboard/compat/tensorflow_stub/dtypes.py:542: FutureWarning: Passing (type, 1) or '1type' as a synonym of type is deprecated; in a future version of numpy, it will be understood as (type, (1,)) / '(1,)type'.\n",
      "  _np_quint8 = np.dtype([(\"quint8\", np.uint8, 1)])\n",
      "/srv/scratch/z3289452/miniconda3/envs/OceanDataScience/lib/python3.7/site-packages/tensorboard/compat/tensorflow_stub/dtypes.py:543: FutureWarning: Passing (type, 1) or '1type' as a synonym of type is deprecated; in a future version of numpy, it will be understood as (type, (1,)) / '(1,)type'.\n",
      "  _np_qint16 = np.dtype([(\"qint16\", np.int16, 1)])\n",
      "/srv/scratch/z3289452/miniconda3/envs/OceanDataScience/lib/python3.7/site-packages/tensorboard/compat/tensorflow_stub/dtypes.py:544: FutureWarning: Passing (type, 1) or '1type' as a synonym of type is deprecated; in a future version of numpy, it will be understood as (type, (1,)) / '(1,)type'.\n",
      "  _np_quint16 = np.dtype([(\"quint16\", np.uint16, 1)])\n",
      "/srv/scratch/z3289452/miniconda3/envs/OceanDataScience/lib/python3.7/site-packages/tensorboard/compat/tensorflow_stub/dtypes.py:545: FutureWarning: Passing (type, 1) or '1type' as a synonym of type is deprecated; in a future version of numpy, it will be understood as (type, (1,)) / '(1,)type'.\n",
      "  _np_qint32 = np.dtype([(\"qint32\", np.int32, 1)])\n",
      "/srv/scratch/z3289452/miniconda3/envs/OceanDataScience/lib/python3.7/site-packages/tensorboard/compat/tensorflow_stub/dtypes.py:550: FutureWarning: Passing (type, 1) or '1type' as a synonym of type is deprecated; in a future version of numpy, it will be understood as (type, (1,)) / '(1,)type'.\n",
      "  np_resource = np.dtype([(\"resource\", np.ubyte, 1)])\n"
     ]
    }
   ],
   "source": [
    "import tensorflow as tfl\n",
    "\n",
    "from tensorflow import keras\n",
    "from tensorflow.keras import layers"
   ]
  },
  {
   "cell_type": "code",
   "execution_count": 3,
   "metadata": {},
   "outputs": [
    {
     "name": "stderr",
     "output_type": "stream",
     "text": [
      "/srv/scratch/z3289452/miniconda3/envs/OceanDataScience/lib/python3.7/site-packages/xarray/core/merge.py:17: FutureWarning: The Panel class is removed from pandas. Accessing it from the top-level namespace will also be removed in the next version\n",
      "  PANDAS_TYPES = (pd.Series, pd.DataFrame, pd.Panel)\n"
     ]
    }
   ],
   "source": [
    "import xarray as xr\n",
    "import os"
   ]
  },
  {
   "cell_type": "markdown",
   "metadata": {},
   "source": [
    "### Temperature data "
   ]
  },
  {
   "cell_type": "code",
   "execution_count": 4,
   "metadata": {},
   "outputs": [],
   "source": [
    "temp = xr.open_dataset('/srv/scratch/z3289452/OceanDataScience/Mooring/PH100/IMOS_ANMN-NSW_TZ_20091029_PH100_FV01_TEMP-aggregated-timeseries_END-20190612_C-20190819.nc')"
   ]
  },
  {
   "cell_type": "code",
   "execution_count": 5,
   "metadata": {},
   "outputs": [
    {
     "data": {
      "text/plain": [
       "<xarray.Dataset>\n",
       "Dimensions:                   (INSTRUMENT: 688, OBSERVATION: 25570235)\n",
       "Coordinates:\n",
       "    TIME                      (OBSERVATION) datetime64[ns] ...\n",
       "    LONGITUDE                 (INSTRUMENT) float32 ...\n",
       "    LATITUDE                  (INSTRUMENT) float32 ...\n",
       "    NOMINAL_DEPTH             (INSTRUMENT) float32 ...\n",
       "Dimensions without coordinates: INSTRUMENT, OBSERVATION\n",
       "Data variables:\n",
       "    TEMP                      (OBSERVATION) float32 ...\n",
       "    TEMP_quality_control      (OBSERVATION) float32 ...\n",
       "    DEPTH                     (OBSERVATION) float32 ...\n",
       "    DEPTH_quality_control     (OBSERVATION) int8 ...\n",
       "    PRES                      (OBSERVATION) float32 ...\n",
       "    PRES_quality_control      (OBSERVATION) float32 ...\n",
       "    PRES_REL                  (OBSERVATION) float32 ...\n",
       "    PRES_REL_quality_control  (OBSERVATION) float32 ...\n",
       "    instrument_index          (OBSERVATION) int32 ...\n",
       "    instrument_id             (INSTRUMENT) |S256 ...\n",
       "    source_file               (INSTRUMENT) |S256 ...\n",
       "Attributes:\n",
       "    Conventions:                   CF-1.6,IMOS-1.4\n",
       "    abstract:                      Aggregated Time-series Product: This file ...\n",
       "    acknowledgement:               Any users of IMOS data are required to cle...\n",
       "    author:                        Klein, Eduardo\n",
       "    author_email:                  eduardo.kleinsalas@utas.edu.au\n",
       "    citation:                      The citation in a list of references is: \"...\n",
       "    data_centre:                   Australian Ocean Data Network (AODN)\n",
       "    data_centre_email:             info@aodn.org.au\n",
       "    date_created:                  2019-08-19T04:20:41Z\n",
       "    disclaimer:                    Data, products and services from IMOS are ...\n",
       "    featureType:                   timeSeries\n",
       "    file_version:                  Level 1 - Quality Controlled Data\n",
       "    file_version_quality_control:  Quality controlled data have been through ...\n",
       "    geospatial_lat_max:            -34.1192\n",
       "    geospatial_lat_min:            -34.12068\n",
       "    geospatial_lon_max:            151.2248\n",
       "    geospatial_lon_min:            151.22404\n",
       "    geospatial_vertical_max:       999999.0\n",
       "    geospatial_vertical_min:       -139.6803741455078\n",
       "    history:                       2019-08-19T04:20:41Z: Aggregated file crea...\n",
       "    institution_references:        http://imos.org.au/facilities/aodn/\n",
       "    keywords:                      TEMP, TEMP_quality_control, TIME, DEPTH, D...\n",
       "    keywords_vocabulary:           IMOS parameter names. See https://github.c...\n",
       "    license:                       http://creativecommons.org/licenses/by/4.0/\n",
       "    lineage:                       The variable of interest (VoI) is produced...\n",
       "    local_time_zone:               \n",
       "    naming_authority:              IMOS\n",
       "    project:                       Integrated Marine Observing System (IMOS)\n",
       "    references:                    http://www.imos.org.au\n",
       "    rejected_files:                \n",
       "    site_code:                     PH100\n",
       "    source:                        Mooring\n",
       "    standard_name_vocabulary:      NetCDF Climate and Forecast (CF) Metadata ...\n",
       "    time_coverage_end:             2019-06-12T02:34:59Z\n",
       "    time_coverage_start:           2009-10-29T02:55:00Z\n",
       "    title:                         Long Timeseries Aggregated product: TEMP a..."
      ]
     },
     "execution_count": 5,
     "metadata": {},
     "output_type": "execute_result"
    }
   ],
   "source": [
    "temp"
   ]
  },
  {
   "cell_type": "code",
   "execution_count": 6,
   "metadata": {},
   "outputs": [
    {
     "data": {
      "text/plain": [
       "array([ 15. ,  15.5,  16. ,  24. ,  32. ,  40. ,  48. ,  56. ,  64. ,\n",
       "        72. ,  80. ,  88. ,  96. , 104. , 109.5, 110. ], dtype=float32)"
      ]
     },
     "execution_count": 6,
     "metadata": {},
     "output_type": "execute_result"
    }
   ],
   "source": [
    "# Nominal depth of temp instruments to compare with WQM instruments\n",
    "np.unique(temp.NOMINAL_DEPTH.values)"
   ]
  },
  {
   "cell_type": "code",
   "execution_count": 7,
   "metadata": {},
   "outputs": [],
   "source": [
    "temp = temp.drop(['DEPTH','DEPTH_quality_control','PRES','PRES_quality_control','instrument_index','instrument_id','source_file'])"
   ]
  },
  {
   "cell_type": "code",
   "execution_count": 8,
   "metadata": {},
   "outputs": [],
   "source": [
    "temp = temp.where(np.logical_and(temp.TEMP_quality_control > 0, temp.TEMP_quality_control < 3), drop = True)"
   ]
  },
  {
   "cell_type": "code",
   "execution_count": 9,
   "metadata": {},
   "outputs": [],
   "source": [
    "temp = temp.where(np.logical_and(temp.PRES_REL_quality_control > 0, temp.PRES_REL_quality_control < 3), drop = True) "
   ]
  },
  {
   "cell_type": "code",
   "execution_count": 8,
   "metadata": {},
   "outputs": [],
   "source": [
    "# create pd dataframe from scratch\n",
    "data  = {'TIME': temp.TIME.values,\n",
    "         'TEMP': temp.TEMP.values,\n",
    "         'PRES': temp.PRES_REL.values}\n",
    "\n",
    "temp_df= pd.DataFrame(data, columns = ['TIME','TEMP','PRES'])\n",
    "# set TIME as the indexing variable\n",
    "temp_df = temp_df.set_index('TIME')"
   ]
  },
  {
   "cell_type": "code",
   "execution_count": 18,
   "metadata": {},
   "outputs": [
    {
     "data": {
      "text/plain": [
       "<matplotlib.axes._subplots.AxesSubplot at 0x2ad9836f87b8>"
      ]
     },
     "execution_count": 18,
     "metadata": {},
     "output_type": "execute_result"
    },
    {
     "data": {
      "image/png": "[encoded data removed]",
      "text/plain": [
       "<Figure size 432x288 with 1 Axes>"
      ]
     },
     "metadata": {
      "needs_background": "light"
     },
     "output_type": "display_data"
    }
   ],
   "source": [
    "# Plot PRES over TIME\n",
    "# Because of extra instruments (see NOMINAL_DEPTH vals), there are more pressure vals here compared to WQM\n",
    "temp_df.PRES.plot()"
   ]
  },
  {
   "cell_type": "code",
   "execution_count": 39,
   "metadata": {},
   "outputs": [],
   "source": [
    "# Max and min pressure values\n",
    "bin_max = temp_df.PRES.max()\n",
    "bin_min = temp_df.PRES.min()\n",
    "bin_size = 2"
   ]
  },
  {
   "cell_type": "code",
   "execution_count": 40,
   "metadata": {},
   "outputs": [],
   "source": [
    "def create_bins(bin_size, bin_max):\n",
    "    \"\"\"\n",
    "    A function to return equal sized bins and corresponding bin labels for binning of data.\n",
    "    Input:\n",
    "    bin_size: size of bins\n",
    "    bin_max: maximum value of the data to be binned. The minimum is assumed to be zero.\n",
    "    \"\"\"\n",
    "    num_bins = np.ceil(bin_max/bin_size)\n",
    "    lab_start = np.ceil(bin_size/2)\n",
    "    bins = np.linspace(0, bin_size*num_bins, num_bins+1)\n",
    "    labs = np.linspace(lab_start, bin_size*(num_bins-1)+lab_start, num_bins)\n",
    "    return bins, labs"
   ]
  },
  {
   "cell_type": "code",
   "execution_count": 41,
   "metadata": {},
   "outputs": [],
   "source": [
    "# Automatically calculate pressure bin parameters based on given bin_size\n",
    "bins, labs = create_bins(bin_size, bin_max)"
   ]
  },
  {
   "cell_type": "code",
   "execution_count": 42,
   "metadata": {},
   "outputs": [],
   "source": [
    "# create a column with pressure bin labels\n",
    "temp_df['PRES_BIN'] = pd.cut(temp_df.PRES, bins = bins, labels = labs)"
   ]
  },
  {
   "cell_type": "code",
   "execution_count": 43,
   "metadata": {},
   "outputs": [],
   "source": [
    "# First groupby PRES_BIN column, then resample each group on hourly intervals and mean each resulting bin\n",
    "# drop unncessary columns and nan rows after\n",
    "temp_df = temp_df.groupby('PRES_BIN').resample('1H').mean().drop(columns=['PRES','PRES_BIN']).dropna()"
   ]
  },
  {
   "cell_type": "code",
   "execution_count": 44,
   "metadata": {},
   "outputs": [
    {
     "data": {
      "text/html": [
       "<div>\n",
       "<style scoped>\n",
       "    .dataframe tbody tr th:only-of-type {\n",
       "        vertical-align: middle;\n",
       "    }\n",
       "\n",
       "    .dataframe tbody tr th {\n",
       "        vertical-align: top;\n",
       "    }\n",
       "\n",
       "    .dataframe thead th {\n",
       "        text-align: right;\n",
       "    }\n",
       "</style>\n",
       "<table border=\"1\" class=\"dataframe\">\n",
       "  <thead>\n",
       "    <tr style=\"text-align: right;\">\n",
       "      <th></th>\n",
       "      <th></th>\n",
       "      <th>TEMP</th>\n",
       "    </tr>\n",
       "    <tr>\n",
       "      <th>PRES_BIN</th>\n",
       "      <th>TIME</th>\n",
       "      <th></th>\n",
       "    </tr>\n",
       "  </thead>\n",
       "  <tbody>\n",
       "    <tr>\n",
       "      <th>1.0</th>\n",
       "      <th>2012-11-28 22:00:00</th>\n",
       "      <td>20.759911</td>\n",
       "    </tr>\n",
       "    <tr>\n",
       "      <th>3.0</th>\n",
       "      <th>2012-11-28 22:00:00</th>\n",
       "      <td>20.770100</td>\n",
       "    </tr>\n",
       "    <tr>\n",
       "      <th rowspan=\"3\" valign=\"top\">7.0</th>\n",
       "      <th>2013-06-15 07:00:00</th>\n",
       "      <td>19.003767</td>\n",
       "    </tr>\n",
       "    <tr>\n",
       "      <th>2013-06-15 08:00:00</th>\n",
       "      <td>18.982601</td>\n",
       "    </tr>\n",
       "    <tr>\n",
       "      <th>2013-06-15 21:00:00</th>\n",
       "      <td>18.965900</td>\n",
       "    </tr>\n",
       "    <tr>\n",
       "      <th>...</th>\n",
       "      <th>...</th>\n",
       "      <td>...</td>\n",
       "    </tr>\n",
       "    <tr>\n",
       "      <th rowspan=\"5\" valign=\"top\">115.0</th>\n",
       "      <th>2014-11-06 22:00:00</th>\n",
       "      <td>15.896667</td>\n",
       "    </tr>\n",
       "    <tr>\n",
       "      <th>2014-11-07 22:00:00</th>\n",
       "      <td>15.611667</td>\n",
       "    </tr>\n",
       "    <tr>\n",
       "      <th>2014-11-07 23:00:00</th>\n",
       "      <td>15.620000</td>\n",
       "    </tr>\n",
       "    <tr>\n",
       "      <th>2014-11-09 23:00:00</th>\n",
       "      <td>16.000000</td>\n",
       "    </tr>\n",
       "    <tr>\n",
       "      <th>2014-11-10 00:00:00</th>\n",
       "      <td>16.036667</td>\n",
       "    </tr>\n",
       "  </tbody>\n",
       "</table>\n",
       "<p>149829 rows × 1 columns</p>\n",
       "</div>"
      ],
      "text/plain": [
       "                                   TEMP\n",
       "PRES_BIN TIME                          \n",
       "1.0      2012-11-28 22:00:00  20.759911\n",
       "3.0      2012-11-28 22:00:00  20.770100\n",
       "7.0      2013-06-15 07:00:00  19.003767\n",
       "         2013-06-15 08:00:00  18.982601\n",
       "         2013-06-15 21:00:00  18.965900\n",
       "...                                 ...\n",
       "115.0    2014-11-06 22:00:00  15.896667\n",
       "         2014-11-07 22:00:00  15.611667\n",
       "         2014-11-07 23:00:00  15.620000\n",
       "         2014-11-09 23:00:00  16.000000\n",
       "         2014-11-10 00:00:00  16.036667\n",
       "\n",
       "[149829 rows x 1 columns]"
      ]
     },
     "execution_count": 44,
     "metadata": {},
     "output_type": "execute_result"
    }
   ],
   "source": [
    "temp_df"
   ]
  },
  {
   "cell_type": "code",
   "execution_count": 45,
   "metadata": {},
   "outputs": [
    {
     "data": {
      "text/html": [
       "<div>\n",
       "<style scoped>\n",
       "    .dataframe tbody tr th:only-of-type {\n",
       "        vertical-align: middle;\n",
       "    }\n",
       "\n",
       "    .dataframe tbody tr th {\n",
       "        vertical-align: top;\n",
       "    }\n",
       "\n",
       "    .dataframe thead th {\n",
       "        text-align: right;\n",
       "    }\n",
       "</style>\n",
       "<table border=\"1\" class=\"dataframe\">\n",
       "  <thead>\n",
       "    <tr style=\"text-align: right;\">\n",
       "      <th></th>\n",
       "      <th>TEMP</th>\n",
       "    </tr>\n",
       "    <tr>\n",
       "      <th>PRES_BIN</th>\n",
       "      <th></th>\n",
       "    </tr>\n",
       "  </thead>\n",
       "  <tbody>\n",
       "    <tr>\n",
       "      <th>1.0</th>\n",
       "      <td>1</td>\n",
       "    </tr>\n",
       "    <tr>\n",
       "      <th>3.0</th>\n",
       "      <td>1</td>\n",
       "    </tr>\n",
       "    <tr>\n",
       "      <th>7.0</th>\n",
       "      <td>189</td>\n",
       "    </tr>\n",
       "    <tr>\n",
       "      <th>9.0</th>\n",
       "      <td>3047</td>\n",
       "    </tr>\n",
       "    <tr>\n",
       "      <th>11.0</th>\n",
       "      <td>3400</td>\n",
       "    </tr>\n",
       "    <tr>\n",
       "      <th>13.0</th>\n",
       "      <td>12072</td>\n",
       "    </tr>\n",
       "    <tr>\n",
       "      <th>15.0</th>\n",
       "      <td>33495</td>\n",
       "    </tr>\n",
       "    <tr>\n",
       "      <th>17.0</th>\n",
       "      <td>10984</td>\n",
       "    </tr>\n",
       "    <tr>\n",
       "      <th>19.0</th>\n",
       "      <td>1395</td>\n",
       "    </tr>\n",
       "    <tr>\n",
       "      <th>21.0</th>\n",
       "      <td>399</td>\n",
       "    </tr>\n",
       "    <tr>\n",
       "      <th>23.0</th>\n",
       "      <td>5209</td>\n",
       "    </tr>\n",
       "    <tr>\n",
       "      <th>25.0</th>\n",
       "      <td>5076</td>\n",
       "    </tr>\n",
       "    <tr>\n",
       "      <th>27.0</th>\n",
       "      <td>323</td>\n",
       "    </tr>\n",
       "    <tr>\n",
       "      <th>29.0</th>\n",
       "      <td>61</td>\n",
       "    </tr>\n",
       "    <tr>\n",
       "      <th>31.0</th>\n",
       "      <td>13</td>\n",
       "    </tr>\n",
       "    <tr>\n",
       "      <th>33.0</th>\n",
       "      <td>6</td>\n",
       "    </tr>\n",
       "    <tr>\n",
       "      <th>35.0</th>\n",
       "      <td>3</td>\n",
       "    </tr>\n",
       "    <tr>\n",
       "      <th>109.0</th>\n",
       "      <td>19356</td>\n",
       "    </tr>\n",
       "    <tr>\n",
       "      <th>111.0</th>\n",
       "      <td>42038</td>\n",
       "    </tr>\n",
       "    <tr>\n",
       "      <th>113.0</th>\n",
       "      <td>10870</td>\n",
       "    </tr>\n",
       "    <tr>\n",
       "      <th>115.0</th>\n",
       "      <td>1891</td>\n",
       "    </tr>\n",
       "  </tbody>\n",
       "</table>\n",
       "</div>"
      ],
      "text/plain": [
       "           TEMP\n",
       "PRES_BIN       \n",
       "1.0           1\n",
       "3.0           1\n",
       "7.0         189\n",
       "9.0        3047\n",
       "11.0       3400\n",
       "13.0      12072\n",
       "15.0      33495\n",
       "17.0      10984\n",
       "19.0       1395\n",
       "21.0        399\n",
       "23.0       5209\n",
       "25.0       5076\n",
       "27.0        323\n",
       "29.0         61\n",
       "31.0         13\n",
       "33.0          6\n",
       "35.0          3\n",
       "109.0     19356\n",
       "111.0     42038\n",
       "113.0     10870\n",
       "115.0      1891"
      ]
     },
     "execution_count": 45,
     "metadata": {},
     "output_type": "execute_result"
    }
   ],
   "source": [
    "temp_df.groupby('PRES_BIN').count()"
   ]
  },
  {
   "cell_type": "markdown",
   "metadata": {},
   "source": [
    "Based on nominal depths, it looks like most readings are from the 15, 24 and 110 dbar sensors.\n",
    "So we will create bins around these depths as well."
   ]
  },
  {
   "cell_type": "code",
   "execution_count": 10,
   "metadata": {},
   "outputs": [],
   "source": [
    "bins = [0,11,19,20,28,106,114,116]\n",
    "labs = [5.5,15,19.5,24,(106-28)/2,110,115]"
   ]
  },
  {
   "cell_type": "code",
   "execution_count": 11,
   "metadata": {},
   "outputs": [],
   "source": [
    "# create pd dataframe from scratch\n",
    "data  = {'TIME': temp.TIME.values,\n",
    "         'TEMP': temp.TEMP.values,\n",
    "         'PRES': temp.PRES_REL.values}\n",
    "\n",
    "temp_df= pd.DataFrame(data, columns = ['TIME','TEMP','PRES'])\n",
    "# set TIME as the indexing variable\n",
    "temp_df = temp_df.set_index('TIME')"
   ]
  },
  {
   "cell_type": "code",
   "execution_count": 12,
   "metadata": {},
   "outputs": [],
   "source": [
    "# create a column with pressure bin labels\n",
    "temp_df['PRES_BIN'] = pd.cut(temp_df.PRES, bins = bins, labels = labs, include_lowest=True)"
   ]
  },
  {
   "cell_type": "code",
   "execution_count": 13,
   "metadata": {},
   "outputs": [],
   "source": [
    "# First groupby PRES_BIN column, then resample each group on hourly intervals and mean each resulting bin\n",
    "# drop unncessary columns and nan rows after\n",
    "temp_df = temp_df.groupby('PRES_BIN').resample('1H').mean().drop(columns=['PRES']).dropna()"
   ]
  },
  {
   "cell_type": "code",
   "execution_count": 14,
   "metadata": {},
   "outputs": [
    {
     "data": {
      "text/html": [
       "<div>\n",
       "<style scoped>\n",
       "    .dataframe tbody tr th:only-of-type {\n",
       "        vertical-align: middle;\n",
       "    }\n",
       "\n",
       "    .dataframe tbody tr th {\n",
       "        vertical-align: top;\n",
       "    }\n",
       "\n",
       "    .dataframe thead th {\n",
       "        text-align: right;\n",
       "    }\n",
       "</style>\n",
       "<table border=\"1\" class=\"dataframe\">\n",
       "  <thead>\n",
       "    <tr style=\"text-align: right;\">\n",
       "      <th></th>\n",
       "      <th>TEMP</th>\n",
       "    </tr>\n",
       "    <tr>\n",
       "      <th>PRES_BIN</th>\n",
       "      <th></th>\n",
       "    </tr>\n",
       "  </thead>\n",
       "  <tbody>\n",
       "    <tr>\n",
       "      <th>5.5</th>\n",
       "      <td>3919</td>\n",
       "    </tr>\n",
       "    <tr>\n",
       "      <th>15.0</th>\n",
       "      <td>38582</td>\n",
       "    </tr>\n",
       "    <tr>\n",
       "      <th>19.5</th>\n",
       "      <td>605</td>\n",
       "    </tr>\n",
       "    <tr>\n",
       "      <th>24.0</th>\n",
       "      <td>7391</td>\n",
       "    </tr>\n",
       "    <tr>\n",
       "      <th>39.0</th>\n",
       "      <td>68</td>\n",
       "    </tr>\n",
       "    <tr>\n",
       "      <th>110.0</th>\n",
       "      <td>65696</td>\n",
       "    </tr>\n",
       "    <tr>\n",
       "      <th>115.0</th>\n",
       "      <td>1891</td>\n",
       "    </tr>\n",
       "  </tbody>\n",
       "</table>\n",
       "</div>"
      ],
      "text/plain": [
       "           TEMP\n",
       "PRES_BIN       \n",
       "5.5        3919\n",
       "15.0      38582\n",
       "19.5        605\n",
       "24.0       7391\n",
       "39.0         68\n",
       "110.0     65696\n",
       "115.0      1891"
      ]
     },
     "execution_count": 14,
     "metadata": {},
     "output_type": "execute_result"
    }
   ],
   "source": [
    "temp_df.groupby('PRES_BIN').count()"
   ]
  },
  {
   "cell_type": "markdown",
   "metadata": {},
   "source": [
    "Based on the binning above, three models will be trained: 15 dbar, 24 dbar and 110 dbar."
   ]
  },
  {
   "cell_type": "markdown",
   "metadata": {},
   "source": [
    "### 15 dbar"
   ]
  },
  {
   "cell_type": "code",
   "execution_count": 15,
   "metadata": {},
   "outputs": [],
   "source": [
    "temp_df_15 = temp_df.xs(15)"
   ]
  },
  {
   "cell_type": "code",
   "execution_count": 16,
   "metadata": {},
   "outputs": [
    {
     "data": {
      "text/html": [
       "<div>\n",
       "<style scoped>\n",
       "    .dataframe tbody tr th:only-of-type {\n",
       "        vertical-align: middle;\n",
       "    }\n",
       "\n",
       "    .dataframe tbody tr th {\n",
       "        vertical-align: top;\n",
       "    }\n",
       "\n",
       "    .dataframe thead th {\n",
       "        text-align: right;\n",
       "    }\n",
       "</style>\n",
       "<table border=\"1\" class=\"dataframe\">\n",
       "  <thead>\n",
       "    <tr style=\"text-align: right;\">\n",
       "      <th></th>\n",
       "      <th>TEMP</th>\n",
       "    </tr>\n",
       "    <tr>\n",
       "      <th>TIME</th>\n",
       "      <th></th>\n",
       "    </tr>\n",
       "  </thead>\n",
       "  <tbody>\n",
       "    <tr>\n",
       "      <th>2011-03-30 01:00:00</th>\n",
       "      <td>23.914965</td>\n",
       "    </tr>\n",
       "    <tr>\n",
       "      <th>2011-03-30 02:00:00</th>\n",
       "      <td>23.876726</td>\n",
       "    </tr>\n",
       "    <tr>\n",
       "      <th>2011-03-30 03:00:00</th>\n",
       "      <td>23.861305</td>\n",
       "    </tr>\n",
       "    <tr>\n",
       "      <th>2011-03-30 04:00:00</th>\n",
       "      <td>23.838934</td>\n",
       "    </tr>\n",
       "    <tr>\n",
       "      <th>2011-03-30 05:00:00</th>\n",
       "      <td>23.851543</td>\n",
       "    </tr>\n",
       "    <tr>\n",
       "      <th>...</th>\n",
       "      <td>...</td>\n",
       "    </tr>\n",
       "    <tr>\n",
       "      <th>2017-08-27 14:00:00</th>\n",
       "      <td>18.774223</td>\n",
       "    </tr>\n",
       "    <tr>\n",
       "      <th>2017-08-27 15:00:00</th>\n",
       "      <td>18.677221</td>\n",
       "    </tr>\n",
       "    <tr>\n",
       "      <th>2017-08-27 16:00:00</th>\n",
       "      <td>18.512810</td>\n",
       "    </tr>\n",
       "    <tr>\n",
       "      <th>2017-08-27 17:00:00</th>\n",
       "      <td>18.349054</td>\n",
       "    </tr>\n",
       "    <tr>\n",
       "      <th>2017-08-27 18:00:00</th>\n",
       "      <td>18.427813</td>\n",
       "    </tr>\n",
       "  </tbody>\n",
       "</table>\n",
       "<p>38582 rows × 1 columns</p>\n",
       "</div>"
      ],
      "text/plain": [
       "                          TEMP\n",
       "TIME                          \n",
       "2011-03-30 01:00:00  23.914965\n",
       "2011-03-30 02:00:00  23.876726\n",
       "2011-03-30 03:00:00  23.861305\n",
       "2011-03-30 04:00:00  23.838934\n",
       "2011-03-30 05:00:00  23.851543\n",
       "...                        ...\n",
       "2017-08-27 14:00:00  18.774223\n",
       "2017-08-27 15:00:00  18.677221\n",
       "2017-08-27 16:00:00  18.512810\n",
       "2017-08-27 17:00:00  18.349054\n",
       "2017-08-27 18:00:00  18.427813\n",
       "\n",
       "[38582 rows x 1 columns]"
      ]
     },
     "execution_count": 16,
     "metadata": {},
     "output_type": "execute_result"
    }
   ],
   "source": [
    "temp_df_15"
   ]
  },
  {
   "cell_type": "code",
   "execution_count": 16,
   "metadata": {},
   "outputs": [
    {
     "data": {
      "text/plain": [
       "<matplotlib.axes._subplots.AxesSubplot at 0x2aebf7359a58>"
      ]
     },
     "execution_count": 16,
     "metadata": {},
     "output_type": "execute_result"
    }
   ],
   "source": [
    "temp_df_15.plot()"
   ]
  },
  {
   "cell_type": "code",
   "execution_count": 16,
   "metadata": {},
   "outputs": [],
   "source": [
    "Time_diff = temp_df_15.index.to_series().diff()"
   ]
  },
  {
   "cell_type": "code",
   "execution_count": 18,
   "metadata": {},
   "outputs": [
    {
     "data": {
      "text/plain": [
       "(array([3.8523e+04, 3.0000e+01, 6.0000e+00, 7.0000e+00, 2.0000e+00,\n",
       "        4.0000e+00, 1.0000e+00, 0.0000e+00, 0.0000e+00, 1.0000e+00,\n",
       "        0.0000e+00, 0.0000e+00, 0.0000e+00, 0.0000e+00, 0.0000e+00,\n",
       "        0.0000e+00, 0.0000e+00, 0.0000e+00, 0.0000e+00, 0.0000e+00,\n",
       "        0.0000e+00, 0.0000e+00, 0.0000e+00, 0.0000e+00, 0.0000e+00,\n",
       "        0.0000e+00, 0.0000e+00, 0.0000e+00, 0.0000e+00, 0.0000e+00,\n",
       "        7.0000e+00]),\n",
       " array([  0.,   1.,   2.,   3.,   4.,   5.,   6.,   7.,   8.,   9.,  10.,\n",
       "         11.,  12.,  13.,  14.,  15.,  16.,  17.,  18.,  19.,  20.,  21.,\n",
       "         22.,  23.,  24.,  25.,  26.,  27.,  28.,  29.,  30., 185.]),\n",
       " <a list of 31 Patch objects>)"
      ]
     },
     "execution_count": 18,
     "metadata": {},
     "output_type": "execute_result"
    },
    {
     "data": {
      "image/png": "[encoded data removed]",
      "text/plain": [
       "<Figure size 432x288 with 1 Axes>"
      ]
     },
     "metadata": {
      "needs_background": "light"
     },
     "output_type": "display_data"
    }
   ],
   "source": [
    "plt.hist((Time_diff/pd.Timedelta(days=1)), bins=np.append(np.linspace(0,30,31),185))#.where((Time_diff/pd.Timedelta(days=1)) > 1))"
   ]
  },
  {
   "cell_type": "code",
   "execution_count": 21,
   "metadata": {},
   "outputs": [
    {
     "name": "stdout",
     "output_type": "stream",
     "text": [
      "The longest gap in days is 182.91666666666666 days (approx 6 months)\n"
     ]
    }
   ],
   "source": [
    "print('The longest gap in days is '+str((Time_diff/pd.Timedelta(days=1)).max())+' days (approx 6 months)')"
   ]
  },
  {
   "cell_type": "markdown",
   "metadata": {},
   "source": [
    "We will thus use the 6 month period before a gap and a 6 month period after a gap to predict a gap of 6 months using our RNN."
   ]
  },
  {
   "cell_type": "code",
   "execution_count": 19,
   "metadata": {},
   "outputs": [
    {
     "data": {
      "text/plain": [
       "TIME\n",
       "2011-08-31 03:00:00    40 days 14:00:00\n",
       "2012-05-31 01:00:00    92 days 00:00:00\n",
       "2013-09-15 06:00:00     9 days 07:00:00\n",
       "2014-09-11 01:00:00    45 days 17:00:00\n",
       "2016-03-01 23:00:00    89 days 23:00:00\n",
       "2016-11-30 23:00:00   182 days 22:00:00\n",
       "2017-02-28 00:00:00    67 days 22:00:00\n",
       "2017-05-26 01:00:00    40 days 19:00:00\n",
       "Name: TIME, dtype: timedelta64[ns]"
      ]
     },
     "execution_count": 19,
     "metadata": {},
     "output_type": "execute_result"
    }
   ],
   "source": [
    "Time_diff.where(Time_diff > pd.Timedelta(days=7)).dropna()"
   ]
  },
  {
   "cell_type": "code",
   "execution_count": 23,
   "metadata": {},
   "outputs": [
    {
     "data": {
      "text/plain": [
       "Timedelta('0 days 02:00:00')"
      ]
     },
     "execution_count": 23,
     "metadata": {},
     "output_type": "execute_result"
    }
   ],
   "source": [
    "Time_diff.where(Time_diff > pd.Timedelta(hours=1)).min()"
   ]
  },
  {
   "cell_type": "markdown",
   "metadata": {},
   "source": [
    "If the 6 monthly model is too inaccurate, we can train a (92 day) 3 monthly model which will result in only a single gap of 182 days in the data."
   ]
  },
  {
   "cell_type": "markdown",
   "metadata": {},
   "source": [
    "#### Data generator"
   ]
  },
  {
   "cell_type": "code",
   "execution_count": 18,
   "metadata": {},
   "outputs": [
    {
     "data": {
      "text/html": [
       "<div>\n",
       "<style scoped>\n",
       "    .dataframe tbody tr th:only-of-type {\n",
       "        vertical-align: middle;\n",
       "    }\n",
       "\n",
       "    .dataframe tbody tr th {\n",
       "        vertical-align: top;\n",
       "    }\n",
       "\n",
       "    .dataframe thead th {\n",
       "        text-align: right;\n",
       "    }\n",
       "</style>\n",
       "<table border=\"1\" class=\"dataframe\">\n",
       "  <thead>\n",
       "    <tr style=\"text-align: right;\">\n",
       "      <th></th>\n",
       "      <th>TEMP</th>\n",
       "    </tr>\n",
       "    <tr>\n",
       "      <th>TIME</th>\n",
       "      <th></th>\n",
       "    </tr>\n",
       "  </thead>\n",
       "  <tbody>\n",
       "    <tr>\n",
       "      <th>2011-04-08 16:00:00</th>\n",
       "      <td>24.550600</td>\n",
       "    </tr>\n",
       "    <tr>\n",
       "      <th>2011-04-09 15:00:00</th>\n",
       "      <td>25.100657</td>\n",
       "    </tr>\n",
       "    <tr>\n",
       "      <th>2011-05-21 04:00:00</th>\n",
       "      <td>20.977367</td>\n",
       "    </tr>\n",
       "    <tr>\n",
       "      <th>2011-05-22 04:00:00</th>\n",
       "      <td>21.429600</td>\n",
       "    </tr>\n",
       "    <tr>\n",
       "      <th>2011-07-04 07:00:00</th>\n",
       "      <td>20.654633</td>\n",
       "    </tr>\n",
       "    <tr>\n",
       "      <th>...</th>\n",
       "      <td>...</td>\n",
       "    </tr>\n",
       "    <tr>\n",
       "      <th>2017-04-14 18:00:00</th>\n",
       "      <td>22.955465</td>\n",
       "    </tr>\n",
       "    <tr>\n",
       "      <th>2017-04-14 20:00:00</th>\n",
       "      <td>22.947350</td>\n",
       "    </tr>\n",
       "    <tr>\n",
       "      <th>2017-04-14 22:00:00</th>\n",
       "      <td>22.880543</td>\n",
       "    </tr>\n",
       "    <tr>\n",
       "      <th>2017-04-15 06:00:00</th>\n",
       "      <td>22.506340</td>\n",
       "    </tr>\n",
       "    <tr>\n",
       "      <th>2017-05-26 01:00:00</th>\n",
       "      <td>19.773260</td>\n",
       "    </tr>\n",
       "  </tbody>\n",
       "</table>\n",
       "<p>310 rows × 1 columns</p>\n",
       "</div>"
      ],
      "text/plain": [
       "                          TEMP\n",
       "TIME                          \n",
       "2011-04-08 16:00:00  24.550600\n",
       "2011-04-09 15:00:00  25.100657\n",
       "2011-05-21 04:00:00  20.977367\n",
       "2011-05-22 04:00:00  21.429600\n",
       "2011-07-04 07:00:00  20.654633\n",
       "...                        ...\n",
       "2017-04-14 18:00:00  22.955465\n",
       "2017-04-14 20:00:00  22.947350\n",
       "2017-04-14 22:00:00  22.880543\n",
       "2017-04-15 06:00:00  22.506340\n",
       "2017-05-26 01:00:00  19.773260\n",
       "\n",
       "[310 rows x 1 columns]"
      ]
     },
     "execution_count": 18,
     "metadata": {},
     "output_type": "execute_result"
    }
   ],
   "source": [
    "## find all locations where timeseries has gaps\n",
    "temp_df_15.iloc[np.where(Time_diff > pd.Timedelta(hours=1))[0]]"
   ]
  },
  {
   "cell_type": "code",
   "execution_count": 17,
   "metadata": {},
   "outputs": [],
   "source": [
    "hist_len = 14*24\n",
    "targ_len = 1\n",
    "\n",
    "break_index = np.where(Time_diff > pd.Timedelta(hours=1))[0] - 1\n",
    "break_index = np.append(break_index, len(temp_df_15))\n",
    "window_len = hist_len + targ_len"
   ]
  },
  {
   "cell_type": "code",
   "execution_count": 18,
   "metadata": {},
   "outputs": [],
   "source": [
    "data = []\n",
    "labels = []\n",
    "\n",
    "break_index = np.where(Time_diff > pd.Timedelta(hours=1))[0] - 1 \n",
    "window_len = hist_len + targ_len\n",
    "for w in range(len(break_index)):\n",
    "    run_start = hist_len if w == 0 else break_index[w-1] + 1 + hist_len\n",
    "    run_end = break_index[w] - targ_len   \n",
    "    for i in range(run_start, run_end):\n",
    "        indices = range(i-hist_len, i)\n",
    "        data.append(np.reshape(temp_df_15.values[indices], (hist_len,1)))\n",
    "        labels.append(temp_df_15.values[i+targ_len])\n",
    "        \n",
    "data = np.array(data)\n",
    "labels = np.array(labels)"
   ]
  },
  {
   "cell_type": "code",
   "execution_count": 19,
   "metadata": {},
   "outputs": [
    {
     "data": {
      "text/plain": [
       "((25395, 336, 1), (25395, 1))"
      ]
     },
     "execution_count": 19,
     "metadata": {},
     "output_type": "execute_result"
    }
   ],
   "source": [
    "data.shape, labels.shape"
   ]
  },
  {
   "cell_type": "code",
   "execution_count": 20,
   "metadata": {},
   "outputs": [],
   "source": [
    "# Split into training and test datasets\n",
    "trainidx = np.random.choice(len(data), int(np.round(0.9*len(data))), replace=False)\n",
    "train_data = data[trainidx]\n",
    "train_labels = labels[trainidx]\n",
    "val_data = np.delete(data, obj=trainidx, axis=0)\n",
    "val_labels = np.delete(labels, trainidx, axis=0)"
   ]
  },
  {
   "cell_type": "code",
   "execution_count": 21,
   "metadata": {},
   "outputs": [],
   "source": [
    "# Normalisation\n",
    "train_mean = train_data.mean()\n",
    "train_std = train_data.std()"
   ]
  },
  {
   "cell_type": "code",
   "execution_count": 22,
   "metadata": {},
   "outputs": [],
   "source": [
    "train_data = (train_data-train_mean)/train_std\n",
    "train_labels = (train_labels-train_mean)/train_std\n",
    "val_data = (val_data-train_mean)/train_std\n",
    "val_labels = (val_labels-train_mean)/train_std"
   ]
  },
  {
   "cell_type": "code",
   "execution_count": 23,
   "metadata": {},
   "outputs": [
    {
     "data": {
      "text/plain": [
       "<matplotlib.legend.Legend at 0x2baa959ed828>"
      ]
     },
     "execution_count": 23,
     "metadata": {},
     "output_type": "execute_result"
    },
    {
     "data": {
      "image/png": "[encoded data removed]",
      "text/plain": [
       "<Figure size 432x288 with 1 Axes>"
      ]
     },
     "metadata": {
      "needs_background": "light"
     },
     "output_type": "display_data"
    }
   ],
   "source": [
    "plt.hist(train_data.flatten(), label='train'),plt.hist(val_data.flatten(), label='val')\n",
    "plt.legend()"
   ]
  },
  {
   "cell_type": "markdown",
   "metadata": {},
   "source": [
    "#### Model"
   ]
  },
  {
   "cell_type": "code",
   "execution_count": 25,
   "metadata": {},
   "outputs": [],
   "source": [
    "import tensorflow as tfl"
   ]
  },
  {
   "cell_type": "code",
   "execution_count": 24,
   "metadata": {},
   "outputs": [],
   "source": [
    "BATCH_SIZE = 128\n",
    "BUFFER_SIZE = 1000\n",
    "\n",
    "train_univariate = tfl.data.Dataset.from_tensor_slices((train_data, train_labels))\n",
    "train_univariate = train_univariate.cache().shuffle(BUFFER_SIZE).batch(BATCH_SIZE).repeat()\n",
    "\n",
    "val_univariate = tfl.data.Dataset.from_tensor_slices((val_data, val_labels))\n",
    "val_univariate = val_univariate.batch(BATCH_SIZE).repeat()"
   ]
  },
  {
   "cell_type": "code",
   "execution_count": 34,
   "metadata": {},
   "outputs": [],
   "source": [
    "simple_lstm_model = tfl.keras.models.Sequential([\n",
    "    tfl.keras.layers.LSTM(64, input_shape=train_data.shape[-2:]),\n",
    "    tfl.keras.layers.Dense(1)\n",
    "])\n",
    "\n",
    "simple_lstm_model.compile(optimizer='adam', loss='mae', metrics=['mse', keras.metrics.MeanAbsolutePercentageError()])"
   ]
  },
  {
   "cell_type": "code",
   "execution_count": 25,
   "metadata": {},
   "outputs": [
    {
     "name": "stdout",
     "output_type": "stream",
     "text": [
      "WARNING:tensorflow:From /srv/scratch/z3289452/miniconda3/envs/OceanDataScience/lib/python3.7/site-packages/tensorflow/python/ops/init_ops.py:1251: calling VarianceScaling.__init__ (from tensorflow.python.ops.init_ops) with dtype is deprecated and will be removed in a future version.\n",
      "Instructions for updating:\n",
      "Call initializer instance with the dtype argument instead of passing it to the constructor\n",
      "WARNING:tensorflow:From /srv/scratch/z3289452/miniconda3/envs/OceanDataScience/lib/python3.7/site-packages/tensorflow/python/ops/init_ops.py:97: calling GlorotUniform.__init__ (from tensorflow.python.ops.init_ops) with dtype is deprecated and will be removed in a future version.\n",
      "Instructions for updating:\n",
      "Call initializer instance with the dtype argument instead of passing it to the constructor\n",
      "WARNING:tensorflow:From /srv/scratch/z3289452/miniconda3/envs/OceanDataScience/lib/python3.7/site-packages/tensorflow/python/ops/init_ops.py:97: calling Orthogonal.__init__ (from tensorflow.python.ops.init_ops) with dtype is deprecated and will be removed in a future version.\n",
      "Instructions for updating:\n",
      "Call initializer instance with the dtype argument instead of passing it to the constructor\n",
      "WARNING:tensorflow:From /srv/scratch/z3289452/miniconda3/envs/OceanDataScience/lib/python3.7/site-packages/tensorflow/python/ops/init_ops.py:97: calling Zeros.__init__ (from tensorflow.python.ops.init_ops) with dtype is deprecated and will be removed in a future version.\n",
      "Instructions for updating:\n",
      "Call initializer instance with the dtype argument instead of passing it to the constructor\n"
     ]
    }
   ],
   "source": [
    "bi_lstm_model = tfl.keras.models.Sequential()\n",
    "bi_lstm_model.add(layers.Bidirectional(layers.LSTM(32,\n",
    "                                          return_sequences=True,\n",
    "                                          input_shape=train_data.shape[-2:])))\n",
    "bi_lstm_model.add(layers.Bidirectional(layers.LSTM(16, activation='relu')))\n",
    "bi_lstm_model.add(layers.Dense(1))\n",
    "\n",
    "bi_lstm_model.compile(optimizer='adam', loss='mae', metrics=['mse', keras.metrics.MeanAbsolutePercentageError()])"
   ]
  },
  {
   "cell_type": "code",
   "execution_count": 28,
   "metadata": {},
   "outputs": [
    {
     "data": {
      "text/plain": [
       "<tensorflow.python.training.tracking.util.CheckpointLoadStatus at 0x2ba9a58aeda0>"
      ]
     },
     "execution_count": 28,
     "metadata": {},
     "output_type": "execute_result"
    }
   ],
   "source": [
    "bi_lstm_model.load_weights('../data/bi_lstm_training/cp.ckpt')"
   ]
  },
  {
   "cell_type": "code",
   "execution_count": 29,
   "metadata": {},
   "outputs": [],
   "source": [
    "checkpoint_path = \"../data/bi_lstm_training/cp.ckpt\"\n",
    "checkpoint_dir = os.path.dirname(checkpoint_path)\n",
    "\n",
    "# Create a callback that saves the model's weights\n",
    "cp_callback = tfl.keras.callbacks.ModelCheckpoint(filepath=checkpoint_path,\n",
    "                                                 save_weights_only=True,\n",
    "                                                 verbose=1)"
   ]
  },
  {
   "cell_type": "code",
   "execution_count": 31,
   "metadata": {},
   "outputs": [
    {
     "name": "stdout",
     "output_type": "stream",
     "text": [
      "Epoch 1/10\n",
      "177/178 [============================>.] - ETA: 1s - loss: 0.0942 - mean_squared_error: 0.0293 - mean_absolute_percentage_error: 74.3006\n",
      "Epoch 00001: saving model to ../data/bi_lstm_training/cp.ckpt\n",
      "178/178 [==============================] - 311s 2s/step - loss: 0.0942 - mean_squared_error: 0.0292 - mean_absolute_percentage_error: 104.0024 - val_loss: 0.0952 - val_mean_squared_error: 0.0297 - val_mean_absolute_percentage_error: 61.4463\n",
      "Epoch 2/10\n",
      "177/178 [============================>.] - ETA: 1s - loss: 0.0941 - mean_squared_error: 0.0292 - mean_absolute_percentage_error: 76.4515\n",
      "Epoch 00002: saving model to ../data/bi_lstm_training/cp.ckpt\n",
      "178/178 [==============================] - 308s 2s/step - loss: 0.0940 - mean_squared_error: 0.0291 - mean_absolute_percentage_error: 76.1902 - val_loss: 0.0979 - val_mean_squared_error: 0.0297 - val_mean_absolute_percentage_error: 62.7333\n",
      "Epoch 3/10\n",
      "177/178 [============================>.] - ETA: 1s - loss: 0.0949 - mean_squared_error: 0.0291 - mean_absolute_percentage_error: 105.2130\n",
      "Epoch 00003: saving model to ../data/bi_lstm_training/cp.ckpt\n",
      "178/178 [==============================] - 312s 2s/step - loss: 0.0949 - mean_squared_error: 0.0292 - mean_absolute_percentage_error: 104.8244 - val_loss: 0.0952 - val_mean_squared_error: 0.0295 - val_mean_absolute_percentage_error: 61.6179\n",
      "Epoch 4/10\n",
      "177/178 [============================>.] - ETA: 1s - loss: 0.0949 - mean_squared_error: 0.0292 - mean_absolute_percentage_error: 107.3479\n",
      "Epoch 00004: saving model to ../data/bi_lstm_training/cp.ckpt\n",
      "178/178 [==============================] - 315s 2s/step - loss: 0.0949 - mean_squared_error: 0.0292 - mean_absolute_percentage_error: 139.6134 - val_loss: 0.0945 - val_mean_squared_error: 0.0295 - val_mean_absolute_percentage_error: 61.6664\n",
      "Epoch 5/10\n",
      "177/178 [============================>.] - ETA: 2s - loss: 0.0943 - mean_squared_error: 0.0292 - mean_absolute_percentage_error: 76.8027\n",
      "Epoch 00005: saving model to ../data/bi_lstm_training/cp.ckpt\n",
      "178/178 [==============================] - 377s 2s/step - loss: 0.0943 - mean_squared_error: 0.0292 - mean_absolute_percentage_error: 76.5035 - val_loss: 0.0952 - val_mean_squared_error: 0.0297 - val_mean_absolute_percentage_error: 63.6724\n",
      "Epoch 6/10\n",
      "177/178 [============================>.] - ETA: 2s - loss: 0.0937 - mean_squared_error: 0.0289 - mean_absolute_percentage_error: 134.0196\n",
      "Epoch 00006: saving model to ../data/bi_lstm_training/cp.ckpt\n",
      "178/178 [==============================] - 368s 2s/step - loss: 0.0936 - mean_squared_error: 0.0289 - mean_absolute_percentage_error: 133.6439 - val_loss: 0.0949 - val_mean_squared_error: 0.0297 - val_mean_absolute_percentage_error: 63.5057\n",
      "Epoch 7/10\n",
      "177/178 [============================>.] - ETA: 2s - loss: 0.0941 - mean_squared_error: 0.0292 - mean_absolute_percentage_error: 75.4193\n",
      "Epoch 00007: saving model to ../data/bi_lstm_training/cp.ckpt\n",
      "178/178 [==============================] - 383s 2s/step - loss: 0.0941 - mean_squared_error: 0.0292 - mean_absolute_percentage_error: 75.1982 - val_loss: 0.0963 - val_mean_squared_error: 0.0300 - val_mean_absolute_percentage_error: 65.4608\n",
      "Epoch 8/10\n",
      "177/178 [============================>.] - ETA: 2s - loss: 0.0940 - mean_squared_error: 0.0292 - mean_absolute_percentage_error: 104.4056\n",
      "Epoch 00008: saving model to ../data/bi_lstm_training/cp.ckpt\n",
      "178/178 [==============================] - 378s 2s/step - loss: 0.0940 - mean_squared_error: 0.0292 - mean_absolute_percentage_error: 104.3480 - val_loss: 0.0955 - val_mean_squared_error: 0.0294 - val_mean_absolute_percentage_error: 62.3481\n",
      "Epoch 9/10\n",
      "177/178 [============================>.] - ETA: 2s - loss: 0.0942 - mean_squared_error: 0.0291 - mean_absolute_percentage_error: 111.2629\n",
      "Epoch 00009: saving model to ../data/bi_lstm_training/cp.ckpt\n",
      "178/178 [==============================] - 390s 2s/step - loss: 0.0943 - mean_squared_error: 0.0291 - mean_absolute_percentage_error: 110.7982 - val_loss: 0.0943 - val_mean_squared_error: 0.0295 - val_mean_absolute_percentage_error: 62.5012\n",
      "Epoch 10/10\n",
      "177/178 [============================>.] - ETA: 2s - loss: 0.0942 - mean_squared_error: 0.0291 - mean_absolute_percentage_error: 104.8755\n",
      "Epoch 00010: saving model to ../data/bi_lstm_training/cp.ckpt\n",
      "178/178 [==============================] - 387s 2s/step - loss: 0.0942 - mean_squared_error: 0.0291 - mean_absolute_percentage_error: 134.8589 - val_loss: 0.0965 - val_mean_squared_error: 0.0295 - val_mean_absolute_percentage_error: 61.7054\n"
     ]
    }
   ],
   "source": [
    "STEPS = int(train_data.shape[0]/BATCH_SIZE)\n",
    "VAL_STEPS = int(val_data.shape[0]/BATCH_SIZE)\n",
    "EPOCHS = 10\n",
    "\n",
    "history = bi_lstm_model.fit(train_univariate, epochs=EPOCHS,\n",
    "                      steps_per_epoch=STEPS,\n",
    "                      validation_data=val_univariate, validation_steps=VAL_STEPS,\n",
    "                 callbacks=[cp_callback])"
   ]
  },
  {
   "cell_type": "code",
   "execution_count": 33,
   "metadata": {},
   "outputs": [],
   "source": [
    "## Save model\n",
    "bi_lstm_model.save('../data/saved_models/temp_gapfilling_bi_lstm_model.h5')"
   ]
  },
  {
   "cell_type": "code",
   "execution_count": 38,
   "metadata": {},
   "outputs": [],
   "source": [
    "## Save History\n",
    "import pickle\n",
    "pickle_out = open(\"../data/bi_lstm_model_history.pickle\", \"wb\")\n",
    "pickle.dump(history.history, pickle_out)\n",
    "pickle_out.close()"
   ]
  },
  {
   "cell_type": "markdown",
   "metadata": {},
   "source": [
    "#### Simple LSTM model"
   ]
  },
  {
   "cell_type": "code",
   "execution_count": 38,
   "metadata": {},
   "outputs": [
    {
     "name": "stdout",
     "output_type": "stream",
     "text": [
      "Model: \"sequential_1\"\n",
      "_________________________________________________________________\n",
      "Layer (type)                 Output Shape              Param #   \n",
      "=================================================================\n",
      "lstm_1 (LSTM)                (None, 64)                16896     \n",
      "_________________________________________________________________\n",
      "dense_1 (Dense)              (None, 1)                 65        \n",
      "=================================================================\n",
      "Total params: 16,961\n",
      "Trainable params: 16,961\n",
      "Non-trainable params: 0\n",
      "_________________________________________________________________\n",
      "None\n"
     ]
    }
   ],
   "source": [
    "print(simple_lstm_model.summary())"
   ]
  },
  {
   "cell_type": "code",
   "execution_count": 39,
   "metadata": {},
   "outputs": [],
   "source": [
    "checkpoint_path = \"../data/simple_lstm_training/cp.ckpt\"\n",
    "checkpoint_dir = os.path.dirname(checkpoint_path)\n",
    "\n",
    "# Create a callback that saves the model's weights\n",
    "cp_callback = tfl.keras.callbacks.ModelCheckpoint(filepath=checkpoint_path,\n",
    "                                                 save_weights_only=True,\n",
    "                                                 verbose=1)"
   ]
  },
  {
   "cell_type": "code",
   "execution_count": 40,
   "metadata": {},
   "outputs": [
    {
     "name": "stdout",
     "output_type": "stream",
     "text": [
      "Epoch 1/10\n",
      "177/178 [============================>.] - ETA: 0s - loss: 0.1677 - mean_squared_error: 0.0736 - mean_absolute_percentage_error: 108.7136\n",
      "Epoch 00001: saving model to ../data/simple_lstm_training/cp.ckpt\n",
      "178/178 [==============================] - 126s 708ms/step - loss: 0.1674 - mean_squared_error: 0.0734 - mean_absolute_percentage_error: 108.2616 - val_loss: 0.1250 - val_mean_squared_error: 0.0431 - val_mean_absolute_percentage_error: 89.3345\n",
      "Epoch 2/10\n",
      "177/178 [============================>.] - ETA: 0s - loss: 0.1230 - mean_squared_error: 0.0409 - mean_absolute_percentage_error: 95.1855\n",
      "Epoch 00002: saving model to ../data/simple_lstm_training/cp.ckpt\n",
      "178/178 [==============================] - 124s 698ms/step - loss: 0.1228 - mean_squared_error: 0.0407 - mean_absolute_percentage_error: 94.9862 - val_loss: 0.1144 - val_mean_squared_error: 0.0378 - val_mean_absolute_percentage_error: 84.0891\n",
      "Epoch 3/10\n",
      "177/178 [============================>.] - ETA: 0s - loss: 0.1094 - mean_squared_error: 0.0342 - mean_absolute_percentage_error: 92.2993\n",
      "Epoch 00003: saving model to ../data/simple_lstm_training/cp.ckpt\n",
      "178/178 [==============================] - 126s 709ms/step - loss: 0.1094 - mean_squared_error: 0.0342 - mean_absolute_percentage_error: 91.9165 - val_loss: 0.1075 - val_mean_squared_error: 0.0341 - val_mean_absolute_percentage_error: 80.4546\n",
      "Epoch 4/10\n",
      "177/178 [============================>.] - ETA: 0s - loss: 0.1018 - mean_squared_error: 0.0315 - mean_absolute_percentage_error: 80.3913\n",
      "Epoch 00004: saving model to ../data/simple_lstm_training/cp.ckpt\n",
      "178/178 [==============================] - 125s 703ms/step - loss: 0.1017 - mean_squared_error: 0.0314 - mean_absolute_percentage_error: 80.1638 - val_loss: 0.0980 - val_mean_squared_error: 0.0310 - val_mean_absolute_percentage_error: 77.2034\n",
      "Epoch 5/10\n",
      "177/178 [============================>.] - ETA: 0s - loss: 0.0986 - mean_squared_error: 0.0304 - mean_absolute_percentage_error: 74.7157\n",
      "Epoch 00005: saving model to ../data/simple_lstm_training/cp.ckpt\n",
      "178/178 [==============================] - 126s 709ms/step - loss: 0.0986 - mean_squared_error: 0.0303 - mean_absolute_percentage_error: 74.4887 - val_loss: 0.0939 - val_mean_squared_error: 0.0299 - val_mean_absolute_percentage_error: 72.7626\n",
      "Epoch 6/10\n",
      "177/178 [============================>.] - ETA: 0s - loss: 0.0963 - mean_squared_error: 0.0296 - mean_absolute_percentage_error: 72.3363\n",
      "Epoch 00006: saving model to ../data/simple_lstm_training/cp.ckpt\n",
      "178/178 [==============================] - 126s 709ms/step - loss: 0.0963 - mean_squared_error: 0.0297 - mean_absolute_percentage_error: 72.1829 - val_loss: 0.0926 - val_mean_squared_error: 0.0298 - val_mean_absolute_percentage_error: 72.3111\n",
      "Epoch 7/10\n",
      "177/178 [============================>.] - ETA: 0s - loss: 0.0953 - mean_squared_error: 0.0295 - mean_absolute_percentage_error: 72.7837\n",
      "Epoch 00007: saving model to ../data/simple_lstm_training/cp.ckpt\n",
      "178/178 [==============================] - 126s 708ms/step - loss: 0.0953 - mean_squared_error: 0.0294 - mean_absolute_percentage_error: 72.5512 - val_loss: 0.0942 - val_mean_squared_error: 0.0303 - val_mean_absolute_percentage_error: 74.3363\n",
      "Epoch 8/10\n",
      "177/178 [============================>.] - ETA: 0s - loss: 0.0947 - mean_squared_error: 0.0295 - mean_absolute_percentage_error: 75.4880\n",
      "Epoch 00008: saving model to ../data/simple_lstm_training/cp.ckpt\n",
      "178/178 [==============================] - 126s 710ms/step - loss: 0.0947 - mean_squared_error: 0.0295 - mean_absolute_percentage_error: 75.2257 - val_loss: 0.0930 - val_mean_squared_error: 0.0301 - val_mean_absolute_percentage_error: 71.9687\n",
      "Epoch 9/10\n",
      "177/178 [============================>.] - ETA: 0s - loss: 0.0943 - mean_squared_error: 0.0291 - mean_absolute_percentage_error: 73.1266\n",
      "Epoch 00009: saving model to ../data/simple_lstm_training/cp.ckpt\n",
      "178/178 [==============================] - 127s 711ms/step - loss: 0.0942 - mean_squared_error: 0.0291 - mean_absolute_percentage_error: 73.2102 - val_loss: 0.0923 - val_mean_squared_error: 0.0301 - val_mean_absolute_percentage_error: 71.6167\n",
      "Epoch 10/10\n",
      "177/178 [============================>.] - ETA: 0s - loss: 0.0948 - mean_squared_error: 0.0296 - mean_absolute_percentage_error: 72.4403\n",
      "Epoch 00010: saving model to ../data/simple_lstm_training/cp.ckpt\n",
      "178/178 [==============================] - 126s 709ms/step - loss: 0.0947 - mean_squared_error: 0.0296 - mean_absolute_percentage_error: 72.6015 - val_loss: 0.0932 - val_mean_squared_error: 0.0305 - val_mean_absolute_percentage_error: 72.4040\n"
     ]
    }
   ],
   "source": [
    "STEPS = int(train_data.shape[0]/BATCH_SIZE)\n",
    "VAL_STEPS = int(val_data.shape[0]/BATCH_SIZE)\n",
    "EPOCHS = 10\n",
    "\n",
    "history = simple_lstm_model.fit(train_univariate, epochs=EPOCHS,\n",
    "                      steps_per_epoch=STEPS,\n",
    "                      validation_data=val_univariate, validation_steps=VAL_STEPS,\n",
    "                 callbacks=[cp_callback])"
   ]
  },
  {
   "cell_type": "code",
   "execution_count": 42,
   "metadata": {},
   "outputs": [
    {
     "data": {
      "text/html": [
       "<div>\n",
       "<style scoped>\n",
       "    .dataframe tbody tr th:only-of-type {\n",
       "        vertical-align: middle;\n",
       "    }\n",
       "\n",
       "    .dataframe tbody tr th {\n",
       "        vertical-align: top;\n",
       "    }\n",
       "\n",
       "    .dataframe thead th {\n",
       "        text-align: right;\n",
       "    }\n",
       "</style>\n",
       "<table border=\"1\" class=\"dataframe\">\n",
       "  <thead>\n",
       "    <tr style=\"text-align: right;\">\n",
       "      <th></th>\n",
       "      <th>loss</th>\n",
       "      <th>mean_squared_error</th>\n",
       "      <th>mean_absolute_percentage_error</th>\n",
       "      <th>val_loss</th>\n",
       "      <th>val_mean_squared_error</th>\n",
       "      <th>val_mean_absolute_percentage_error</th>\n",
       "      <th>epoch</th>\n",
       "    </tr>\n",
       "  </thead>\n",
       "  <tbody>\n",
       "    <tr>\n",
       "      <th>0</th>\n",
       "      <td>0.167445</td>\n",
       "      <td>0.073414</td>\n",
       "      <td>108.261566</td>\n",
       "      <td>0.125044</td>\n",
       "      <td>0.043113</td>\n",
       "      <td>89.334496</td>\n",
       "      <td>0</td>\n",
       "    </tr>\n",
       "    <tr>\n",
       "      <th>1</th>\n",
       "      <td>0.122845</td>\n",
       "      <td>0.040740</td>\n",
       "      <td>94.986160</td>\n",
       "      <td>0.114389</td>\n",
       "      <td>0.037751</td>\n",
       "      <td>84.089142</td>\n",
       "      <td>1</td>\n",
       "    </tr>\n",
       "    <tr>\n",
       "      <th>2</th>\n",
       "      <td>0.109395</td>\n",
       "      <td>0.034224</td>\n",
       "      <td>91.916466</td>\n",
       "      <td>0.107475</td>\n",
       "      <td>0.034064</td>\n",
       "      <td>80.454613</td>\n",
       "      <td>2</td>\n",
       "    </tr>\n",
       "    <tr>\n",
       "      <th>3</th>\n",
       "      <td>0.101742</td>\n",
       "      <td>0.031445</td>\n",
       "      <td>80.163765</td>\n",
       "      <td>0.098000</td>\n",
       "      <td>0.031036</td>\n",
       "      <td>77.203423</td>\n",
       "      <td>3</td>\n",
       "    </tr>\n",
       "    <tr>\n",
       "      <th>4</th>\n",
       "      <td>0.098580</td>\n",
       "      <td>0.030348</td>\n",
       "      <td>74.488716</td>\n",
       "      <td>0.093923</td>\n",
       "      <td>0.029912</td>\n",
       "      <td>72.762550</td>\n",
       "      <td>4</td>\n",
       "    </tr>\n",
       "    <tr>\n",
       "      <th>5</th>\n",
       "      <td>0.096305</td>\n",
       "      <td>0.029684</td>\n",
       "      <td>72.182892</td>\n",
       "      <td>0.092636</td>\n",
       "      <td>0.029777</td>\n",
       "      <td>72.311096</td>\n",
       "      <td>5</td>\n",
       "    </tr>\n",
       "    <tr>\n",
       "      <th>6</th>\n",
       "      <td>0.095276</td>\n",
       "      <td>0.029447</td>\n",
       "      <td>72.551208</td>\n",
       "      <td>0.094176</td>\n",
       "      <td>0.030293</td>\n",
       "      <td>74.336311</td>\n",
       "      <td>6</td>\n",
       "    </tr>\n",
       "    <tr>\n",
       "      <th>7</th>\n",
       "      <td>0.094712</td>\n",
       "      <td>0.029466</td>\n",
       "      <td>75.225677</td>\n",
       "      <td>0.092984</td>\n",
       "      <td>0.030123</td>\n",
       "      <td>71.968727</td>\n",
       "      <td>7</td>\n",
       "    </tr>\n",
       "    <tr>\n",
       "      <th>8</th>\n",
       "      <td>0.094203</td>\n",
       "      <td>0.029056</td>\n",
       "      <td>73.210197</td>\n",
       "      <td>0.092308</td>\n",
       "      <td>0.030119</td>\n",
       "      <td>71.616699</td>\n",
       "      <td>8</td>\n",
       "    </tr>\n",
       "    <tr>\n",
       "      <th>9</th>\n",
       "      <td>0.094748</td>\n",
       "      <td>0.029578</td>\n",
       "      <td>72.601456</td>\n",
       "      <td>0.093154</td>\n",
       "      <td>0.030545</td>\n",
       "      <td>72.403954</td>\n",
       "      <td>9</td>\n",
       "    </tr>\n",
       "  </tbody>\n",
       "</table>\n",
       "</div>"
      ],
      "text/plain": [
       "       loss  mean_squared_error  mean_absolute_percentage_error  val_loss  \\\n",
       "0  0.167445            0.073414                      108.261566  0.125044   \n",
       "1  0.122845            0.040740                       94.986160  0.114389   \n",
       "2  0.109395            0.034224                       91.916466  0.107475   \n",
       "3  0.101742            0.031445                       80.163765  0.098000   \n",
       "4  0.098580            0.030348                       74.488716  0.093923   \n",
       "5  0.096305            0.029684                       72.182892  0.092636   \n",
       "6  0.095276            0.029447                       72.551208  0.094176   \n",
       "7  0.094712            0.029466                       75.225677  0.092984   \n",
       "8  0.094203            0.029056                       73.210197  0.092308   \n",
       "9  0.094748            0.029578                       72.601456  0.093154   \n",
       "\n",
       "   val_mean_squared_error  val_mean_absolute_percentage_error  epoch  \n",
       "0                0.043113                           89.334496      0  \n",
       "1                0.037751                           84.089142      1  \n",
       "2                0.034064                           80.454613      2  \n",
       "3                0.031036                           77.203423      3  \n",
       "4                0.029912                           72.762550      4  \n",
       "5                0.029777                           72.311096      5  \n",
       "6                0.030293                           74.336311      6  \n",
       "7                0.030123                           71.968727      7  \n",
       "8                0.030119                           71.616699      8  \n",
       "9                0.030545                           72.403954      9  "
      ]
     },
     "execution_count": 42,
     "metadata": {},
     "output_type": "execute_result"
    }
   ],
   "source": [
    "hist = pd.DataFrame(history.history)\n",
    "hist['epoch'] = history.epoch\n",
    "hist"
   ]
  },
  {
   "cell_type": "code",
   "execution_count": 43,
   "metadata": {},
   "outputs": [
    {
     "data": {
      "image/png": "[encoded data removed]",
      "text/plain": [
       "<Figure size 432x288 with 1 Axes>"
      ]
     },
     "metadata": {
      "needs_background": "light"
     },
     "output_type": "display_data"
    },
    {
     "data": {
      "image/png": "[encoded data removed]",
      "text/plain": [
       "<Figure size 432x288 with 1 Axes>"
      ]
     },
     "metadata": {
      "needs_background": "light"
     },
     "output_type": "display_data"
    },
    {
     "data": {
      "image/png": "[encoded data removed]",
      "text/plain": [
       "<Figure size 432x288 with 1 Axes>"
      ]
     },
     "metadata": {
      "needs_background": "light"
     },
     "output_type": "display_data"
    }
   ],
   "source": [
    "def plot_history(history):\n",
    "  hist = pd.DataFrame(history.history)\n",
    "  hist['epoch'] = history.epoch\n",
    "\n",
    "  plt.figure()\n",
    "  plt.xlabel('Epoch')\n",
    "  plt.ylabel('Mean Abs Error')\n",
    "  plt.plot(hist['epoch'], hist['loss'],\n",
    "           label='Train Error')\n",
    "  plt.plot(hist['epoch'], hist['val_loss'],\n",
    "           label = 'Val Error')\n",
    "#   plt.ylim([0.9,2])\n",
    "  plt.legend()\n",
    "\n",
    "  plt.figure()\n",
    "  plt.xlabel('Epoch')\n",
    "  plt.ylabel('Mean Square Error')\n",
    "  plt.plot(hist['epoch'], hist['mean_squared_error'],\n",
    "           label='Train Error')\n",
    "  plt.plot(hist['epoch'], hist['val_mean_squared_error'],\n",
    "           label = 'Val Error')\n",
    "#   plt.ylim([1.8,7])\n",
    "  plt.legend()\n",
    "\n",
    "  plt.figure()\n",
    "  plt.xlabel('Epoch')\n",
    "  plt.ylabel('Mean Absolute Percentage Error')\n",
    "  plt.plot(hist['epoch'], hist['mean_absolute_percentage_error'],\n",
    "           label='Train Error')\n",
    "  plt.plot(hist['epoch'], hist['val_mean_absolute_percentage_error'],\n",
    "           label = 'Val Error')\n",
    "#   plt.ylim([80,160])\n",
    "  plt.legend()\n",
    "  plt.show()\n",
    "\n",
    "\n",
    "plot_history(history)"
   ]
  },
  {
   "cell_type": "code",
   "execution_count": 45,
   "metadata": {},
   "outputs": [],
   "source": [
    "## Save model\n",
    "simple_lstm_model.save('../data/saved_models/temp_gapfilling_simple_lstm_model.h5')"
   ]
  },
  {
   "cell_type": "markdown",
   "metadata": {},
   "source": [
    "#### Multi-layer LSTM model"
   ]
  },
  {
   "cell_type": "code",
   "execution_count": 69,
   "metadata": {},
   "outputs": [],
   "source": [
    "tfl.keras.backend.clear_session()"
   ]
  },
  {
   "cell_type": "code",
   "execution_count": 26,
   "metadata": {},
   "outputs": [],
   "source": [
    "BATCH_SIZE = 256\n",
    "BUFFER_SIZE = 10000\n",
    "\n",
    "train_univariate = tfl.data.Dataset.from_tensor_slices((train_data, train_labels))\n",
    "train_univariate = train_univariate.cache().shuffle(BUFFER_SIZE).batch(BATCH_SIZE).repeat()\n",
    "\n",
    "val_univariate = tfl.data.Dataset.from_tensor_slices((val_data, val_labels))\n",
    "val_univariate = val_univariate.batch(BATCH_SIZE).repeat()"
   ]
  },
  {
   "cell_type": "code",
   "execution_count": 27,
   "metadata": {},
   "outputs": [],
   "source": [
    "bilayer_lstm_model = tfl.keras.models.Sequential([\n",
    "    tfl.keras.layers.LSTM(64, return_sequences=True, input_shape=train_data.shape[-2:]),\n",
    "    tfl.keras.layers.LSTM(32, activation='relu'),\n",
    "    tfl.keras.layers.Dense(1)\n",
    "])\n",
    "\n",
    "bilayer_lstm_model.compile(optimizer='adam', loss='mae', metrics=['mse', keras.metrics.MeanAbsolutePercentageError()])"
   ]
  },
  {
   "cell_type": "code",
   "execution_count": 28,
   "metadata": {},
   "outputs": [],
   "source": [
    "checkpoint_path = \"../data/bilayer_lstm_training/cp.ckpt\"\n",
    "checkpoint_dir = os.path.dirname(checkpoint_path)\n",
    "\n",
    "# Create a callback that saves the model's weights\n",
    "cp_callback = tfl.keras.callbacks.ModelCheckpoint(filepath=checkpoint_path,\n",
    "                                                 save_weights_only=True,\n",
    "                                                 verbose=1)"
   ]
  },
  {
   "cell_type": "code",
   "execution_count": 29,
   "metadata": {},
   "outputs": [
    {
     "name": "stdout",
     "output_type": "stream",
     "text": [
      "WARNING:tensorflow:From /srv/scratch/z3289452/miniconda3/envs/OceanDataScience/lib/python3.7/site-packages/tensorflow/python/ops/math_grad.py:1250: add_dispatch_support.<locals>.wrapper (from tensorflow.python.ops.array_ops) is deprecated and will be removed in a future version.\n",
      "Instructions for updating:\n",
      "Use tf.where in 2.0, which has the same broadcast rule as np.where\n",
      "Epoch 1/10\n",
      "16/89 [====>.........................] - ETA: 1:57 - loss: nan - mean_squared_error: nan - mean_absolute_percentage_error: nan                                                  "
     ]
    },
    {
     "name": "stderr",
     "output_type": "stream",
     "text": [
      "ERROR:root:Internal Python error in the inspect module.\n",
      "Below is the traceback from this internal error.\n",
      "\n"
     ]
    },
    {
     "name": "stdout",
     "output_type": "stream",
     "text": [
      "Traceback (most recent call last):\n",
      "  File \"/srv/scratch/z3289452/miniconda3/envs/OceanDataScience/lib/python3.7/site-packages/IPython/core/interactiveshell.py\", line 3326, in run_code\n",
      "    exec(code_obj, self.user_global_ns, self.user_ns)\n",
      "  File \"<ipython-input-29-486a74c10381>\", line 8, in <module>\n",
      "    callbacks=[cp_callback])\n",
      "  File \"/srv/scratch/z3289452/miniconda3/envs/OceanDataScience/lib/python3.7/site-packages/tensorflow/python/keras/engine/training.py\", line 780, in fit\n",
      "    steps_name='steps_per_epoch')\n",
      "  File \"/srv/scratch/z3289452/miniconda3/envs/OceanDataScience/lib/python3.7/site-packages/tensorflow/python/keras/engine/training_arrays.py\", line 274, in model_iteration\n",
      "    batch_outs = f(actual_inputs)\n",
      "  File \"/srv/scratch/z3289452/miniconda3/envs/OceanDataScience/lib/python3.7/site-packages/tensorflow/python/keras/backend.py\", line 3292, in __call__\n",
      "    run_metadata=self.run_metadata)\n",
      "  File \"/srv/scratch/z3289452/miniconda3/envs/OceanDataScience/lib/python3.7/site-packages/tensorflow/python/client/session.py\", line 1458, in __call__\n",
      "    run_metadata_ptr)\n",
      "KeyboardInterrupt\n",
      "\n",
      "During handling of the above exception, another exception occurred:\n",
      "\n",
      "Traceback (most recent call last):\n",
      "  File \"/srv/scratch/z3289452/miniconda3/envs/OceanDataScience/lib/python3.7/site-packages/IPython/core/interactiveshell.py\", line 2040, in showtraceback\n",
      "    stb = value._render_traceback_()\n",
      "AttributeError: 'KeyboardInterrupt' object has no attribute '_render_traceback_'\n",
      "\n",
      "During handling of the above exception, another exception occurred:\n",
      "\n",
      "Traceback (most recent call last):\n",
      "  File \"/srv/scratch/z3289452/miniconda3/envs/OceanDataScience/lib/python3.7/site-packages/IPython/core/ultratb.py\", line 1101, in get_records\n",
      "    return _fixed_getinnerframes(etb, number_of_lines_of_context, tb_offset)\n",
      "  File \"/srv/scratch/z3289452/miniconda3/envs/OceanDataScience/lib/python3.7/site-packages/IPython/core/ultratb.py\", line 319, in wrapped\n",
      "    return f(*args, **kwargs)\n",
      "  File \"/srv/scratch/z3289452/miniconda3/envs/OceanDataScience/lib/python3.7/site-packages/IPython/core/ultratb.py\", line 353, in _fixed_getinnerframes\n",
      "    records = fix_frame_records_filenames(inspect.getinnerframes(etb, context))\n",
      "  File \"/srv/scratch/z3289452/miniconda3/envs/OceanDataScience/lib/python3.7/inspect.py\", line 1502, in getinnerframes\n",
      "    frameinfo = (tb.tb_frame,) + getframeinfo(tb, context)\n",
      "  File \"/srv/scratch/z3289452/miniconda3/envs/OceanDataScience/lib/python3.7/inspect.py\", line 1460, in getframeinfo\n",
      "    filename = getsourcefile(frame) or getfile(frame)\n",
      "  File \"/srv/scratch/z3289452/miniconda3/envs/OceanDataScience/lib/python3.7/inspect.py\", line 696, in getsourcefile\n",
      "    if getattr(getmodule(object, filename), '__loader__', None) is not None:\n",
      "  File \"/srv/scratch/z3289452/miniconda3/envs/OceanDataScience/lib/python3.7/inspect.py\", line 739, in getmodule\n",
      "    f = getabsfile(module)\n",
      "  File \"/srv/scratch/z3289452/miniconda3/envs/OceanDataScience/lib/python3.7/inspect.py\", line 708, in getabsfile\n",
      "    _filename = getsourcefile(object) or getfile(object)\n",
      "  File \"/srv/scratch/z3289452/miniconda3/envs/OceanDataScience/lib/python3.7/inspect.py\", line 693, in getsourcefile\n",
      "    if os.path.exists(filename):\n",
      "  File \"/srv/scratch/z3289452/miniconda3/envs/OceanDataScience/lib/python3.7/genericpath.py\", line 19, in exists\n",
      "    os.stat(path)\n",
      "KeyboardInterrupt\n"
     ]
    },
    {
     "ename": "KeyboardInterrupt",
     "evalue": "",
     "output_type": "error",
     "traceback": [
      "\u001b[0;31m---------------------------------------------------------------------------\u001b[0m"
     ]
    }
   ],
   "source": [
    "STEPS = int(train_data.shape[0]/BATCH_SIZE)\n",
    "VAL_STEPS = int(val_data.shape[0]/BATCH_SIZE)\n",
    "EPOCHS = 10\n",
    "\n",
    "history = bilayer_lstm_model.fit(train_univariate, epochs=EPOCHS,\n",
    "                      steps_per_epoch=STEPS,\n",
    "                      validation_data=val_univariate, validation_steps=VAL_STEPS,\n",
    "                 callbacks=[cp_callback])"
   ]
  },
  {
   "cell_type": "code",
   "execution_count": 74,
   "metadata": {},
   "outputs": [
    {
     "data": {
      "image/png": "[encoded data removed]",
      "text/plain": [
       "<Figure size 432x288 with 1 Axes>"
      ]
     },
     "metadata": {
      "needs_background": "light"
     },
     "output_type": "display_data"
    },
    {
     "data": {
      "image/png": "[encoded data removed]",
      "text/plain": [
       "<Figure size 432x288 with 1 Axes>"
      ]
     },
     "metadata": {
      "needs_background": "light"
     },
     "output_type": "display_data"
    },
    {
     "data": {
      "image/png": "[encoded data removed]",
      "text/plain": [
       "<Figure size 432x288 with 1 Axes>"
      ]
     },
     "metadata": {
      "needs_background": "light"
     },
     "output_type": "display_data"
    }
   ],
   "source": [
    "def plot_history(history):\n",
    "  hist = pd.DataFrame(history.history)\n",
    "  hist['epoch'] = history.epoch\n",
    "\n",
    "  plt.figure()\n",
    "  plt.xlabel('Epoch')\n",
    "  plt.ylabel('Mean Abs Error')\n",
    "  plt.plot(hist['epoch'], hist['loss'],\n",
    "           label='Train Error')\n",
    "  plt.plot(hist['epoch'], hist['val_loss'],\n",
    "           label = 'Val Error')\n",
    "#   plt.ylim([0.9,2])\n",
    "  plt.legend()\n",
    "\n",
    "  plt.figure()\n",
    "  plt.xlabel('Epoch')\n",
    "  plt.ylabel('Mean Square Error')\n",
    "  plt.plot(hist['epoch'], hist['mean_squared_error'],\n",
    "           label='Train Error')\n",
    "  plt.plot(hist['epoch'], hist['val_mean_squared_error'],\n",
    "           label = 'Val Error')\n",
    "#   plt.ylim([1.8,7])\n",
    "  plt.legend()\n",
    "\n",
    "  plt.figure()\n",
    "  plt.xlabel('Epoch')\n",
    "  plt.ylabel('Mean Absolute Percentage Error')\n",
    "  plt.plot(hist['epoch'], hist['mean_absolute_percentage_error'],\n",
    "           label='Train Error')\n",
    "  plt.plot(hist['epoch'], hist['val_mean_absolute_percentage_error'],\n",
    "           label = 'Val Error')\n",
    "#   plt.ylim([80,160])\n",
    "  plt.legend()\n",
    "  plt.show()\n",
    "\n",
    "\n",
    "plot_history(history)"
   ]
  },
  {
   "cell_type": "code",
   "execution_count": null,
   "metadata": {},
   "outputs": [],
   "source": []
  },
  {
   "cell_type": "code",
   "execution_count": null,
   "metadata": {},
   "outputs": [],
   "source": []
  }
 ],
 "metadata": {
  "kernelspec": {
   "display_name": "Python 3",
   "language": "python",
   "name": "python3"
  },
  "language_info": {
   "codemirror_mode": {
    "name": "ipython",
    "version": 3
   },
   "file_extension": ".py",
   "mimetype": "text/x-python",
   "name": "python",
   "nbconvert_exporter": "python",
   "pygments_lexer": "ipython3",
   "version": "3.7.3"
  }
 },
 "nbformat": 4,
 "nbformat_minor": 4
}
