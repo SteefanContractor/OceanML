{
 "cells": [
  {
   "cell_type": "code",
   "execution_count": 1,
   "metadata": {},
   "outputs": [
    {
     "name": "stderr",
     "output_type": "stream",
     "text": [
      "/srv/scratch/z3289452/miniconda3/envs/OceanDataScience/lib/python3.7/site-packages/statsmodels/tools/_testing.py:19: FutureWarning: pandas.util.testing is deprecated. Use the functions in the public API at pandas.testing instead.\n",
      "  import pandas.util.testing as tm\n"
     ]
    }
   ],
   "source": [
    "import pandas as pd\n",
    "import numpy as np\n",
    "import matplotlib.pyplot as plt\n",
    "import seaborn as sns\n",
    "import pickle\n",
    "%matplotlib inline"
   ]
  },
  {
   "cell_type": "code",
   "execution_count": 4,
   "metadata": {},
   "outputs": [],
   "source": [
    "from matplotlib import rcParams \n",
    "rcParams.update({'font.size': 18})"
   ]
  },
  {
   "cell_type": "code",
   "execution_count": 1,
   "metadata": {},
   "outputs": [],
   "source": [
    "import tensorflow as tf\n",
    "import tensorflow.python.keras.backend as K\n",
    "from tensorflow.python.keras.backend import eager_learning_phase_scope\n",
    "\n",
    "from tensorflow import keras\n",
    "from tensorflow.keras import layers\n",
    "from tensorflow.keras import models\n",
    "# tf.compat.v1.disable_eager_execution()"
   ]
  },
  {
   "cell_type": "code",
   "execution_count": 2,
   "metadata": {},
   "outputs": [
    {
     "data": {
      "text/plain": [
       "'2.4.1'"
      ]
     },
     "execution_count": 2,
     "metadata": {},
     "output_type": "execute_result"
    }
   ],
   "source": [
    "tf.__version__"
   ]
  },
  {
   "cell_type": "code",
   "execution_count": 5,
   "metadata": {},
   "outputs": [
    {
     "name": "stderr",
     "output_type": "stream",
     "text": [
      "/srv/scratch/z3289452/miniconda3/envs/OceanDataScience/lib/python3.7/site-packages/xarray/core/merge.py:17: FutureWarning: The Panel class is removed from pandas. Accessing it from the top-level namespace will also be removed in the next version\n",
      "  PANDAS_TYPES = (pd.Series, pd.DataFrame, pd.Panel)\n"
     ]
    }
   ],
   "source": [
    "import xarray as xr\n",
    "import os"
   ]
  },
  {
   "cell_type": "markdown",
   "metadata": {},
   "source": [
    "## Data Prep"
   ]
  },
  {
   "cell_type": "code",
   "execution_count": null,
   "metadata": {},
   "outputs": [],
   "source": [
    "with open(\"../data/\")"
   ]
  },
  {
   "cell_type": "code",
   "execution_count": 7,
   "metadata": {},
   "outputs": [],
   "source": [
    "temp = xr.open_dataset('/srv/scratch/z3289452/OceanDataScience/Mooring/PH100/IMOS_ANMN-NSW_TZ_20091029_PH100_FV01_TEMP-aggregated-timeseries_END-20190612_C-20190819.nc')"
   ]
  },
  {
   "cell_type": "code",
   "execution_count": 8,
   "metadata": {},
   "outputs": [],
   "source": [
    "temp = temp.drop(['instrument_index','instrument_id','source_file'])"
   ]
  },
  {
   "cell_type": "code",
   "execution_count": 9,
   "metadata": {},
   "outputs": [
    {
     "data": {
      "text/plain": [
       "25290070"
      ]
     },
     "execution_count": 9,
     "metadata": {},
     "output_type": "execute_result"
    }
   ],
   "source": [
    "temp = temp.where(np.logical_and(temp.TEMP_quality_control > 0, temp.TEMP_quality_control < 3), drop = True)\n",
    "temp = temp.where(np.logical_and(temp.DEPTH_quality_control > 0, temp.DEPTH_quality_control < 3), drop = True)\n",
    "# temp = temp.where(np.logical_and(temp.PRES_quality_control > 0, temp.PRES_quality_control < 3), drop = True)\n",
    "# temp = temp.where(np.logical_and(temp.PRES_REL_quality_control > 0, temp.PRES_REL_quality_control < 3), drop = True)\n",
    "len(temp.TEMP)"
   ]
  },
  {
   "cell_type": "code",
   "execution_count": 10,
   "metadata": {},
   "outputs": [],
   "source": [
    "# create pd dataframe from scratch\n",
    "data  = {'TIME': temp.TIME.values,\n",
    "         'TEMP': temp.TEMP.values,\n",
    "         'DEPTH':temp.DEPTH.values,\n",
    "#          'PRES': temp.PRES.values,\n",
    "#          'PRES_REL': temp.PRES_REL.values\n",
    "        }\n",
    "\n",
    "temp_df= pd.DataFrame(data, columns = ['TIME','TEMP','DEPTH'])#,'PRES','PRES_REL'])\n",
    "# set TIME as the indexing variable\n",
    "temp_df = temp_df.set_index('TIME')"
   ]
  },
  {
   "cell_type": "code",
   "execution_count": 11,
   "metadata": {},
   "outputs": [
    {
     "data": {
      "text/plain": [
       "TEMP     25290070\n",
       "DEPTH    25290070\n",
       "dtype: int64"
      ]
     },
     "execution_count": 11,
     "metadata": {},
     "output_type": "execute_result"
    }
   ],
   "source": [
    "temp_df.count()"
   ]
  },
  {
   "cell_type": "code",
   "execution_count": 12,
   "metadata": {},
   "outputs": [],
   "source": [
    "# Max and min pressure values\n",
    "bin_max = temp_df.DEPTH.max()\n",
    "bin_min = temp_df.DEPTH.min()\n",
    "bin_size = 1"
   ]
  },
  {
   "cell_type": "code",
   "execution_count": 13,
   "metadata": {},
   "outputs": [],
   "source": [
    "def create_bins(bin_size, bin_max):\n",
    "    \"\"\"\n",
    "    A function to return equal sized bins and corresponding bin labels for binning of data.\n",
    "    Input:\n",
    "    bin_size: size of bins\n",
    "    bin_max: maximum value of the data to be binned. The minimum is assumed to be zero.\n",
    "    \"\"\"\n",
    "    num_bins = int(np.ceil(bin_max/bin_size))\n",
    "    lab_start = int(np.ceil(bin_size/2))\n",
    "    bins = np.linspace(0, bin_size*num_bins, num_bins+1)\n",
    "    labs = np.linspace(lab_start, bin_size*(num_bins-1)+lab_start, num_bins)\n",
    "    return bins, labs"
   ]
  },
  {
   "cell_type": "code",
   "execution_count": 14,
   "metadata": {},
   "outputs": [
    {
     "data": {
      "text/plain": [
       "(array([  0.,   1.,   2.,   3.,   4.,   5.,   6.,   7.,   8.,   9.,  10.,\n",
       "         11.,  12.,  13.,  14.,  15.,  16.,  17.,  18.,  19.,  20.,  21.,\n",
       "         22.,  23.,  24.,  25.,  26.,  27.,  28.,  29.,  30.,  31.,  32.,\n",
       "         33.,  34.,  35.,  36.,  37.,  38.,  39.,  40.,  41.,  42.,  43.,\n",
       "         44.,  45.,  46.,  47.,  48.,  49.,  50.,  51.,  52.,  53.,  54.,\n",
       "         55.,  56.,  57.,  58.,  59.,  60.,  61.,  62.,  63.,  64.,  65.,\n",
       "         66.,  67.,  68.,  69.,  70.,  71.,  72.,  73.,  74.,  75.,  76.,\n",
       "         77.,  78.,  79.,  80.,  81.,  82.,  83.,  84.,  85.,  86.,  87.,\n",
       "         88.,  89.,  90.,  91.,  92.,  93.,  94.,  95.,  96.,  97.,  98.,\n",
       "         99., 100., 101., 102., 103., 104., 105., 106., 107., 108., 109.,\n",
       "        110., 111., 112., 113., 114., 115.]),\n",
       " array([  1.,   2.,   3.,   4.,   5.,   6.,   7.,   8.,   9.,  10.,  11.,\n",
       "         12.,  13.,  14.,  15.,  16.,  17.,  18.,  19.,  20.,  21.,  22.,\n",
       "         23.,  24.,  25.,  26.,  27.,  28.,  29.,  30.,  31.,  32.,  33.,\n",
       "         34.,  35.,  36.,  37.,  38.,  39.,  40.,  41.,  42.,  43.,  44.,\n",
       "         45.,  46.,  47.,  48.,  49.,  50.,  51.,  52.,  53.,  54.,  55.,\n",
       "         56.,  57.,  58.,  59.,  60.,  61.,  62.,  63.,  64.,  65.,  66.,\n",
       "         67.,  68.,  69.,  70.,  71.,  72.,  73.,  74.,  75.,  76.,  77.,\n",
       "         78.,  79.,  80.,  81.,  82.,  83.,  84.,  85.,  86.,  87.,  88.,\n",
       "         89.,  90.,  91.,  92.,  93.,  94.,  95.,  96.,  97.,  98.,  99.,\n",
       "        100., 101., 102., 103., 104., 105., 106., 107., 108., 109., 110.,\n",
       "        111., 112., 113., 114., 115.]))"
      ]
     },
     "execution_count": 14,
     "metadata": {},
     "output_type": "execute_result"
    }
   ],
   "source": [
    "# Automatically calculate pressure bin parameters based on given bin_size\n",
    "bins, labs = create_bins(bin_size, bin_max)\n",
    "bins, labs"
   ]
  },
  {
   "cell_type": "code",
   "execution_count": 15,
   "metadata": {},
   "outputs": [],
   "source": [
    "# create a column with pressure bin labels\n",
    "temp_df['DEPTH_BIN'] = pd.cut(temp_df.DEPTH, bins = bins, labels = labs)"
   ]
  },
  {
   "cell_type": "code",
   "execution_count": 16,
   "metadata": {},
   "outputs": [],
   "source": [
    "# First groupby PRES_BIN column, then resample each group on hourly intervals and mean each resulting bin\n",
    "# drop unncessary columns and nan rows after\n",
    "temp_df = temp_df.groupby('DEPTH_BIN').resample('1D').mean().drop(columns=['DEPTH','DEPTH_BIN']).dropna()"
   ]
  },
  {
   "cell_type": "code",
   "execution_count": 17,
   "metadata": {},
   "outputs": [
    {
     "data": {
      "text/plain": [
       "[<matplotlib.lines.Line2D at 0x2b28f2b0c2b0>]"
      ]
     },
     "execution_count": 17,
     "metadata": {},
     "output_type": "execute_result"
    },
    {
     "data": {
      "image/png": "[encoded data removed]",
      "text/plain": [
       "<Figure size 432x288 with 1 Axes>"
      ]
     },
     "metadata": {
      "needs_background": "light"
     },
     "output_type": "display_data"
    }
   ],
   "source": [
    "counts = temp_df.groupby('DEPTH_BIN').count()\n",
    "plt.plot(counts)"
   ]
  },
  {
   "cell_type": "code",
   "execution_count": 18,
   "metadata": {},
   "outputs": [],
   "source": [
    "c = counts.TEMP.values"
   ]
  },
  {
   "cell_type": "code",
   "execution_count": 19,
   "metadata": {},
   "outputs": [
    {
     "name": "stderr",
     "output_type": "stream",
     "text": [
      "/srv/scratch/z3289452/miniconda3/envs/OceanDataScience/lib/python3.7/site-packages/pandas/core/frame.py:3997: SettingWithCopyWarning: \n",
      "A value is trying to be set on a copy of a slice from a DataFrame\n",
      "\n",
      "See the caveats in the documentation: https://pandas.pydata.org/pandas-docs/stable/user_guide/indexing.html#returning-a-view-versus-a-copy\n",
      "  errors=errors,\n"
     ]
    }
   ],
   "source": [
    "# local maxima code from here https://stackoverflow.com/questions/4624970/finding-local-maxima-minima-with-numpy-in-a-1d-numpy-array\n",
    "optimal_depths = counts[np.r_[True, c[1:] > c[:-1]] & np.r_[c[:-1] > c[1:], True]]\n",
    "optimal_depths.drop(77, inplace=True)"
   ]
  },
  {
   "cell_type": "code",
   "execution_count": 20,
   "metadata": {},
   "outputs": [
    {
     "data": {
      "text/plain": [
       "array([9., 8., 8., 8., 8., 8., 8., 8., 8., 9., 8., 5.])"
      ]
     },
     "execution_count": 20,
     "metadata": {},
     "output_type": "execute_result"
    }
   ],
   "source": [
    "np.diff(optimal_depths.index)"
   ]
  },
  {
   "cell_type": "code",
   "execution_count": 21,
   "metadata": {},
   "outputs": [
    {
     "data": {
      "text/plain": [
       "array([ 15,  24,  32,  40,  48,  56,  64,  72,  80,  88,  97, 105, 110],\n",
       "      dtype=int8)"
      ]
     },
     "execution_count": 21,
     "metadata": {},
     "output_type": "execute_result"
    }
   ],
   "source": [
    "optimal_depths = optimal_depths.index.values.codes # lower bound of 1m bin\n",
    "optimal_depths"
   ]
  },
  {
   "cell_type": "code",
   "execution_count": 22,
   "metadata": {},
   "outputs": [
    {
     "data": {
      "text/plain": [
       "(array([ 13,  18,  22,  27,  30,  35,  38,  43,  46,  51,  54,  59,  62,\n",
       "         67,  70,  75,  78,  83,  86,  91,  95, 100, 103, 108, 113],\n",
       "       dtype=int8),\n",
       " array([ 15.5,  20. ,  24.5,  28.5,  32.5,  36.5,  40.5,  44.5,  48.5,\n",
       "         52.5,  56.5,  60.5,  64.5,  68.5,  72.5,  76.5,  80.5,  84.5,\n",
       "         88.5,  93. ,  97.5, 101.5, 105.5, 110.5]))"
      ]
     },
     "execution_count": 22,
     "metadata": {},
     "output_type": "execute_result"
    }
   ],
   "source": [
    "bins = np.unique(np.sort(np.concatenate(((optimal_depths - 2), (optimal_depths + 3)))))\n",
    "bins_df = pd.DataFrame(data = {'bins': bins})\n",
    "labs = bins_df.rolling(window=2).mean().bins.values[1:]\n",
    "bins, labs"
   ]
  },
  {
   "cell_type": "code",
   "execution_count": 23,
   "metadata": {},
   "outputs": [],
   "source": [
    "# create pd dataframe from scratch\n",
    "data  = {'TIME': temp.TIME.values,\n",
    "         'TEMP': temp.TEMP.values,\n",
    "         'DEPTH':temp.DEPTH.values,\n",
    "#          'PRES': temp.PRES.values,\n",
    "#          'PRES_REL': temp.PRES_REL.values\n",
    "        }\n",
    "\n",
    "temp_df= pd.DataFrame(data, columns = ['TIME','TEMP','DEPTH'])#,'PRES','PRES_REL'])\n",
    "# set TIME as the indexing variable\n",
    "temp_df = temp_df.set_index('TIME')"
   ]
  },
  {
   "cell_type": "code",
   "execution_count": 24,
   "metadata": {},
   "outputs": [],
   "source": [
    "# create a column with pressure bin labels\n",
    "temp_df['DEPTH_BIN'] = pd.cut(temp_df.DEPTH, bins = bins, labels = labs)"
   ]
  },
  {
   "cell_type": "code",
   "execution_count": 25,
   "metadata": {},
   "outputs": [],
   "source": [
    "# First groupby PRES_BIN column, then resample each group on hourly intervals and mean each resulting bin\n",
    "# drop unncessary columns and nan rows after\n",
    "temp_df = temp_df.groupby('DEPTH_BIN').resample('1D').mean().dropna()"
   ]
  },
  {
   "cell_type": "code",
   "execution_count": 26,
   "metadata": {},
   "outputs": [
    {
     "data": {
      "text/html": [
       "<div>\n",
       "<style scoped>\n",
       "    .dataframe tbody tr th:only-of-type {\n",
       "        vertical-align: middle;\n",
       "    }\n",
       "\n",
       "    .dataframe tbody tr th {\n",
       "        vertical-align: top;\n",
       "    }\n",
       "\n",
       "    .dataframe thead th {\n",
       "        text-align: right;\n",
       "    }\n",
       "</style>\n",
       "<table border=\"1\" class=\"dataframe\">\n",
       "  <thead>\n",
       "    <tr style=\"text-align: right;\">\n",
       "      <th></th>\n",
       "      <th></th>\n",
       "      <th>TEMP</th>\n",
       "      <th>DEPTH</th>\n",
       "    </tr>\n",
       "    <tr>\n",
       "      <th>DEPTH_BIN</th>\n",
       "      <th>TIME</th>\n",
       "      <th></th>\n",
       "      <th></th>\n",
       "    </tr>\n",
       "  </thead>\n",
       "  <tbody>\n",
       "    <tr>\n",
       "      <th rowspan=\"5\" valign=\"top\">15.5</th>\n",
       "      <th>2011-03-30</th>\n",
       "      <td>23.974564</td>\n",
       "      <td>17.245085</td>\n",
       "    </tr>\n",
       "    <tr>\n",
       "      <th>2011-03-31</th>\n",
       "      <td>23.710714</td>\n",
       "      <td>16.143826</td>\n",
       "    </tr>\n",
       "    <tr>\n",
       "      <th>2011-04-01</th>\n",
       "      <td>23.332129</td>\n",
       "      <td>15.864942</td>\n",
       "    </tr>\n",
       "    <tr>\n",
       "      <th>2011-04-02</th>\n",
       "      <td>22.782129</td>\n",
       "      <td>15.848205</td>\n",
       "    </tr>\n",
       "    <tr>\n",
       "      <th>2011-04-03</th>\n",
       "      <td>22.812040</td>\n",
       "      <td>15.900038</td>\n",
       "    </tr>\n",
       "    <tr>\n",
       "      <th>...</th>\n",
       "      <th>...</th>\n",
       "      <td>...</td>\n",
       "      <td>...</td>\n",
       "    </tr>\n",
       "    <tr>\n",
       "      <th rowspan=\"5\" valign=\"top\">110.5</th>\n",
       "      <th>2019-06-08</th>\n",
       "      <td>17.637552</td>\n",
       "      <td>109.386749</td>\n",
       "    </tr>\n",
       "    <tr>\n",
       "      <th>2019-06-09</th>\n",
       "      <td>17.738697</td>\n",
       "      <td>109.398209</td>\n",
       "    </tr>\n",
       "    <tr>\n",
       "      <th>2019-06-10</th>\n",
       "      <td>17.839249</td>\n",
       "      <td>109.405907</td>\n",
       "    </tr>\n",
       "    <tr>\n",
       "      <th>2019-06-11</th>\n",
       "      <td>17.778112</td>\n",
       "      <td>109.414391</td>\n",
       "    </tr>\n",
       "    <tr>\n",
       "      <th>2019-06-12</th>\n",
       "      <td>17.930275</td>\n",
       "      <td>108.859344</td>\n",
       "    </tr>\n",
       "  </tbody>\n",
       "</table>\n",
       "<p>46218 rows × 2 columns</p>\n",
       "</div>"
      ],
      "text/plain": [
       "                           TEMP       DEPTH\n",
       "DEPTH_BIN TIME                             \n",
       "15.5      2011-03-30  23.974564   17.245085\n",
       "          2011-03-31  23.710714   16.143826\n",
       "          2011-04-01  23.332129   15.864942\n",
       "          2011-04-02  22.782129   15.848205\n",
       "          2011-04-03  22.812040   15.900038\n",
       "...                         ...         ...\n",
       "110.5     2019-06-08  17.637552  109.386749\n",
       "          2019-06-09  17.738697  109.398209\n",
       "          2019-06-10  17.839249  109.405907\n",
       "          2019-06-11  17.778112  109.414391\n",
       "          2019-06-12  17.930275  108.859344\n",
       "\n",
       "[46218 rows x 2 columns]"
      ]
     },
     "execution_count": 26,
     "metadata": {},
     "output_type": "execute_result"
    }
   ],
   "source": [
    "temp_df"
   ]
  },
  {
   "cell_type": "code",
   "execution_count": 27,
   "metadata": {},
   "outputs": [
    {
     "data": {
      "text/html": [
       "<div>\n",
       "<style scoped>\n",
       "    .dataframe tbody tr th:only-of-type {\n",
       "        vertical-align: middle;\n",
       "    }\n",
       "\n",
       "    .dataframe tbody tr th {\n",
       "        vertical-align: top;\n",
       "    }\n",
       "\n",
       "    .dataframe thead th {\n",
       "        text-align: right;\n",
       "    }\n",
       "</style>\n",
       "<table border=\"1\" class=\"dataframe\">\n",
       "  <thead>\n",
       "    <tr style=\"text-align: right;\">\n",
       "      <th></th>\n",
       "      <th>TEMP</th>\n",
       "      <th>DEPTH</th>\n",
       "    </tr>\n",
       "    <tr>\n",
       "      <th>DEPTH_BIN</th>\n",
       "      <th></th>\n",
       "      <th></th>\n",
       "    </tr>\n",
       "  </thead>\n",
       "  <tbody>\n",
       "    <tr>\n",
       "      <th>15.5</th>\n",
       "      <td>2596</td>\n",
       "      <td>2596</td>\n",
       "    </tr>\n",
       "    <tr>\n",
       "      <th>20.0</th>\n",
       "      <td>992</td>\n",
       "      <td>992</td>\n",
       "    </tr>\n",
       "    <tr>\n",
       "      <th>24.5</th>\n",
       "      <td>3205</td>\n",
       "      <td>3205</td>\n",
       "    </tr>\n",
       "    <tr>\n",
       "      <th>28.5</th>\n",
       "      <td>644</td>\n",
       "      <td>644</td>\n",
       "    </tr>\n",
       "    <tr>\n",
       "      <th>32.5</th>\n",
       "      <td>3277</td>\n",
       "      <td>3277</td>\n",
       "    </tr>\n",
       "    <tr>\n",
       "      <th>36.5</th>\n",
       "      <td>633</td>\n",
       "      <td>633</td>\n",
       "    </tr>\n",
       "    <tr>\n",
       "      <th>40.5</th>\n",
       "      <td>3225</td>\n",
       "      <td>3225</td>\n",
       "    </tr>\n",
       "    <tr>\n",
       "      <th>44.5</th>\n",
       "      <td>595</td>\n",
       "      <td>595</td>\n",
       "    </tr>\n",
       "    <tr>\n",
       "      <th>48.5</th>\n",
       "      <td>3216</td>\n",
       "      <td>3216</td>\n",
       "    </tr>\n",
       "    <tr>\n",
       "      <th>52.5</th>\n",
       "      <td>566</td>\n",
       "      <td>566</td>\n",
       "    </tr>\n",
       "    <tr>\n",
       "      <th>56.5</th>\n",
       "      <td>3221</td>\n",
       "      <td>3221</td>\n",
       "    </tr>\n",
       "    <tr>\n",
       "      <th>60.5</th>\n",
       "      <td>449</td>\n",
       "      <td>449</td>\n",
       "    </tr>\n",
       "    <tr>\n",
       "      <th>64.5</th>\n",
       "      <td>3179</td>\n",
       "      <td>3179</td>\n",
       "    </tr>\n",
       "    <tr>\n",
       "      <th>68.5</th>\n",
       "      <td>411</td>\n",
       "      <td>411</td>\n",
       "    </tr>\n",
       "    <tr>\n",
       "      <th>72.5</th>\n",
       "      <td>3175</td>\n",
       "      <td>3175</td>\n",
       "    </tr>\n",
       "    <tr>\n",
       "      <th>76.5</th>\n",
       "      <td>326</td>\n",
       "      <td>326</td>\n",
       "    </tr>\n",
       "    <tr>\n",
       "      <th>80.5</th>\n",
       "      <td>3167</td>\n",
       "      <td>3167</td>\n",
       "    </tr>\n",
       "    <tr>\n",
       "      <th>84.5</th>\n",
       "      <td>244</td>\n",
       "      <td>244</td>\n",
       "    </tr>\n",
       "    <tr>\n",
       "      <th>88.5</th>\n",
       "      <td>3318</td>\n",
       "      <td>3318</td>\n",
       "    </tr>\n",
       "    <tr>\n",
       "      <th>93.0</th>\n",
       "      <td>259</td>\n",
       "      <td>259</td>\n",
       "    </tr>\n",
       "    <tr>\n",
       "      <th>97.5</th>\n",
       "      <td>3315</td>\n",
       "      <td>3315</td>\n",
       "    </tr>\n",
       "    <tr>\n",
       "      <th>101.5</th>\n",
       "      <td>85</td>\n",
       "      <td>85</td>\n",
       "    </tr>\n",
       "    <tr>\n",
       "      <th>105.5</th>\n",
       "      <td>3288</td>\n",
       "      <td>3288</td>\n",
       "    </tr>\n",
       "    <tr>\n",
       "      <th>110.5</th>\n",
       "      <td>2832</td>\n",
       "      <td>2832</td>\n",
       "    </tr>\n",
       "  </tbody>\n",
       "</table>\n",
       "</div>"
      ],
      "text/plain": [
       "           TEMP  DEPTH\n",
       "DEPTH_BIN             \n",
       "15.5       2596   2596\n",
       "20.0        992    992\n",
       "24.5       3205   3205\n",
       "28.5        644    644\n",
       "32.5       3277   3277\n",
       "36.5        633    633\n",
       "40.5       3225   3225\n",
       "44.5        595    595\n",
       "48.5       3216   3216\n",
       "52.5        566    566\n",
       "56.5       3221   3221\n",
       "60.5        449    449\n",
       "64.5       3179   3179\n",
       "68.5        411    411\n",
       "72.5       3175   3175\n",
       "76.5        326    326\n",
       "80.5       3167   3167\n",
       "84.5        244    244\n",
       "88.5       3318   3318\n",
       "93.0        259    259\n",
       "97.5       3315   3315\n",
       "101.5        85     85\n",
       "105.5      3288   3288\n",
       "110.5      2832   2832"
      ]
     },
     "execution_count": 27,
     "metadata": {},
     "output_type": "execute_result"
    }
   ],
   "source": [
    "temp_df.groupby('DEPTH_BIN').count()"
   ]
  },
  {
   "cell_type": "code",
   "execution_count": 28,
   "metadata": {},
   "outputs": [],
   "source": [
    "with open(\"../data/temp_df_original.pickle\", \"wb\") as pickle_in:\n",
    "    pickle.dump(temp_df, pickle_in)"
   ]
  },
  {
   "cell_type": "code",
   "execution_count": 29,
   "metadata": {},
   "outputs": [],
   "source": [
    "with open(\"../data/temp_df_original.pickle\", \"rb\") as pickle_in: \n",
    "    temp_df = pickle.load(pickle_in)"
   ]
  },
  {
   "cell_type": "code",
   "execution_count": 30,
   "metadata": {},
   "outputs": [],
   "source": [
    "temp_df_245 = temp_df.xs(24.5)\n",
    "temp_df_325 = temp_df.xs(32.5)"
   ]
  },
  {
   "cell_type": "code",
   "execution_count": 46,
   "metadata": {},
   "outputs": [],
   "source": [
    "temp_df_325_wgaps = temp_df_325.copy()\n",
    "temp_df_325_wgaps = temp_df_325_wgaps.asfreq(freq='1D')"
   ]
  },
  {
   "cell_type": "code",
   "execution_count": 47,
   "metadata": {},
   "outputs": [],
   "source": [
    "with open(\"../data/temp_depth_gapfilling/temp_df_245_original.pickle\", \"rb\") as pickle_in:\n",
    "    temp_df_245_wgaps = pickle.load(pickle_in).asfreq('1d')"
   ]
  },
  {
   "cell_type": "code",
   "execution_count": 48,
   "metadata": {},
   "outputs": [
    {
     "data": {
      "text/plain": [
       "Text(0.5, 0, 'Time (years)')"
      ]
     },
     "execution_count": 48,
     "metadata": {},
     "output_type": "execute_result"
    },
    {
     "data": {
      "image/png": "[encoded data removed]",
      "text/plain": [
       "<Figure size 864x432 with 1 Axes>"
      ]
     },
     "metadata": {
      "needs_background": "light"
     },
     "output_type": "display_data"
    }
   ],
   "source": [
    "fig, ax = plt.subplots()\n",
    "import matplotlib.transforms as mtransforms\n",
    "temp_df_245_wgaps.TEMP.plot(ax = ax, figsize=(12,6))\n",
    "trans = mtransforms.blended_transform_factory(ax.transData, ax.transAxes)\n",
    "ax.fill_between(temp_df_245_wgaps.index, temp_df_245_wgaps.TEMP.min(), temp_df_245_wgaps.TEMP.max(), where=np.isnan(temp_df_245_wgaps.TEMP),\n",
    "                facecolor='red', alpha=0.1)\n",
    "plt.ylabel(\"Temperature (degree celsius)\")\n",
    "plt.xlabel(\"Time (years)\")"
   ]
  },
  {
   "cell_type": "code",
   "execution_count": 49,
   "metadata": {},
   "outputs": [
    {
     "data": {
      "text/plain": [
       "Text(0.5, 0, 'Time (years)')"
      ]
     },
     "execution_count": 49,
     "metadata": {},
     "output_type": "execute_result"
    },
    {
     "data": {
      "image/png": "[encoded data removed]",
      "text/plain": [
       "<Figure size 864x432 with 1 Axes>"
      ]
     },
     "metadata": {
      "needs_background": "light"
     },
     "output_type": "display_data"
    }
   ],
   "source": [
    "fig, ax = plt.subplots()\n",
    "import matplotlib.transforms as mtransforms\n",
    "temp_df_325_wgaps.TEMP.plot(ax = ax, figsize=(12,6))\n",
    "trans = mtransforms.blended_transform_factory(ax.transData, ax.transAxes)\n",
    "ax.fill_between(temp_df_325_wgaps.index, temp_df_325_wgaps.TEMP.min(), temp_df_325_wgaps.TEMP.max(), where=np.isnan(temp_df_325_wgaps.TEMP),\n",
    "                facecolor='red', alpha=0.1)\n",
    "plt.ylabel(\"Temperature (degree celsius)\")\n",
    "plt.xlabel(\"Time (years)\")"
   ]
  },
  {
   "cell_type": "code",
   "execution_count": 6,
   "metadata": {},
   "outputs": [],
   "source": [
    "def gap_loc_and_len(sample):\n",
    "    tmp = 0\n",
    "    loc = []\n",
    "    leng = []\n",
    "    for i in range(len(sample)):\n",
    "        current=sample[i]\n",
    "        if not(np.isnan(current)) and tmp>0:\n",
    "            leng.append(tmp)\n",
    "            tmp=0\n",
    "        if np.isnan(current):\n",
    "            if (tmp==0) : loc.append(i)\n",
    "            tmp=tmp+1\n",
    "    df = pd.DataFrame({'location': loc,\n",
    "                       'length': leng})\n",
    "    return(df)"
   ]
  },
  {
   "cell_type": "code",
   "execution_count": 51,
   "metadata": {},
   "outputs": [
    {
     "data": {
      "text/html": [
       "<div>\n",
       "<style scoped>\n",
       "    .dataframe tbody tr th:only-of-type {\n",
       "        vertical-align: middle;\n",
       "    }\n",
       "\n",
       "    .dataframe tbody tr th {\n",
       "        vertical-align: top;\n",
       "    }\n",
       "\n",
       "    .dataframe thead th {\n",
       "        text-align: right;\n",
       "    }\n",
       "</style>\n",
       "<table border=\"1\" class=\"dataframe\">\n",
       "  <thead>\n",
       "    <tr style=\"text-align: right;\">\n",
       "      <th></th>\n",
       "      <th>location</th>\n",
       "      <th>length</th>\n",
       "    </tr>\n",
       "  </thead>\n",
       "  <tbody>\n",
       "    <tr>\n",
       "      <th>0</th>\n",
       "      <td>799</td>\n",
       "      <td>91</td>\n",
       "    </tr>\n",
       "    <tr>\n",
       "      <th>1</th>\n",
       "      <td>1262</td>\n",
       "      <td>4</td>\n",
       "    </tr>\n",
       "    <tr>\n",
       "      <th>2</th>\n",
       "      <td>1268</td>\n",
       "      <td>3</td>\n",
       "    </tr>\n",
       "    <tr>\n",
       "      <th>3</th>\n",
       "      <td>1284</td>\n",
       "      <td>6</td>\n",
       "    </tr>\n",
       "    <tr>\n",
       "      <th>4</th>\n",
       "      <td>1294</td>\n",
       "      <td>19</td>\n",
       "    </tr>\n",
       "    <tr>\n",
       "      <th>5</th>\n",
       "      <td>1315</td>\n",
       "      <td>29</td>\n",
       "    </tr>\n",
       "    <tr>\n",
       "      <th>6</th>\n",
       "      <td>1414</td>\n",
       "      <td>21</td>\n",
       "    </tr>\n",
       "    <tr>\n",
       "      <th>7</th>\n",
       "      <td>2805</td>\n",
       "      <td>2</td>\n",
       "    </tr>\n",
       "    <tr>\n",
       "      <th>8</th>\n",
       "      <td>2827</td>\n",
       "      <td>79</td>\n",
       "    </tr>\n",
       "  </tbody>\n",
       "</table>\n",
       "</div>"
      ],
      "text/plain": [
       "   location  length\n",
       "0       799      91\n",
       "1      1262       4\n",
       "2      1268       3\n",
       "3      1284       6\n",
       "4      1294      19\n",
       "5      1315      29\n",
       "6      1414      21\n",
       "7      2805       2\n",
       "8      2827      79"
      ]
     },
     "execution_count": 51,
     "metadata": {},
     "output_type": "execute_result"
    }
   ],
   "source": [
    "gaps = gap_loc_and_len(temp_df_245_wgaps.TEMP.values)\n",
    "gaps"
   ]
  },
  {
   "cell_type": "code",
   "execution_count": 52,
   "metadata": {},
   "outputs": [
    {
     "data": {
      "text/html": [
       "<div>\n",
       "<style scoped>\n",
       "    .dataframe tbody tr th:only-of-type {\n",
       "        vertical-align: middle;\n",
       "    }\n",
       "\n",
       "    .dataframe tbody tr th {\n",
       "        vertical-align: top;\n",
       "    }\n",
       "\n",
       "    .dataframe thead th {\n",
       "        text-align: right;\n",
       "    }\n",
       "</style>\n",
       "<table border=\"1\" class=\"dataframe\">\n",
       "  <thead>\n",
       "    <tr style=\"text-align: right;\">\n",
       "      <th></th>\n",
       "      <th>location</th>\n",
       "      <th>length</th>\n",
       "    </tr>\n",
       "  </thead>\n",
       "  <tbody>\n",
       "    <tr>\n",
       "      <th>0</th>\n",
       "      <td>854</td>\n",
       "      <td>91</td>\n",
       "    </tr>\n",
       "    <tr>\n",
       "      <th>1</th>\n",
       "      <td>1317</td>\n",
       "      <td>4</td>\n",
       "    </tr>\n",
       "    <tr>\n",
       "      <th>2</th>\n",
       "      <td>1323</td>\n",
       "      <td>3</td>\n",
       "    </tr>\n",
       "    <tr>\n",
       "      <th>3</th>\n",
       "      <td>1330</td>\n",
       "      <td>1</td>\n",
       "    </tr>\n",
       "    <tr>\n",
       "      <th>4</th>\n",
       "      <td>1339</td>\n",
       "      <td>6</td>\n",
       "    </tr>\n",
       "    <tr>\n",
       "      <th>5</th>\n",
       "      <td>1349</td>\n",
       "      <td>19</td>\n",
       "    </tr>\n",
       "    <tr>\n",
       "      <th>6</th>\n",
       "      <td>1370</td>\n",
       "      <td>29</td>\n",
       "    </tr>\n",
       "    <tr>\n",
       "      <th>7</th>\n",
       "      <td>1401</td>\n",
       "      <td>1</td>\n",
       "    </tr>\n",
       "    <tr>\n",
       "      <th>8</th>\n",
       "      <td>1448</td>\n",
       "      <td>1</td>\n",
       "    </tr>\n",
       "    <tr>\n",
       "      <th>9</th>\n",
       "      <td>1485</td>\n",
       "      <td>1</td>\n",
       "    </tr>\n",
       "    <tr>\n",
       "      <th>10</th>\n",
       "      <td>2860</td>\n",
       "      <td>2</td>\n",
       "    </tr>\n",
       "    <tr>\n",
       "      <th>11</th>\n",
       "      <td>2882</td>\n",
       "      <td>79</td>\n",
       "    </tr>\n",
       "  </tbody>\n",
       "</table>\n",
       "</div>"
      ],
      "text/plain": [
       "    location  length\n",
       "0        854      91\n",
       "1       1317       4\n",
       "2       1323       3\n",
       "3       1330       1\n",
       "4       1339       6\n",
       "5       1349      19\n",
       "6       1370      29\n",
       "7       1401       1\n",
       "8       1448       1\n",
       "9       1485       1\n",
       "10      2860       2\n",
       "11      2882      79"
      ]
     },
     "execution_count": 52,
     "metadata": {},
     "output_type": "execute_result"
    }
   ],
   "source": [
    "gaps = gap_loc_and_len(temp_df_325_wgaps.TEMP.values)\n",
    "gaps"
   ]
  },
  {
   "cell_type": "code",
   "execution_count": null,
   "metadata": {},
   "outputs": [],
   "source": []
  },
  {
   "cell_type": "markdown",
   "metadata": {},
   "source": [
    "## Models"
   ]
  },
  {
   "cell_type": "code",
   "execution_count": 6,
   "metadata": {},
   "outputs": [],
   "source": [
    "class descaled_mape(keras.losses.Loss):\n",
    "    \"\"\"\n",
    "    A loss/metric that (de)scales true and predicted values into absolute units before calculating mean absolute percentage error (mape).\n",
    "    Args:\n",
    "        mu: mean (usually training data mean)\n",
    "        sd: standard dev (usually based on training data)\n",
    "        reduction: Type of tf.keras.losses.Reduction to apply to loss.\n",
    "        name: name of loss function\n",
    "    \"\"\"\n",
    "    def __init__(self, mu, sd, reduction=keras.losses.Reduction.AUTO, name='descaled_mape'):\n",
    "        super().__init__(reduction=reduction, name=name)\n",
    "        self.mu=mu\n",
    "        self.sd=sd\n",
    "    \n",
    "    def call(self, y_true, y_pred):\n",
    "        y_true = y_true * self.sd + self.mu\n",
    "        y_pred = y_pred * self.sd + self.mu\n",
    "        return tf.math.reduce_mean(tf.abs((y_true - y_pred)/y_true))\n",
    "    \n",
    "def gap_loc_and_len(sample):\n",
    "    tmp = 0\n",
    "    loc = []\n",
    "    leng = []\n",
    "    for i in range(len(sample)):\n",
    "        current=sample[i]\n",
    "        if not(np.isnan(current)) and tmp>0:\n",
    "            leng.append(tmp)\n",
    "            tmp=0\n",
    "        if np.isnan(current):\n",
    "            if (tmp==0) : loc.append(i)\n",
    "            tmp=tmp+1\n",
    "    df = pd.DataFrame({'location': loc,\n",
    "                       'length': leng})\n",
    "    return(df)\n",
    "\n",
    "def gapfill(samp, lstm_model, train_mean, train_std, hist_len, pred_len, gaps = pd.DataFrame(), scale=True):\n",
    "    if gaps.empty: gaps = gap_loc_and_len(samp.TEMP)\n",
    "    for i in range(len(gaps)):\n",
    "        gap_start = gaps.location[i]\n",
    "        gap_length = gaps.length[i]\n",
    "        hist_end = gap_start\n",
    "        if gap_start < hist_len:\n",
    "            hist_start = 0\n",
    "        else:\n",
    "            hist_start = gap_start - hist_len\n",
    "        if ((gap_start >= hist_len) and (not np.any(np.isnan(samp.TEMP[hist_start: hist_end]))) and (gap_length <= pred_len)):\n",
    "            # create history array of shape (1, 30, 1) ending at gap_start\n",
    "            history = np.reshape(samp.TEMP.values[:gap_start][-hist_len:], (1,hist_len,1))\n",
    "            # scale history\n",
    "            if (scale): history = (history - train_mean)/train_std\n",
    "            # use model to predict based on history and fill in sample gap\n",
    "            # descale model output\n",
    "            out = lstm_model.predict(history)[0,:gap_length]\n",
    "            if (scale): out = out * train_std + train_mean\n",
    "            samp.TEMP[gap_start : (gap_start + gap_length)] = out\n",
    "    return samp"
   ]
  },
  {
   "cell_type": "code",
   "execution_count": 54,
   "metadata": {},
   "outputs": [],
   "source": [
    "# callbacks\n",
    "# Display training progress by printing a single dot for each completed epoch\n",
    "class PrintDot(keras.callbacks.Callback):\n",
    "  def on_epoch_end(self, epoch, logs):\n",
    "    if epoch % 10 == 0: print('loss: {:7.4f}, val_loss: {:7.4f}' .format(logs['loss'], logs['val_loss']))\n",
    "    print('.', end='')\n",
    "    # Create a callback that saves the model's weights\n",
    "    \n",
    "# early stopping callback\n",
    "es_callback = tf.keras.callbacks.EarlyStopping(monitor='val_loss', patience=20) # original model patience: 20 # dropout models patience: 40"
   ]
  },
  {
   "cell_type": "code",
   "execution_count": 55,
   "metadata": {},
   "outputs": [],
   "source": [
    "# Model 1 to fill in gaps up to 10 days long\n",
    "hist_len = 30\n",
    "targ_len = 6"
   ]
  },
  {
   "cell_type": "code",
   "execution_count": 56,
   "metadata": {},
   "outputs": [],
   "source": [
    "Time_diff = temp_df_245.index.to_series().diff()\n",
    "break_index = np.where(Time_diff > pd.Timedelta(days=1))[0] - 1\n",
    "break_index = np.append(break_index, len(temp_df_245))\n",
    "window_len = hist_len + targ_len"
   ]
  },
  {
   "cell_type": "code",
   "execution_count": 60,
   "metadata": {},
   "outputs": [],
   "source": [
    "data = []\n",
    "labels = []\n",
    "break_index = np.where(Time_diff > pd.Timedelta(days=1))[0] - 1 \n",
    "window_len = hist_len + targ_len\n",
    "for w in range(len(break_index)):\n",
    "    run_start = hist_len if w == 0 else break_index[w-1] + 1 + hist_len\n",
    "    run_end = break_index[w] - targ_len   \n",
    "    for i in range(run_start, run_end):\n",
    "        indices = range(i-hist_len, i)\n",
    "        data.append(np.reshape(temp_df_325.TEMP.values[indices], (hist_len,1)))\n",
    "        labels.append(temp_df_245.TEMP.values[i:i+targ_len])        \n",
    "data = np.array(data)\n",
    "labels = np.array(labels)\n",
    "# Split into training and test datasets\n",
    "trainidx = np.random.choice(len(data), int(np.round(0.9*len(data))), replace=False)\n",
    "train_data = data[trainidx]\n",
    "train_labels = labels[trainidx]\n",
    "train_labels = train_labels.reshape((len(train_labels),targ_len))\n",
    "val_data = np.delete(data, obj=trainidx, axis=0)\n",
    "val_labels = np.delete(labels, trainidx, axis=0)\n",
    "val_labels = val_labels.reshape((len(val_labels), targ_len))\n",
    "# Normalisation\n",
    "train_mean = train_data.mean()\n",
    "train_std = train_data.std()\n",
    "# save training, validation and normalisation data\n",
    "pickle_out = open(\"../data/temp_depth_gapfilling_extended/depth_325/train_mean-std_train-val_data-labels_hist30_targ6.pickle\", \"wb\")\n",
    "pickle.dump([train_mean, train_std, train_data, train_labels, val_data, val_labels], pickle_out)\n",
    "pickle_out.close()\n",
    "train_data = (train_data-train_mean)/train_std\n",
    "train_labels = (train_labels-train_mean)/train_std\n",
    "val_data = (val_data-train_mean)/train_std\n",
    "val_labels = (val_labels-train_mean)/train_std"
   ]
  },
  {
   "cell_type": "code",
   "execution_count": 62,
   "metadata": {},
   "outputs": [],
   "source": [
    "BATCH_SIZE = 8\n",
    "BUFFER_SIZE = data.shape[0]\n",
    "train_univariate = tf.data.Dataset.from_tensor_slices((train_data, train_labels))\n",
    "train_univariate = train_univariate.cache().batch(BATCH_SIZE).repeat()\n",
    "val_univariate = tf.data.Dataset.from_tensor_slices((val_data, val_labels))\n",
    "val_univariate = val_univariate.batch(BATCH_SIZE).repeat()\n",
    "bidirectional_lstm_targ6_model = tf.keras.models.Sequential([\n",
    "    layers.Bidirectional(tf.keras.layers.LSTM(64, return_sequences=True, input_shape=train_data.shape[-2:])),\n",
    "    layers.Bidirectional(tf.keras.layers.LSTM(32, activation='relu', return_sequences=True,)),\n",
    "    layers.Bidirectional(tf.keras.layers.LSTM(8, activation='relu')),\n",
    "    tf.keras.layers.Dense(6)\n",
    "])\n",
    "bidirectional_lstm_targ6_model.compile(optimizer='adam', loss=descaled_mape(mu=train_mean, sd=train_std), metrics=[descaled_mape(mu=train_mean, sd=train_std), 'mae', 'mse', keras.metrics.MeanAbsolutePercentageError()])\n",
    "# checkpoints to save training progress\n",
    "checkpoint_path = \"../data/temp_depth_gapfilling_extended/bidirectional_lstm_daily_hist30_targ6_loss-descaledmape/cp.ckpt\"\n",
    "checkpoint_dir = os.path.dirname(checkpoint_path)\n",
    "# callbacks\n",
    "cp_callback = tf.keras.callbacks.ModelCheckpoint(filepath=checkpoint_path,\n",
    "                                                 save_weights_only=True,\n",
    "                                                 verbose=0)"
   ]
  },
  {
   "cell_type": "code",
   "execution_count": 63,
   "metadata": {},
   "outputs": [
    {
     "name": "stdout",
     "output_type": "stream",
     "text": [
      "loss:  0.0750, val_loss:  0.0745\n",
      "..........loss:  0.0504, val_loss:  0.0532\n",
      "..........loss:  0.0392, val_loss:  0.0425\n",
      "..........loss:  0.0329, val_loss:  0.0380\n",
      "..........loss:  0.0271, val_loss:  0.0321\n",
      "..........loss:  0.0250, val_loss:  0.0273\n",
      "..........loss:  0.0221, val_loss:  0.0249\n",
      "..........loss:  0.0205, val_loss:  0.0228\n",
      "..........loss:  0.0194, val_loss:  0.0218\n",
      "..........loss:  0.0185, val_loss:  0.0209\n",
      "..........loss:  0.0180, val_loss:  0.0209\n",
      "..........loss:  0.0172, val_loss:  0.0213\n",
      "..........loss:  0.0166, val_loss:  0.0211\n",
      "..........loss:  0.0157, val_loss:  0.0197\n",
      "..........loss:  0.0163, val_loss:  0.0191\n",
      "........"
     ]
    }
   ],
   "source": [
    "# Model 1 Training\n",
    "STEPS = int(train_data.shape[0]/BATCH_SIZE)\n",
    "VAL_STEPS = int(val_data.shape[0]/BATCH_SIZE)\n",
    "EPOCHS = 500\n",
    "\n",
    "history = bidirectional_lstm_targ6_model.fit(train_univariate, epochs=EPOCHS,\n",
    "                      steps_per_epoch=STEPS,\n",
    "                      validation_data=val_univariate, validation_steps=VAL_STEPS, verbose=0,\n",
    "                 callbacks=[cp_callback, PrintDot(), es_callback])"
   ]
  },
  {
   "cell_type": "code",
   "execution_count": 64,
   "metadata": {},
   "outputs": [],
   "source": [
    "# save history and model\n",
    "pickle_out = open(\"../data/temp_depth_gapfilling_extended/bidirectional_lstm_model_hist30_targ6_loss-descaledmape_earlystopping_history.pickle\", \"wb\")\n",
    "pickle.dump(pd.DataFrame(history.history), pickle_out)\n",
    "pickle_out.close()\n",
    "## Save model\n",
    "bidirectional_lstm_targ6_model.save('../data/temp_depth_gapfilling_extended/saved_models/bidirectional_lstm_model_hist30_targ6_loss-descaledmape.h5')"
   ]
  },
  {
   "cell_type": "code",
   "execution_count": null,
   "metadata": {},
   "outputs": [],
   "source": []
  }
 ],
 "metadata": {
  "kernelspec": {
   "display_name": "Python 3",
   "language": "python",
   "name": "python3"
  },
  "language_info": {
   "codemirror_mode": {
    "name": "ipython",
    "version": 3
   },
   "file_extension": ".py",
   "mimetype": "text/x-python",
   "name": "python",
   "nbconvert_exporter": "python",
   "pygments_lexer": "ipython3",
   "version": "3.7.3"
  }
 },
 "nbformat": 4,
 "nbformat_minor": 4
}
